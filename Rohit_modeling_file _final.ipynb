{
 "cells": [
  {
   "cell_type": "markdown",
   "id": "8a14ecc6",
   "metadata": {},
   "source": [
    "# CREDIT CARD DEFAULT PREDICTION"
   ]
  },
  {
   "cell_type": "markdown",
   "id": "1684b677",
   "metadata": {},
   "source": [
    "## Rohit Dhawale"
   ]
  },
  {
   "cell_type": "markdown",
   "id": "c8183d11",
   "metadata": {},
   "source": [
    "## Problem Statment : "
   ]
  },
  {
   "cell_type": "markdown",
   "id": "66e525d8",
   "metadata": {},
   "source": [
    "Credit card defaults pose significant challenges and risks to lending institutions, leading to financial losses, increased non-performing assets, and potential damage to their reputation. In light of these challenges, there is a pressing need to develop innovative strategies to effectively reduce credit card defaults and minimize financial losses for lending institutions.\n",
    "\n",
    "Objectives:\n",
    "\n",
    "To avoid the same in the future, 'Rohit' has been engaged to assist in developing a model that identifies patterns and early warning signs of potential credit card defaults. This model aims to minimize financial losses incurred by lending institutions, enhance the stability of the credit card industry, protect credit card users' financial health and credit scores, reduce legal and administrative expenses linked to defaulted payments, safeguard the reputation and trust of lending institutions, and prevent fraudulent activities associated with credit card defaults."
   ]
  },
  {
   "cell_type": "markdown",
   "id": "2d525307",
   "metadata": {},
   "source": [
    "## Install and/or import necessary packages"
   ]
  },
  {
   "cell_type": "markdown",
   "id": "c56fab04",
   "metadata": {},
   "source": [
    "Installation of the necessary packages and setting random seed."
   ]
  },
  {
   "cell_type": "code",
   "execution_count": 2,
   "id": "509b3404",
   "metadata": {
    "tags": []
   },
   "outputs": [],
   "source": [
    "import numpy as np\n",
    "import pandas as pd\n",
    "import warnings\n",
    "warnings.filterwarnings(\"ignore\") \n",
    "import seaborn as sns\n",
    "import matplotlib.pyplot as plt\n",
    "from imblearn.over_sampling import SMOTE\n",
    "import scipy.stats as stats\n",
    "from sklearn.preprocessing import StandardScaler, MinMaxScaler\n",
    "from sklearn.decomposition import PCA\n",
    "from sklearn.model_selection import train_test_split\n",
    "from sklearn.cluster import KMeans\n",
    "from sklearn.preprocessing import StandardScaler\n",
    "from sklearn.linear_model import LogisticRegression, Lasso, Ridge, ElasticNet\n",
    "from sklearn.tree import DecisionTreeClassifier\n",
    "from sklearn.metrics import classification_report, confusion_matrix, f1_score\n",
    "from sklearn.svm import SVC\n",
    "from sklearn.ensemble import RandomForestClassifier, AdaBoostClassifier, GradientBoostingClassifier\n",
    "#from xgboost import XGBClassifier\n",
    "from sklearn.neighbors import KNeighborsClassifier\n",
    "from sklearn.naive_bayes import GaussianNB\n",
    "from sklearn.neural_network import MLPClassifier\n",
    "from sklearn.model_selection import train_test_split\n",
    "from sklearn.metrics import accuracy_score, classification_report, confusion_matrix\n",
    "from sklearn import metrics\n",
    "from sklearn.model_selection import GridSearchCV, RandomizedSearchCV"
   ]
  },
  {
   "cell_type": "markdown",
   "id": "f8e0a59f",
   "metadata": {},
   "source": [
    " ## Load the dataset"
   ]
  },
  {
   "cell_type": "markdown",
   "id": "9efa1cb5",
   "metadata": {},
   "source": [
    "Loading the file with read_csv command and printing the top 5 values"
   ]
  },
  {
   "cell_type": "code",
   "execution_count": 3,
   "id": "2492989f",
   "metadata": {
    "tags": []
   },
   "outputs": [],
   "source": [
    "# Load your dataset (replace 'data.csv' with your actual dataset file)\n",
    "df = pd.read_csv(\"./data/default-of-credit-card-clients-preprocessed.csv\",index_col=False)"
   ]
  },
  {
   "cell_type": "code",
   "execution_count": 4,
   "id": "667ac1a9",
   "metadata": {
    "tags": []
   },
   "outputs": [
    {
     "data": {
      "text/html": [
       "<div>\n",
       "<style scoped>\n",
       "    .dataframe tbody tr th:only-of-type {\n",
       "        vertical-align: middle;\n",
       "    }\n",
       "\n",
       "    .dataframe tbody tr th {\n",
       "        vertical-align: top;\n",
       "    }\n",
       "\n",
       "    .dataframe thead th {\n",
       "        text-align: right;\n",
       "    }\n",
       "</style>\n",
       "<table border=\"1\" class=\"dataframe\">\n",
       "  <thead>\n",
       "    <tr style=\"text-align: right;\">\n",
       "      <th></th>\n",
       "      <th>Unnamed: 0</th>\n",
       "      <th>ID</th>\n",
       "      <th>LIMIT_BAL</th>\n",
       "      <th>SEX</th>\n",
       "      <th>EDUCATION</th>\n",
       "      <th>MARRIAGE</th>\n",
       "      <th>AGE</th>\n",
       "      <th>PAY_SEPT</th>\n",
       "      <th>PAY_AUG</th>\n",
       "      <th>PAY_JUL</th>\n",
       "      <th>...</th>\n",
       "      <th>BILL_AMT_SEPT</th>\n",
       "      <th>BILL_AMT_AUG</th>\n",
       "      <th>BILL_AMT_JUL</th>\n",
       "      <th>PAY_AMT_SEPT</th>\n",
       "      <th>PAY_AMT_AUG</th>\n",
       "      <th>PAY_AMT_JUL</th>\n",
       "      <th>PAY_AMT_JUN</th>\n",
       "      <th>PAY_AMT_MAY</th>\n",
       "      <th>PAY_AMT_APR</th>\n",
       "      <th>Default_payment</th>\n",
       "    </tr>\n",
       "  </thead>\n",
       "  <tbody>\n",
       "    <tr>\n",
       "      <th>0</th>\n",
       "      <td>1</td>\n",
       "      <td>1</td>\n",
       "      <td>20000</td>\n",
       "      <td>2</td>\n",
       "      <td>2</td>\n",
       "      <td>1</td>\n",
       "      <td>24</td>\n",
       "      <td>2</td>\n",
       "      <td>2</td>\n",
       "      <td>-1</td>\n",
       "      <td>...</td>\n",
       "      <td>3913</td>\n",
       "      <td>3102</td>\n",
       "      <td>689</td>\n",
       "      <td>0</td>\n",
       "      <td>689</td>\n",
       "      <td>0</td>\n",
       "      <td>0</td>\n",
       "      <td>0</td>\n",
       "      <td>0</td>\n",
       "      <td>1</td>\n",
       "    </tr>\n",
       "    <tr>\n",
       "      <th>1</th>\n",
       "      <td>2</td>\n",
       "      <td>2</td>\n",
       "      <td>120000</td>\n",
       "      <td>2</td>\n",
       "      <td>2</td>\n",
       "      <td>2</td>\n",
       "      <td>26</td>\n",
       "      <td>-1</td>\n",
       "      <td>2</td>\n",
       "      <td>0</td>\n",
       "      <td>...</td>\n",
       "      <td>2682</td>\n",
       "      <td>1725</td>\n",
       "      <td>2682</td>\n",
       "      <td>0</td>\n",
       "      <td>1000</td>\n",
       "      <td>1000</td>\n",
       "      <td>1000</td>\n",
       "      <td>0</td>\n",
       "      <td>2000</td>\n",
       "      <td>1</td>\n",
       "    </tr>\n",
       "    <tr>\n",
       "      <th>2</th>\n",
       "      <td>3</td>\n",
       "      <td>3</td>\n",
       "      <td>90000</td>\n",
       "      <td>2</td>\n",
       "      <td>2</td>\n",
       "      <td>2</td>\n",
       "      <td>34</td>\n",
       "      <td>0</td>\n",
       "      <td>0</td>\n",
       "      <td>0</td>\n",
       "      <td>...</td>\n",
       "      <td>29239</td>\n",
       "      <td>14027</td>\n",
       "      <td>13559</td>\n",
       "      <td>1518</td>\n",
       "      <td>1500</td>\n",
       "      <td>1000</td>\n",
       "      <td>1000</td>\n",
       "      <td>1000</td>\n",
       "      <td>5000</td>\n",
       "      <td>0</td>\n",
       "    </tr>\n",
       "    <tr>\n",
       "      <th>3</th>\n",
       "      <td>4</td>\n",
       "      <td>4</td>\n",
       "      <td>50000</td>\n",
       "      <td>2</td>\n",
       "      <td>2</td>\n",
       "      <td>1</td>\n",
       "      <td>37</td>\n",
       "      <td>0</td>\n",
       "      <td>0</td>\n",
       "      <td>0</td>\n",
       "      <td>...</td>\n",
       "      <td>46990</td>\n",
       "      <td>48233</td>\n",
       "      <td>49291</td>\n",
       "      <td>2000</td>\n",
       "      <td>2019</td>\n",
       "      <td>1200</td>\n",
       "      <td>1100</td>\n",
       "      <td>1069</td>\n",
       "      <td>1000</td>\n",
       "      <td>0</td>\n",
       "    </tr>\n",
       "    <tr>\n",
       "      <th>4</th>\n",
       "      <td>5</td>\n",
       "      <td>5</td>\n",
       "      <td>50000</td>\n",
       "      <td>1</td>\n",
       "      <td>2</td>\n",
       "      <td>1</td>\n",
       "      <td>57</td>\n",
       "      <td>-1</td>\n",
       "      <td>0</td>\n",
       "      <td>-1</td>\n",
       "      <td>...</td>\n",
       "      <td>8617</td>\n",
       "      <td>5670</td>\n",
       "      <td>35835</td>\n",
       "      <td>2000</td>\n",
       "      <td>36681</td>\n",
       "      <td>10000</td>\n",
       "      <td>9000</td>\n",
       "      <td>689</td>\n",
       "      <td>679</td>\n",
       "      <td>0</td>\n",
       "    </tr>\n",
       "  </tbody>\n",
       "</table>\n",
       "<p>5 rows × 23 columns</p>\n",
       "</div>"
      ],
      "text/plain": [
       "   Unnamed: 0  ID  LIMIT_BAL  SEX  EDUCATION  MARRIAGE  AGE  PAY_SEPT  \\\n",
       "0           1   1      20000    2          2         1   24         2   \n",
       "1           2   2     120000    2          2         2   26        -1   \n",
       "2           3   3      90000    2          2         2   34         0   \n",
       "3           4   4      50000    2          2         1   37         0   \n",
       "4           5   5      50000    1          2         1   57        -1   \n",
       "\n",
       "   PAY_AUG  PAY_JUL  ...  BILL_AMT_SEPT  BILL_AMT_AUG  BILL_AMT_JUL  \\\n",
       "0        2       -1  ...           3913          3102           689   \n",
       "1        2        0  ...           2682          1725          2682   \n",
       "2        0        0  ...          29239         14027         13559   \n",
       "3        0        0  ...          46990         48233         49291   \n",
       "4        0       -1  ...           8617          5670         35835   \n",
       "\n",
       "   PAY_AMT_SEPT  PAY_AMT_AUG  PAY_AMT_JUL  PAY_AMT_JUN  PAY_AMT_MAY  \\\n",
       "0             0          689            0            0            0   \n",
       "1             0         1000         1000         1000            0   \n",
       "2          1518         1500         1000         1000         1000   \n",
       "3          2000         2019         1200         1100         1069   \n",
       "4          2000        36681        10000         9000          689   \n",
       "\n",
       "   PAY_AMT_APR  Default_payment  \n",
       "0            0                1  \n",
       "1         2000                1  \n",
       "2         5000                0  \n",
       "3         1000                0  \n",
       "4          679                0  \n",
       "\n",
       "[5 rows x 23 columns]"
      ]
     },
     "execution_count": 4,
     "metadata": {},
     "output_type": "execute_result"
    }
   ],
   "source": [
    "df.head()"
   ]
  },
  {
   "cell_type": "markdown",
   "id": "9c607e48",
   "metadata": {},
   "source": [
    "## Explore and Clean the dataset"
   ]
  },
  {
   "cell_type": "markdown",
   "id": "35637a80",
   "metadata": {},
   "source": [
    "Exploring the columns and Drop the unnecessary columns"
   ]
  },
  {
   "cell_type": "code",
   "execution_count": 5,
   "id": "22e66ab5",
   "metadata": {
    "tags": []
   },
   "outputs": [],
   "source": [
    "df.drop('Unnamed: 0', axis=1, inplace=True)"
   ]
  },
  {
   "cell_type": "code",
   "execution_count": 6,
   "id": "28aa642c",
   "metadata": {
    "tags": []
   },
   "outputs": [
    {
     "data": {
      "text/html": [
       "<div>\n",
       "<style scoped>\n",
       "    .dataframe tbody tr th:only-of-type {\n",
       "        vertical-align: middle;\n",
       "    }\n",
       "\n",
       "    .dataframe tbody tr th {\n",
       "        vertical-align: top;\n",
       "    }\n",
       "\n",
       "    .dataframe thead th {\n",
       "        text-align: right;\n",
       "    }\n",
       "</style>\n",
       "<table border=\"1\" class=\"dataframe\">\n",
       "  <thead>\n",
       "    <tr style=\"text-align: right;\">\n",
       "      <th></th>\n",
       "      <th>ID</th>\n",
       "      <th>LIMIT_BAL</th>\n",
       "      <th>SEX</th>\n",
       "      <th>EDUCATION</th>\n",
       "      <th>MARRIAGE</th>\n",
       "      <th>AGE</th>\n",
       "      <th>PAY_SEPT</th>\n",
       "      <th>PAY_AUG</th>\n",
       "      <th>PAY_JUL</th>\n",
       "      <th>PAY_JUN</th>\n",
       "      <th>...</th>\n",
       "      <th>BILL_AMT_SEPT</th>\n",
       "      <th>BILL_AMT_AUG</th>\n",
       "      <th>BILL_AMT_JUL</th>\n",
       "      <th>PAY_AMT_SEPT</th>\n",
       "      <th>PAY_AMT_AUG</th>\n",
       "      <th>PAY_AMT_JUL</th>\n",
       "      <th>PAY_AMT_JUN</th>\n",
       "      <th>PAY_AMT_MAY</th>\n",
       "      <th>PAY_AMT_APR</th>\n",
       "      <th>Default_payment</th>\n",
       "    </tr>\n",
       "  </thead>\n",
       "  <tbody>\n",
       "    <tr>\n",
       "      <th>0</th>\n",
       "      <td>1</td>\n",
       "      <td>20000</td>\n",
       "      <td>2</td>\n",
       "      <td>2</td>\n",
       "      <td>1</td>\n",
       "      <td>24</td>\n",
       "      <td>2</td>\n",
       "      <td>2</td>\n",
       "      <td>-1</td>\n",
       "      <td>-1</td>\n",
       "      <td>...</td>\n",
       "      <td>3913</td>\n",
       "      <td>3102</td>\n",
       "      <td>689</td>\n",
       "      <td>0</td>\n",
       "      <td>689</td>\n",
       "      <td>0</td>\n",
       "      <td>0</td>\n",
       "      <td>0</td>\n",
       "      <td>0</td>\n",
       "      <td>1</td>\n",
       "    </tr>\n",
       "    <tr>\n",
       "      <th>1</th>\n",
       "      <td>2</td>\n",
       "      <td>120000</td>\n",
       "      <td>2</td>\n",
       "      <td>2</td>\n",
       "      <td>2</td>\n",
       "      <td>26</td>\n",
       "      <td>-1</td>\n",
       "      <td>2</td>\n",
       "      <td>0</td>\n",
       "      <td>0</td>\n",
       "      <td>...</td>\n",
       "      <td>2682</td>\n",
       "      <td>1725</td>\n",
       "      <td>2682</td>\n",
       "      <td>0</td>\n",
       "      <td>1000</td>\n",
       "      <td>1000</td>\n",
       "      <td>1000</td>\n",
       "      <td>0</td>\n",
       "      <td>2000</td>\n",
       "      <td>1</td>\n",
       "    </tr>\n",
       "    <tr>\n",
       "      <th>2</th>\n",
       "      <td>3</td>\n",
       "      <td>90000</td>\n",
       "      <td>2</td>\n",
       "      <td>2</td>\n",
       "      <td>2</td>\n",
       "      <td>34</td>\n",
       "      <td>0</td>\n",
       "      <td>0</td>\n",
       "      <td>0</td>\n",
       "      <td>0</td>\n",
       "      <td>...</td>\n",
       "      <td>29239</td>\n",
       "      <td>14027</td>\n",
       "      <td>13559</td>\n",
       "      <td>1518</td>\n",
       "      <td>1500</td>\n",
       "      <td>1000</td>\n",
       "      <td>1000</td>\n",
       "      <td>1000</td>\n",
       "      <td>5000</td>\n",
       "      <td>0</td>\n",
       "    </tr>\n",
       "    <tr>\n",
       "      <th>3</th>\n",
       "      <td>4</td>\n",
       "      <td>50000</td>\n",
       "      <td>2</td>\n",
       "      <td>2</td>\n",
       "      <td>1</td>\n",
       "      <td>37</td>\n",
       "      <td>0</td>\n",
       "      <td>0</td>\n",
       "      <td>0</td>\n",
       "      <td>0</td>\n",
       "      <td>...</td>\n",
       "      <td>46990</td>\n",
       "      <td>48233</td>\n",
       "      <td>49291</td>\n",
       "      <td>2000</td>\n",
       "      <td>2019</td>\n",
       "      <td>1200</td>\n",
       "      <td>1100</td>\n",
       "      <td>1069</td>\n",
       "      <td>1000</td>\n",
       "      <td>0</td>\n",
       "    </tr>\n",
       "    <tr>\n",
       "      <th>4</th>\n",
       "      <td>5</td>\n",
       "      <td>50000</td>\n",
       "      <td>1</td>\n",
       "      <td>2</td>\n",
       "      <td>1</td>\n",
       "      <td>57</td>\n",
       "      <td>-1</td>\n",
       "      <td>0</td>\n",
       "      <td>-1</td>\n",
       "      <td>0</td>\n",
       "      <td>...</td>\n",
       "      <td>8617</td>\n",
       "      <td>5670</td>\n",
       "      <td>35835</td>\n",
       "      <td>2000</td>\n",
       "      <td>36681</td>\n",
       "      <td>10000</td>\n",
       "      <td>9000</td>\n",
       "      <td>689</td>\n",
       "      <td>679</td>\n",
       "      <td>0</td>\n",
       "    </tr>\n",
       "  </tbody>\n",
       "</table>\n",
       "<p>5 rows × 22 columns</p>\n",
       "</div>"
      ],
      "text/plain": [
       "   ID  LIMIT_BAL  SEX  EDUCATION  MARRIAGE  AGE  PAY_SEPT  PAY_AUG  PAY_JUL  \\\n",
       "0   1      20000    2          2         1   24         2        2       -1   \n",
       "1   2     120000    2          2         2   26        -1        2        0   \n",
       "2   3      90000    2          2         2   34         0        0        0   \n",
       "3   4      50000    2          2         1   37         0        0        0   \n",
       "4   5      50000    1          2         1   57        -1        0       -1   \n",
       "\n",
       "   PAY_JUN  ...  BILL_AMT_SEPT  BILL_AMT_AUG  BILL_AMT_JUL  PAY_AMT_SEPT  \\\n",
       "0       -1  ...           3913          3102           689             0   \n",
       "1        0  ...           2682          1725          2682             0   \n",
       "2        0  ...          29239         14027         13559          1518   \n",
       "3        0  ...          46990         48233         49291          2000   \n",
       "4        0  ...           8617          5670         35835          2000   \n",
       "\n",
       "   PAY_AMT_AUG  PAY_AMT_JUL  PAY_AMT_JUN  PAY_AMT_MAY  PAY_AMT_APR  \\\n",
       "0          689            0            0            0            0   \n",
       "1         1000         1000         1000            0         2000   \n",
       "2         1500         1000         1000         1000         5000   \n",
       "3         2019         1200         1100         1069         1000   \n",
       "4        36681        10000         9000          689          679   \n",
       "\n",
       "   Default_payment  \n",
       "0                1  \n",
       "1                1  \n",
       "2                0  \n",
       "3                0  \n",
       "4                0  \n",
       "\n",
       "[5 rows x 22 columns]"
      ]
     },
     "execution_count": 6,
     "metadata": {},
     "output_type": "execute_result"
    }
   ],
   "source": [
    "df.head()"
   ]
  },
  {
   "cell_type": "markdown",
   "id": "cc4d1ac3",
   "metadata": {},
   "source": [
    "## Predictors and Target variables Split"
   ]
  },
  {
   "cell_type": "code",
   "execution_count": 7,
   "id": "ce3c400b",
   "metadata": {
    "tags": []
   },
   "outputs": [],
   "source": [
    "## independent and dependent features\n",
    "X=df.iloc[:,:-1] ##independent features\n",
    "y=df.iloc[:,-1] ##dependent feature"
   ]
  },
  {
   "cell_type": "code",
   "execution_count": 8,
   "id": "051f059a",
   "metadata": {
    "tags": []
   },
   "outputs": [
    {
     "data": {
      "text/html": [
       "<div>\n",
       "<style scoped>\n",
       "    .dataframe tbody tr th:only-of-type {\n",
       "        vertical-align: middle;\n",
       "    }\n",
       "\n",
       "    .dataframe tbody tr th {\n",
       "        vertical-align: top;\n",
       "    }\n",
       "\n",
       "    .dataframe thead th {\n",
       "        text-align: right;\n",
       "    }\n",
       "</style>\n",
       "<table border=\"1\" class=\"dataframe\">\n",
       "  <thead>\n",
       "    <tr style=\"text-align: right;\">\n",
       "      <th></th>\n",
       "      <th>ID</th>\n",
       "      <th>LIMIT_BAL</th>\n",
       "      <th>SEX</th>\n",
       "      <th>EDUCATION</th>\n",
       "      <th>MARRIAGE</th>\n",
       "      <th>AGE</th>\n",
       "      <th>PAY_SEPT</th>\n",
       "      <th>PAY_AUG</th>\n",
       "      <th>PAY_JUL</th>\n",
       "      <th>PAY_JUN</th>\n",
       "      <th>...</th>\n",
       "      <th>PAY_APR</th>\n",
       "      <th>BILL_AMT_SEPT</th>\n",
       "      <th>BILL_AMT_AUG</th>\n",
       "      <th>BILL_AMT_JUL</th>\n",
       "      <th>PAY_AMT_SEPT</th>\n",
       "      <th>PAY_AMT_AUG</th>\n",
       "      <th>PAY_AMT_JUL</th>\n",
       "      <th>PAY_AMT_JUN</th>\n",
       "      <th>PAY_AMT_MAY</th>\n",
       "      <th>PAY_AMT_APR</th>\n",
       "    </tr>\n",
       "  </thead>\n",
       "  <tbody>\n",
       "    <tr>\n",
       "      <th>0</th>\n",
       "      <td>1</td>\n",
       "      <td>20000</td>\n",
       "      <td>2</td>\n",
       "      <td>2</td>\n",
       "      <td>1</td>\n",
       "      <td>24</td>\n",
       "      <td>2</td>\n",
       "      <td>2</td>\n",
       "      <td>-1</td>\n",
       "      <td>-1</td>\n",
       "      <td>...</td>\n",
       "      <td>-2</td>\n",
       "      <td>3913</td>\n",
       "      <td>3102</td>\n",
       "      <td>689</td>\n",
       "      <td>0</td>\n",
       "      <td>689</td>\n",
       "      <td>0</td>\n",
       "      <td>0</td>\n",
       "      <td>0</td>\n",
       "      <td>0</td>\n",
       "    </tr>\n",
       "    <tr>\n",
       "      <th>1</th>\n",
       "      <td>2</td>\n",
       "      <td>120000</td>\n",
       "      <td>2</td>\n",
       "      <td>2</td>\n",
       "      <td>2</td>\n",
       "      <td>26</td>\n",
       "      <td>-1</td>\n",
       "      <td>2</td>\n",
       "      <td>0</td>\n",
       "      <td>0</td>\n",
       "      <td>...</td>\n",
       "      <td>2</td>\n",
       "      <td>2682</td>\n",
       "      <td>1725</td>\n",
       "      <td>2682</td>\n",
       "      <td>0</td>\n",
       "      <td>1000</td>\n",
       "      <td>1000</td>\n",
       "      <td>1000</td>\n",
       "      <td>0</td>\n",
       "      <td>2000</td>\n",
       "    </tr>\n",
       "    <tr>\n",
       "      <th>2</th>\n",
       "      <td>3</td>\n",
       "      <td>90000</td>\n",
       "      <td>2</td>\n",
       "      <td>2</td>\n",
       "      <td>2</td>\n",
       "      <td>34</td>\n",
       "      <td>0</td>\n",
       "      <td>0</td>\n",
       "      <td>0</td>\n",
       "      <td>0</td>\n",
       "      <td>...</td>\n",
       "      <td>0</td>\n",
       "      <td>29239</td>\n",
       "      <td>14027</td>\n",
       "      <td>13559</td>\n",
       "      <td>1518</td>\n",
       "      <td>1500</td>\n",
       "      <td>1000</td>\n",
       "      <td>1000</td>\n",
       "      <td>1000</td>\n",
       "      <td>5000</td>\n",
       "    </tr>\n",
       "    <tr>\n",
       "      <th>3</th>\n",
       "      <td>4</td>\n",
       "      <td>50000</td>\n",
       "      <td>2</td>\n",
       "      <td>2</td>\n",
       "      <td>1</td>\n",
       "      <td>37</td>\n",
       "      <td>0</td>\n",
       "      <td>0</td>\n",
       "      <td>0</td>\n",
       "      <td>0</td>\n",
       "      <td>...</td>\n",
       "      <td>0</td>\n",
       "      <td>46990</td>\n",
       "      <td>48233</td>\n",
       "      <td>49291</td>\n",
       "      <td>2000</td>\n",
       "      <td>2019</td>\n",
       "      <td>1200</td>\n",
       "      <td>1100</td>\n",
       "      <td>1069</td>\n",
       "      <td>1000</td>\n",
       "    </tr>\n",
       "    <tr>\n",
       "      <th>4</th>\n",
       "      <td>5</td>\n",
       "      <td>50000</td>\n",
       "      <td>1</td>\n",
       "      <td>2</td>\n",
       "      <td>1</td>\n",
       "      <td>57</td>\n",
       "      <td>-1</td>\n",
       "      <td>0</td>\n",
       "      <td>-1</td>\n",
       "      <td>0</td>\n",
       "      <td>...</td>\n",
       "      <td>0</td>\n",
       "      <td>8617</td>\n",
       "      <td>5670</td>\n",
       "      <td>35835</td>\n",
       "      <td>2000</td>\n",
       "      <td>36681</td>\n",
       "      <td>10000</td>\n",
       "      <td>9000</td>\n",
       "      <td>689</td>\n",
       "      <td>679</td>\n",
       "    </tr>\n",
       "    <tr>\n",
       "      <th>...</th>\n",
       "      <td>...</td>\n",
       "      <td>...</td>\n",
       "      <td>...</td>\n",
       "      <td>...</td>\n",
       "      <td>...</td>\n",
       "      <td>...</td>\n",
       "      <td>...</td>\n",
       "      <td>...</td>\n",
       "      <td>...</td>\n",
       "      <td>...</td>\n",
       "      <td>...</td>\n",
       "      <td>...</td>\n",
       "      <td>...</td>\n",
       "      <td>...</td>\n",
       "      <td>...</td>\n",
       "      <td>...</td>\n",
       "      <td>...</td>\n",
       "      <td>...</td>\n",
       "      <td>...</td>\n",
       "      <td>...</td>\n",
       "      <td>...</td>\n",
       "    </tr>\n",
       "    <tr>\n",
       "      <th>29995</th>\n",
       "      <td>29996</td>\n",
       "      <td>220000</td>\n",
       "      <td>1</td>\n",
       "      <td>3</td>\n",
       "      <td>1</td>\n",
       "      <td>39</td>\n",
       "      <td>0</td>\n",
       "      <td>0</td>\n",
       "      <td>0</td>\n",
       "      <td>0</td>\n",
       "      <td>...</td>\n",
       "      <td>0</td>\n",
       "      <td>188948</td>\n",
       "      <td>192815</td>\n",
       "      <td>208365</td>\n",
       "      <td>8500</td>\n",
       "      <td>20000</td>\n",
       "      <td>5003</td>\n",
       "      <td>3047</td>\n",
       "      <td>5000</td>\n",
       "      <td>1000</td>\n",
       "    </tr>\n",
       "    <tr>\n",
       "      <th>29996</th>\n",
       "      <td>29997</td>\n",
       "      <td>150000</td>\n",
       "      <td>1</td>\n",
       "      <td>3</td>\n",
       "      <td>2</td>\n",
       "      <td>43</td>\n",
       "      <td>-1</td>\n",
       "      <td>-1</td>\n",
       "      <td>-1</td>\n",
       "      <td>-1</td>\n",
       "      <td>...</td>\n",
       "      <td>0</td>\n",
       "      <td>1683</td>\n",
       "      <td>1828</td>\n",
       "      <td>3502</td>\n",
       "      <td>1837</td>\n",
       "      <td>3526</td>\n",
       "      <td>8998</td>\n",
       "      <td>129</td>\n",
       "      <td>0</td>\n",
       "      <td>0</td>\n",
       "    </tr>\n",
       "    <tr>\n",
       "      <th>29997</th>\n",
       "      <td>29998</td>\n",
       "      <td>30000</td>\n",
       "      <td>1</td>\n",
       "      <td>2</td>\n",
       "      <td>2</td>\n",
       "      <td>37</td>\n",
       "      <td>4</td>\n",
       "      <td>3</td>\n",
       "      <td>2</td>\n",
       "      <td>-1</td>\n",
       "      <td>...</td>\n",
       "      <td>0</td>\n",
       "      <td>3565</td>\n",
       "      <td>3356</td>\n",
       "      <td>2758</td>\n",
       "      <td>0</td>\n",
       "      <td>0</td>\n",
       "      <td>22000</td>\n",
       "      <td>4200</td>\n",
       "      <td>2000</td>\n",
       "      <td>3100</td>\n",
       "    </tr>\n",
       "    <tr>\n",
       "      <th>29998</th>\n",
       "      <td>29999</td>\n",
       "      <td>80000</td>\n",
       "      <td>1</td>\n",
       "      <td>3</td>\n",
       "      <td>1</td>\n",
       "      <td>41</td>\n",
       "      <td>1</td>\n",
       "      <td>-1</td>\n",
       "      <td>0</td>\n",
       "      <td>0</td>\n",
       "      <td>...</td>\n",
       "      <td>-1</td>\n",
       "      <td>-1645</td>\n",
       "      <td>78379</td>\n",
       "      <td>76304</td>\n",
       "      <td>85900</td>\n",
       "      <td>3409</td>\n",
       "      <td>1178</td>\n",
       "      <td>1926</td>\n",
       "      <td>52964</td>\n",
       "      <td>1804</td>\n",
       "    </tr>\n",
       "    <tr>\n",
       "      <th>29999</th>\n",
       "      <td>30000</td>\n",
       "      <td>50000</td>\n",
       "      <td>1</td>\n",
       "      <td>2</td>\n",
       "      <td>1</td>\n",
       "      <td>46</td>\n",
       "      <td>0</td>\n",
       "      <td>0</td>\n",
       "      <td>0</td>\n",
       "      <td>0</td>\n",
       "      <td>...</td>\n",
       "      <td>0</td>\n",
       "      <td>47929</td>\n",
       "      <td>48905</td>\n",
       "      <td>49764</td>\n",
       "      <td>2078</td>\n",
       "      <td>1800</td>\n",
       "      <td>1430</td>\n",
       "      <td>1000</td>\n",
       "      <td>1000</td>\n",
       "      <td>1000</td>\n",
       "    </tr>\n",
       "  </tbody>\n",
       "</table>\n",
       "<p>30000 rows × 21 columns</p>\n",
       "</div>"
      ],
      "text/plain": [
       "          ID  LIMIT_BAL  SEX  EDUCATION  MARRIAGE  AGE  PAY_SEPT  PAY_AUG  \\\n",
       "0          1      20000    2          2         1   24         2        2   \n",
       "1          2     120000    2          2         2   26        -1        2   \n",
       "2          3      90000    2          2         2   34         0        0   \n",
       "3          4      50000    2          2         1   37         0        0   \n",
       "4          5      50000    1          2         1   57        -1        0   \n",
       "...      ...        ...  ...        ...       ...  ...       ...      ...   \n",
       "29995  29996     220000    1          3         1   39         0        0   \n",
       "29996  29997     150000    1          3         2   43        -1       -1   \n",
       "29997  29998      30000    1          2         2   37         4        3   \n",
       "29998  29999      80000    1          3         1   41         1       -1   \n",
       "29999  30000      50000    1          2         1   46         0        0   \n",
       "\n",
       "       PAY_JUL  PAY_JUN  ...  PAY_APR  BILL_AMT_SEPT  BILL_AMT_AUG  \\\n",
       "0           -1       -1  ...       -2           3913          3102   \n",
       "1            0        0  ...        2           2682          1725   \n",
       "2            0        0  ...        0          29239         14027   \n",
       "3            0        0  ...        0          46990         48233   \n",
       "4           -1        0  ...        0           8617          5670   \n",
       "...        ...      ...  ...      ...            ...           ...   \n",
       "29995        0        0  ...        0         188948        192815   \n",
       "29996       -1       -1  ...        0           1683          1828   \n",
       "29997        2       -1  ...        0           3565          3356   \n",
       "29998        0        0  ...       -1          -1645         78379   \n",
       "29999        0        0  ...        0          47929         48905   \n",
       "\n",
       "       BILL_AMT_JUL  PAY_AMT_SEPT  PAY_AMT_AUG  PAY_AMT_JUL  PAY_AMT_JUN  \\\n",
       "0               689             0          689            0            0   \n",
       "1              2682             0         1000         1000         1000   \n",
       "2             13559          1518         1500         1000         1000   \n",
       "3             49291          2000         2019         1200         1100   \n",
       "4             35835          2000        36681        10000         9000   \n",
       "...             ...           ...          ...          ...          ...   \n",
       "29995        208365          8500        20000         5003         3047   \n",
       "29996          3502          1837         3526         8998          129   \n",
       "29997          2758             0            0        22000         4200   \n",
       "29998         76304         85900         3409         1178         1926   \n",
       "29999         49764          2078         1800         1430         1000   \n",
       "\n",
       "       PAY_AMT_MAY  PAY_AMT_APR  \n",
       "0                0            0  \n",
       "1                0         2000  \n",
       "2             1000         5000  \n",
       "3             1069         1000  \n",
       "4              689          679  \n",
       "...            ...          ...  \n",
       "29995         5000         1000  \n",
       "29996            0            0  \n",
       "29997         2000         3100  \n",
       "29998        52964         1804  \n",
       "29999         1000         1000  \n",
       "\n",
       "[30000 rows x 21 columns]"
      ]
     },
     "execution_count": 8,
     "metadata": {},
     "output_type": "execute_result"
    }
   ],
   "source": [
    "X"
   ]
  },
  {
   "cell_type": "code",
   "execution_count": 9,
   "id": "79c45e02",
   "metadata": {
    "tags": []
   },
   "outputs": [
    {
     "data": {
      "text/plain": [
       "0        1\n",
       "1        1\n",
       "2        0\n",
       "3        0\n",
       "4        0\n",
       "        ..\n",
       "29995    0\n",
       "29996    0\n",
       "29997    1\n",
       "29998    1\n",
       "29999    1\n",
       "Name: Default_payment, Length: 30000, dtype: int64"
      ]
     },
     "execution_count": 9,
     "metadata": {},
     "output_type": "execute_result"
    }
   ],
   "source": [
    "y"
   ]
  },
  {
   "cell_type": "code",
   "execution_count": 11,
   "id": "6cad1f31-0a59-45c1-90ed-dd6d83d2aa4f",
   "metadata": {
    "tags": []
   },
   "outputs": [
    {
     "data": {
      "text/plain": [
       "0    23364\n",
       "1     6636\n",
       "Name: Default_payment, dtype: int64"
      ]
     },
     "execution_count": 11,
     "metadata": {},
     "output_type": "execute_result"
    }
   ],
   "source": [
    "y.value_counts()"
   ]
  },
  {
   "cell_type": "markdown",
   "id": "b8b02886-186e-46bf-8acc-927298c42827",
   "metadata": {},
   "source": [
    "We can see that the target variable is imbalanced. We will be doing oversampling to increase the size of minority class. This will result in better model fitting and and training. Here we will be using SMOTE for oversampling the data and balancing the dataset."
   ]
  },
  {
   "cell_type": "markdown",
   "id": "4921745b",
   "metadata": {},
   "source": [
    "# SMOTE"
   ]
  },
  {
   "cell_type": "markdown",
   "id": "83be6810",
   "metadata": {},
   "source": [
    "Using Synthetic Minority Over-sampling Technique (SMOTE) to oversample the dataset. SMOTE is a method commonly used to address class imbalance in a classification problem. "
   ]
  },
  {
   "cell_type": "code",
   "execution_count": 12,
   "id": "b0734264",
   "metadata": {
    "tags": []
   },
   "outputs": [],
   "source": [
    "oversample=SMOTE()"
   ]
  },
  {
   "cell_type": "code",
   "execution_count": 13,
   "id": "01ca9c61",
   "metadata": {
    "tags": []
   },
   "outputs": [],
   "source": [
    "X,y=oversample.fit_resample(X,y)"
   ]
  },
  {
   "cell_type": "code",
   "execution_count": 14,
   "id": "a01749e7",
   "metadata": {
    "scrolled": true,
    "tags": []
   },
   "outputs": [
    {
     "data": {
      "text/plain": [
       "(46728, 21)"
      ]
     },
     "execution_count": 14,
     "metadata": {},
     "output_type": "execute_result"
    }
   ],
   "source": [
    "X.shape"
   ]
  },
  {
   "cell_type": "code",
   "execution_count": 15,
   "id": "38b88277",
   "metadata": {
    "tags": []
   },
   "outputs": [
    {
     "data": {
      "text/plain": [
       "1    23364\n",
       "0    23364\n",
       "Name: Default_payment, dtype: int64"
      ]
     },
     "execution_count": 15,
     "metadata": {},
     "output_type": "execute_result"
    }
   ],
   "source": [
    "y.value_counts()"
   ]
  },
  {
   "cell_type": "markdown",
   "id": "b6fa68c8-1f8e-4ba4-a4b8-d337bab71d3c",
   "metadata": {},
   "source": [
    "Converting the target column to dataframe to visualize the balanced dataset."
   ]
  },
  {
   "cell_type": "code",
   "execution_count": 24,
   "id": "eac35663-fbec-489c-8653-49b512947350",
   "metadata": {
    "tags": []
   },
   "outputs": [],
   "source": [
    "df = pd.DataFrame(y, columns =['Default_payment']) "
   ]
  },
  {
   "cell_type": "code",
   "execution_count": 25,
   "id": "01e1af92-755b-429f-aba4-b60b0f93f2e0",
   "metadata": {
    "tags": []
   },
   "outputs": [
    {
     "data": {
      "image/png": "[encoded data removed]",
      "text/plain": [
       "<Figure size 640x480 with 1 Axes>"
      ]
     },
     "metadata": {},
     "output_type": "display_data"
    }
   ],
   "source": [
    "plt.title('Rechecking data for default payment Next Month balancing the dataset using SMOTE')\n",
    "ax1 = sns.countplot(x= 'Default_payment', data = df)\n",
    "\n",
    "plt.show()"
   ]
  },
  {
   "cell_type": "markdown",
   "id": "8c795cb7",
   "metadata": {},
   "source": [
    "## Partitioning data into training and test data sets"
   ]
  },
  {
   "cell_type": "markdown",
   "id": "cc3b64cb",
   "metadata": {},
   "source": [
    "We've decided to utilize a training/test split of the data at 70% training and 30% testing. This percentage split ratio is inline with common practice for small to medium sized datasets, which this data represents. Moreover, we have decided not to do a three way data split, we wish to allocate as much data as possible to training and validation steps."
   ]
  },
  {
   "cell_type": "code",
   "execution_count": 22,
   "id": "120c0371",
   "metadata": {
    "tags": []
   },
   "outputs": [],
   "source": [
    "# Split dataset into training set and test set\n",
    "X_train, X_test, y_train, y_test = train_test_split(X, y, test_size=0.3, random_state=1) # 70% training and 30% test"
   ]
  },
  {
   "cell_type": "markdown",
   "id": "b51519de",
   "metadata": {},
   "source": [
    "In this section, we will prepare the dataset for model training. Specifically, we will standardize and apply MinMax scaling to our features. This is commonly done to ensure that our data is on a consistent scale and can improve the performance of certain machine learning algorithms.\n",
    "\n",
    "### Standard Scaling\n",
    "\n",
    "We start by applying Standard Scaling (z-score scaling) to our data. This process transforms the data such that it has a mean of 0 and a standard deviation of 1. It is particularly useful when dealing with features that have different scales or units.\n",
    "\n",
    "### Min-Max Scaling\n",
    "Next, we will test Min-Max scaling. Min-Max scaling transforms the data into a specific range (typically between 0 and 1), which can be beneficial for algorithms like k-nearest neighbors (KNN) that perform better when features are on a similar scale."
   ]
  },
  {
   "cell_type": "code",
   "execution_count": 22,
   "id": "bf87dcb6",
   "metadata": {},
   "outputs": [],
   "source": [
    "# Standard scale data\n",
    "ss = StandardScaler()\n",
    "X_train_scaled = ss.fit_transform(X_train)\n",
    "X_test_scaled = ss.transform(X_test)\n",
    "\n",
    "# Test MinMaxScaler as KNN historically does better with MinMax\n",
    "mm = MinMaxScaler()\n",
    "X_train_mm_scaled = mm.fit_transform(X_train)\n",
    "X_test_mm_scaled = mm.transform(X_test)"
   ]
  },
  {
   "cell_type": "markdown",
   "id": "6a8f1d6a",
   "metadata": {},
   "source": [
    "### Compares accuracy for scaled and unscaled data for different models "
   ]
  },
  {
   "cell_type": "code",
   "execution_count": 26,
   "id": "93f2c792",
   "metadata": {},
   "outputs": [],
   "source": [
    "# Program to run multiple models through sklearn\n",
    "# Default settings output accuracy and classification report\n",
    "# Compares accuracy for scaled and unscaled data\n",
    "def run_models(X_train: pd.DataFrame, y_train: pd.DataFrame, X_test: pd.DataFrame, y_test: pd.DataFrame):\n",
    "    models = [\n",
    "        ('Default Logistic Regression', LogisticRegression()),\n",
    "        ('Logistic Regression (Lasso)', LogisticRegression(penalty='l1', solver='liblinear')),\n",
    "        ('Logistic Regression (Ridge)', LogisticRegression(penalty='l2', solver='liblinear')),\n",
    "        ('Logistic Regression (Elastic Net)', LogisticRegression(penalty='elasticnet', l1_ratio=0.5, solver='saga')),\n",
    "        ('Decision Tree', DecisionTreeClassifier()),        \n",
    "        ('Naive Bayes', GaussianNB()),\n",
    "        ('K-Nearest Neighbors', KNeighborsClassifier(n_neighbors=5)),\n",
    "        ('Random Forest', RandomForestClassifier()),\n",
    "        ('AdaBoost', AdaBoostClassifier()),\n",
    "        ('Gradient Boosting', GradientBoostingClassifier()),\n",
    "        ('XGBoost', XGBClassifier()),\n",
    "        ('SVM', SVC()),\n",
    "        ('MLP Classifier', MLPClassifier())\n",
    "    ]\n",
    "\n",
    "    for name, model in models:\n",
    "        # Unscaled data\n",
    "        clf = model.fit(X_train, y_train)\n",
    "        y_pred = clf.predict(X_test)\n",
    "\n",
    "        # Scaled data\n",
    "        clf_scaled = model.fit(X_train_scaled, y_train)\n",
    "        y_pred_scaled = clf_scaled.predict(X_test_scaled)\n",
    "\n",
    "        # MinMax scaled data\n",
    "        clf_mm_scaled = model.fit(X_train_mm_scaled, y_train)\n",
    "        y_pred_mm_scaled = clf_mm_scaled.predict(X_test_mm_scaled)\n",
    "\n",
    "        # Accuracy scores\n",
    "        accuracy = round(metrics.accuracy_score(y_test, y_pred), 5)\n",
    "        scaled_accuracy = round(metrics.accuracy_score(y_test, y_pred_scaled), 5)\n",
    "        scaled_mm_accuracy = round(metrics.accuracy_score(y_test, y_pred_mm_scaled), 5)\n",
    "\n",
    "        # Output of the model\n",
    "        print(name + ':')\n",
    "        print(\"---------------------------------------------------------------\")\n",
    "        print(\"Accuracy:\", accuracy)\n",
    "        print(\"Accuracy w/Scaled Data (ss):\", scaled_accuracy)\n",
    "        print(\"Accuracy w/Scaled Data (mm):\", scaled_mm_accuracy)\n",
    "        if (accuracy > scaled_accuracy) and (accuracy > scaled_mm_accuracy):\n",
    "            print(\"\\nClassification Report:\\n\", metrics.classification_report(y_test, y_pred))\n",
    "            print(\"                            -----------------------------------               \\n\")\n",
    "        elif (scaled_accuracy > scaled_mm_accuracy):\n",
    "            print(\"\\nClassification Report (ss):\\n\", metrics.classification_report(y_test, y_pred_scaled))\n",
    "            print(\"                            -----------------------------------               \\n\")\n",
    "        else:\n",
    "            print(\"\\nClassification Report (mm):\\n\", metrics.classification_report(y_test, y_pred_mm_scaled))\n",
    "            print(\"                            -----------------------------------               \\n\")"
   ]
  },
  {
   "cell_type": "code",
   "execution_count": 27,
   "id": "98489716",
   "metadata": {},
   "outputs": [
    {
     "name": "stdout",
     "output_type": "stream",
     "text": [
      "Default Logistic Regression:\n",
      "---------------------------------------------------------------\n",
      "Accuracy: 0.61124\n",
      "Accuracy w/Scaled Data (ss): 0.72266\n",
      "Accuracy w/Scaled Data (mm): 0.71745\n",
      "\n",
      "Classification Report (ss):\n",
      "               precision    recall  f1-score   support\n",
      "\n",
      "           0       0.72      0.72      0.72      7013\n",
      "           1       0.72      0.72      0.72      7006\n",
      "\n",
      "    accuracy                           0.72     14019\n",
      "   macro avg       0.72      0.72      0.72     14019\n",
      "weighted avg       0.72      0.72      0.72     14019\n",
      "\n",
      "                            -----------------------------------               \n",
      "\n",
      "Logistic Regression (Lasso):\n",
      "---------------------------------------------------------------\n",
      "Accuracy: 0.72288\n",
      "Accuracy w/Scaled Data (ss): 0.7228\n",
      "Accuracy w/Scaled Data (mm): 0.72188\n",
      "\n",
      "Classification Report:\n",
      "               precision    recall  f1-score   support\n",
      "\n",
      "           0       0.72      0.72      0.72      7013\n",
      "           1       0.72      0.72      0.72      7006\n",
      "\n",
      "    accuracy                           0.72     14019\n",
      "   macro avg       0.72      0.72      0.72     14019\n",
      "weighted avg       0.72      0.72      0.72     14019\n",
      "\n",
      "                            -----------------------------------               \n",
      "\n",
      "Logistic Regression (Ridge):\n",
      "---------------------------------------------------------------\n",
      "Accuracy: 0.62387\n",
      "Accuracy w/Scaled Data (ss): 0.72266\n",
      "Accuracy w/Scaled Data (mm): 0.71724\n",
      "\n",
      "Classification Report (ss):\n",
      "               precision    recall  f1-score   support\n",
      "\n",
      "           0       0.72      0.72      0.72      7013\n",
      "           1       0.72      0.72      0.72      7006\n",
      "\n",
      "    accuracy                           0.72     14019\n",
      "   macro avg       0.72      0.72      0.72     14019\n",
      "weighted avg       0.72      0.72      0.72     14019\n",
      "\n",
      "                            -----------------------------------               \n",
      "\n",
      "Logistic Regression (Elastic Net):\n",
      "---------------------------------------------------------------\n",
      "Accuracy: 0.6111\n",
      "Accuracy w/Scaled Data (ss): 0.72302\n",
      "Accuracy w/Scaled Data (mm): 0.71895\n",
      "\n",
      "Classification Report (ss):\n",
      "               precision    recall  f1-score   support\n",
      "\n",
      "           0       0.72      0.72      0.72      7013\n",
      "           1       0.72      0.72      0.72      7006\n",
      "\n",
      "    accuracy                           0.72     14019\n",
      "   macro avg       0.72      0.72      0.72     14019\n",
      "weighted avg       0.72      0.72      0.72     14019\n",
      "\n",
      "                            -----------------------------------               \n",
      "\n",
      "Decision Tree:\n",
      "---------------------------------------------------------------\n",
      "Accuracy: 0.74634\n",
      "Accuracy w/Scaled Data (ss): 0.74435\n",
      "Accuracy w/Scaled Data (mm): 0.74613\n",
      "\n",
      "Classification Report:\n",
      "               precision    recall  f1-score   support\n",
      "\n",
      "           0       0.75      0.73      0.74      7013\n",
      "           1       0.74      0.76      0.75      7006\n",
      "\n",
      "    accuracy                           0.75     14019\n",
      "   macro avg       0.75      0.75      0.75     14019\n",
      "weighted avg       0.75      0.75      0.75     14019\n",
      "\n",
      "                            -----------------------------------               \n",
      "\n",
      "Naive Bayes:\n",
      "---------------------------------------------------------------\n",
      "Accuracy: 0.54933\n",
      "Accuracy w/Scaled Data (ss): 0.58414\n",
      "Accuracy w/Scaled Data (mm): 0.58414\n",
      "\n",
      "Classification Report (mm):\n",
      "               precision    recall  f1-score   support\n",
      "\n",
      "           0       0.75      0.25      0.38      7013\n",
      "           1       0.55      0.92      0.69      7006\n",
      "\n",
      "    accuracy                           0.58     14019\n",
      "   macro avg       0.65      0.58      0.53     14019\n",
      "weighted avg       0.65      0.58      0.53     14019\n",
      "\n",
      "                            -----------------------------------               \n",
      "\n",
      "K-Nearest Neighbors:\n",
      "---------------------------------------------------------------\n",
      "Accuracy: 0.72994\n",
      "Accuracy w/Scaled Data (ss): 0.74791\n",
      "Accuracy w/Scaled Data (mm): 0.73507\n",
      "\n",
      "Classification Report (ss):\n",
      "               precision    recall  f1-score   support\n",
      "\n",
      "           0       0.76      0.72      0.74      7013\n",
      "           1       0.74      0.77      0.75      7006\n",
      "\n",
      "    accuracy                           0.75     14019\n",
      "   macro avg       0.75      0.75      0.75     14019\n",
      "weighted avg       0.75      0.75      0.75     14019\n",
      "\n",
      "                            -----------------------------------               \n",
      "\n",
      "Random Forest:\n",
      "---------------------------------------------------------------\n",
      "Accuracy: 0.83551\n",
      "Accuracy w/Scaled Data (ss): 0.83686\n",
      "Accuracy w/Scaled Data (mm): 0.83644\n",
      "\n",
      "Classification Report (ss):\n",
      "               precision    recall  f1-score   support\n",
      "\n",
      "           0       0.82      0.86      0.84      7013\n",
      "           1       0.85      0.81      0.83      7006\n",
      "\n",
      "    accuracy                           0.84     14019\n",
      "   macro avg       0.84      0.84      0.84     14019\n",
      "weighted avg       0.84      0.84      0.84     14019\n",
      "\n",
      "                            -----------------------------------               \n",
      "\n",
      "AdaBoost:\n",
      "---------------------------------------------------------------\n",
      "Accuracy: 0.75476\n",
      "Accuracy w/Scaled Data (ss): 0.75476\n",
      "Accuracy w/Scaled Data (mm): 0.75476\n",
      "\n",
      "Classification Report (mm):\n",
      "               precision    recall  f1-score   support\n",
      "\n",
      "           0       0.75      0.77      0.76      7013\n",
      "           1       0.76      0.74      0.75      7006\n",
      "\n",
      "    accuracy                           0.75     14019\n",
      "   macro avg       0.76      0.75      0.75     14019\n",
      "weighted avg       0.76      0.75      0.75     14019\n",
      "\n",
      "                            -----------------------------------               \n",
      "\n",
      "Gradient Boosting:\n",
      "---------------------------------------------------------------\n",
      "Accuracy: 0.78337\n",
      "Accuracy w/Scaled Data (ss): 0.78337\n",
      "Accuracy w/Scaled Data (mm): 0.78337\n",
      "\n",
      "Classification Report (mm):\n",
      "               precision    recall  f1-score   support\n",
      "\n",
      "           0       0.76      0.82      0.79      7013\n",
      "           1       0.81      0.75      0.77      7006\n",
      "\n",
      "    accuracy                           0.78     14019\n",
      "   macro avg       0.78      0.78      0.78     14019\n",
      "weighted avg       0.78      0.78      0.78     14019\n",
      "\n",
      "                            -----------------------------------               \n",
      "\n",
      "XGBoost:\n",
      "---------------------------------------------------------------\n",
      "Accuracy: 0.83087\n",
      "Accuracy w/Scaled Data (ss): 0.83087\n",
      "Accuracy w/Scaled Data (mm): 0.83087\n",
      "\n",
      "Classification Report (mm):\n",
      "               precision    recall  f1-score   support\n",
      "\n",
      "           0       0.82      0.86      0.84      7013\n",
      "           1       0.85      0.81      0.83      7006\n",
      "\n",
      "    accuracy                           0.83     14019\n",
      "   macro avg       0.83      0.83      0.83     14019\n",
      "weighted avg       0.83      0.83      0.83     14019\n",
      "\n",
      "                            -----------------------------------               \n",
      "\n",
      "SVM:\n",
      "---------------------------------------------------------------\n",
      "Accuracy: 0.6188\n",
      "Accuracy w/Scaled Data (ss): 0.76161\n",
      "Accuracy w/Scaled Data (mm): 0.74\n",
      "\n",
      "Classification Report (ss):\n",
      "               precision    recall  f1-score   support\n",
      "\n",
      "           0       0.75      0.79      0.77      7013\n",
      "           1       0.78      0.73      0.75      7006\n",
      "\n",
      "    accuracy                           0.76     14019\n",
      "   macro avg       0.76      0.76      0.76     14019\n",
      "weighted avg       0.76      0.76      0.76     14019\n",
      "\n",
      "                            -----------------------------------               \n",
      "\n",
      "MLP Classifier:\n",
      "---------------------------------------------------------------\n",
      "Accuracy: 0.57793\n",
      "Accuracy w/Scaled Data (ss): 0.78001\n",
      "Accuracy w/Scaled Data (mm): 0.76339\n",
      "\n",
      "Classification Report (ss):\n",
      "               precision    recall  f1-score   support\n",
      "\n",
      "           0       0.77      0.80      0.78      7013\n",
      "           1       0.79      0.76      0.78      7006\n",
      "\n",
      "    accuracy                           0.78     14019\n",
      "   macro avg       0.78      0.78      0.78     14019\n",
      "weighted avg       0.78      0.78      0.78     14019\n",
      "\n",
      "                            -----------------------------------               \n",
      "\n"
     ]
    }
   ],
   "source": [
    "#run all models\n",
    "run_models(X_train, y_train, X_test, y_test)"
   ]
  },
  {
   "cell_type": "markdown",
   "id": "52d01c92",
   "metadata": {},
   "source": [
    "### Comparative Analysis of Classification Models with Data Scaling\n",
    "\n",
    "We evaluate various classification models on a dataset, considering different data scaling approaches (unscaled, scaled, and MinMax scaled data). For each model, we calculates the F1 score and displays a bar chart comparing the results. "
   ]
  },
  {
   "cell_type": "code",
   "execution_count": 32,
   "id": "a5f04014",
   "metadata": {},
   "outputs": [],
   "source": [
    "\n",
    "def run_models(X_train: pd.DataFrame, y_train: pd.DataFrame, X_test: pd.DataFrame, y_test: pd.DataFrame):\n",
    "    models = [\n",
    "        ('Default Logistic Regression', LogisticRegression()),\n",
    "        ('Logistic Regression (Lasso)', LogisticRegression(penalty='l1', solver='liblinear')),\n",
    "        ('Logistic Regression (Ridge)', LogisticRegression(penalty='l2', solver='liblinear')),\n",
    "        ('Logistic Regression (Elastic Net)', LogisticRegression(penalty='elasticnet', l1_ratio=0.5, solver='saga')),\n",
    "        ('Decision Tree', DecisionTreeClassifier()),\n",
    "        ('SVM', SVC()),\n",
    "        ('Random Forest', RandomForestClassifier()),\n",
    "        ('AdaBoost', AdaBoostClassifier()),\n",
    "        ('Gradient Boosting', GradientBoostingClassifier()),\n",
    "        ('XGBoost', XGBClassifier()),\n",
    "        ('KNN', KNeighborsClassifier()),\n",
    "        ('Naive Bayes', GaussianNB()),\n",
    "        ('MLP Classifier', MLPClassifier())\n",
    "    ]\n",
    "\n",
    "    for name, model in models:\n",
    "        # Unscaled data\n",
    "        clf = model.fit(X_train, y_train)\n",
    "        y_pred = clf.predict(X_test)\n",
    "\n",
    "        # Scaled data\n",
    "        clf_scaled = model.fit(X_train_scaled, y_train)\n",
    "        y_pred_scaled = clf_scaled.predict(X_test_scaled)\n",
    "\n",
    "        # MinMax scaled data\n",
    "        clf_mm_scaled = model.fit(X_train_mm_scaled, y_train)\n",
    "        y_pred_mm_scaled = clf_mm_scaled.predict(X_test_mm_scaled)\n",
    "\n",
    "        # F1 scores\n",
    "        f1_score = round(metrics.f1_score(y_test, y_pred), 5)\n",
    "        f1_score_scaled = round(metrics.f1_score(y_test, y_pred_scaled), 5)\n",
    "        f1_score_mm_scaled = round(metrics.f1_score(y_test, y_pred_mm_scaled), 5)\n",
    "\n",
    "        # Output of the model\n",
    "        print(name + ':')\n",
    "        print(\"---------------------------------------------------------------\")\n",
    "        print(\"F1 Score:\", f1_score)\n",
    "        print(\"F1 Score w/Scaled Data (ss):\", f1_score_scaled)\n",
    "        print(\"F1 Score w/Scaled Data (mm):\", f1_score_mm_scaled)\n",
    "\n",
    "        # F1 score comparison graph\n",
    "        f1_scores = [f1_score, f1_score_scaled, f1_score_mm_scaled]\n",
    "        labels = ['Unscaled', 'Scaled (ss)', 'Scaled (mm)']\n",
    "\n",
    "        plt.bar(labels, f1_scores)\n",
    "        plt.xlabel('Data Scaling')\n",
    "        plt.ylabel('F1 Score')\n",
    "        plt.title('F1 Score Comparison')\n",
    "        plt.show()\n",
    "\n",
    "        if f1_score > f1_score_scaled and f1_score > f1_score_mm_scaled:\n",
    "            print(\"\\nClassification Report:\\n\", metrics.classification_report(y_test, y_pred))\n",
    "        elif f1_score_scaled > f1_score_mm_scaled:\n",
    "            print(\"\\nClassification Report (ss):\\n\", metrics.classification_report(y_test, y_pred_scaled))\n",
    "        else:\n",
    "            print(\"\\nClassification Report (mm):\\n\", metrics.classification_report(y_test, y_pred_mm_scaled))\n",
    "\n",
    "        print(\"                            -----------------------------------               \\n\")"
   ]
  },
  {
   "cell_type": "code",
   "execution_count": 33,
   "id": "ae6a05f3",
   "metadata": {},
   "outputs": [
    {
     "name": "stdout",
     "output_type": "stream",
     "text": [
      "Default Logistic Regression:\n",
      "---------------------------------------------------------------\n",
      "F1 Score: 0.61819\n",
      "F1 Score w/Scaled Data (ss): 0.7224\n",
      "F1 Score w/Scaled Data (mm): 0.71608\n"
     ]
    },
    {
     "data": {
      "image/png": "[encoded data removed]",
      "text/plain": [
       "<Figure size 640x480 with 1 Axes>"
      ]
     },
     "metadata": {},
     "output_type": "display_data"
    },
    {
     "name": "stdout",
     "output_type": "stream",
     "text": [
      "\n",
      "Classification Report (ss):\n",
      "               precision    recall  f1-score   support\n",
      "\n",
      "           0       0.72      0.72      0.72      7013\n",
      "           1       0.72      0.72      0.72      7006\n",
      "\n",
      "    accuracy                           0.72     14019\n",
      "   macro avg       0.72      0.72      0.72     14019\n",
      "weighted avg       0.72      0.72      0.72     14019\n",
      "\n",
      "                            -----------------------------------               \n",
      "\n",
      "Logistic Regression (Lasso):\n",
      "---------------------------------------------------------------\n",
      "F1 Score: 0.72252\n",
      "F1 Score w/Scaled Data (ss): 0.72255\n",
      "F1 Score w/Scaled Data (mm): 0.72085\n"
     ]
    },
    {
     "data": {
      "image/png": "[encoded data removed]",
      "text/plain": [
       "<Figure size 640x480 with 1 Axes>"
      ]
     },
     "metadata": {},
     "output_type": "display_data"
    },
    {
     "name": "stdout",
     "output_type": "stream",
     "text": [
      "\n",
      "Classification Report (ss):\n",
      "               precision    recall  f1-score   support\n",
      "\n",
      "           0       0.72      0.72      0.72      7013\n",
      "           1       0.72      0.72      0.72      7006\n",
      "\n",
      "    accuracy                           0.72     14019\n",
      "   macro avg       0.72      0.72      0.72     14019\n",
      "weighted avg       0.72      0.72      0.72     14019\n",
      "\n",
      "                            -----------------------------------               \n",
      "\n",
      "Logistic Regression (Ridge):\n",
      "---------------------------------------------------------------\n",
      "F1 Score: 0.66079\n",
      "F1 Score w/Scaled Data (ss): 0.7224\n",
      "F1 Score w/Scaled Data (mm): 0.71592\n"
     ]
    },
    {
     "data": {
      "image/png": "[encoded data removed]",
      "text/plain": [
       "<Figure size 640x480 with 1 Axes>"
      ]
     },
     "metadata": {},
     "output_type": "display_data"
    },
    {
     "name": "stdout",
     "output_type": "stream",
     "text": [
      "\n",
      "Classification Report (ss):\n",
      "               precision    recall  f1-score   support\n",
      "\n",
      "           0       0.72      0.72      0.72      7013\n",
      "           1       0.72      0.72      0.72      7006\n",
      "\n",
      "    accuracy                           0.72     14019\n",
      "   macro avg       0.72      0.72      0.72     14019\n",
      "weighted avg       0.72      0.72      0.72     14019\n",
      "\n",
      "                            -----------------------------------               \n",
      "\n",
      "Logistic Regression (Elastic Net):\n",
      "---------------------------------------------------------------\n",
      "F1 Score: 0.61767\n",
      "F1 Score w/Scaled Data (ss): 0.72254\n",
      "F1 Score w/Scaled Data (mm): 0.7176\n"
     ]
    },
    {
     "data": {
      "image/png": "[encoded data removed]",
      "text/plain": [
       "<Figure size 640x480 with 1 Axes>"
      ]
     },
     "metadata": {},
     "output_type": "display_data"
    },
    {
     "name": "stdout",
     "output_type": "stream",
     "text": [
      "\n",
      "Classification Report (ss):\n",
      "               precision    recall  f1-score   support\n",
      "\n",
      "           0       0.72      0.72      0.72      7013\n",
      "           1       0.72      0.72      0.72      7006\n",
      "\n",
      "    accuracy                           0.72     14019\n",
      "   macro avg       0.72      0.72      0.72     14019\n",
      "weighted avg       0.72      0.72      0.72     14019\n",
      "\n",
      "                            -----------------------------------               \n",
      "\n",
      "Decision Tree:\n",
      "---------------------------------------------------------------\n",
      "F1 Score: 0.74838\n",
      "F1 Score w/Scaled Data (ss): 0.74843\n",
      "F1 Score w/Scaled Data (mm): 0.75111\n"
     ]
    },
    {
     "data": {
      "image/png": "[encoded data removed]",
      "text/plain": [
       "<Figure size 640x480 with 1 Axes>"
      ]
     },
     "metadata": {},
     "output_type": "display_data"
    },
    {
     "name": "stdout",
     "output_type": "stream",
     "text": [
      "\n",
      "Classification Report (mm):\n",
      "               precision    recall  f1-score   support\n",
      "\n",
      "           0       0.76      0.73      0.74      7013\n",
      "           1       0.74      0.76      0.75      7006\n",
      "\n",
      "    accuracy                           0.75     14019\n",
      "   macro avg       0.75      0.75      0.75     14019\n",
      "weighted avg       0.75      0.75      0.75     14019\n",
      "\n",
      "                            -----------------------------------               \n",
      "\n",
      "SVM:\n",
      "---------------------------------------------------------------\n",
      "F1 Score: 0.64953\n",
      "F1 Score w/Scaled Data (ss): 0.75437\n",
      "F1 Score w/Scaled Data (mm): 0.72784\n"
     ]
    },
    {
     "data": {
      "image/png": "[encoded data removed]",
      "text/plain": [
       "<Figure size 640x480 with 1 Axes>"
      ]
     },
     "metadata": {},
     "output_type": "display_data"
    },
    {
     "name": "stdout",
     "output_type": "stream",
     "text": [
      "\n",
      "Classification Report (ss):\n",
      "               precision    recall  f1-score   support\n",
      "\n",
      "           0       0.75      0.79      0.77      7013\n",
      "           1       0.78      0.73      0.75      7006\n",
      "\n",
      "    accuracy                           0.76     14019\n",
      "   macro avg       0.76      0.76      0.76     14019\n",
      "weighted avg       0.76      0.76      0.76     14019\n",
      "\n",
      "                            -----------------------------------               \n",
      "\n",
      "Random Forest:\n",
      "---------------------------------------------------------------\n",
      "F1 Score: 0.83161\n",
      "F1 Score w/Scaled Data (ss): 0.83258\n",
      "F1 Score w/Scaled Data (mm): 0.83419\n"
     ]
    },
    {
     "data": {
      "image/png": "[encoded data removed]",
      "text/plain": [
       "<Figure size 640x480 with 1 Axes>"
      ]
     },
     "metadata": {},
     "output_type": "display_data"
    },
    {
     "name": "stdout",
     "output_type": "stream",
     "text": [
      "\n",
      "Classification Report (mm):\n",
      "               precision    recall  f1-score   support\n",
      "\n",
      "           0       0.82      0.86      0.84      7013\n",
      "           1       0.85      0.82      0.83      7006\n",
      "\n",
      "    accuracy                           0.84     14019\n",
      "   macro avg       0.84      0.84      0.84     14019\n",
      "weighted avg       0.84      0.84      0.84     14019\n",
      "\n",
      "                            -----------------------------------               \n",
      "\n",
      "AdaBoost:\n",
      "---------------------------------------------------------------\n",
      "F1 Score: 0.74982\n",
      "F1 Score w/Scaled Data (ss): 0.74982\n",
      "F1 Score w/Scaled Data (mm): 0.74982\n"
     ]
    },
    {
     "data": {
      "image/png": "[encoded data removed]",
      "text/plain": [
       "<Figure size 640x480 with 1 Axes>"
      ]
     },
     "metadata": {},
     "output_type": "display_data"
    },
    {
     "name": "stdout",
     "output_type": "stream",
     "text": [
      "\n",
      "Classification Report (mm):\n",
      "               precision    recall  f1-score   support\n",
      "\n",
      "           0       0.75      0.77      0.76      7013\n",
      "           1       0.76      0.74      0.75      7006\n",
      "\n",
      "    accuracy                           0.75     14019\n",
      "   macro avg       0.76      0.75      0.75     14019\n",
      "weighted avg       0.76      0.75      0.75     14019\n",
      "\n",
      "                            -----------------------------------               \n",
      "\n",
      "Gradient Boosting:\n",
      "---------------------------------------------------------------\n",
      "F1 Score: 0.77482\n",
      "F1 Score w/Scaled Data (ss): 0.77482\n",
      "F1 Score w/Scaled Data (mm): 0.77482\n"
     ]
    },
    {
     "data": {
      "image/png": "[encoded data removed]",
      "text/plain": [
       "<Figure size 640x480 with 1 Axes>"
      ]
     },
     "metadata": {},
     "output_type": "display_data"
    },
    {
     "name": "stdout",
     "output_type": "stream",
     "text": [
      "\n",
      "Classification Report (mm):\n",
      "               precision    recall  f1-score   support\n",
      "\n",
      "           0       0.76      0.82      0.79      7013\n",
      "           1       0.81      0.75      0.77      7006\n",
      "\n",
      "    accuracy                           0.78     14019\n",
      "   macro avg       0.78      0.78      0.78     14019\n",
      "weighted avg       0.78      0.78      0.78     14019\n",
      "\n",
      "                            -----------------------------------               \n",
      "\n",
      "XGBoost:\n",
      "---------------------------------------------------------------\n",
      "F1 Score: 0.82649\n",
      "F1 Score w/Scaled Data (ss): 0.82649\n",
      "F1 Score w/Scaled Data (mm): 0.82649\n"
     ]
    },
    {
     "data": {
      "image/png": "[encoded data removed]",
      "text/plain": [
       "<Figure size 640x480 with 1 Axes>"
      ]
     },
     "metadata": {},
     "output_type": "display_data"
    },
    {
     "name": "stdout",
     "output_type": "stream",
     "text": [
      "\n",
      "Classification Report (mm):\n",
      "               precision    recall  f1-score   support\n",
      "\n",
      "           0       0.82      0.86      0.84      7013\n",
      "           1       0.85      0.81      0.83      7006\n",
      "\n",
      "    accuracy                           0.83     14019\n",
      "   macro avg       0.83      0.83      0.83     14019\n",
      "weighted avg       0.83      0.83      0.83     14019\n",
      "\n",
      "                            -----------------------------------               \n",
      "\n",
      "KNN:\n",
      "---------------------------------------------------------------\n",
      "F1 Score: 0.76159\n",
      "F1 Score w/Scaled Data (ss): 0.75441\n",
      "F1 Score w/Scaled Data (mm): 0.73517\n"
     ]
    },
    {
     "data": {
      "image/png": "[encoded data removed]",
      "text/plain": [
       "<Figure size 640x480 with 1 Axes>"
      ]
     },
     "metadata": {},
     "output_type": "display_data"
    },
    {
     "name": "stdout",
     "output_type": "stream",
     "text": [
      "\n",
      "Classification Report:\n",
      "               precision    recall  f1-score   support\n",
      "\n",
      "           0       0.81      0.60      0.69      7013\n",
      "           1       0.68      0.86      0.76      7006\n",
      "\n",
      "    accuracy                           0.73     14019\n",
      "   macro avg       0.75      0.73      0.73     14019\n",
      "weighted avg       0.75      0.73      0.73     14019\n",
      "\n",
      "                            -----------------------------------               \n",
      "\n",
      "Naive Bayes:\n",
      "---------------------------------------------------------------\n",
      "F1 Score: 0.67676\n",
      "F1 Score w/Scaled Data (ss): 0.68747\n",
      "F1 Score w/Scaled Data (mm): 0.68747\n"
     ]
    },
    {
     "data": {
      "image/png": "[encoded data removed]",
      "text/plain": [
       "<Figure size 640x480 with 1 Axes>"
      ]
     },
     "metadata": {},
     "output_type": "display_data"
    },
    {
     "name": "stdout",
     "output_type": "stream",
     "text": [
      "\n",
      "Classification Report (mm):\n",
      "               precision    recall  f1-score   support\n",
      "\n",
      "           0       0.75      0.25      0.38      7013\n",
      "           1       0.55      0.92      0.69      7006\n",
      "\n",
      "    accuracy                           0.58     14019\n",
      "   macro avg       0.65      0.58      0.53     14019\n",
      "weighted avg       0.65      0.58      0.53     14019\n",
      "\n",
      "                            -----------------------------------               \n",
      "\n",
      "MLP Classifier:\n",
      "---------------------------------------------------------------\n",
      "F1 Score: 0.67783\n",
      "F1 Score w/Scaled Data (ss): 0.7677\n",
      "F1 Score w/Scaled Data (mm): 0.76273\n"
     ]
    },
    {
     "data": {
      "image/png": "[encoded data removed]",
      "text/plain": [
       "<Figure size 640x480 with 1 Axes>"
      ]
     },
     "metadata": {},
     "output_type": "display_data"
    },
    {
     "name": "stdout",
     "output_type": "stream",
     "text": [
      "\n",
      "Classification Report (ss):\n",
      "               precision    recall  f1-score   support\n",
      "\n",
      "           0       0.76      0.79      0.78      7013\n",
      "           1       0.78      0.75      0.77      7006\n",
      "\n",
      "    accuracy                           0.77     14019\n",
      "   macro avg       0.77      0.77      0.77     14019\n",
      "weighted avg       0.77      0.77      0.77     14019\n",
      "\n",
      "                            -----------------------------------               \n",
      "\n"
     ]
    }
   ],
   "source": [
    "#run all models\n",
    "run_models(X_train, y_train, X_test, y_test)"
   ]
  },
  {
   "cell_type": "markdown",
   "id": "8a5567ea",
   "metadata": {},
   "source": [
    "In summary, random forest consistently outperformed other models with high F1 scores, regardless of data scaling. Additionally, certain models, such as logistic regression and KNN, displayed different behaviors depending on the data scaling technique employed. The results highlight the importance of selecting the appropriate model and data preprocessing for achieving the best classification performance in a given context."
   ]
  },
  {
   "cell_type": "markdown",
   "id": "b44202ca",
   "metadata": {},
   "source": [
    "# KNN with hyperparameter tuning"
   ]
  },
  {
   "cell_type": "markdown",
   "id": "fe4f8ee5",
   "metadata": {},
   "source": [
    "### Using grid search for KNN"
   ]
  },
  {
   "cell_type": "code",
   "execution_count": 25,
   "id": "83edf349",
   "metadata": {},
   "outputs": [],
   "source": [
    "# Define the hyperparameters and their possible values for KNN\n",
    "param_grid = {\n",
    "    'n_neighbors': [3, 5, 7, 9],  # Adjust the number of neighbors you want to test\n",
    "    'weights': ['uniform', 'distance'],\n",
    "    'p': [1, 2]  # 1 for Manhattan distance, 2 for Euclidean distance\n",
    "}"
   ]
  },
  {
   "cell_type": "code",
   "execution_count": 26,
   "id": "a587f07b",
   "metadata": {},
   "outputs": [],
   "source": [
    "knn = KNeighborsClassifier()"
   ]
  },
  {
   "cell_type": "code",
   "execution_count": 27,
   "id": "9d0e6301",
   "metadata": {},
   "outputs": [],
   "source": [
    "# Create a GridSearchCV object\n",
    "grid_search_knn = GridSearchCV(estimator=knn, param_grid=param_grid, scoring='f1', cv=5, verbose = 3)"
   ]
  },
  {
   "cell_type": "code",
   "execution_count": 28,
   "id": "75fbba4b",
   "metadata": {},
   "outputs": [
    {
     "name": "stdout",
     "output_type": "stream",
     "text": [
      "Fitting 5 folds for each of 16 candidates, totalling 80 fits\n",
      "[CV 1/5] END n_neighbors=3, p=1, weights=uniform;, score=0.751 total time=   1.7s\n",
      "[CV 2/5] END n_neighbors=3, p=1, weights=uniform;, score=0.747 total time=   1.3s\n",
      "[CV 3/5] END n_neighbors=3, p=1, weights=uniform;, score=0.747 total time=   1.2s\n",
      "[CV 4/5] END n_neighbors=3, p=1, weights=uniform;, score=0.742 total time=   1.4s\n",
      "[CV 5/5] END n_neighbors=3, p=1, weights=uniform;, score=0.754 total time=   1.3s\n",
      "[CV 1/5] END n_neighbors=3, p=1, weights=distance;, score=0.763 total time=   1.5s\n",
      "[CV 2/5] END n_neighbors=3, p=1, weights=distance;, score=0.760 total time=   1.5s\n",
      "[CV 3/5] END n_neighbors=3, p=1, weights=distance;, score=0.763 total time=   1.6s\n",
      "[CV 4/5] END n_neighbors=3, p=1, weights=distance;, score=0.757 total time=   1.6s\n",
      "[CV 5/5] END n_neighbors=3, p=1, weights=distance;, score=0.770 total time=   1.6s\n",
      "[CV 1/5] END n_neighbors=3, p=2, weights=uniform;, score=0.732 total time=   0.4s\n",
      "[CV 2/5] END n_neighbors=3, p=2, weights=uniform;, score=0.733 total time=   0.4s\n",
      "[CV 3/5] END n_neighbors=3, p=2, weights=uniform;, score=0.729 total time=   0.4s\n",
      "[CV 4/5] END n_neighbors=3, p=2, weights=uniform;, score=0.729 total time=   0.4s\n",
      "[CV 5/5] END n_neighbors=3, p=2, weights=uniform;, score=0.730 total time=   0.4s\n",
      "[CV 1/5] END n_neighbors=3, p=2, weights=distance;, score=0.741 total time=   0.5s\n",
      "[CV 2/5] END n_neighbors=3, p=2, weights=distance;, score=0.740 total time=   0.5s\n",
      "[CV 3/5] END n_neighbors=3, p=2, weights=distance;, score=0.743 total time=   0.4s\n",
      "[CV 4/5] END n_neighbors=3, p=2, weights=distance;, score=0.741 total time=   0.4s\n",
      "[CV 5/5] END n_neighbors=3, p=2, weights=distance;, score=0.742 total time=   0.4s\n",
      "[CV 1/5] END n_neighbors=5, p=1, weights=uniform;, score=0.744 total time=   1.4s\n",
      "[CV 2/5] END n_neighbors=5, p=1, weights=uniform;, score=0.745 total time=   1.5s\n",
      "[CV 3/5] END n_neighbors=5, p=1, weights=uniform;, score=0.749 total time=   1.7s\n",
      "[CV 4/5] END n_neighbors=5, p=1, weights=uniform;, score=0.737 total time=   2.3s\n",
      "[CV 5/5] END n_neighbors=5, p=1, weights=uniform;, score=0.754 total time=   2.1s\n",
      "[CV 1/5] END n_neighbors=5, p=1, weights=distance;, score=0.763 total time=   1.6s\n",
      "[CV 2/5] END n_neighbors=5, p=1, weights=distance;, score=0.766 total time=   1.9s\n",
      "[CV 3/5] END n_neighbors=5, p=1, weights=distance;, score=0.770 total time=   1.9s\n",
      "[CV 4/5] END n_neighbors=5, p=1, weights=distance;, score=0.759 total time=   1.9s\n",
      "[CV 5/5] END n_neighbors=5, p=1, weights=distance;, score=0.776 total time=   1.9s\n",
      "[CV 1/5] END n_neighbors=5, p=2, weights=uniform;, score=0.735 total time=   0.6s\n",
      "[CV 2/5] END n_neighbors=5, p=2, weights=uniform;, score=0.730 total time=   0.6s\n",
      "[CV 3/5] END n_neighbors=5, p=2, weights=uniform;, score=0.730 total time=   0.6s\n",
      "[CV 4/5] END n_neighbors=5, p=2, weights=uniform;, score=0.726 total time=   0.6s\n",
      "[CV 5/5] END n_neighbors=5, p=2, weights=uniform;, score=0.732 total time=   0.6s\n",
      "[CV 1/5] END n_neighbors=5, p=2, weights=distance;, score=0.749 total time=   0.6s\n",
      "[CV 2/5] END n_neighbors=5, p=2, weights=distance;, score=0.743 total time=   0.6s\n",
      "[CV 3/5] END n_neighbors=5, p=2, weights=distance;, score=0.743 total time=   0.6s\n",
      "[CV 4/5] END n_neighbors=5, p=2, weights=distance;, score=0.740 total time=   0.6s\n",
      "[CV 5/5] END n_neighbors=5, p=2, weights=distance;, score=0.748 total time=   0.7s\n",
      "[CV 1/5] END n_neighbors=7, p=1, weights=uniform;, score=0.742 total time=   2.0s\n",
      "[CV 2/5] END n_neighbors=7, p=1, weights=uniform;, score=0.742 total time=   2.0s\n",
      "[CV 3/5] END n_neighbors=7, p=1, weights=uniform;, score=0.741 total time=   2.1s\n",
      "[CV 4/5] END n_neighbors=7, p=1, weights=uniform;, score=0.748 total time=   1.9s\n",
      "[CV 5/5] END n_neighbors=7, p=1, weights=uniform;, score=0.747 total time=   2.0s\n",
      "[CV 1/5] END n_neighbors=7, p=1, weights=distance;, score=0.766 total time=   1.9s\n",
      "[CV 2/5] END n_neighbors=7, p=1, weights=distance;, score=0.765 total time=   1.8s\n",
      "[CV 3/5] END n_neighbors=7, p=1, weights=distance;, score=0.767 total time=   2.1s\n",
      "[CV 4/5] END n_neighbors=7, p=1, weights=distance;, score=0.766 total time=   2.0s\n",
      "[CV 5/5] END n_neighbors=7, p=1, weights=distance;, score=0.775 total time=   2.1s\n",
      "[CV 1/5] END n_neighbors=7, p=2, weights=uniform;, score=0.730 total time=   0.6s\n",
      "[CV 2/5] END n_neighbors=7, p=2, weights=uniform;, score=0.734 total time=   0.5s\n",
      "[CV 3/5] END n_neighbors=7, p=2, weights=uniform;, score=0.729 total time=   0.5s\n",
      "[CV 4/5] END n_neighbors=7, p=2, weights=uniform;, score=0.726 total time=   0.5s\n",
      "[CV 5/5] END n_neighbors=7, p=2, weights=uniform;, score=0.730 total time=   0.5s\n",
      "[CV 1/5] END n_neighbors=7, p=2, weights=distance;, score=0.750 total time=   0.5s\n",
      "[CV 2/5] END n_neighbors=7, p=2, weights=distance;, score=0.750 total time=   0.6s\n",
      "[CV 3/5] END n_neighbors=7, p=2, weights=distance;, score=0.747 total time=   0.6s\n",
      "[CV 4/5] END n_neighbors=7, p=2, weights=distance;, score=0.740 total time=   0.6s\n",
      "[CV 5/5] END n_neighbors=7, p=2, weights=distance;, score=0.750 total time=   0.6s\n",
      "[CV 1/5] END n_neighbors=9, p=1, weights=uniform;, score=0.743 total time=   1.9s\n",
      "[CV 2/5] END n_neighbors=9, p=1, weights=uniform;, score=0.738 total time=   1.9s\n",
      "[CV 3/5] END n_neighbors=9, p=1, weights=uniform;, score=0.739 total time=   1.9s\n",
      "[CV 4/5] END n_neighbors=9, p=1, weights=uniform;, score=0.742 total time=   2.1s\n",
      "[CV 5/5] END n_neighbors=9, p=1, weights=uniform;, score=0.750 total time=   1.8s\n",
      "[CV 1/5] END n_neighbors=9, p=1, weights=distance;, score=0.765 total time=   2.0s\n",
      "[CV 2/5] END n_neighbors=9, p=1, weights=distance;, score=0.762 total time=   2.0s\n",
      "[CV 3/5] END n_neighbors=9, p=1, weights=distance;, score=0.767 total time=   2.0s\n",
      "[CV 4/5] END n_neighbors=9, p=1, weights=distance;, score=0.765 total time=   1.8s\n",
      "[CV 5/5] END n_neighbors=9, p=1, weights=distance;, score=0.775 total time=   1.9s\n",
      "[CV 1/5] END n_neighbors=9, p=2, weights=uniform;, score=0.731 total time=   0.5s\n",
      "[CV 2/5] END n_neighbors=9, p=2, weights=uniform;, score=0.732 total time=   0.5s\n",
      "[CV 3/5] END n_neighbors=9, p=2, weights=uniform;, score=0.733 total time=   0.6s\n",
      "[CV 4/5] END n_neighbors=9, p=2, weights=uniform;, score=0.725 total time=   0.6s\n",
      "[CV 5/5] END n_neighbors=9, p=2, weights=uniform;, score=0.727 total time=   0.7s\n",
      "[CV 1/5] END n_neighbors=9, p=2, weights=distance;, score=0.750 total time=   0.7s\n",
      "[CV 2/5] END n_neighbors=9, p=2, weights=distance;, score=0.752 total time=   0.6s\n",
      "[CV 3/5] END n_neighbors=9, p=2, weights=distance;, score=0.752 total time=   0.5s\n",
      "[CV 4/5] END n_neighbors=9, p=2, weights=distance;, score=0.740 total time=   0.5s\n",
      "[CV 5/5] END n_neighbors=9, p=2, weights=distance;, score=0.749 total time=   0.5s\n"
     ]
    },
    {
     "data": {
      "text/html": [
       "<style>#sk-container-id-1 {color: black;}#sk-container-id-1 pre{padding: 0;}#sk-container-id-1 div.sk-toggleable {background-color: white;}#sk-container-id-1 label.sk-toggleable__label {cursor: pointer;display: block;width: 100%;margin-bottom: 0;padding: 0.3em;box-sizing: border-box;text-align: center;}#sk-container-id-1 label.sk-toggleable__label-arrow:before {content: \"▸\";float: left;margin-right: 0.25em;color: #696969;}#sk-container-id-1 label.sk-toggleable__label-arrow:hover:before {color: black;}#sk-container-id-1 div.sk-estimator:hover label.sk-toggleable__label-arrow:before {color: black;}#sk-container-id-1 div.sk-toggleable__content {max-height: 0;max-width: 0;overflow: hidden;text-align: left;background-color: #f0f8ff;}#sk-container-id-1 div.sk-toggleable__content pre {margin: 0.2em;color: black;border-radius: 0.25em;background-color: #f0f8ff;}#sk-container-id-1 input.sk-toggleable__control:checked~div.sk-toggleable__content {max-height: 200px;max-width: 100%;overflow: auto;}#sk-container-id-1 input.sk-toggleable__control:checked~label.sk-toggleable__label-arrow:before {content: \"▾\";}#sk-container-id-1 div.sk-estimator input.sk-toggleable__control:checked~label.sk-toggleable__label {background-color: #d4ebff;}#sk-container-id-1 div.sk-label input.sk-toggleable__control:checked~label.sk-toggleable__label {background-color: #d4ebff;}#sk-container-id-1 input.sk-hidden--visually {border: 0;clip: rect(1px 1px 1px 1px);clip: rect(1px, 1px, 1px, 1px);height: 1px;margin: -1px;overflow: hidden;padding: 0;position: absolute;width: 1px;}#sk-container-id-1 div.sk-estimator {font-family: monospace;background-color: #f0f8ff;border: 1px dotted black;border-radius: 0.25em;box-sizing: border-box;margin-bottom: 0.5em;}#sk-container-id-1 div.sk-estimator:hover {background-color: #d4ebff;}#sk-container-id-1 div.sk-parallel-item::after {content: \"\";width: 100%;border-bottom: 1px solid gray;flex-grow: 1;}#sk-container-id-1 div.sk-label:hover label.sk-toggleable__label {background-color: #d4ebff;}#sk-container-id-1 div.sk-serial::before {content: \"\";position: absolute;border-left: 1px solid gray;box-sizing: border-box;top: 0;bottom: 0;left: 50%;z-index: 0;}#sk-container-id-1 div.sk-serial {display: flex;flex-direction: column;align-items: center;background-color: white;padding-right: 0.2em;padding-left: 0.2em;position: relative;}#sk-container-id-1 div.sk-item {position: relative;z-index: 1;}#sk-container-id-1 div.sk-parallel {display: flex;align-items: stretch;justify-content: center;background-color: white;position: relative;}#sk-container-id-1 div.sk-item::before, #sk-container-id-1 div.sk-parallel-item::before {content: \"\";position: absolute;border-left: 1px solid gray;box-sizing: border-box;top: 0;bottom: 0;left: 50%;z-index: -1;}#sk-container-id-1 div.sk-parallel-item {display: flex;flex-direction: column;z-index: 1;position: relative;background-color: white;}#sk-container-id-1 div.sk-parallel-item:first-child::after {align-self: flex-end;width: 50%;}#sk-container-id-1 div.sk-parallel-item:last-child::after {align-self: flex-start;width: 50%;}#sk-container-id-1 div.sk-parallel-item:only-child::after {width: 0;}#sk-container-id-1 div.sk-dashed-wrapped {border: 1px dashed gray;margin: 0 0.4em 0.5em 0.4em;box-sizing: border-box;padding-bottom: 0.4em;background-color: white;}#sk-container-id-1 div.sk-label label {font-family: monospace;font-weight: bold;display: inline-block;line-height: 1.2em;}#sk-container-id-1 div.sk-label-container {text-align: center;}#sk-container-id-1 div.sk-container {/* jupyter's `normalize.less` sets `[hidden] { display: none; }` but bootstrap.min.css set `[hidden] { display: none !important; }` so we also need the `!important` here to be able to override the default hidden behavior on the sphinx rendered scikit-learn.org. See: https://github.com/scikit-learn/scikit-learn/issues/21755 */display: inline-block !important;position: relative;}#sk-container-id-1 div.sk-text-repr-fallback {display: none;}</style><div id=\"sk-container-id-1\" class=\"sk-top-container\"><div class=\"sk-text-repr-fallback\"><pre>GridSearchCV(cv=5, estimator=KNeighborsClassifier(),\n",
       "             param_grid={&#x27;n_neighbors&#x27;: [3, 5, 7, 9], &#x27;p&#x27;: [1, 2],\n",
       "                         &#x27;weights&#x27;: [&#x27;uniform&#x27;, &#x27;distance&#x27;]},\n",
       "             scoring=&#x27;f1&#x27;, verbose=3)</pre><b>In a Jupyter environment, please rerun this cell to show the HTML representation or trust the notebook. <br />On GitHub, the HTML representation is unable to render, please try loading this page with nbviewer.org.</b></div><div class=\"sk-container\" hidden><div class=\"sk-item sk-dashed-wrapped\"><div class=\"sk-label-container\"><div class=\"sk-label sk-toggleable\"><input class=\"sk-toggleable__control sk-hidden--visually\" id=\"sk-estimator-id-1\" type=\"checkbox\" ><label for=\"sk-estimator-id-1\" class=\"sk-toggleable__label sk-toggleable__label-arrow\">GridSearchCV</label><div class=\"sk-toggleable__content\"><pre>GridSearchCV(cv=5, estimator=KNeighborsClassifier(),\n",
       "             param_grid={&#x27;n_neighbors&#x27;: [3, 5, 7, 9], &#x27;p&#x27;: [1, 2],\n",
       "                         &#x27;weights&#x27;: [&#x27;uniform&#x27;, &#x27;distance&#x27;]},\n",
       "             scoring=&#x27;f1&#x27;, verbose=3)</pre></div></div></div><div class=\"sk-parallel\"><div class=\"sk-parallel-item\"><div class=\"sk-item\"><div class=\"sk-label-container\"><div class=\"sk-label sk-toggleable\"><input class=\"sk-toggleable__control sk-hidden--visually\" id=\"sk-estimator-id-2\" type=\"checkbox\" ><label for=\"sk-estimator-id-2\" class=\"sk-toggleable__label sk-toggleable__label-arrow\">estimator: KNeighborsClassifier</label><div class=\"sk-toggleable__content\"><pre>KNeighborsClassifier()</pre></div></div></div><div class=\"sk-serial\"><div class=\"sk-item\"><div class=\"sk-estimator sk-toggleable\"><input class=\"sk-toggleable__control sk-hidden--visually\" id=\"sk-estimator-id-3\" type=\"checkbox\" ><label for=\"sk-estimator-id-3\" class=\"sk-toggleable__label sk-toggleable__label-arrow\">KNeighborsClassifier</label><div class=\"sk-toggleable__content\"><pre>KNeighborsClassifier()</pre></div></div></div></div></div></div></div></div></div></div>"
      ],
      "text/plain": [
       "GridSearchCV(cv=5, estimator=KNeighborsClassifier(),\n",
       "             param_grid={'n_neighbors': [3, 5, 7, 9], 'p': [1, 2],\n",
       "                         'weights': ['uniform', 'distance']},\n",
       "             scoring='f1', verbose=3)"
      ]
     },
     "execution_count": 28,
     "metadata": {},
     "output_type": "execute_result"
    }
   ],
   "source": [
    "# Fit the grid search to your data\n",
    "grid_search_knn.fit(X_train_mm_scaled, y_train)"
   ]
  },
  {
   "cell_type": "code",
   "execution_count": 29,
   "id": "dbcb58f6",
   "metadata": {},
   "outputs": [
    {
     "name": "stdout",
     "output_type": "stream",
     "text": [
      "Best hyperparameters:  {'n_neighbors': 7, 'p': 1, 'weights': 'distance'}\n"
     ]
    }
   ],
   "source": [
    "### List the best parameter out of the given set of parameters\n",
    "print(\"Best hyperparameters: \", grid_search_knn.best_params_)"
   ]
  },
  {
   "cell_type": "code",
   "execution_count": 30,
   "id": "c5965921",
   "metadata": {},
   "outputs": [],
   "source": [
    "y_pred_knn_grid = grid_search_knn.predict(X_test_mm_scaled)"
   ]
  },
  {
   "cell_type": "code",
   "execution_count": 33,
   "id": "561babe5",
   "metadata": {
    "scrolled": true
   },
   "outputs": [
    {
     "name": "stdout",
     "output_type": "stream",
     "text": [
      "              precision    recall  f1-score   support\n",
      "\n",
      "           0       0.79      0.75      0.77      7013\n",
      "           1       0.76      0.80      0.78      7006\n",
      "\n",
      "    accuracy                           0.77     14019\n",
      "   macro avg       0.77      0.77      0.77     14019\n",
      "weighted avg       0.77      0.77      0.77     14019\n",
      "\n",
      "[[5246 1767]\n",
      " [1404 5602]]\n",
      "Accuracy: 0.7738069762465226\n",
      "F1 Score: 0.779408695652174\n"
     ]
    }
   ],
   "source": [
    "## Printing classification report, confusion matrix, and accuracy of the best parameter.\n",
    "print(classification_report(y_test,y_pred_knn_grid))\n",
    "print(confusion_matrix(y_test,y_pred_knn_grid))\n",
    "print(\"Accuracy:\",(accuracy_score(y_test,y_pred_knn_grid)))\n",
    "print(\"F1 Score:\", (f1_score(y_test, y_pred_knn_grid)))"
   ]
  },
  {
   "cell_type": "markdown",
   "id": "e2b70b28",
   "metadata": {},
   "source": [
    "### KNN Random SearchCV"
   ]
  },
  {
   "cell_type": "code",
   "execution_count": 34,
   "id": "36a83201",
   "metadata": {},
   "outputs": [],
   "source": [
    "# Define the parameter distributions for KNN\n",
    "param_dist = {\n",
    "    'n_neighbors': np.arange(1, 21),  # Adjust the range as needed\n",
    "    'weights': ['uniform', 'distance'],\n",
    "    'p': [1, 2]  # 1 for Manhattan distance (L1), 2 for Euclidean distance (L2)\n",
    "}"
   ]
  },
  {
   "cell_type": "code",
   "execution_count": 35,
   "id": "44d42d1b",
   "metadata": {},
   "outputs": [],
   "source": [
    "# Create a K-Nearest Neighbors classifier\n",
    "knn = KNeighborsClassifier()"
   ]
  },
  {
   "cell_type": "code",
   "execution_count": 36,
   "id": "c5b25d08",
   "metadata": {},
   "outputs": [],
   "source": [
    "# Create a RandomizedSearchCV object with F1 score as the scoring parameter\n",
    "random_search_knn = RandomizedSearchCV(\n",
    "    estimator=knn,\n",
    "    param_distributions=param_dist,\n",
    "    scoring='f1',\n",
    "    cv=5,\n",
    "    n_iter=10,  # You can adjust the number of iterations\n",
    "    verbose=3\n",
    ")"
   ]
  },
  {
   "cell_type": "code",
   "execution_count": 37,
   "id": "8abdb486",
   "metadata": {},
   "outputs": [
    {
     "name": "stdout",
     "output_type": "stream",
     "text": [
      "Fitting 5 folds for each of 10 candidates, totalling 50 fits\n",
      "[CV 1/5] END n_neighbors=15, p=1, weights=distance;, score=0.771 total time=   1.2s\n",
      "[CV 2/5] END n_neighbors=15, p=1, weights=distance;, score=0.760 total time=   1.4s\n",
      "[CV 3/5] END n_neighbors=15, p=1, weights=distance;, score=0.766 total time=   1.9s\n",
      "[CV 4/5] END n_neighbors=15, p=1, weights=distance;, score=0.760 total time=   1.9s\n",
      "[CV 5/5] END n_neighbors=15, p=1, weights=distance;, score=0.774 total time=   1.8s\n",
      "[CV 1/5] END n_neighbors=2, p=2, weights=distance;, score=0.734 total time=   0.5s\n",
      "[CV 2/5] END n_neighbors=2, p=2, weights=distance;, score=0.731 total time=   0.6s\n",
      "[CV 3/5] END n_neighbors=2, p=2, weights=distance;, score=0.742 total time=   0.5s\n",
      "[CV 4/5] END n_neighbors=2, p=2, weights=distance;, score=0.732 total time=   0.5s\n",
      "[CV 5/5] END n_neighbors=2, p=2, weights=distance;, score=0.734 total time=   0.6s\n",
      "[CV 1/5] END n_neighbors=12, p=2, weights=uniform;, score=0.721 total time=   0.6s\n",
      "[CV 2/5] END n_neighbors=12, p=2, weights=uniform;, score=0.716 total time=   0.6s\n",
      "[CV 3/5] END n_neighbors=12, p=2, weights=uniform;, score=0.722 total time=   0.6s\n",
      "[CV 4/5] END n_neighbors=12, p=2, weights=uniform;, score=0.710 total time=   0.6s\n",
      "[CV 5/5] END n_neighbors=12, p=2, weights=uniform;, score=0.715 total time=   0.7s\n",
      "[CV 1/5] END n_neighbors=6, p=1, weights=uniform;, score=0.721 total time=   2.0s\n",
      "[CV 2/5] END n_neighbors=6, p=1, weights=uniform;, score=0.721 total time=   1.9s\n",
      "[CV 3/5] END n_neighbors=6, p=1, weights=uniform;, score=0.721 total time=   1.9s\n",
      "[CV 4/5] END n_neighbors=6, p=1, weights=uniform;, score=0.725 total time=   1.9s\n",
      "[CV 5/5] END n_neighbors=6, p=1, weights=uniform;, score=0.730 total time=   1.9s\n",
      "[CV 1/5] END n_neighbors=15, p=1, weights=uniform;, score=0.744 total time=   1.9s\n",
      "[CV 2/5] END n_neighbors=15, p=1, weights=uniform;, score=0.739 total time=   2.3s\n",
      "[CV 3/5] END n_neighbors=15, p=1, weights=uniform;, score=0.738 total time=   2.2s\n",
      "[CV 4/5] END n_neighbors=15, p=1, weights=uniform;, score=0.735 total time=   2.4s\n",
      "[CV 5/5] END n_neighbors=15, p=1, weights=uniform;, score=0.747 total time=   1.9s\n",
      "[CV 1/5] END n_neighbors=13, p=1, weights=distance;, score=0.771 total time=   1.9s\n",
      "[CV 2/5] END n_neighbors=13, p=1, weights=distance;, score=0.762 total time=   2.0s\n",
      "[CV 3/5] END n_neighbors=13, p=1, weights=distance;, score=0.765 total time=   2.1s\n",
      "[CV 4/5] END n_neighbors=13, p=1, weights=distance;, score=0.760 total time=   2.1s\n",
      "[CV 5/5] END n_neighbors=13, p=1, weights=distance;, score=0.774 total time=   2.1s\n",
      "[CV 1/5] END n_neighbors=12, p=2, weights=distance;, score=0.751 total time=   0.6s\n",
      "[CV 2/5] END n_neighbors=12, p=2, weights=distance;, score=0.750 total time=   0.6s\n",
      "[CV 3/5] END n_neighbors=12, p=2, weights=distance;, score=0.755 total time=   0.6s\n",
      "[CV 4/5] END n_neighbors=12, p=2, weights=distance;, score=0.745 total time=   0.6s\n",
      "[CV 5/5] END n_neighbors=12, p=2, weights=distance;, score=0.751 total time=   0.6s\n",
      "[CV 1/5] END n_neighbors=7, p=2, weights=distance;, score=0.750 total time=   0.6s\n",
      "[CV 2/5] END n_neighbors=7, p=2, weights=distance;, score=0.750 total time=   0.5s\n",
      "[CV 3/5] END n_neighbors=7, p=2, weights=distance;, score=0.747 total time=   0.6s\n",
      "[CV 4/5] END n_neighbors=7, p=2, weights=distance;, score=0.740 total time=   0.5s\n",
      "[CV 5/5] END n_neighbors=7, p=2, weights=distance;, score=0.750 total time=   0.6s\n",
      "[CV 1/5] END n_neighbors=8, p=2, weights=uniform;, score=0.717 total time=   0.5s\n",
      "[CV 2/5] END n_neighbors=8, p=2, weights=uniform;, score=0.714 total time=   0.6s\n",
      "[CV 3/5] END n_neighbors=8, p=2, weights=uniform;, score=0.715 total time=   0.5s\n",
      "[CV 4/5] END n_neighbors=8, p=2, weights=uniform;, score=0.713 total time=   0.5s\n",
      "[CV 5/5] END n_neighbors=8, p=2, weights=uniform;, score=0.713 total time=   0.6s\n",
      "[CV 1/5] END n_neighbors=19, p=1, weights=distance;, score=0.770 total time=   2.1s\n",
      "[CV 2/5] END n_neighbors=19, p=1, weights=distance;, score=0.758 total time=   2.1s\n",
      "[CV 3/5] END n_neighbors=19, p=1, weights=distance;, score=0.761 total time=   2.1s\n",
      "[CV 4/5] END n_neighbors=19, p=1, weights=distance;, score=0.759 total time=   2.0s\n",
      "[CV 5/5] END n_neighbors=19, p=1, weights=distance;, score=0.771 total time=   2.2s\n"
     ]
    },
    {
     "data": {
      "text/html": [
       "<style>#sk-container-id-2 {color: black;}#sk-container-id-2 pre{padding: 0;}#sk-container-id-2 div.sk-toggleable {background-color: white;}#sk-container-id-2 label.sk-toggleable__label {cursor: pointer;display: block;width: 100%;margin-bottom: 0;padding: 0.3em;box-sizing: border-box;text-align: center;}#sk-container-id-2 label.sk-toggleable__label-arrow:before {content: \"▸\";float: left;margin-right: 0.25em;color: #696969;}#sk-container-id-2 label.sk-toggleable__label-arrow:hover:before {color: black;}#sk-container-id-2 div.sk-estimator:hover label.sk-toggleable__label-arrow:before {color: black;}#sk-container-id-2 div.sk-toggleable__content {max-height: 0;max-width: 0;overflow: hidden;text-align: left;background-color: #f0f8ff;}#sk-container-id-2 div.sk-toggleable__content pre {margin: 0.2em;color: black;border-radius: 0.25em;background-color: #f0f8ff;}#sk-container-id-2 input.sk-toggleable__control:checked~div.sk-toggleable__content {max-height: 200px;max-width: 100%;overflow: auto;}#sk-container-id-2 input.sk-toggleable__control:checked~label.sk-toggleable__label-arrow:before {content: \"▾\";}#sk-container-id-2 div.sk-estimator input.sk-toggleable__control:checked~label.sk-toggleable__label {background-color: #d4ebff;}#sk-container-id-2 div.sk-label input.sk-toggleable__control:checked~label.sk-toggleable__label {background-color: #d4ebff;}#sk-container-id-2 input.sk-hidden--visually {border: 0;clip: rect(1px 1px 1px 1px);clip: rect(1px, 1px, 1px, 1px);height: 1px;margin: -1px;overflow: hidden;padding: 0;position: absolute;width: 1px;}#sk-container-id-2 div.sk-estimator {font-family: monospace;background-color: #f0f8ff;border: 1px dotted black;border-radius: 0.25em;box-sizing: border-box;margin-bottom: 0.5em;}#sk-container-id-2 div.sk-estimator:hover {background-color: #d4ebff;}#sk-container-id-2 div.sk-parallel-item::after {content: \"\";width: 100%;border-bottom: 1px solid gray;flex-grow: 1;}#sk-container-id-2 div.sk-label:hover label.sk-toggleable__label {background-color: #d4ebff;}#sk-container-id-2 div.sk-serial::before {content: \"\";position: absolute;border-left: 1px solid gray;box-sizing: border-box;top: 0;bottom: 0;left: 50%;z-index: 0;}#sk-container-id-2 div.sk-serial {display: flex;flex-direction: column;align-items: center;background-color: white;padding-right: 0.2em;padding-left: 0.2em;position: relative;}#sk-container-id-2 div.sk-item {position: relative;z-index: 1;}#sk-container-id-2 div.sk-parallel {display: flex;align-items: stretch;justify-content: center;background-color: white;position: relative;}#sk-container-id-2 div.sk-item::before, #sk-container-id-2 div.sk-parallel-item::before {content: \"\";position: absolute;border-left: 1px solid gray;box-sizing: border-box;top: 0;bottom: 0;left: 50%;z-index: -1;}#sk-container-id-2 div.sk-parallel-item {display: flex;flex-direction: column;z-index: 1;position: relative;background-color: white;}#sk-container-id-2 div.sk-parallel-item:first-child::after {align-self: flex-end;width: 50%;}#sk-container-id-2 div.sk-parallel-item:last-child::after {align-self: flex-start;width: 50%;}#sk-container-id-2 div.sk-parallel-item:only-child::after {width: 0;}#sk-container-id-2 div.sk-dashed-wrapped {border: 1px dashed gray;margin: 0 0.4em 0.5em 0.4em;box-sizing: border-box;padding-bottom: 0.4em;background-color: white;}#sk-container-id-2 div.sk-label label {font-family: monospace;font-weight: bold;display: inline-block;line-height: 1.2em;}#sk-container-id-2 div.sk-label-container {text-align: center;}#sk-container-id-2 div.sk-container {/* jupyter's `normalize.less` sets `[hidden] { display: none; }` but bootstrap.min.css set `[hidden] { display: none !important; }` so we also need the `!important` here to be able to override the default hidden behavior on the sphinx rendered scikit-learn.org. See: https://github.com/scikit-learn/scikit-learn/issues/21755 */display: inline-block !important;position: relative;}#sk-container-id-2 div.sk-text-repr-fallback {display: none;}</style><div id=\"sk-container-id-2\" class=\"sk-top-container\"><div class=\"sk-text-repr-fallback\"><pre>RandomizedSearchCV(cv=5, estimator=KNeighborsClassifier(),\n",
       "                   param_distributions={&#x27;n_neighbors&#x27;: array([ 1,  2,  3,  4,  5,  6,  7,  8,  9, 10, 11, 12, 13, 14, 15, 16, 17,\n",
       "       18, 19, 20]),\n",
       "                                        &#x27;p&#x27;: [1, 2],\n",
       "                                        &#x27;weights&#x27;: [&#x27;uniform&#x27;, &#x27;distance&#x27;]},\n",
       "                   scoring=&#x27;f1&#x27;, verbose=3)</pre><b>In a Jupyter environment, please rerun this cell to show the HTML representation or trust the notebook. <br />On GitHub, the HTML representation is unable to render, please try loading this page with nbviewer.org.</b></div><div class=\"sk-container\" hidden><div class=\"sk-item sk-dashed-wrapped\"><div class=\"sk-label-container\"><div class=\"sk-label sk-toggleable\"><input class=\"sk-toggleable__control sk-hidden--visually\" id=\"sk-estimator-id-4\" type=\"checkbox\" ><label for=\"sk-estimator-id-4\" class=\"sk-toggleable__label sk-toggleable__label-arrow\">RandomizedSearchCV</label><div class=\"sk-toggleable__content\"><pre>RandomizedSearchCV(cv=5, estimator=KNeighborsClassifier(),\n",
       "                   param_distributions={&#x27;n_neighbors&#x27;: array([ 1,  2,  3,  4,  5,  6,  7,  8,  9, 10, 11, 12, 13, 14, 15, 16, 17,\n",
       "       18, 19, 20]),\n",
       "                                        &#x27;p&#x27;: [1, 2],\n",
       "                                        &#x27;weights&#x27;: [&#x27;uniform&#x27;, &#x27;distance&#x27;]},\n",
       "                   scoring=&#x27;f1&#x27;, verbose=3)</pre></div></div></div><div class=\"sk-parallel\"><div class=\"sk-parallel-item\"><div class=\"sk-item\"><div class=\"sk-label-container\"><div class=\"sk-label sk-toggleable\"><input class=\"sk-toggleable__control sk-hidden--visually\" id=\"sk-estimator-id-5\" type=\"checkbox\" ><label for=\"sk-estimator-id-5\" class=\"sk-toggleable__label sk-toggleable__label-arrow\">estimator: KNeighborsClassifier</label><div class=\"sk-toggleable__content\"><pre>KNeighborsClassifier()</pre></div></div></div><div class=\"sk-serial\"><div class=\"sk-item\"><div class=\"sk-estimator sk-toggleable\"><input class=\"sk-toggleable__control sk-hidden--visually\" id=\"sk-estimator-id-6\" type=\"checkbox\" ><label for=\"sk-estimator-id-6\" class=\"sk-toggleable__label sk-toggleable__label-arrow\">KNeighborsClassifier</label><div class=\"sk-toggleable__content\"><pre>KNeighborsClassifier()</pre></div></div></div></div></div></div></div></div></div></div>"
      ],
      "text/plain": [
       "RandomizedSearchCV(cv=5, estimator=KNeighborsClassifier(),\n",
       "                   param_distributions={'n_neighbors': array([ 1,  2,  3,  4,  5,  6,  7,  8,  9, 10, 11, 12, 13, 14, 15, 16, 17,\n",
       "       18, 19, 20]),\n",
       "                                        'p': [1, 2],\n",
       "                                        'weights': ['uniform', 'distance']},\n",
       "                   scoring='f1', verbose=3)"
      ]
     },
     "execution_count": 37,
     "metadata": {},
     "output_type": "execute_result"
    }
   ],
   "source": [
    "random_search_knn.fit(X_train_mm_scaled,y_train)"
   ]
  },
  {
   "cell_type": "code",
   "execution_count": 38,
   "id": "8c81c991",
   "metadata": {},
   "outputs": [
    {
     "name": "stdout",
     "output_type": "stream",
     "text": [
      "Best parameters: {'weights': 'distance', 'p': 1, 'n_neighbors': 13}\n"
     ]
    }
   ],
   "source": [
    "## Getting the best parameters\n",
    "print(\"Best parameters:\", random_search_knn.best_params_)"
   ]
  },
  {
   "cell_type": "code",
   "execution_count": 39,
   "id": "dcf6091b",
   "metadata": {},
   "outputs": [],
   "source": [
    "### Predicting the target value\n",
    "y_pred_knn_rand= random_search_knn.predict(X_test)"
   ]
  },
  {
   "cell_type": "code",
   "execution_count": 40,
   "id": "8026631a",
   "metadata": {},
   "outputs": [
    {
     "name": "stdout",
     "output_type": "stream",
     "text": [
      "              precision    recall  f1-score   support\n",
      "\n",
      "           0       0.51      0.99      0.67      7013\n",
      "           1       0.77      0.04      0.07      7006\n",
      "\n",
      "    accuracy                           0.51     14019\n",
      "   macro avg       0.64      0.51      0.37     14019\n",
      "weighted avg       0.64      0.51      0.37     14019\n",
      "\n",
      "[[6937   76]\n",
      " [6757  249]]\n",
      "Accuracy: 0.5125900563520935\n",
      "F1 Score: 0.06793070522438957\n"
     ]
    }
   ],
   "source": [
    "## Printing classification report, confusion matrix, and accuracy of the best parameter.\n",
    "print(classification_report(y_test,y_pred_knn_rand))\n",
    "print(confusion_matrix(y_test,y_pred_knn_rand))\n",
    "print(\"Accuracy:\",(accuracy_score(y_test,y_pred_knn_rand)))\n",
    "print(\"F1 Score:\", (f1_score(y_test, y_pred_knn_rand)))"
   ]
  },
  {
   "cell_type": "markdown",
   "id": "bd91a2af",
   "metadata": {},
   "source": [
    "### Comparing the results of Random Search and Grid Search for KNN:\n",
    "\n",
    "| Metric                   | Precision (Class 0) | Precision (Class 1) | Recall (Class 0) | Recall (Class 1) | F1-score (Class 0) | F1-score (Class 1) | Accuracy | Overall F1 Score |\n",
    "|--------------------------|---------------------|---------------------|-----------------|-----------------|--------------------|--------------------|----------|-------------------|\n",
    "| Random Search KNN       | 0.51                | 0.77                | 0.99            | 0.04            | 0.67               | 0.07               | 0.51     | 0.0679            |\n",
    "| Grid Search KNN         | 0.79                | 0.76                | 0.75            | 0.80            | 0.77               | 0.78               | 0.77     | 0.7794            |\n",
    "\n",
    "The Grid Search for KNN outperforms the Random Search KNN model in multiple aspects. It achieves a better balance between precision and recall for both classes, resulting in higher F1-scores and improved overall accuracy. In contrast, the Random Search KNN model exhibits imbalanced and overall poor performance, with an extremely low F1 score. The choice between these two models is clear, with the Grid Search KNN model being the better-performing option for the given dataset and classification task."
   ]
  },
  {
   "cell_type": "markdown",
   "id": "ab9d5a13",
   "metadata": {},
   "source": [
    "# Logistic regression with hyperparameter tuning"
   ]
  },
  {
   "cell_type": "markdown",
   "id": "3bf11ea8",
   "metadata": {},
   "source": [
    "#### Logistic regression Hyperparameter grid SearchCV"
   ]
  },
  {
   "cell_type": "code",
   "execution_count": 41,
   "id": "75f145f2",
   "metadata": {},
   "outputs": [],
   "source": [
    "### Parameters for Logistic regression\n",
    "param_lr = {'C': [0.01, 0.1, 1.0, 10.0],\n",
    "                    'penalty': ['l1', 'l2', 'elasticnet', 'none'],\n",
    "                    'solver': ['newton-cg', 'lbfgs', 'liblinear', 'saga']}"
   ]
  },
  {
   "cell_type": "code",
   "execution_count": 42,
   "id": "7c84fc60",
   "metadata": {},
   "outputs": [],
   "source": [
    "reg=LogisticRegression()"
   ]
  },
  {
   "cell_type": "code",
   "execution_count": 43,
   "id": "fc632b8c",
   "metadata": {},
   "outputs": [],
   "source": [
    "grid_search_lr=GridSearchCV(estimator=reg, param_grid=param_lr, scoring='f1', cv=5, verbose = 3)"
   ]
  },
  {
   "cell_type": "code",
   "execution_count": 51,
   "id": "08be398e",
   "metadata": {},
   "outputs": [
    {
     "name": "stdout",
     "output_type": "stream",
     "text": [
      "Fitting 5 folds for each of 64 candidates, totalling 320 fits\n",
      "[CV 1/5] END C=0.01, penalty=l1, solver=newton-cg;, score=nan total time=   0.0s\n",
      "[CV 2/5] END C=0.01, penalty=l1, solver=newton-cg;, score=nan total time=   0.0s\n",
      "[CV 3/5] END C=0.01, penalty=l1, solver=newton-cg;, score=nan total time=   0.0s\n",
      "[CV 4/5] END C=0.01, penalty=l1, solver=newton-cg;, score=nan total time=   0.0s\n",
      "[CV 5/5] END C=0.01, penalty=l1, solver=newton-cg;, score=nan total time=   0.0s\n",
      "[CV 1/5] END ....C=0.01, penalty=l1, solver=lbfgs;, score=nan total time=   0.0s\n",
      "[CV 2/5] END ....C=0.01, penalty=l1, solver=lbfgs;, score=nan total time=   0.0s\n",
      "[CV 3/5] END ....C=0.01, penalty=l1, solver=lbfgs;, score=nan total time=   0.0s\n",
      "[CV 4/5] END ....C=0.01, penalty=l1, solver=lbfgs;, score=nan total time=   0.0s\n",
      "[CV 5/5] END ....C=0.01, penalty=l1, solver=lbfgs;, score=nan total time=   0.0s\n",
      "[CV 1/5] END C=0.01, penalty=l1, solver=liblinear;, score=0.733 total time=   0.0s\n",
      "[CV 2/5] END C=0.01, penalty=l1, solver=liblinear;, score=0.721 total time=   0.0s\n",
      "[CV 3/5] END C=0.01, penalty=l1, solver=liblinear;, score=0.722 total time=   0.0s\n",
      "[CV 4/5] END C=0.01, penalty=l1, solver=liblinear;, score=0.723 total time=   0.0s\n",
      "[CV 5/5] END C=0.01, penalty=l1, solver=liblinear;, score=0.729 total time=   0.0s\n",
      "[CV 1/5] END ...C=0.01, penalty=l1, solver=saga;, score=0.733 total time=   0.6s\n",
      "[CV 2/5] END ...C=0.01, penalty=l1, solver=saga;, score=0.720 total time=   0.5s\n",
      "[CV 3/5] END ...C=0.01, penalty=l1, solver=saga;, score=0.721 total time=   0.5s\n",
      "[CV 4/5] END ...C=0.01, penalty=l1, solver=saga;, score=0.723 total time=   0.4s\n",
      "[CV 5/5] END ...C=0.01, penalty=l1, solver=saga;, score=0.728 total time=   0.5s\n",
      "[CV 1/5] END C=0.01, penalty=l2, solver=newton-cg;, score=0.734 total time=   0.1s\n",
      "[CV 2/5] END C=0.01, penalty=l2, solver=newton-cg;, score=0.723 total time=   0.2s\n",
      "[CV 3/5] END C=0.01, penalty=l2, solver=newton-cg;, score=0.725 total time=   0.1s\n",
      "[CV 4/5] END C=0.01, penalty=l2, solver=newton-cg;, score=0.724 total time=   0.2s\n",
      "[CV 5/5] END C=0.01, penalty=l2, solver=newton-cg;, score=0.732 total time=   0.1s\n",
      "[CV 1/5] END ..C=0.01, penalty=l2, solver=lbfgs;, score=0.734 total time=   0.0s\n",
      "[CV 2/5] END ..C=0.01, penalty=l2, solver=lbfgs;, score=0.723 total time=   0.0s\n",
      "[CV 3/5] END ..C=0.01, penalty=l2, solver=lbfgs;, score=0.725 total time=   0.0s\n",
      "[CV 4/5] END ..C=0.01, penalty=l2, solver=lbfgs;, score=0.724 total time=   0.0s\n",
      "[CV 5/5] END ..C=0.01, penalty=l2, solver=lbfgs;, score=0.732 total time=   0.0s\n",
      "[CV 1/5] END C=0.01, penalty=l2, solver=liblinear;, score=0.734 total time=   0.1s\n",
      "[CV 2/5] END C=0.01, penalty=l2, solver=liblinear;, score=0.723 total time=   0.1s\n",
      "[CV 3/5] END C=0.01, penalty=l2, solver=liblinear;, score=0.725 total time=   0.1s\n",
      "[CV 4/5] END C=0.01, penalty=l2, solver=liblinear;, score=0.724 total time=   0.1s\n",
      "[CV 5/5] END C=0.01, penalty=l2, solver=liblinear;, score=0.732 total time=   0.1s\n",
      "[CV 1/5] END ...C=0.01, penalty=l2, solver=saga;, score=0.734 total time=   1.2s\n",
      "[CV 2/5] END ...C=0.01, penalty=l2, solver=saga;, score=0.723 total time=   1.2s\n",
      "[CV 3/5] END ...C=0.01, penalty=l2, solver=saga;, score=0.725 total time=   1.2s\n",
      "[CV 4/5] END ...C=0.01, penalty=l2, solver=saga;, score=0.724 total time=   1.1s\n",
      "[CV 5/5] END ...C=0.01, penalty=l2, solver=saga;, score=0.732 total time=   1.2s\n",
      "[CV 1/5] END C=0.01, penalty=elasticnet, solver=newton-cg;, score=nan total time=   0.0s\n",
      "[CV 2/5] END C=0.01, penalty=elasticnet, solver=newton-cg;, score=nan total time=   0.0s\n",
      "[CV 3/5] END C=0.01, penalty=elasticnet, solver=newton-cg;, score=nan total time=   0.0s\n",
      "[CV 4/5] END C=0.01, penalty=elasticnet, solver=newton-cg;, score=nan total time=   0.0s\n",
      "[CV 5/5] END C=0.01, penalty=elasticnet, solver=newton-cg;, score=nan total time=   0.0s\n",
      "[CV 1/5] END C=0.01, penalty=elasticnet, solver=lbfgs;, score=nan total time=   0.0s\n",
      "[CV 2/5] END C=0.01, penalty=elasticnet, solver=lbfgs;, score=nan total time=   0.0s\n",
      "[CV 3/5] END C=0.01, penalty=elasticnet, solver=lbfgs;, score=nan total time=   0.0s\n",
      "[CV 4/5] END C=0.01, penalty=elasticnet, solver=lbfgs;, score=nan total time=   0.0s\n",
      "[CV 5/5] END C=0.01, penalty=elasticnet, solver=lbfgs;, score=nan total time=   0.0s\n",
      "[CV 1/5] END C=0.01, penalty=elasticnet, solver=liblinear;, score=nan total time=   0.0s\n",
      "[CV 2/5] END C=0.01, penalty=elasticnet, solver=liblinear;, score=nan total time=   0.0s\n",
      "[CV 3/5] END C=0.01, penalty=elasticnet, solver=liblinear;, score=nan total time=   0.0s\n",
      "[CV 4/5] END C=0.01, penalty=elasticnet, solver=liblinear;, score=nan total time=   0.0s\n",
      "[CV 5/5] END C=0.01, penalty=elasticnet, solver=liblinear;, score=nan total time=   0.0s\n",
      "[CV 1/5] END C=0.01, penalty=elasticnet, solver=saga;, score=nan total time=   0.0s\n",
      "[CV 2/5] END C=0.01, penalty=elasticnet, solver=saga;, score=nan total time=   0.0s\n",
      "[CV 3/5] END C=0.01, penalty=elasticnet, solver=saga;, score=nan total time=   0.0s\n",
      "[CV 4/5] END C=0.01, penalty=elasticnet, solver=saga;, score=nan total time=   0.0s\n",
      "[CV 5/5] END C=0.01, penalty=elasticnet, solver=saga;, score=nan total time=   0.0s\n",
      "[CV 1/5] END C=0.01, penalty=none, solver=newton-cg;, score=0.734 total time=   0.2s\n",
      "[CV 2/5] END C=0.01, penalty=none, solver=newton-cg;, score=0.723 total time=   0.2s\n",
      "[CV 3/5] END C=0.01, penalty=none, solver=newton-cg;, score=0.725 total time=   0.2s\n",
      "[CV 4/5] END C=0.01, penalty=none, solver=newton-cg;, score=0.725 total time=   0.2s\n",
      "[CV 5/5] END C=0.01, penalty=none, solver=newton-cg;, score=0.733 total time=   0.2s\n",
      "[CV 1/5] END C=0.01, penalty=none, solver=lbfgs;, score=0.734 total time=   0.0s\n",
      "[CV 2/5] END C=0.01, penalty=none, solver=lbfgs;, score=0.723 total time=   0.0s\n",
      "[CV 3/5] END C=0.01, penalty=none, solver=lbfgs;, score=0.725 total time=   0.0s\n",
      "[CV 4/5] END C=0.01, penalty=none, solver=lbfgs;, score=0.725 total time=   0.0s\n",
      "[CV 5/5] END C=0.01, penalty=none, solver=lbfgs;, score=0.733 total time=   0.0s\n",
      "[CV 1/5] END C=0.01, penalty=none, solver=liblinear;, score=nan total time=   0.0s\n",
      "[CV 2/5] END C=0.01, penalty=none, solver=liblinear;, score=nan total time=   0.0s\n",
      "[CV 3/5] END C=0.01, penalty=none, solver=liblinear;, score=nan total time=   0.0s\n",
      "[CV 4/5] END C=0.01, penalty=none, solver=liblinear;, score=nan total time=   0.0s\n",
      "[CV 5/5] END C=0.01, penalty=none, solver=liblinear;, score=nan total time=   0.0s\n",
      "[CV 1/5] END .C=0.01, penalty=none, solver=saga;, score=0.734 total time=   1.2s\n",
      "[CV 2/5] END .C=0.01, penalty=none, solver=saga;, score=0.723 total time=   1.2s\n",
      "[CV 3/5] END .C=0.01, penalty=none, solver=saga;, score=0.725 total time=   1.1s\n",
      "[CV 4/5] END .C=0.01, penalty=none, solver=saga;, score=0.724 total time=   1.1s\n",
      "[CV 5/5] END .C=0.01, penalty=none, solver=saga;, score=0.733 total time=   1.2s\n",
      "[CV 1/5] END .C=0.1, penalty=l1, solver=newton-cg;, score=nan total time=   0.0s\n",
      "[CV 2/5] END .C=0.1, penalty=l1, solver=newton-cg;, score=nan total time=   0.0s\n",
      "[CV 3/5] END .C=0.1, penalty=l1, solver=newton-cg;, score=nan total time=   0.0s\n",
      "[CV 4/5] END .C=0.1, penalty=l1, solver=newton-cg;, score=nan total time=   0.0s\n",
      "[CV 5/5] END .C=0.1, penalty=l1, solver=newton-cg;, score=nan total time=   0.0s\n",
      "[CV 1/5] END .....C=0.1, penalty=l1, solver=lbfgs;, score=nan total time=   0.0s\n",
      "[CV 2/5] END .....C=0.1, penalty=l1, solver=lbfgs;, score=nan total time=   0.0s\n",
      "[CV 3/5] END .....C=0.1, penalty=l1, solver=lbfgs;, score=nan total time=   0.0s\n",
      "[CV 4/5] END .....C=0.1, penalty=l1, solver=lbfgs;, score=nan total time=   0.0s\n",
      "[CV 5/5] END .....C=0.1, penalty=l1, solver=lbfgs;, score=nan total time=   0.0s\n",
      "[CV 1/5] END C=0.1, penalty=l1, solver=liblinear;, score=0.735 total time=   0.4s\n",
      "[CV 2/5] END C=0.1, penalty=l1, solver=liblinear;, score=0.723 total time=   0.5s\n",
      "[CV 3/5] END C=0.1, penalty=l1, solver=liblinear;, score=0.725 total time=   0.5s\n",
      "[CV 4/5] END C=0.1, penalty=l1, solver=liblinear;, score=0.725 total time=   0.5s\n",
      "[CV 5/5] END C=0.1, penalty=l1, solver=liblinear;, score=0.732 total time=   0.5s\n",
      "[CV 1/5] END ....C=0.1, penalty=l1, solver=saga;, score=0.735 total time=   1.5s\n",
      "[CV 2/5] END ....C=0.1, penalty=l1, solver=saga;, score=0.723 total time=   1.5s\n",
      "[CV 3/5] END ....C=0.1, penalty=l1, solver=saga;, score=0.724 total time=   1.5s\n",
      "[CV 4/5] END ....C=0.1, penalty=l1, solver=saga;, score=0.724 total time=   1.5s\n",
      "[CV 5/5] END ....C=0.1, penalty=l1, solver=saga;, score=0.731 total time=   1.5s\n",
      "[CV 1/5] END C=0.1, penalty=l2, solver=newton-cg;, score=0.735 total time=   0.2s\n",
      "[CV 2/5] END C=0.1, penalty=l2, solver=newton-cg;, score=0.723 total time=   0.2s\n",
      "[CV 3/5] END C=0.1, penalty=l2, solver=newton-cg;, score=0.725 total time=   0.2s\n",
      "[CV 4/5] END C=0.1, penalty=l2, solver=newton-cg;, score=0.724 total time=   0.2s\n",
      "[CV 5/5] END C=0.1, penalty=l2, solver=newton-cg;, score=0.733 total time=   0.2s\n",
      "[CV 1/5] END ...C=0.1, penalty=l2, solver=lbfgs;, score=0.735 total time=   0.0s\n",
      "[CV 2/5] END ...C=0.1, penalty=l2, solver=lbfgs;, score=0.723 total time=   0.0s\n",
      "[CV 3/5] END ...C=0.1, penalty=l2, solver=lbfgs;, score=0.725 total time=   0.0s\n",
      "[CV 4/5] END ...C=0.1, penalty=l2, solver=lbfgs;, score=0.724 total time=   0.0s\n",
      "[CV 5/5] END ...C=0.1, penalty=l2, solver=lbfgs;, score=0.733 total time=   0.0s\n",
      "[CV 1/5] END C=0.1, penalty=l2, solver=liblinear;, score=0.735 total time=   0.2s\n",
      "[CV 2/5] END C=0.1, penalty=l2, solver=liblinear;, score=0.723 total time=   0.2s\n",
      "[CV 3/5] END C=0.1, penalty=l2, solver=liblinear;, score=0.725 total time=   0.1s\n",
      "[CV 4/5] END C=0.1, penalty=l2, solver=liblinear;, score=0.724 total time=   0.1s\n",
      "[CV 5/5] END C=0.1, penalty=l2, solver=liblinear;, score=0.733 total time=   0.1s\n",
      "[CV 1/5] END ....C=0.1, penalty=l2, solver=saga;, score=0.734 total time=   1.2s\n",
      "[CV 2/5] END ....C=0.1, penalty=l2, solver=saga;, score=0.723 total time=   1.2s\n",
      "[CV 3/5] END ....C=0.1, penalty=l2, solver=saga;, score=0.725 total time=   1.2s\n",
      "[CV 4/5] END ....C=0.1, penalty=l2, solver=saga;, score=0.725 total time=   1.2s\n",
      "[CV 5/5] END ....C=0.1, penalty=l2, solver=saga;, score=0.733 total time=   1.2s\n",
      "[CV 1/5] END C=0.1, penalty=elasticnet, solver=newton-cg;, score=nan total time=   0.0s\n",
      "[CV 2/5] END C=0.1, penalty=elasticnet, solver=newton-cg;, score=nan total time=   0.0s\n",
      "[CV 3/5] END C=0.1, penalty=elasticnet, solver=newton-cg;, score=nan total time=   0.0s\n",
      "[CV 4/5] END C=0.1, penalty=elasticnet, solver=newton-cg;, score=nan total time=   0.0s\n",
      "[CV 5/5] END C=0.1, penalty=elasticnet, solver=newton-cg;, score=nan total time=   0.0s\n",
      "[CV 1/5] END C=0.1, penalty=elasticnet, solver=lbfgs;, score=nan total time=   0.0s\n",
      "[CV 2/5] END C=0.1, penalty=elasticnet, solver=lbfgs;, score=nan total time=   0.0s\n",
      "[CV 3/5] END C=0.1, penalty=elasticnet, solver=lbfgs;, score=nan total time=   0.0s\n",
      "[CV 4/5] END C=0.1, penalty=elasticnet, solver=lbfgs;, score=nan total time=   0.0s\n",
      "[CV 5/5] END C=0.1, penalty=elasticnet, solver=lbfgs;, score=nan total time=   0.0s\n",
      "[CV 1/5] END C=0.1, penalty=elasticnet, solver=liblinear;, score=nan total time=   0.0s\n",
      "[CV 2/5] END C=0.1, penalty=elasticnet, solver=liblinear;, score=nan total time=   0.0s\n",
      "[CV 3/5] END C=0.1, penalty=elasticnet, solver=liblinear;, score=nan total time=   0.0s\n",
      "[CV 4/5] END C=0.1, penalty=elasticnet, solver=liblinear;, score=nan total time=   0.0s\n",
      "[CV 5/5] END C=0.1, penalty=elasticnet, solver=liblinear;, score=nan total time=   0.0s\n",
      "[CV 1/5] END C=0.1, penalty=elasticnet, solver=saga;, score=nan total time=   0.0s\n",
      "[CV 2/5] END C=0.1, penalty=elasticnet, solver=saga;, score=nan total time=   0.0s\n",
      "[CV 3/5] END C=0.1, penalty=elasticnet, solver=saga;, score=nan total time=   0.0s\n",
      "[CV 4/5] END C=0.1, penalty=elasticnet, solver=saga;, score=nan total time=   0.0s\n",
      "[CV 5/5] END C=0.1, penalty=elasticnet, solver=saga;, score=nan total time=   0.0s\n",
      "[CV 1/5] END C=0.1, penalty=none, solver=newton-cg;, score=0.734 total time=   0.2s\n",
      "[CV 2/5] END C=0.1, penalty=none, solver=newton-cg;, score=0.723 total time=   0.2s\n",
      "[CV 3/5] END C=0.1, penalty=none, solver=newton-cg;, score=0.725 total time=   0.2s\n",
      "[CV 4/5] END C=0.1, penalty=none, solver=newton-cg;, score=0.725 total time=   0.2s\n",
      "[CV 5/5] END C=0.1, penalty=none, solver=newton-cg;, score=0.733 total time=   0.2s\n",
      "[CV 1/5] END .C=0.1, penalty=none, solver=lbfgs;, score=0.734 total time=   0.0s\n",
      "[CV 2/5] END .C=0.1, penalty=none, solver=lbfgs;, score=0.723 total time=   0.0s\n",
      "[CV 3/5] END .C=0.1, penalty=none, solver=lbfgs;, score=0.725 total time=   0.0s\n",
      "[CV 4/5] END .C=0.1, penalty=none, solver=lbfgs;, score=0.725 total time=   0.0s\n",
      "[CV 5/5] END .C=0.1, penalty=none, solver=lbfgs;, score=0.733 total time=   0.0s\n",
      "[CV 1/5] END C=0.1, penalty=none, solver=liblinear;, score=nan total time=   0.0s\n",
      "[CV 2/5] END C=0.1, penalty=none, solver=liblinear;, score=nan total time=   0.0s\n",
      "[CV 3/5] END C=0.1, penalty=none, solver=liblinear;, score=nan total time=   0.0s\n",
      "[CV 4/5] END C=0.1, penalty=none, solver=liblinear;, score=nan total time=   0.0s\n",
      "[CV 5/5] END C=0.1, penalty=none, solver=liblinear;, score=nan total time=   0.0s\n",
      "[CV 1/5] END ..C=0.1, penalty=none, solver=saga;, score=0.734 total time=   1.1s\n",
      "[CV 2/5] END ..C=0.1, penalty=none, solver=saga;, score=0.723 total time=   1.1s\n",
      "[CV 3/5] END ..C=0.1, penalty=none, solver=saga;, score=0.725 total time=   1.2s\n",
      "[CV 4/5] END ..C=0.1, penalty=none, solver=saga;, score=0.724 total time=   1.3s\n",
      "[CV 5/5] END ..C=0.1, penalty=none, solver=saga;, score=0.733 total time=   1.2s\n",
      "[CV 1/5] END .C=1.0, penalty=l1, solver=newton-cg;, score=nan total time=   0.0s\n",
      "[CV 2/5] END .C=1.0, penalty=l1, solver=newton-cg;, score=nan total time=   0.0s\n",
      "[CV 3/5] END .C=1.0, penalty=l1, solver=newton-cg;, score=nan total time=   0.0s\n",
      "[CV 4/5] END .C=1.0, penalty=l1, solver=newton-cg;, score=nan total time=   0.0s\n",
      "[CV 5/5] END .C=1.0, penalty=l1, solver=newton-cg;, score=nan total time=   0.0s\n",
      "[CV 1/5] END .....C=1.0, penalty=l1, solver=lbfgs;, score=nan total time=   0.0s\n",
      "[CV 2/5] END .....C=1.0, penalty=l1, solver=lbfgs;, score=nan total time=   0.0s\n",
      "[CV 3/5] END .....C=1.0, penalty=l1, solver=lbfgs;, score=nan total time=   0.0s\n",
      "[CV 4/5] END .....C=1.0, penalty=l1, solver=lbfgs;, score=nan total time=   0.0s\n",
      "[CV 5/5] END .....C=1.0, penalty=l1, solver=lbfgs;, score=nan total time=   0.0s\n",
      "[CV 1/5] END C=1.0, penalty=l1, solver=liblinear;, score=0.734 total time=   0.5s\n",
      "[CV 2/5] END C=1.0, penalty=l1, solver=liblinear;, score=0.724 total time=   0.6s\n",
      "[CV 3/5] END C=1.0, penalty=l1, solver=liblinear;, score=0.725 total time=   0.6s\n",
      "[CV 4/5] END C=1.0, penalty=l1, solver=liblinear;, score=0.724 total time=   0.6s\n",
      "[CV 5/5] END C=1.0, penalty=l1, solver=liblinear;, score=0.732 total time=   0.7s\n",
      "[CV 1/5] END ....C=1.0, penalty=l1, solver=saga;, score=0.734 total time=   1.8s\n",
      "[CV 2/5] END ....C=1.0, penalty=l1, solver=saga;, score=0.723 total time=   1.7s\n",
      "[CV 3/5] END ....C=1.0, penalty=l1, solver=saga;, score=0.725 total time=   1.8s\n",
      "[CV 4/5] END ....C=1.0, penalty=l1, solver=saga;, score=0.725 total time=   1.7s\n",
      "[CV 5/5] END ....C=1.0, penalty=l1, solver=saga;, score=0.733 total time=   1.6s\n",
      "[CV 1/5] END C=1.0, penalty=l2, solver=newton-cg;, score=0.734 total time=   0.2s\n",
      "[CV 2/5] END C=1.0, penalty=l2, solver=newton-cg;, score=0.723 total time=   0.2s\n",
      "[CV 3/5] END C=1.0, penalty=l2, solver=newton-cg;, score=0.725 total time=   0.2s\n",
      "[CV 4/5] END C=1.0, penalty=l2, solver=newton-cg;, score=0.725 total time=   0.2s\n",
      "[CV 5/5] END C=1.0, penalty=l2, solver=newton-cg;, score=0.733 total time=   0.2s\n",
      "[CV 1/5] END ...C=1.0, penalty=l2, solver=lbfgs;, score=0.734 total time=   0.0s\n",
      "[CV 2/5] END ...C=1.0, penalty=l2, solver=lbfgs;, score=0.723 total time=   0.0s\n",
      "[CV 3/5] END ...C=1.0, penalty=l2, solver=lbfgs;, score=0.725 total time=   0.0s\n",
      "[CV 4/5] END ...C=1.0, penalty=l2, solver=lbfgs;, score=0.724 total time=   0.0s\n",
      "[CV 5/5] END ...C=1.0, penalty=l2, solver=lbfgs;, score=0.733 total time=   0.0s\n",
      "[CV 1/5] END C=1.0, penalty=l2, solver=liblinear;, score=0.734 total time=   0.2s\n",
      "[CV 2/5] END C=1.0, penalty=l2, solver=liblinear;, score=0.723 total time=   0.2s\n",
      "[CV 3/5] END C=1.0, penalty=l2, solver=liblinear;, score=0.725 total time=   0.2s\n",
      "[CV 4/5] END C=1.0, penalty=l2, solver=liblinear;, score=0.725 total time=   0.2s\n",
      "[CV 5/5] END C=1.0, penalty=l2, solver=liblinear;, score=0.733 total time=   0.2s\n",
      "[CV 1/5] END ....C=1.0, penalty=l2, solver=saga;, score=0.734 total time=   1.3s\n",
      "[CV 2/5] END ....C=1.0, penalty=l2, solver=saga;, score=0.723 total time=   1.2s\n",
      "[CV 3/5] END ....C=1.0, penalty=l2, solver=saga;, score=0.725 total time=   1.3s\n",
      "[CV 4/5] END ....C=1.0, penalty=l2, solver=saga;, score=0.724 total time=   1.4s\n",
      "[CV 5/5] END ....C=1.0, penalty=l2, solver=saga;, score=0.733 total time=   1.4s\n",
      "[CV 1/5] END C=1.0, penalty=elasticnet, solver=newton-cg;, score=nan total time=   0.0s\n",
      "[CV 2/5] END C=1.0, penalty=elasticnet, solver=newton-cg;, score=nan total time=   0.0s\n",
      "[CV 3/5] END C=1.0, penalty=elasticnet, solver=newton-cg;, score=nan total time=   0.0s\n",
      "[CV 4/5] END C=1.0, penalty=elasticnet, solver=newton-cg;, score=nan total time=   0.0s\n",
      "[CV 5/5] END C=1.0, penalty=elasticnet, solver=newton-cg;, score=nan total time=   0.0s\n",
      "[CV 1/5] END C=1.0, penalty=elasticnet, solver=lbfgs;, score=nan total time=   0.0s\n",
      "[CV 2/5] END C=1.0, penalty=elasticnet, solver=lbfgs;, score=nan total time=   0.0s\n",
      "[CV 3/5] END C=1.0, penalty=elasticnet, solver=lbfgs;, score=nan total time=   0.0s\n",
      "[CV 4/5] END C=1.0, penalty=elasticnet, solver=lbfgs;, score=nan total time=   0.0s\n",
      "[CV 5/5] END C=1.0, penalty=elasticnet, solver=lbfgs;, score=nan total time=   0.0s\n",
      "[CV 1/5] END C=1.0, penalty=elasticnet, solver=liblinear;, score=nan total time=   0.0s\n",
      "[CV 2/5] END C=1.0, penalty=elasticnet, solver=liblinear;, score=nan total time=   0.0s\n",
      "[CV 3/5] END C=1.0, penalty=elasticnet, solver=liblinear;, score=nan total time=   0.0s\n",
      "[CV 4/5] END C=1.0, penalty=elasticnet, solver=liblinear;, score=nan total time=   0.0s\n",
      "[CV 5/5] END C=1.0, penalty=elasticnet, solver=liblinear;, score=nan total time=   0.0s\n",
      "[CV 1/5] END C=1.0, penalty=elasticnet, solver=saga;, score=nan total time=   0.0s\n",
      "[CV 2/5] END C=1.0, penalty=elasticnet, solver=saga;, score=nan total time=   0.0s\n",
      "[CV 3/5] END C=1.0, penalty=elasticnet, solver=saga;, score=nan total time=   0.0s\n",
      "[CV 4/5] END C=1.0, penalty=elasticnet, solver=saga;, score=nan total time=   0.0s\n",
      "[CV 5/5] END C=1.0, penalty=elasticnet, solver=saga;, score=nan total time=   0.0s\n",
      "[CV 1/5] END C=1.0, penalty=none, solver=newton-cg;, score=0.734 total time=   0.2s\n",
      "[CV 2/5] END C=1.0, penalty=none, solver=newton-cg;, score=0.723 total time=   0.2s\n",
      "[CV 3/5] END C=1.0, penalty=none, solver=newton-cg;, score=0.725 total time=   0.2s\n",
      "[CV 4/5] END C=1.0, penalty=none, solver=newton-cg;, score=0.725 total time=   0.2s\n",
      "[CV 5/5] END C=1.0, penalty=none, solver=newton-cg;, score=0.733 total time=   0.2s\n",
      "[CV 1/5] END .C=1.0, penalty=none, solver=lbfgs;, score=0.734 total time=   0.0s\n",
      "[CV 2/5] END .C=1.0, penalty=none, solver=lbfgs;, score=0.723 total time=   0.0s\n",
      "[CV 3/5] END .C=1.0, penalty=none, solver=lbfgs;, score=0.725 total time=   0.0s\n",
      "[CV 4/5] END .C=1.0, penalty=none, solver=lbfgs;, score=0.725 total time=   0.0s\n",
      "[CV 5/5] END .C=1.0, penalty=none, solver=lbfgs;, score=0.733 total time=   0.0s\n",
      "[CV 1/5] END C=1.0, penalty=none, solver=liblinear;, score=nan total time=   0.0s\n",
      "[CV 2/5] END C=1.0, penalty=none, solver=liblinear;, score=nan total time=   0.0s\n",
      "[CV 3/5] END C=1.0, penalty=none, solver=liblinear;, score=nan total time=   0.0s\n",
      "[CV 4/5] END C=1.0, penalty=none, solver=liblinear;, score=nan total time=   0.0s\n",
      "[CV 5/5] END C=1.0, penalty=none, solver=liblinear;, score=nan total time=   0.0s\n",
      "[CV 1/5] END ..C=1.0, penalty=none, solver=saga;, score=0.734 total time=   1.5s\n",
      "[CV 2/5] END ..C=1.0, penalty=none, solver=saga;, score=0.723 total time=   1.3s\n",
      "[CV 3/5] END ..C=1.0, penalty=none, solver=saga;, score=0.725 total time=   1.3s\n",
      "[CV 4/5] END ..C=1.0, penalty=none, solver=saga;, score=0.724 total time=   1.3s\n",
      "[CV 5/5] END ..C=1.0, penalty=none, solver=saga;, score=0.733 total time=   1.3s\n",
      "[CV 1/5] END C=10.0, penalty=l1, solver=newton-cg;, score=nan total time=   0.0s\n",
      "[CV 2/5] END C=10.0, penalty=l1, solver=newton-cg;, score=nan total time=   0.0s\n",
      "[CV 3/5] END C=10.0, penalty=l1, solver=newton-cg;, score=nan total time=   0.0s\n",
      "[CV 4/5] END C=10.0, penalty=l1, solver=newton-cg;, score=nan total time=   0.0s\n",
      "[CV 5/5] END C=10.0, penalty=l1, solver=newton-cg;, score=nan total time=   0.0s\n",
      "[CV 1/5] END ....C=10.0, penalty=l1, solver=lbfgs;, score=nan total time=   0.0s\n",
      "[CV 2/5] END ....C=10.0, penalty=l1, solver=lbfgs;, score=nan total time=   0.0s\n",
      "[CV 3/5] END ....C=10.0, penalty=l1, solver=lbfgs;, score=nan total time=   0.0s\n",
      "[CV 4/5] END ....C=10.0, penalty=l1, solver=lbfgs;, score=nan total time=   0.0s\n",
      "[CV 5/5] END ....C=10.0, penalty=l1, solver=lbfgs;, score=nan total time=   0.0s\n",
      "[CV 1/5] END C=10.0, penalty=l1, solver=liblinear;, score=0.734 total time=   0.7s\n",
      "[CV 2/5] END C=10.0, penalty=l1, solver=liblinear;, score=0.723 total time=   0.6s\n",
      "[CV 3/5] END C=10.0, penalty=l1, solver=liblinear;, score=0.725 total time=   0.7s\n",
      "[CV 4/5] END C=10.0, penalty=l1, solver=liblinear;, score=0.724 total time=   0.6s\n",
      "[CV 5/5] END C=10.0, penalty=l1, solver=liblinear;, score=0.733 total time=   0.8s\n",
      "[CV 1/5] END ...C=10.0, penalty=l1, solver=saga;, score=0.734 total time=   2.0s\n",
      "[CV 2/5] END ...C=10.0, penalty=l1, solver=saga;, score=0.723 total time=   1.8s\n",
      "[CV 3/5] END ...C=10.0, penalty=l1, solver=saga;, score=0.725 total time=   1.8s\n",
      "[CV 4/5] END ...C=10.0, penalty=l1, solver=saga;, score=0.724 total time=   1.7s\n",
      "[CV 5/5] END ...C=10.0, penalty=l1, solver=saga;, score=0.733 total time=   1.8s\n",
      "[CV 1/5] END C=10.0, penalty=l2, solver=newton-cg;, score=0.734 total time=   0.2s\n",
      "[CV 2/5] END C=10.0, penalty=l2, solver=newton-cg;, score=0.723 total time=   0.2s\n",
      "[CV 3/5] END C=10.0, penalty=l2, solver=newton-cg;, score=0.725 total time=   0.2s\n",
      "[CV 4/5] END C=10.0, penalty=l2, solver=newton-cg;, score=0.725 total time=   0.2s\n",
      "[CV 5/5] END C=10.0, penalty=l2, solver=newton-cg;, score=0.733 total time=   0.2s\n",
      "[CV 1/5] END ..C=10.0, penalty=l2, solver=lbfgs;, score=0.734 total time=   0.0s\n",
      "[CV 2/5] END ..C=10.0, penalty=l2, solver=lbfgs;, score=0.723 total time=   0.0s\n",
      "[CV 3/5] END ..C=10.0, penalty=l2, solver=lbfgs;, score=0.725 total time=   0.0s\n",
      "[CV 4/5] END ..C=10.0, penalty=l2, solver=lbfgs;, score=0.725 total time=   0.0s\n",
      "[CV 5/5] END ..C=10.0, penalty=l2, solver=lbfgs;, score=0.733 total time=   0.0s\n",
      "[CV 1/5] END C=10.0, penalty=l2, solver=liblinear;, score=0.734 total time=   0.2s\n",
      "[CV 2/5] END C=10.0, penalty=l2, solver=liblinear;, score=0.723 total time=   0.3s\n",
      "[CV 3/5] END C=10.0, penalty=l2, solver=liblinear;, score=0.725 total time=   0.2s\n",
      "[CV 4/5] END C=10.0, penalty=l2, solver=liblinear;, score=0.725 total time=   0.2s\n",
      "[CV 5/5] END C=10.0, penalty=l2, solver=liblinear;, score=0.733 total time=   0.3s\n",
      "[CV 1/5] END ...C=10.0, penalty=l2, solver=saga;, score=0.734 total time=   1.3s\n",
      "[CV 2/5] END ...C=10.0, penalty=l2, solver=saga;, score=0.723 total time=   1.3s\n",
      "[CV 3/5] END ...C=10.0, penalty=l2, solver=saga;, score=0.725 total time=   1.3s\n",
      "[CV 4/5] END ...C=10.0, penalty=l2, solver=saga;, score=0.724 total time=   1.2s\n",
      "[CV 5/5] END ...C=10.0, penalty=l2, solver=saga;, score=0.733 total time=   1.3s\n",
      "[CV 1/5] END C=10.0, penalty=elasticnet, solver=newton-cg;, score=nan total time=   0.0s\n",
      "[CV 2/5] END C=10.0, penalty=elasticnet, solver=newton-cg;, score=nan total time=   0.0s\n",
      "[CV 3/5] END C=10.0, penalty=elasticnet, solver=newton-cg;, score=nan total time=   0.0s\n",
      "[CV 4/5] END C=10.0, penalty=elasticnet, solver=newton-cg;, score=nan total time=   0.0s\n",
      "[CV 5/5] END C=10.0, penalty=elasticnet, solver=newton-cg;, score=nan total time=   0.0s\n",
      "[CV 1/5] END C=10.0, penalty=elasticnet, solver=lbfgs;, score=nan total time=   0.0s\n",
      "[CV 2/5] END C=10.0, penalty=elasticnet, solver=lbfgs;, score=nan total time=   0.0s\n",
      "[CV 3/5] END C=10.0, penalty=elasticnet, solver=lbfgs;, score=nan total time=   0.0s\n",
      "[CV 4/5] END C=10.0, penalty=elasticnet, solver=lbfgs;, score=nan total time=   0.0s\n",
      "[CV 5/5] END C=10.0, penalty=elasticnet, solver=lbfgs;, score=nan total time=   0.0s\n",
      "[CV 1/5] END C=10.0, penalty=elasticnet, solver=liblinear;, score=nan total time=   0.0s\n",
      "[CV 2/5] END C=10.0, penalty=elasticnet, solver=liblinear;, score=nan total time=   0.0s\n",
      "[CV 3/5] END C=10.0, penalty=elasticnet, solver=liblinear;, score=nan total time=   0.0s\n",
      "[CV 4/5] END C=10.0, penalty=elasticnet, solver=liblinear;, score=nan total time=   0.0s\n",
      "[CV 5/5] END C=10.0, penalty=elasticnet, solver=liblinear;, score=nan total time=   0.0s\n",
      "[CV 1/5] END C=10.0, penalty=elasticnet, solver=saga;, score=nan total time=   0.0s\n",
      "[CV 2/5] END C=10.0, penalty=elasticnet, solver=saga;, score=nan total time=   0.0s\n",
      "[CV 3/5] END C=10.0, penalty=elasticnet, solver=saga;, score=nan total time=   0.0s\n",
      "[CV 4/5] END C=10.0, penalty=elasticnet, solver=saga;, score=nan total time=   0.0s\n",
      "[CV 5/5] END C=10.0, penalty=elasticnet, solver=saga;, score=nan total time=   0.0s\n",
      "[CV 1/5] END C=10.0, penalty=none, solver=newton-cg;, score=0.734 total time=   0.2s\n",
      "[CV 2/5] END C=10.0, penalty=none, solver=newton-cg;, score=0.723 total time=   0.2s\n",
      "[CV 3/5] END C=10.0, penalty=none, solver=newton-cg;, score=0.725 total time=   0.2s\n",
      "[CV 4/5] END C=10.0, penalty=none, solver=newton-cg;, score=0.725 total time=   0.2s\n",
      "[CV 5/5] END C=10.0, penalty=none, solver=newton-cg;, score=0.733 total time=   0.2s\n",
      "[CV 1/5] END C=10.0, penalty=none, solver=lbfgs;, score=0.734 total time=   0.0s\n",
      "[CV 2/5] END C=10.0, penalty=none, solver=lbfgs;, score=0.723 total time=   0.1s\n",
      "[CV 3/5] END C=10.0, penalty=none, solver=lbfgs;, score=0.725 total time=   0.0s\n",
      "[CV 4/5] END C=10.0, penalty=none, solver=lbfgs;, score=0.725 total time=   0.0s\n",
      "[CV 5/5] END C=10.0, penalty=none, solver=lbfgs;, score=0.733 total time=   0.0s\n",
      "[CV 1/5] END C=10.0, penalty=none, solver=liblinear;, score=nan total time=   0.0s\n",
      "[CV 2/5] END C=10.0, penalty=none, solver=liblinear;, score=nan total time=   0.0s\n",
      "[CV 3/5] END C=10.0, penalty=none, solver=liblinear;, score=nan total time=   0.0s\n",
      "[CV 4/5] END C=10.0, penalty=none, solver=liblinear;, score=nan total time=   0.0s\n",
      "[CV 5/5] END C=10.0, penalty=none, solver=liblinear;, score=nan total time=   0.0s\n",
      "[CV 1/5] END .C=10.0, penalty=none, solver=saga;, score=0.734 total time=   1.3s\n",
      "[CV 2/5] END .C=10.0, penalty=none, solver=saga;, score=0.723 total time=   1.5s\n",
      "[CV 3/5] END .C=10.0, penalty=none, solver=saga;, score=0.725 total time=   1.2s\n",
      "[CV 4/5] END .C=10.0, penalty=none, solver=saga;, score=0.724 total time=   1.2s\n",
      "[CV 5/5] END .C=10.0, penalty=none, solver=saga;, score=0.733 total time=   1.2s\n"
     ]
    },
    {
     "data": {
      "text/html": [
       "<style>#sk-container-id-5 {color: black;}#sk-container-id-5 pre{padding: 0;}#sk-container-id-5 div.sk-toggleable {background-color: white;}#sk-container-id-5 label.sk-toggleable__label {cursor: pointer;display: block;width: 100%;margin-bottom: 0;padding: 0.3em;box-sizing: border-box;text-align: center;}#sk-container-id-5 label.sk-toggleable__label-arrow:before {content: \"▸\";float: left;margin-right: 0.25em;color: #696969;}#sk-container-id-5 label.sk-toggleable__label-arrow:hover:before {color: black;}#sk-container-id-5 div.sk-estimator:hover label.sk-toggleable__label-arrow:before {color: black;}#sk-container-id-5 div.sk-toggleable__content {max-height: 0;max-width: 0;overflow: hidden;text-align: left;background-color: #f0f8ff;}#sk-container-id-5 div.sk-toggleable__content pre {margin: 0.2em;color: black;border-radius: 0.25em;background-color: #f0f8ff;}#sk-container-id-5 input.sk-toggleable__control:checked~div.sk-toggleable__content {max-height: 200px;max-width: 100%;overflow: auto;}#sk-container-id-5 input.sk-toggleable__control:checked~label.sk-toggleable__label-arrow:before {content: \"▾\";}#sk-container-id-5 div.sk-estimator input.sk-toggleable__control:checked~label.sk-toggleable__label {background-color: #d4ebff;}#sk-container-id-5 div.sk-label input.sk-toggleable__control:checked~label.sk-toggleable__label {background-color: #d4ebff;}#sk-container-id-5 input.sk-hidden--visually {border: 0;clip: rect(1px 1px 1px 1px);clip: rect(1px, 1px, 1px, 1px);height: 1px;margin: -1px;overflow: hidden;padding: 0;position: absolute;width: 1px;}#sk-container-id-5 div.sk-estimator {font-family: monospace;background-color: #f0f8ff;border: 1px dotted black;border-radius: 0.25em;box-sizing: border-box;margin-bottom: 0.5em;}#sk-container-id-5 div.sk-estimator:hover {background-color: #d4ebff;}#sk-container-id-5 div.sk-parallel-item::after {content: \"\";width: 100%;border-bottom: 1px solid gray;flex-grow: 1;}#sk-container-id-5 div.sk-label:hover label.sk-toggleable__label {background-color: #d4ebff;}#sk-container-id-5 div.sk-serial::before {content: \"\";position: absolute;border-left: 1px solid gray;box-sizing: border-box;top: 0;bottom: 0;left: 50%;z-index: 0;}#sk-container-id-5 div.sk-serial {display: flex;flex-direction: column;align-items: center;background-color: white;padding-right: 0.2em;padding-left: 0.2em;position: relative;}#sk-container-id-5 div.sk-item {position: relative;z-index: 1;}#sk-container-id-5 div.sk-parallel {display: flex;align-items: stretch;justify-content: center;background-color: white;position: relative;}#sk-container-id-5 div.sk-item::before, #sk-container-id-5 div.sk-parallel-item::before {content: \"\";position: absolute;border-left: 1px solid gray;box-sizing: border-box;top: 0;bottom: 0;left: 50%;z-index: -1;}#sk-container-id-5 div.sk-parallel-item {display: flex;flex-direction: column;z-index: 1;position: relative;background-color: white;}#sk-container-id-5 div.sk-parallel-item:first-child::after {align-self: flex-end;width: 50%;}#sk-container-id-5 div.sk-parallel-item:last-child::after {align-self: flex-start;width: 50%;}#sk-container-id-5 div.sk-parallel-item:only-child::after {width: 0;}#sk-container-id-5 div.sk-dashed-wrapped {border: 1px dashed gray;margin: 0 0.4em 0.5em 0.4em;box-sizing: border-box;padding-bottom: 0.4em;background-color: white;}#sk-container-id-5 div.sk-label label {font-family: monospace;font-weight: bold;display: inline-block;line-height: 1.2em;}#sk-container-id-5 div.sk-label-container {text-align: center;}#sk-container-id-5 div.sk-container {/* jupyter's `normalize.less` sets `[hidden] { display: none; }` but bootstrap.min.css set `[hidden] { display: none !important; }` so we also need the `!important` here to be able to override the default hidden behavior on the sphinx rendered scikit-learn.org. See: https://github.com/scikit-learn/scikit-learn/issues/21755 */display: inline-block !important;position: relative;}#sk-container-id-5 div.sk-text-repr-fallback {display: none;}</style><div id=\"sk-container-id-5\" class=\"sk-top-container\"><div class=\"sk-text-repr-fallback\"><pre>GridSearchCV(cv=5, estimator=LogisticRegression(),\n",
       "             param_grid={&#x27;C&#x27;: [0.01, 0.1, 1.0, 10.0],\n",
       "                         &#x27;penalty&#x27;: [&#x27;l1&#x27;, &#x27;l2&#x27;, &#x27;elasticnet&#x27;, &#x27;none&#x27;],\n",
       "                         &#x27;solver&#x27;: [&#x27;newton-cg&#x27;, &#x27;lbfgs&#x27;, &#x27;liblinear&#x27;, &#x27;saga&#x27;]},\n",
       "             scoring=&#x27;f1&#x27;, verbose=3)</pre><b>In a Jupyter environment, please rerun this cell to show the HTML representation or trust the notebook. <br />On GitHub, the HTML representation is unable to render, please try loading this page with nbviewer.org.</b></div><div class=\"sk-container\" hidden><div class=\"sk-item sk-dashed-wrapped\"><div class=\"sk-label-container\"><div class=\"sk-label sk-toggleable\"><input class=\"sk-toggleable__control sk-hidden--visually\" id=\"sk-estimator-id-13\" type=\"checkbox\" ><label for=\"sk-estimator-id-13\" class=\"sk-toggleable__label sk-toggleable__label-arrow\">GridSearchCV</label><div class=\"sk-toggleable__content\"><pre>GridSearchCV(cv=5, estimator=LogisticRegression(),\n",
       "             param_grid={&#x27;C&#x27;: [0.01, 0.1, 1.0, 10.0],\n",
       "                         &#x27;penalty&#x27;: [&#x27;l1&#x27;, &#x27;l2&#x27;, &#x27;elasticnet&#x27;, &#x27;none&#x27;],\n",
       "                         &#x27;solver&#x27;: [&#x27;newton-cg&#x27;, &#x27;lbfgs&#x27;, &#x27;liblinear&#x27;, &#x27;saga&#x27;]},\n",
       "             scoring=&#x27;f1&#x27;, verbose=3)</pre></div></div></div><div class=\"sk-parallel\"><div class=\"sk-parallel-item\"><div class=\"sk-item\"><div class=\"sk-label-container\"><div class=\"sk-label sk-toggleable\"><input class=\"sk-toggleable__control sk-hidden--visually\" id=\"sk-estimator-id-14\" type=\"checkbox\" ><label for=\"sk-estimator-id-14\" class=\"sk-toggleable__label sk-toggleable__label-arrow\">estimator: LogisticRegression</label><div class=\"sk-toggleable__content\"><pre>LogisticRegression()</pre></div></div></div><div class=\"sk-serial\"><div class=\"sk-item\"><div class=\"sk-estimator sk-toggleable\"><input class=\"sk-toggleable__control sk-hidden--visually\" id=\"sk-estimator-id-15\" type=\"checkbox\" ><label for=\"sk-estimator-id-15\" class=\"sk-toggleable__label sk-toggleable__label-arrow\">LogisticRegression</label><div class=\"sk-toggleable__content\"><pre>LogisticRegression()</pre></div></div></div></div></div></div></div></div></div></div>"
      ],
      "text/plain": [
       "GridSearchCV(cv=5, estimator=LogisticRegression(),\n",
       "             param_grid={'C': [0.01, 0.1, 1.0, 10.0],\n",
       "                         'penalty': ['l1', 'l2', 'elasticnet', 'none'],\n",
       "                         'solver': ['newton-cg', 'lbfgs', 'liblinear', 'saga']},\n",
       "             scoring='f1', verbose=3)"
      ]
     },
     "execution_count": 51,
     "metadata": {},
     "output_type": "execute_result"
    }
   ],
   "source": [
    "grid_search_lr.fit(X_train_scaled, y_train)"
   ]
  },
  {
   "cell_type": "code",
   "execution_count": 45,
   "id": "d1329ebb",
   "metadata": {},
   "outputs": [
    {
     "name": "stdout",
     "output_type": "stream",
     "text": [
      "{'C': 10.0, 'penalty': 'l1', 'solver': 'liblinear'}\n"
     ]
    }
   ],
   "source": [
    "### List the best parameter out of the given set of parameters\n",
    "print(grid_search_lr.best_params_)"
   ]
  },
  {
   "cell_type": "code",
   "execution_count": 52,
   "id": "1eecee1d",
   "metadata": {},
   "outputs": [],
   "source": [
    "## predicting the target variable and storing in y_pred1\n",
    "y_pred_reg_grid=grid_search_lr.predict(X_test_scaled)"
   ]
  },
  {
   "cell_type": "code",
   "execution_count": 53,
   "id": "56bc10e2",
   "metadata": {},
   "outputs": [
    {
     "name": "stdout",
     "output_type": "stream",
     "text": [
      "              precision    recall  f1-score   support\n",
      "\n",
      "           0       0.72      0.72      0.72      7013\n",
      "           1       0.72      0.72      0.72      7006\n",
      "\n",
      "    accuracy                           0.72     14019\n",
      "   macro avg       0.72      0.72      0.72     14019\n",
      "weighted avg       0.72      0.72      0.72     14019\n",
      "\n",
      "[[5080 1933]\n",
      " [1941 5065]]\n",
      "Accuracy: 0.7236607461302518\n",
      "F1 Score: 0.7233647529277349\n"
     ]
    }
   ],
   "source": [
    "## Printing classification report, confusion matrix, and accuracy of the best parameter.\n",
    "print(classification_report(y_test,y_pred_reg_grid))\n",
    "print(confusion_matrix(y_test,y_pred_reg_grid))\n",
    "print(\"Accuracy:\",(accuracy_score(y_test,y_pred_reg_grid)))\n",
    "print(\"F1 Score:\", (f1_score(y_test, y_pred_reg_grid)))"
   ]
  },
  {
   "cell_type": "markdown",
   "id": "7b2638e2",
   "metadata": {},
   "source": [
    "## Random SearchCV"
   ]
  },
  {
   "cell_type": "code",
   "execution_count": 55,
   "id": "8b3e25a1",
   "metadata": {},
   "outputs": [],
   "source": [
    "random_search_lr= RandomizedSearchCV(estimator=reg, param_distributions=param_lr, n_iter=10, scoring='f1', cv=5, verbose = 3)"
   ]
  },
  {
   "cell_type": "code",
   "execution_count": 56,
   "id": "e02a19ef",
   "metadata": {},
   "outputs": [
    {
     "name": "stdout",
     "output_type": "stream",
     "text": [
      "Fitting 5 folds for each of 10 candidates, totalling 50 fits\n",
      "[CV 1/5] END ....C=10.0, penalty=l1, solver=lbfgs;, score=nan total time=   0.0s\n",
      "[CV 2/5] END ....C=10.0, penalty=l1, solver=lbfgs;, score=nan total time=   0.0s\n",
      "[CV 3/5] END ....C=10.0, penalty=l1, solver=lbfgs;, score=nan total time=   0.0s\n",
      "[CV 4/5] END ....C=10.0, penalty=l1, solver=lbfgs;, score=nan total time=   0.0s\n",
      "[CV 5/5] END ....C=10.0, penalty=l1, solver=lbfgs;, score=nan total time=   0.0s\n",
      "[CV 1/5] END C=0.1, penalty=elasticnet, solver=liblinear;, score=nan total time=   0.0s\n",
      "[CV 2/5] END C=0.1, penalty=elasticnet, solver=liblinear;, score=nan total time=   0.0s\n",
      "[CV 3/5] END C=0.1, penalty=elasticnet, solver=liblinear;, score=nan total time=   0.0s\n",
      "[CV 4/5] END C=0.1, penalty=elasticnet, solver=liblinear;, score=nan total time=   0.0s\n",
      "[CV 5/5] END C=0.1, penalty=elasticnet, solver=liblinear;, score=nan total time=   0.0s\n",
      "[CV 1/5] END C=10.0, penalty=elasticnet, solver=newton-cg;, score=nan total time=   0.0s\n",
      "[CV 2/5] END C=10.0, penalty=elasticnet, solver=newton-cg;, score=nan total time=   0.0s\n",
      "[CV 3/5] END C=10.0, penalty=elasticnet, solver=newton-cg;, score=nan total time=   0.0s\n",
      "[CV 4/5] END C=10.0, penalty=elasticnet, solver=newton-cg;, score=nan total time=   0.0s\n",
      "[CV 5/5] END C=10.0, penalty=elasticnet, solver=newton-cg;, score=nan total time=   0.0s\n",
      "[CV 1/5] END ...C=0.01, penalty=l2, solver=saga;, score=0.734 total time=   1.4s\n",
      "[CV 2/5] END ...C=0.01, penalty=l2, solver=saga;, score=0.723 total time=   1.3s\n",
      "[CV 3/5] END ...C=0.01, penalty=l2, solver=saga;, score=0.725 total time=   1.2s\n",
      "[CV 4/5] END ...C=0.01, penalty=l2, solver=saga;, score=0.724 total time=   1.4s\n",
      "[CV 5/5] END ...C=0.01, penalty=l2, solver=saga;, score=0.732 total time=   1.5s\n",
      "[CV 1/5] END ..C=10.0, penalty=l2, solver=lbfgs;, score=0.734 total time=   0.0s\n",
      "[CV 2/5] END ..C=10.0, penalty=l2, solver=lbfgs;, score=0.723 total time=   0.0s\n",
      "[CV 3/5] END ..C=10.0, penalty=l2, solver=lbfgs;, score=0.725 total time=   0.0s\n",
      "[CV 4/5] END ..C=10.0, penalty=l2, solver=lbfgs;, score=0.725 total time=   0.0s\n",
      "[CV 5/5] END ..C=10.0, penalty=l2, solver=lbfgs;, score=0.733 total time=   0.0s\n",
      "[CV 1/5] END C=10.0, penalty=l2, solver=newton-cg;, score=0.734 total time=   0.2s\n",
      "[CV 2/5] END C=10.0, penalty=l2, solver=newton-cg;, score=0.723 total time=   0.2s\n",
      "[CV 3/5] END C=10.0, penalty=l2, solver=newton-cg;, score=0.725 total time=   0.2s\n",
      "[CV 4/5] END C=10.0, penalty=l2, solver=newton-cg;, score=0.725 total time=   0.2s\n",
      "[CV 5/5] END C=10.0, penalty=l2, solver=newton-cg;, score=0.733 total time=   0.2s\n",
      "[CV 1/5] END C=1.0, penalty=none, solver=liblinear;, score=nan total time=   0.0s\n",
      "[CV 2/5] END C=1.0, penalty=none, solver=liblinear;, score=nan total time=   0.0s\n",
      "[CV 3/5] END C=1.0, penalty=none, solver=liblinear;, score=nan total time=   0.0s\n",
      "[CV 4/5] END C=1.0, penalty=none, solver=liblinear;, score=nan total time=   0.0s\n",
      "[CV 5/5] END C=1.0, penalty=none, solver=liblinear;, score=nan total time=   0.0s\n",
      "[CV 1/5] END C=0.1, penalty=elasticnet, solver=lbfgs;, score=nan total time=   0.0s\n",
      "[CV 2/5] END C=0.1, penalty=elasticnet, solver=lbfgs;, score=nan total time=   0.0s\n",
      "[CV 3/5] END C=0.1, penalty=elasticnet, solver=lbfgs;, score=nan total time=   0.0s\n",
      "[CV 4/5] END C=0.1, penalty=elasticnet, solver=lbfgs;, score=nan total time=   0.0s\n",
      "[CV 5/5] END C=0.1, penalty=elasticnet, solver=lbfgs;, score=nan total time=   0.0s\n",
      "[CV 1/5] END C=0.01, penalty=elasticnet, solver=lbfgs;, score=nan total time=   0.0s\n",
      "[CV 2/5] END C=0.01, penalty=elasticnet, solver=lbfgs;, score=nan total time=   0.0s\n",
      "[CV 3/5] END C=0.01, penalty=elasticnet, solver=lbfgs;, score=nan total time=   0.0s\n",
      "[CV 4/5] END C=0.01, penalty=elasticnet, solver=lbfgs;, score=nan total time=   0.0s\n",
      "[CV 5/5] END C=0.01, penalty=elasticnet, solver=lbfgs;, score=nan total time=   0.0s\n",
      "[CV 1/5] END ....C=0.1, penalty=l2, solver=saga;, score=0.734 total time=   1.2s\n",
      "[CV 2/5] END ....C=0.1, penalty=l2, solver=saga;, score=0.723 total time=   1.2s\n",
      "[CV 3/5] END ....C=0.1, penalty=l2, solver=saga;, score=0.725 total time=   1.4s\n",
      "[CV 4/5] END ....C=0.1, penalty=l2, solver=saga;, score=0.725 total time=   1.3s\n",
      "[CV 5/5] END ....C=0.1, penalty=l2, solver=saga;, score=0.733 total time=   1.3s\n"
     ]
    },
    {
     "data": {
      "text/html": [
       "<style>#sk-container-id-7 {color: black;}#sk-container-id-7 pre{padding: 0;}#sk-container-id-7 div.sk-toggleable {background-color: white;}#sk-container-id-7 label.sk-toggleable__label {cursor: pointer;display: block;width: 100%;margin-bottom: 0;padding: 0.3em;box-sizing: border-box;text-align: center;}#sk-container-id-7 label.sk-toggleable__label-arrow:before {content: \"▸\";float: left;margin-right: 0.25em;color: #696969;}#sk-container-id-7 label.sk-toggleable__label-arrow:hover:before {color: black;}#sk-container-id-7 div.sk-estimator:hover label.sk-toggleable__label-arrow:before {color: black;}#sk-container-id-7 div.sk-toggleable__content {max-height: 0;max-width: 0;overflow: hidden;text-align: left;background-color: #f0f8ff;}#sk-container-id-7 div.sk-toggleable__content pre {margin: 0.2em;color: black;border-radius: 0.25em;background-color: #f0f8ff;}#sk-container-id-7 input.sk-toggleable__control:checked~div.sk-toggleable__content {max-height: 200px;max-width: 100%;overflow: auto;}#sk-container-id-7 input.sk-toggleable__control:checked~label.sk-toggleable__label-arrow:before {content: \"▾\";}#sk-container-id-7 div.sk-estimator input.sk-toggleable__control:checked~label.sk-toggleable__label {background-color: #d4ebff;}#sk-container-id-7 div.sk-label input.sk-toggleable__control:checked~label.sk-toggleable__label {background-color: #d4ebff;}#sk-container-id-7 input.sk-hidden--visually {border: 0;clip: rect(1px 1px 1px 1px);clip: rect(1px, 1px, 1px, 1px);height: 1px;margin: -1px;overflow: hidden;padding: 0;position: absolute;width: 1px;}#sk-container-id-7 div.sk-estimator {font-family: monospace;background-color: #f0f8ff;border: 1px dotted black;border-radius: 0.25em;box-sizing: border-box;margin-bottom: 0.5em;}#sk-container-id-7 div.sk-estimator:hover {background-color: #d4ebff;}#sk-container-id-7 div.sk-parallel-item::after {content: \"\";width: 100%;border-bottom: 1px solid gray;flex-grow: 1;}#sk-container-id-7 div.sk-label:hover label.sk-toggleable__label {background-color: #d4ebff;}#sk-container-id-7 div.sk-serial::before {content: \"\";position: absolute;border-left: 1px solid gray;box-sizing: border-box;top: 0;bottom: 0;left: 50%;z-index: 0;}#sk-container-id-7 div.sk-serial {display: flex;flex-direction: column;align-items: center;background-color: white;padding-right: 0.2em;padding-left: 0.2em;position: relative;}#sk-container-id-7 div.sk-item {position: relative;z-index: 1;}#sk-container-id-7 div.sk-parallel {display: flex;align-items: stretch;justify-content: center;background-color: white;position: relative;}#sk-container-id-7 div.sk-item::before, #sk-container-id-7 div.sk-parallel-item::before {content: \"\";position: absolute;border-left: 1px solid gray;box-sizing: border-box;top: 0;bottom: 0;left: 50%;z-index: -1;}#sk-container-id-7 div.sk-parallel-item {display: flex;flex-direction: column;z-index: 1;position: relative;background-color: white;}#sk-container-id-7 div.sk-parallel-item:first-child::after {align-self: flex-end;width: 50%;}#sk-container-id-7 div.sk-parallel-item:last-child::after {align-self: flex-start;width: 50%;}#sk-container-id-7 div.sk-parallel-item:only-child::after {width: 0;}#sk-container-id-7 div.sk-dashed-wrapped {border: 1px dashed gray;margin: 0 0.4em 0.5em 0.4em;box-sizing: border-box;padding-bottom: 0.4em;background-color: white;}#sk-container-id-7 div.sk-label label {font-family: monospace;font-weight: bold;display: inline-block;line-height: 1.2em;}#sk-container-id-7 div.sk-label-container {text-align: center;}#sk-container-id-7 div.sk-container {/* jupyter's `normalize.less` sets `[hidden] { display: none; }` but bootstrap.min.css set `[hidden] { display: none !important; }` so we also need the `!important` here to be able to override the default hidden behavior on the sphinx rendered scikit-learn.org. See: https://github.com/scikit-learn/scikit-learn/issues/21755 */display: inline-block !important;position: relative;}#sk-container-id-7 div.sk-text-repr-fallback {display: none;}</style><div id=\"sk-container-id-7\" class=\"sk-top-container\"><div class=\"sk-text-repr-fallback\"><pre>RandomizedSearchCV(cv=5, estimator=LogisticRegression(),\n",
       "                   param_distributions={&#x27;C&#x27;: [0.01, 0.1, 1.0, 10.0],\n",
       "                                        &#x27;penalty&#x27;: [&#x27;l1&#x27;, &#x27;l2&#x27;, &#x27;elasticnet&#x27;,\n",
       "                                                    &#x27;none&#x27;],\n",
       "                                        &#x27;solver&#x27;: [&#x27;newton-cg&#x27;, &#x27;lbfgs&#x27;,\n",
       "                                                   &#x27;liblinear&#x27;, &#x27;saga&#x27;]},\n",
       "                   scoring=&#x27;f1&#x27;, verbose=3)</pre><b>In a Jupyter environment, please rerun this cell to show the HTML representation or trust the notebook. <br />On GitHub, the HTML representation is unable to render, please try loading this page with nbviewer.org.</b></div><div class=\"sk-container\" hidden><div class=\"sk-item sk-dashed-wrapped\"><div class=\"sk-label-container\"><div class=\"sk-label sk-toggleable\"><input class=\"sk-toggleable__control sk-hidden--visually\" id=\"sk-estimator-id-19\" type=\"checkbox\" ><label for=\"sk-estimator-id-19\" class=\"sk-toggleable__label sk-toggleable__label-arrow\">RandomizedSearchCV</label><div class=\"sk-toggleable__content\"><pre>RandomizedSearchCV(cv=5, estimator=LogisticRegression(),\n",
       "                   param_distributions={&#x27;C&#x27;: [0.01, 0.1, 1.0, 10.0],\n",
       "                                        &#x27;penalty&#x27;: [&#x27;l1&#x27;, &#x27;l2&#x27;, &#x27;elasticnet&#x27;,\n",
       "                                                    &#x27;none&#x27;],\n",
       "                                        &#x27;solver&#x27;: [&#x27;newton-cg&#x27;, &#x27;lbfgs&#x27;,\n",
       "                                                   &#x27;liblinear&#x27;, &#x27;saga&#x27;]},\n",
       "                   scoring=&#x27;f1&#x27;, verbose=3)</pre></div></div></div><div class=\"sk-parallel\"><div class=\"sk-parallel-item\"><div class=\"sk-item\"><div class=\"sk-label-container\"><div class=\"sk-label sk-toggleable\"><input class=\"sk-toggleable__control sk-hidden--visually\" id=\"sk-estimator-id-20\" type=\"checkbox\" ><label for=\"sk-estimator-id-20\" class=\"sk-toggleable__label sk-toggleable__label-arrow\">estimator: LogisticRegression</label><div class=\"sk-toggleable__content\"><pre>LogisticRegression()</pre></div></div></div><div class=\"sk-serial\"><div class=\"sk-item\"><div class=\"sk-estimator sk-toggleable\"><input class=\"sk-toggleable__control sk-hidden--visually\" id=\"sk-estimator-id-21\" type=\"checkbox\" ><label for=\"sk-estimator-id-21\" class=\"sk-toggleable__label sk-toggleable__label-arrow\">LogisticRegression</label><div class=\"sk-toggleable__content\"><pre>LogisticRegression()</pre></div></div></div></div></div></div></div></div></div></div>"
      ],
      "text/plain": [
       "RandomizedSearchCV(cv=5, estimator=LogisticRegression(),\n",
       "                   param_distributions={'C': [0.01, 0.1, 1.0, 10.0],\n",
       "                                        'penalty': ['l1', 'l2', 'elasticnet',\n",
       "                                                    'none'],\n",
       "                                        'solver': ['newton-cg', 'lbfgs',\n",
       "                                                   'liblinear', 'saga']},\n",
       "                   scoring='f1', verbose=3)"
      ]
     },
     "execution_count": 56,
     "metadata": {},
     "output_type": "execute_result"
    }
   ],
   "source": [
    "random_search_lr.fit(X_train_scaled,y_train)"
   ]
  },
  {
   "cell_type": "code",
   "execution_count": 57,
   "id": "08ad3bb9",
   "metadata": {},
   "outputs": [
    {
     "name": "stdout",
     "output_type": "stream",
     "text": [
      "Best parameters: {'solver': 'saga', 'penalty': 'l2', 'C': 0.1}\n"
     ]
    }
   ],
   "source": [
    "## Getting the best parameters\n",
    "print(\"Best parameters:\", random_search_lr.best_params_)"
   ]
  },
  {
   "cell_type": "code",
   "execution_count": 60,
   "id": "16cc80eb",
   "metadata": {},
   "outputs": [],
   "source": [
    "### Predicting the target value\n",
    "y_pred_lr_rand= random_search_lr.predict(X_test_scaled)"
   ]
  },
  {
   "cell_type": "code",
   "execution_count": 61,
   "id": "d764b098",
   "metadata": {},
   "outputs": [
    {
     "name": "stdout",
     "output_type": "stream",
     "text": [
      "              precision    recall  f1-score   support\n",
      "\n",
      "           0       0.72      0.72      0.72      7013\n",
      "           1       0.72      0.72      0.72      7006\n",
      "\n",
      "    accuracy                           0.72     14019\n",
      "   macro avg       0.72      0.72      0.72     14019\n",
      "weighted avg       0.72      0.72      0.72     14019\n",
      "\n",
      "[[5080 1933]\n",
      " [1941 5065]]\n",
      "Accuracy: 0.7236607461302518\n",
      "F1 Score: 0.7233647529277349\n"
     ]
    }
   ],
   "source": [
    "## Printing classification report, confusion matrix, and accuracy of the best parameter.\n",
    "print(classification_report(y_test,y_pred_lr_rand))\n",
    "print(confusion_matrix(y_test,y_pred_lr_rand))\n",
    "print(\"Accuracy:\",(accuracy_score(y_test,y_pred_lr_rand)))\n",
    "print(\"F1 Score:\", (f1_score(y_test, y_pred_lr_rand)))"
   ]
  },
  {
   "cell_type": "markdown",
   "id": "289527b5",
   "metadata": {},
   "source": [
    "## Comparing the results of Grid Search and Random Search for Logistic Regression:\n",
    "\n",
    "| Metric                         | Precision (Class 0) | Precision (Class 1) | Recall (Class 0) | Recall (Class 1) | F1-score (Class 0) | F1-score (Class 1) | Accuracy |\n",
    "|--------------------------------|---------------------|---------------------|-----------------|-----------------|--------------------|--------------------|----------|\n",
    "| Random Search Logistic Regression | 0.72                | 0.72                | 0.72            | 0.72            | 0.72               | 0.72               | 0.7237   |\n",
    "| Grid Search Logistic Regression   | 0.72                | 0.72                | 0.72            | 0.72            | 0.72               | 0.72               | 0.7237   |\n",
    "\n",
    "\n",
    "In summary, Random Search and Grid Search yielded very similar results for the Logistic Regression model, indicating that the hyperparameter tuning did not lead to significant differences in model performance. The Logistic Regression model performs consistently with a reasonable balance between precision and recall."
   ]
  },
  {
   "cell_type": "markdown",
   "id": "e0446d61",
   "metadata": {},
   "source": [
    "# Decision Tree with hyperparameter tuning"
   ]
  },
  {
   "cell_type": "markdown",
   "id": "a2f41289",
   "metadata": {},
   "source": [
    "#### Decision tree Hyper parameter : grid SearchCV"
   ]
  },
  {
   "cell_type": "code",
   "execution_count": 62,
   "id": "dd6cd617",
   "metadata": {},
   "outputs": [],
   "source": [
    "### Parameter for decision tree\n",
    "param_dt = {'max_depth': [2, 5, 10, 20, 30, 50],\n",
    "               'min_samples_split': [2, 5, 10],\n",
    "               'min_samples_leaf': [1, 2, 4],\n",
    "              }"
   ]
  },
  {
   "cell_type": "code",
   "execution_count": 63,
   "id": "212ccdf8",
   "metadata": {},
   "outputs": [
    {
     "name": "stdout",
     "output_type": "stream",
     "text": [
      "Fitting 5 folds for each of 54 candidates, totalling 270 fits\n",
      "[CV 1/5] END max_depth=2, min_samples_leaf=1, min_samples_split=2;, score=0.568 total time=   0.1s\n",
      "[CV 2/5] END max_depth=2, min_samples_leaf=1, min_samples_split=2;, score=0.559 total time=   0.1s\n",
      "[CV 3/5] END max_depth=2, min_samples_leaf=1, min_samples_split=2;, score=0.552 total time=   0.1s\n",
      "[CV 4/5] END max_depth=2, min_samples_leaf=1, min_samples_split=2;, score=0.569 total time=   0.1s\n",
      "[CV 5/5] END max_depth=2, min_samples_leaf=1, min_samples_split=2;, score=0.557 total time=   0.1s\n",
      "[CV 1/5] END max_depth=2, min_samples_leaf=1, min_samples_split=5;, score=0.568 total time=   0.1s\n",
      "[CV 2/5] END max_depth=2, min_samples_leaf=1, min_samples_split=5;, score=0.559 total time=   0.1s\n",
      "[CV 3/5] END max_depth=2, min_samples_leaf=1, min_samples_split=5;, score=0.552 total time=   0.1s\n",
      "[CV 4/5] END max_depth=2, min_samples_leaf=1, min_samples_split=5;, score=0.569 total time=   0.1s\n",
      "[CV 5/5] END max_depth=2, min_samples_leaf=1, min_samples_split=5;, score=0.557 total time=   0.1s\n",
      "[CV 1/5] END max_depth=2, min_samples_leaf=1, min_samples_split=10;, score=0.568 total time=   0.1s\n",
      "[CV 2/5] END max_depth=2, min_samples_leaf=1, min_samples_split=10;, score=0.559 total time=   0.1s\n",
      "[CV 3/5] END max_depth=2, min_samples_leaf=1, min_samples_split=10;, score=0.552 total time=   0.1s\n",
      "[CV 4/5] END max_depth=2, min_samples_leaf=1, min_samples_split=10;, score=0.569 total time=   0.1s\n",
      "[CV 5/5] END max_depth=2, min_samples_leaf=1, min_samples_split=10;, score=0.557 total time=   0.1s\n",
      "[CV 1/5] END max_depth=2, min_samples_leaf=2, min_samples_split=2;, score=0.568 total time=   0.1s\n",
      "[CV 2/5] END max_depth=2, min_samples_leaf=2, min_samples_split=2;, score=0.559 total time=   0.1s\n",
      "[CV 3/5] END max_depth=2, min_samples_leaf=2, min_samples_split=2;, score=0.552 total time=   0.1s\n",
      "[CV 4/5] END max_depth=2, min_samples_leaf=2, min_samples_split=2;, score=0.569 total time=   0.1s\n",
      "[CV 5/5] END max_depth=2, min_samples_leaf=2, min_samples_split=2;, score=0.557 total time=   0.1s\n",
      "[CV 1/5] END max_depth=2, min_samples_leaf=2, min_samples_split=5;, score=0.568 total time=   0.1s\n",
      "[CV 2/5] END max_depth=2, min_samples_leaf=2, min_samples_split=5;, score=0.559 total time=   0.1s\n",
      "[CV 3/5] END max_depth=2, min_samples_leaf=2, min_samples_split=5;, score=0.552 total time=   0.1s\n",
      "[CV 4/5] END max_depth=2, min_samples_leaf=2, min_samples_split=5;, score=0.569 total time=   0.1s\n",
      "[CV 5/5] END max_depth=2, min_samples_leaf=2, min_samples_split=5;, score=0.557 total time=   0.1s\n",
      "[CV 1/5] END max_depth=2, min_samples_leaf=2, min_samples_split=10;, score=0.568 total time=   0.1s\n",
      "[CV 2/5] END max_depth=2, min_samples_leaf=2, min_samples_split=10;, score=0.559 total time=   0.1s\n",
      "[CV 3/5] END max_depth=2, min_samples_leaf=2, min_samples_split=10;, score=0.552 total time=   0.1s\n",
      "[CV 4/5] END max_depth=2, min_samples_leaf=2, min_samples_split=10;, score=0.569 total time=   0.1s\n",
      "[CV 5/5] END max_depth=2, min_samples_leaf=2, min_samples_split=10;, score=0.557 total time=   0.1s\n",
      "[CV 1/5] END max_depth=2, min_samples_leaf=4, min_samples_split=2;, score=0.568 total time=   0.1s\n",
      "[CV 2/5] END max_depth=2, min_samples_leaf=4, min_samples_split=2;, score=0.559 total time=   0.1s\n",
      "[CV 3/5] END max_depth=2, min_samples_leaf=4, min_samples_split=2;, score=0.552 total time=   0.1s\n",
      "[CV 4/5] END max_depth=2, min_samples_leaf=4, min_samples_split=2;, score=0.569 total time=   0.1s\n",
      "[CV 5/5] END max_depth=2, min_samples_leaf=4, min_samples_split=2;, score=0.557 total time=   0.1s\n",
      "[CV 1/5] END max_depth=2, min_samples_leaf=4, min_samples_split=5;, score=0.568 total time=   0.1s\n",
      "[CV 2/5] END max_depth=2, min_samples_leaf=4, min_samples_split=5;, score=0.559 total time=   0.1s\n",
      "[CV 3/5] END max_depth=2, min_samples_leaf=4, min_samples_split=5;, score=0.552 total time=   0.1s\n",
      "[CV 4/5] END max_depth=2, min_samples_leaf=4, min_samples_split=5;, score=0.569 total time=   0.1s\n",
      "[CV 5/5] END max_depth=2, min_samples_leaf=4, min_samples_split=5;, score=0.557 total time=   0.1s\n",
      "[CV 1/5] END max_depth=2, min_samples_leaf=4, min_samples_split=10;, score=0.568 total time=   0.1s\n",
      "[CV 2/5] END max_depth=2, min_samples_leaf=4, min_samples_split=10;, score=0.559 total time=   0.1s\n",
      "[CV 3/5] END max_depth=2, min_samples_leaf=4, min_samples_split=10;, score=0.552 total time=   0.1s\n",
      "[CV 4/5] END max_depth=2, min_samples_leaf=4, min_samples_split=10;, score=0.569 total time=   0.1s\n",
      "[CV 5/5] END max_depth=2, min_samples_leaf=4, min_samples_split=10;, score=0.557 total time=   0.1s\n",
      "[CV 1/5] END max_depth=5, min_samples_leaf=1, min_samples_split=2;, score=0.732 total time=   0.3s\n",
      "[CV 2/5] END max_depth=5, min_samples_leaf=1, min_samples_split=2;, score=0.726 total time=   0.3s\n",
      "[CV 3/5] END max_depth=5, min_samples_leaf=1, min_samples_split=2;, score=0.708 total time=   0.3s\n",
      "[CV 4/5] END max_depth=5, min_samples_leaf=1, min_samples_split=2;, score=0.719 total time=   0.3s\n",
      "[CV 5/5] END max_depth=5, min_samples_leaf=1, min_samples_split=2;, score=0.719 total time=   0.3s\n",
      "[CV 1/5] END max_depth=5, min_samples_leaf=1, min_samples_split=5;, score=0.732 total time=   0.3s\n",
      "[CV 2/5] END max_depth=5, min_samples_leaf=1, min_samples_split=5;, score=0.726 total time=   0.3s\n",
      "[CV 3/5] END max_depth=5, min_samples_leaf=1, min_samples_split=5;, score=0.708 total time=   0.3s\n",
      "[CV 4/5] END max_depth=5, min_samples_leaf=1, min_samples_split=5;, score=0.719 total time=   0.3s\n",
      "[CV 5/5] END max_depth=5, min_samples_leaf=1, min_samples_split=5;, score=0.719 total time=   0.3s\n",
      "[CV 1/5] END max_depth=5, min_samples_leaf=1, min_samples_split=10;, score=0.732 total time=   0.3s\n",
      "[CV 2/5] END max_depth=5, min_samples_leaf=1, min_samples_split=10;, score=0.726 total time=   0.3s\n",
      "[CV 3/5] END max_depth=5, min_samples_leaf=1, min_samples_split=10;, score=0.708 total time=   0.3s\n",
      "[CV 4/5] END max_depth=5, min_samples_leaf=1, min_samples_split=10;, score=0.719 total time=   0.3s\n",
      "[CV 5/5] END max_depth=5, min_samples_leaf=1, min_samples_split=10;, score=0.719 total time=   0.3s\n",
      "[CV 1/5] END max_depth=5, min_samples_leaf=2, min_samples_split=2;, score=0.732 total time=   0.3s\n",
      "[CV 2/5] END max_depth=5, min_samples_leaf=2, min_samples_split=2;, score=0.726 total time=   0.3s\n",
      "[CV 3/5] END max_depth=5, min_samples_leaf=2, min_samples_split=2;, score=0.708 total time=   0.3s\n",
      "[CV 4/5] END max_depth=5, min_samples_leaf=2, min_samples_split=2;, score=0.719 total time=   0.3s\n",
      "[CV 5/5] END max_depth=5, min_samples_leaf=2, min_samples_split=2;, score=0.719 total time=   0.3s\n",
      "[CV 1/5] END max_depth=5, min_samples_leaf=2, min_samples_split=5;, score=0.732 total time=   0.3s\n",
      "[CV 2/5] END max_depth=5, min_samples_leaf=2, min_samples_split=5;, score=0.726 total time=   0.3s\n",
      "[CV 3/5] END max_depth=5, min_samples_leaf=2, min_samples_split=5;, score=0.708 total time=   0.3s\n",
      "[CV 4/5] END max_depth=5, min_samples_leaf=2, min_samples_split=5;, score=0.719 total time=   0.3s\n",
      "[CV 5/5] END max_depth=5, min_samples_leaf=2, min_samples_split=5;, score=0.719 total time=   0.3s\n",
      "[CV 1/5] END max_depth=5, min_samples_leaf=2, min_samples_split=10;, score=0.732 total time=   0.3s\n",
      "[CV 2/5] END max_depth=5, min_samples_leaf=2, min_samples_split=10;, score=0.726 total time=   0.3s\n",
      "[CV 3/5] END max_depth=5, min_samples_leaf=2, min_samples_split=10;, score=0.708 total time=   0.3s\n",
      "[CV 4/5] END max_depth=5, min_samples_leaf=2, min_samples_split=10;, score=0.719 total time=   0.3s\n",
      "[CV 5/5] END max_depth=5, min_samples_leaf=2, min_samples_split=10;, score=0.719 total time=   0.3s\n",
      "[CV 1/5] END max_depth=5, min_samples_leaf=4, min_samples_split=2;, score=0.732 total time=   0.3s\n",
      "[CV 2/5] END max_depth=5, min_samples_leaf=4, min_samples_split=2;, score=0.726 total time=   0.3s\n",
      "[CV 3/5] END max_depth=5, min_samples_leaf=4, min_samples_split=2;, score=0.708 total time=   0.3s\n",
      "[CV 4/5] END max_depth=5, min_samples_leaf=4, min_samples_split=2;, score=0.719 total time=   0.3s\n",
      "[CV 5/5] END max_depth=5, min_samples_leaf=4, min_samples_split=2;, score=0.719 total time=   0.3s\n",
      "[CV 1/5] END max_depth=5, min_samples_leaf=4, min_samples_split=5;, score=0.732 total time=   0.3s\n",
      "[CV 2/5] END max_depth=5, min_samples_leaf=4, min_samples_split=5;, score=0.726 total time=   0.3s\n",
      "[CV 3/5] END max_depth=5, min_samples_leaf=4, min_samples_split=5;, score=0.708 total time=   0.3s\n",
      "[CV 4/5] END max_depth=5, min_samples_leaf=4, min_samples_split=5;, score=0.719 total time=   0.3s\n",
      "[CV 5/5] END max_depth=5, min_samples_leaf=4, min_samples_split=5;, score=0.719 total time=   0.3s\n",
      "[CV 1/5] END max_depth=5, min_samples_leaf=4, min_samples_split=10;, score=0.732 total time=   0.3s\n",
      "[CV 2/5] END max_depth=5, min_samples_leaf=4, min_samples_split=10;, score=0.726 total time=   0.3s\n",
      "[CV 3/5] END max_depth=5, min_samples_leaf=4, min_samples_split=10;, score=0.708 total time=   0.3s\n",
      "[CV 4/5] END max_depth=5, min_samples_leaf=4, min_samples_split=10;, score=0.719 total time=   0.3s\n",
      "[CV 5/5] END max_depth=5, min_samples_leaf=4, min_samples_split=10;, score=0.719 total time=   0.3s\n",
      "[CV 1/5] END max_depth=10, min_samples_leaf=1, min_samples_split=2;, score=0.746 total time=   0.7s\n",
      "[CV 2/5] END max_depth=10, min_samples_leaf=1, min_samples_split=2;, score=0.746 total time=   0.7s\n",
      "[CV 3/5] END max_depth=10, min_samples_leaf=1, min_samples_split=2;, score=0.741 total time=   0.8s\n",
      "[CV 4/5] END max_depth=10, min_samples_leaf=1, min_samples_split=2;, score=0.743 total time=   0.7s\n",
      "[CV 5/5] END max_depth=10, min_samples_leaf=1, min_samples_split=2;, score=0.740 total time=   0.8s\n",
      "[CV 1/5] END max_depth=10, min_samples_leaf=1, min_samples_split=5;, score=0.746 total time=   0.7s\n",
      "[CV 2/5] END max_depth=10, min_samples_leaf=1, min_samples_split=5;, score=0.746 total time=   0.7s\n",
      "[CV 3/5] END max_depth=10, min_samples_leaf=1, min_samples_split=5;, score=0.743 total time=   0.8s\n",
      "[CV 4/5] END max_depth=10, min_samples_leaf=1, min_samples_split=5;, score=0.742 total time=   0.7s\n",
      "[CV 5/5] END max_depth=10, min_samples_leaf=1, min_samples_split=5;, score=0.742 total time=   0.7s\n",
      "[CV 1/5] END max_depth=10, min_samples_leaf=1, min_samples_split=10;, score=0.746 total time=   0.7s\n",
      "[CV 2/5] END max_depth=10, min_samples_leaf=1, min_samples_split=10;, score=0.746 total time=   0.7s\n",
      "[CV 3/5] END max_depth=10, min_samples_leaf=1, min_samples_split=10;, score=0.741 total time=   0.7s\n",
      "[CV 4/5] END max_depth=10, min_samples_leaf=1, min_samples_split=10;, score=0.740 total time=   0.8s\n",
      "[CV 5/5] END max_depth=10, min_samples_leaf=1, min_samples_split=10;, score=0.740 total time=   0.8s\n",
      "[CV 1/5] END max_depth=10, min_samples_leaf=2, min_samples_split=2;, score=0.745 total time=   0.7s\n",
      "[CV 2/5] END max_depth=10, min_samples_leaf=2, min_samples_split=2;, score=0.748 total time=   0.8s\n",
      "[CV 3/5] END max_depth=10, min_samples_leaf=2, min_samples_split=2;, score=0.741 total time=   0.7s\n",
      "[CV 4/5] END max_depth=10, min_samples_leaf=2, min_samples_split=2;, score=0.741 total time=   0.7s\n",
      "[CV 5/5] END max_depth=10, min_samples_leaf=2, min_samples_split=2;, score=0.740 total time=   0.7s\n",
      "[CV 1/5] END max_depth=10, min_samples_leaf=2, min_samples_split=5;, score=0.744 total time=   0.8s\n",
      "[CV 2/5] END max_depth=10, min_samples_leaf=2, min_samples_split=5;, score=0.747 total time=   0.7s\n",
      "[CV 3/5] END max_depth=10, min_samples_leaf=2, min_samples_split=5;, score=0.743 total time=   0.7s\n",
      "[CV 4/5] END max_depth=10, min_samples_leaf=2, min_samples_split=5;, score=0.739 total time=   0.7s\n",
      "[CV 5/5] END max_depth=10, min_samples_leaf=2, min_samples_split=5;, score=0.739 total time=   0.7s\n",
      "[CV 1/5] END max_depth=10, min_samples_leaf=2, min_samples_split=10;, score=0.746 total time=   0.7s\n",
      "[CV 2/5] END max_depth=10, min_samples_leaf=2, min_samples_split=10;, score=0.746 total time=   0.7s\n",
      "[CV 3/5] END max_depth=10, min_samples_leaf=2, min_samples_split=10;, score=0.742 total time=   0.7s\n",
      "[CV 4/5] END max_depth=10, min_samples_leaf=2, min_samples_split=10;, score=0.738 total time=   0.7s\n",
      "[CV 5/5] END max_depth=10, min_samples_leaf=2, min_samples_split=10;, score=0.739 total time=   0.7s\n",
      "[CV 1/5] END max_depth=10, min_samples_leaf=4, min_samples_split=2;, score=0.744 total time=   0.7s\n",
      "[CV 2/5] END max_depth=10, min_samples_leaf=4, min_samples_split=2;, score=0.748 total time=   0.7s\n",
      "[CV 3/5] END max_depth=10, min_samples_leaf=4, min_samples_split=2;, score=0.743 total time=   0.7s\n",
      "[CV 4/5] END max_depth=10, min_samples_leaf=4, min_samples_split=2;, score=0.740 total time=   0.7s\n",
      "[CV 5/5] END max_depth=10, min_samples_leaf=4, min_samples_split=2;, score=0.742 total time=   0.7s\n",
      "[CV 1/5] END max_depth=10, min_samples_leaf=4, min_samples_split=5;, score=0.744 total time=   0.7s\n",
      "[CV 2/5] END max_depth=10, min_samples_leaf=4, min_samples_split=5;, score=0.747 total time=   0.7s\n",
      "[CV 3/5] END max_depth=10, min_samples_leaf=4, min_samples_split=5;, score=0.740 total time=   0.7s\n",
      "[CV 4/5] END max_depth=10, min_samples_leaf=4, min_samples_split=5;, score=0.741 total time=   0.7s\n",
      "[CV 5/5] END max_depth=10, min_samples_leaf=4, min_samples_split=5;, score=0.739 total time=   0.7s\n",
      "[CV 1/5] END max_depth=10, min_samples_leaf=4, min_samples_split=10;, score=0.744 total time=   0.7s\n",
      "[CV 2/5] END max_depth=10, min_samples_leaf=4, min_samples_split=10;, score=0.747 total time=   0.7s\n",
      "[CV 3/5] END max_depth=10, min_samples_leaf=4, min_samples_split=10;, score=0.741 total time=   0.7s\n",
      "[CV 4/5] END max_depth=10, min_samples_leaf=4, min_samples_split=10;, score=0.739 total time=   0.7s\n",
      "[CV 5/5] END max_depth=10, min_samples_leaf=4, min_samples_split=10;, score=0.740 total time=   0.7s\n",
      "[CV 1/5] END max_depth=20, min_samples_leaf=1, min_samples_split=2;, score=0.751 total time=   1.2s\n",
      "[CV 2/5] END max_depth=20, min_samples_leaf=1, min_samples_split=2;, score=0.750 total time=   1.2s\n",
      "[CV 3/5] END max_depth=20, min_samples_leaf=1, min_samples_split=2;, score=0.752 total time=   1.2s\n",
      "[CV 4/5] END max_depth=20, min_samples_leaf=1, min_samples_split=2;, score=0.741 total time=   1.2s\n",
      "[CV 5/5] END max_depth=20, min_samples_leaf=1, min_samples_split=2;, score=0.753 total time=   1.2s\n",
      "[CV 1/5] END max_depth=20, min_samples_leaf=1, min_samples_split=5;, score=0.749 total time=   1.2s\n",
      "[CV 2/5] END max_depth=20, min_samples_leaf=1, min_samples_split=5;, score=0.742 total time=   1.1s\n",
      "[CV 3/5] END max_depth=20, min_samples_leaf=1, min_samples_split=5;, score=0.755 total time=   1.2s\n",
      "[CV 4/5] END max_depth=20, min_samples_leaf=1, min_samples_split=5;, score=0.742 total time=   1.1s\n",
      "[CV 5/5] END max_depth=20, min_samples_leaf=1, min_samples_split=5;, score=0.743 total time=   1.2s\n",
      "[CV 1/5] END max_depth=20, min_samples_leaf=1, min_samples_split=10;, score=0.746 total time=   1.3s\n",
      "[CV 2/5] END max_depth=20, min_samples_leaf=1, min_samples_split=10;, score=0.741 total time=   1.1s\n",
      "[CV 3/5] END max_depth=20, min_samples_leaf=1, min_samples_split=10;, score=0.750 total time=   1.2s\n",
      "[CV 4/5] END max_depth=20, min_samples_leaf=1, min_samples_split=10;, score=0.740 total time=   1.2s\n",
      "[CV 5/5] END max_depth=20, min_samples_leaf=1, min_samples_split=10;, score=0.735 total time=   1.3s\n",
      "[CV 1/5] END max_depth=20, min_samples_leaf=2, min_samples_split=2;, score=0.746 total time=   1.2s\n",
      "[CV 2/5] END max_depth=20, min_samples_leaf=2, min_samples_split=2;, score=0.736 total time=   1.2s\n",
      "[CV 3/5] END max_depth=20, min_samples_leaf=2, min_samples_split=2;, score=0.738 total time=   1.2s\n",
      "[CV 4/5] END max_depth=20, min_samples_leaf=2, min_samples_split=2;, score=0.738 total time=   1.1s\n",
      "[CV 5/5] END max_depth=20, min_samples_leaf=2, min_samples_split=2;, score=0.741 total time=   1.2s\n",
      "[CV 1/5] END max_depth=20, min_samples_leaf=2, min_samples_split=5;, score=0.748 total time=   1.2s\n",
      "[CV 2/5] END max_depth=20, min_samples_leaf=2, min_samples_split=5;, score=0.738 total time=   1.1s\n",
      "[CV 3/5] END max_depth=20, min_samples_leaf=2, min_samples_split=5;, score=0.740 total time=   1.2s\n",
      "[CV 4/5] END max_depth=20, min_samples_leaf=2, min_samples_split=5;, score=0.745 total time=   1.1s\n",
      "[CV 5/5] END max_depth=20, min_samples_leaf=2, min_samples_split=5;, score=0.740 total time=   1.2s\n",
      "[CV 1/5] END max_depth=20, min_samples_leaf=2, min_samples_split=10;, score=0.743 total time=   1.2s\n",
      "[CV 2/5] END max_depth=20, min_samples_leaf=2, min_samples_split=10;, score=0.735 total time=   1.1s\n",
      "[CV 3/5] END max_depth=20, min_samples_leaf=2, min_samples_split=10;, score=0.740 total time=   1.1s\n",
      "[CV 4/5] END max_depth=20, min_samples_leaf=2, min_samples_split=10;, score=0.737 total time=   1.2s\n",
      "[CV 5/5] END max_depth=20, min_samples_leaf=2, min_samples_split=10;, score=0.734 total time=   1.2s\n",
      "[CV 1/5] END max_depth=20, min_samples_leaf=4, min_samples_split=2;, score=0.741 total time=   1.1s\n",
      "[CV 2/5] END max_depth=20, min_samples_leaf=4, min_samples_split=2;, score=0.732 total time=   1.1s\n",
      "[CV 3/5] END max_depth=20, min_samples_leaf=4, min_samples_split=2;, score=0.743 total time=   1.1s\n",
      "[CV 4/5] END max_depth=20, min_samples_leaf=4, min_samples_split=2;, score=0.740 total time=   1.2s\n",
      "[CV 5/5] END max_depth=20, min_samples_leaf=4, min_samples_split=2;, score=0.741 total time=   1.2s\n",
      "[CV 1/5] END max_depth=20, min_samples_leaf=4, min_samples_split=5;, score=0.738 total time=   1.2s\n",
      "[CV 2/5] END max_depth=20, min_samples_leaf=4, min_samples_split=5;, score=0.728 total time=   1.1s\n",
      "[CV 3/5] END max_depth=20, min_samples_leaf=4, min_samples_split=5;, score=0.741 total time=   1.1s\n",
      "[CV 4/5] END max_depth=20, min_samples_leaf=4, min_samples_split=5;, score=0.739 total time=   1.2s\n",
      "[CV 5/5] END max_depth=20, min_samples_leaf=4, min_samples_split=5;, score=0.740 total time=   1.2s\n",
      "[CV 1/5] END max_depth=20, min_samples_leaf=4, min_samples_split=10;, score=0.741 total time=   1.2s\n",
      "[CV 2/5] END max_depth=20, min_samples_leaf=4, min_samples_split=10;, score=0.729 total time=   1.1s\n",
      "[CV 3/5] END max_depth=20, min_samples_leaf=4, min_samples_split=10;, score=0.742 total time=   1.1s\n",
      "[CV 4/5] END max_depth=20, min_samples_leaf=4, min_samples_split=10;, score=0.736 total time=   1.1s\n",
      "[CV 5/5] END max_depth=20, min_samples_leaf=4, min_samples_split=10;, score=0.746 total time=   1.1s\n",
      "[CV 1/5] END max_depth=30, min_samples_leaf=1, min_samples_split=2;, score=0.748 total time=   1.3s\n",
      "[CV 2/5] END max_depth=30, min_samples_leaf=1, min_samples_split=2;, score=0.741 total time=   1.3s\n",
      "[CV 3/5] END max_depth=30, min_samples_leaf=1, min_samples_split=2;, score=0.750 total time=   1.3s\n",
      "[CV 4/5] END max_depth=30, min_samples_leaf=1, min_samples_split=2;, score=0.743 total time=   1.2s\n",
      "[CV 5/5] END max_depth=30, min_samples_leaf=1, min_samples_split=2;, score=0.748 total time=   1.3s\n",
      "[CV 1/5] END max_depth=30, min_samples_leaf=1, min_samples_split=5;, score=0.748 total time=   1.3s\n",
      "[CV 2/5] END max_depth=30, min_samples_leaf=1, min_samples_split=5;, score=0.734 total time=   1.2s\n",
      "[CV 3/5] END max_depth=30, min_samples_leaf=1, min_samples_split=5;, score=0.745 total time=   1.3s\n",
      "[CV 4/5] END max_depth=30, min_samples_leaf=1, min_samples_split=5;, score=0.742 total time=   1.3s\n",
      "[CV 5/5] END max_depth=30, min_samples_leaf=1, min_samples_split=5;, score=0.740 total time=   1.3s\n",
      "[CV 1/5] END max_depth=30, min_samples_leaf=1, min_samples_split=10;, score=0.741 total time=   1.3s\n",
      "[CV 2/5] END max_depth=30, min_samples_leaf=1, min_samples_split=10;, score=0.739 total time=   1.2s\n",
      "[CV 3/5] END max_depth=30, min_samples_leaf=1, min_samples_split=10;, score=0.743 total time=   1.3s\n",
      "[CV 4/5] END max_depth=30, min_samples_leaf=1, min_samples_split=10;, score=0.738 total time=   1.3s\n",
      "[CV 5/5] END max_depth=30, min_samples_leaf=1, min_samples_split=10;, score=0.733 total time=   1.2s\n",
      "[CV 1/5] END max_depth=30, min_samples_leaf=2, min_samples_split=2;, score=0.745 total time=   1.4s\n",
      "[CV 2/5] END max_depth=30, min_samples_leaf=2, min_samples_split=2;, score=0.734 total time=   1.3s\n",
      "[CV 3/5] END max_depth=30, min_samples_leaf=2, min_samples_split=2;, score=0.733 total time=   1.5s\n",
      "[CV 4/5] END max_depth=30, min_samples_leaf=2, min_samples_split=2;, score=0.737 total time=   1.3s\n",
      "[CV 5/5] END max_depth=30, min_samples_leaf=2, min_samples_split=2;, score=0.737 total time=   1.3s\n",
      "[CV 1/5] END max_depth=30, min_samples_leaf=2, min_samples_split=5;, score=0.741 total time=   1.2s\n",
      "[CV 2/5] END max_depth=30, min_samples_leaf=2, min_samples_split=5;, score=0.733 total time=   1.2s\n",
      "[CV 3/5] END max_depth=30, min_samples_leaf=2, min_samples_split=5;, score=0.739 total time=   1.2s\n",
      "[CV 4/5] END max_depth=30, min_samples_leaf=2, min_samples_split=5;, score=0.735 total time=   1.3s\n",
      "[CV 5/5] END max_depth=30, min_samples_leaf=2, min_samples_split=5;, score=0.738 total time=   1.2s\n",
      "[CV 1/5] END max_depth=30, min_samples_leaf=2, min_samples_split=10;, score=0.738 total time=   1.2s\n",
      "[CV 2/5] END max_depth=30, min_samples_leaf=2, min_samples_split=10;, score=0.734 total time=   1.2s\n",
      "[CV 3/5] END max_depth=30, min_samples_leaf=2, min_samples_split=10;, score=0.739 total time=   1.2s\n",
      "[CV 4/5] END max_depth=30, min_samples_leaf=2, min_samples_split=10;, score=0.734 total time=   1.2s\n",
      "[CV 5/5] END max_depth=30, min_samples_leaf=2, min_samples_split=10;, score=0.734 total time=   1.2s\n",
      "[CV 1/5] END max_depth=30, min_samples_leaf=4, min_samples_split=2;, score=0.740 total time=   1.2s\n",
      "[CV 2/5] END max_depth=30, min_samples_leaf=4, min_samples_split=2;, score=0.728 total time=   1.1s\n",
      "[CV 3/5] END max_depth=30, min_samples_leaf=4, min_samples_split=2;, score=0.738 total time=   1.2s\n",
      "[CV 4/5] END max_depth=30, min_samples_leaf=4, min_samples_split=2;, score=0.737 total time=   1.1s\n",
      "[CV 5/5] END max_depth=30, min_samples_leaf=4, min_samples_split=2;, score=0.740 total time=   1.2s\n",
      "[CV 1/5] END max_depth=30, min_samples_leaf=4, min_samples_split=5;, score=0.738 total time=   1.3s\n",
      "[CV 2/5] END max_depth=30, min_samples_leaf=4, min_samples_split=5;, score=0.729 total time=   1.1s\n",
      "[CV 3/5] END max_depth=30, min_samples_leaf=4, min_samples_split=5;, score=0.742 total time=   1.2s\n",
      "[CV 4/5] END max_depth=30, min_samples_leaf=4, min_samples_split=5;, score=0.733 total time=   1.2s\n",
      "[CV 5/5] END max_depth=30, min_samples_leaf=4, min_samples_split=5;, score=0.737 total time=   1.2s\n",
      "[CV 1/5] END max_depth=30, min_samples_leaf=4, min_samples_split=10;, score=0.737 total time=   1.2s\n",
      "[CV 2/5] END max_depth=30, min_samples_leaf=4, min_samples_split=10;, score=0.726 total time=   1.1s\n",
      "[CV 3/5] END max_depth=30, min_samples_leaf=4, min_samples_split=10;, score=0.742 total time=   1.3s\n",
      "[CV 4/5] END max_depth=30, min_samples_leaf=4, min_samples_split=10;, score=0.732 total time=   1.3s\n",
      "[CV 5/5] END max_depth=30, min_samples_leaf=4, min_samples_split=10;, score=0.737 total time=   1.2s\n",
      "[CV 1/5] END max_depth=50, min_samples_leaf=1, min_samples_split=2;, score=0.750 total time=   1.4s\n",
      "[CV 2/5] END max_depth=50, min_samples_leaf=1, min_samples_split=2;, score=0.740 total time=   1.3s\n",
      "[CV 3/5] END max_depth=50, min_samples_leaf=1, min_samples_split=2;, score=0.753 total time=   1.3s\n",
      "[CV 4/5] END max_depth=50, min_samples_leaf=1, min_samples_split=2;, score=0.744 total time=   1.3s\n",
      "[CV 5/5] END max_depth=50, min_samples_leaf=1, min_samples_split=2;, score=0.744 total time=   1.3s\n",
      "[CV 1/5] END max_depth=50, min_samples_leaf=1, min_samples_split=5;, score=0.751 total time=   1.4s\n",
      "[CV 2/5] END max_depth=50, min_samples_leaf=1, min_samples_split=5;, score=0.740 total time=   1.2s\n",
      "[CV 3/5] END max_depth=50, min_samples_leaf=1, min_samples_split=5;, score=0.750 total time=   1.3s\n",
      "[CV 4/5] END max_depth=50, min_samples_leaf=1, min_samples_split=5;, score=0.744 total time=   1.3s\n",
      "[CV 5/5] END max_depth=50, min_samples_leaf=1, min_samples_split=5;, score=0.739 total time=   1.3s\n",
      "[CV 1/5] END max_depth=50, min_samples_leaf=1, min_samples_split=10;, score=0.737 total time=   1.4s\n",
      "[CV 2/5] END max_depth=50, min_samples_leaf=1, min_samples_split=10;, score=0.734 total time=   1.6s\n",
      "[CV 3/5] END max_depth=50, min_samples_leaf=1, min_samples_split=10;, score=0.745 total time=   1.3s\n",
      "[CV 4/5] END max_depth=50, min_samples_leaf=1, min_samples_split=10;, score=0.740 total time=   1.5s\n",
      "[CV 5/5] END max_depth=50, min_samples_leaf=1, min_samples_split=10;, score=0.733 total time=   1.3s\n",
      "[CV 1/5] END max_depth=50, min_samples_leaf=2, min_samples_split=2;, score=0.741 total time=   1.3s\n",
      "[CV 2/5] END max_depth=50, min_samples_leaf=2, min_samples_split=2;, score=0.733 total time=   1.2s\n",
      "[CV 3/5] END max_depth=50, min_samples_leaf=2, min_samples_split=2;, score=0.739 total time=   1.2s\n",
      "[CV 4/5] END max_depth=50, min_samples_leaf=2, min_samples_split=2;, score=0.738 total time=   1.3s\n",
      "[CV 5/5] END max_depth=50, min_samples_leaf=2, min_samples_split=2;, score=0.740 total time=   1.3s\n",
      "[CV 1/5] END max_depth=50, min_samples_leaf=2, min_samples_split=5;, score=0.742 total time=   1.3s\n",
      "[CV 2/5] END max_depth=50, min_samples_leaf=2, min_samples_split=5;, score=0.732 total time=   1.2s\n",
      "[CV 3/5] END max_depth=50, min_samples_leaf=2, min_samples_split=5;, score=0.736 total time=   1.3s\n",
      "[CV 4/5] END max_depth=50, min_samples_leaf=2, min_samples_split=5;, score=0.734 total time=   1.3s\n",
      "[CV 5/5] END max_depth=50, min_samples_leaf=2, min_samples_split=5;, score=0.740 total time=   1.3s\n",
      "[CV 1/5] END max_depth=50, min_samples_leaf=2, min_samples_split=10;, score=0.738 total time=   1.2s\n",
      "[CV 2/5] END max_depth=50, min_samples_leaf=2, min_samples_split=10;, score=0.735 total time=   1.3s\n",
      "[CV 3/5] END max_depth=50, min_samples_leaf=2, min_samples_split=10;, score=0.741 total time=   1.3s\n",
      "[CV 4/5] END max_depth=50, min_samples_leaf=2, min_samples_split=10;, score=0.733 total time=   1.3s\n",
      "[CV 5/5] END max_depth=50, min_samples_leaf=2, min_samples_split=10;, score=0.731 total time=   1.2s\n",
      "[CV 1/5] END max_depth=50, min_samples_leaf=4, min_samples_split=2;, score=0.741 total time=   1.2s\n",
      "[CV 2/5] END max_depth=50, min_samples_leaf=4, min_samples_split=2;, score=0.727 total time=   1.2s\n",
      "[CV 3/5] END max_depth=50, min_samples_leaf=4, min_samples_split=2;, score=0.740 total time=   1.3s\n",
      "[CV 4/5] END max_depth=50, min_samples_leaf=4, min_samples_split=2;, score=0.736 total time=   1.3s\n",
      "[CV 5/5] END max_depth=50, min_samples_leaf=4, min_samples_split=2;, score=0.737 total time=   1.2s\n",
      "[CV 1/5] END max_depth=50, min_samples_leaf=4, min_samples_split=5;, score=0.739 total time=   1.4s\n",
      "[CV 2/5] END max_depth=50, min_samples_leaf=4, min_samples_split=5;, score=0.730 total time=   1.2s\n",
      "[CV 3/5] END max_depth=50, min_samples_leaf=4, min_samples_split=5;, score=0.740 total time=   1.2s\n",
      "[CV 4/5] END max_depth=50, min_samples_leaf=4, min_samples_split=5;, score=0.734 total time=   1.3s\n",
      "[CV 5/5] END max_depth=50, min_samples_leaf=4, min_samples_split=5;, score=0.737 total time=   1.3s\n",
      "[CV 1/5] END max_depth=50, min_samples_leaf=4, min_samples_split=10;, score=0.738 total time=   1.2s\n",
      "[CV 2/5] END max_depth=50, min_samples_leaf=4, min_samples_split=10;, score=0.729 total time=   1.1s\n",
      "[CV 3/5] END max_depth=50, min_samples_leaf=4, min_samples_split=10;, score=0.740 total time=   1.2s\n",
      "[CV 4/5] END max_depth=50, min_samples_leaf=4, min_samples_split=10;, score=0.734 total time=   1.2s\n",
      "[CV 5/5] END max_depth=50, min_samples_leaf=4, min_samples_split=10;, score=0.744 total time=   1.2s\n"
     ]
    },
    {
     "data": {
      "text/html": [
       "<style>#sk-container-id-8 {color: black;}#sk-container-id-8 pre{padding: 0;}#sk-container-id-8 div.sk-toggleable {background-color: white;}#sk-container-id-8 label.sk-toggleable__label {cursor: pointer;display: block;width: 100%;margin-bottom: 0;padding: 0.3em;box-sizing: border-box;text-align: center;}#sk-container-id-8 label.sk-toggleable__label-arrow:before {content: \"▸\";float: left;margin-right: 0.25em;color: #696969;}#sk-container-id-8 label.sk-toggleable__label-arrow:hover:before {color: black;}#sk-container-id-8 div.sk-estimator:hover label.sk-toggleable__label-arrow:before {color: black;}#sk-container-id-8 div.sk-toggleable__content {max-height: 0;max-width: 0;overflow: hidden;text-align: left;background-color: #f0f8ff;}#sk-container-id-8 div.sk-toggleable__content pre {margin: 0.2em;color: black;border-radius: 0.25em;background-color: #f0f8ff;}#sk-container-id-8 input.sk-toggleable__control:checked~div.sk-toggleable__content {max-height: 200px;max-width: 100%;overflow: auto;}#sk-container-id-8 input.sk-toggleable__control:checked~label.sk-toggleable__label-arrow:before {content: \"▾\";}#sk-container-id-8 div.sk-estimator input.sk-toggleable__control:checked~label.sk-toggleable__label {background-color: #d4ebff;}#sk-container-id-8 div.sk-label input.sk-toggleable__control:checked~label.sk-toggleable__label {background-color: #d4ebff;}#sk-container-id-8 input.sk-hidden--visually {border: 0;clip: rect(1px 1px 1px 1px);clip: rect(1px, 1px, 1px, 1px);height: 1px;margin: -1px;overflow: hidden;padding: 0;position: absolute;width: 1px;}#sk-container-id-8 div.sk-estimator {font-family: monospace;background-color: #f0f8ff;border: 1px dotted black;border-radius: 0.25em;box-sizing: border-box;margin-bottom: 0.5em;}#sk-container-id-8 div.sk-estimator:hover {background-color: #d4ebff;}#sk-container-id-8 div.sk-parallel-item::after {content: \"\";width: 100%;border-bottom: 1px solid gray;flex-grow: 1;}#sk-container-id-8 div.sk-label:hover label.sk-toggleable__label {background-color: #d4ebff;}#sk-container-id-8 div.sk-serial::before {content: \"\";position: absolute;border-left: 1px solid gray;box-sizing: border-box;top: 0;bottom: 0;left: 50%;z-index: 0;}#sk-container-id-8 div.sk-serial {display: flex;flex-direction: column;align-items: center;background-color: white;padding-right: 0.2em;padding-left: 0.2em;position: relative;}#sk-container-id-8 div.sk-item {position: relative;z-index: 1;}#sk-container-id-8 div.sk-parallel {display: flex;align-items: stretch;justify-content: center;background-color: white;position: relative;}#sk-container-id-8 div.sk-item::before, #sk-container-id-8 div.sk-parallel-item::before {content: \"\";position: absolute;border-left: 1px solid gray;box-sizing: border-box;top: 0;bottom: 0;left: 50%;z-index: -1;}#sk-container-id-8 div.sk-parallel-item {display: flex;flex-direction: column;z-index: 1;position: relative;background-color: white;}#sk-container-id-8 div.sk-parallel-item:first-child::after {align-self: flex-end;width: 50%;}#sk-container-id-8 div.sk-parallel-item:last-child::after {align-self: flex-start;width: 50%;}#sk-container-id-8 div.sk-parallel-item:only-child::after {width: 0;}#sk-container-id-8 div.sk-dashed-wrapped {border: 1px dashed gray;margin: 0 0.4em 0.5em 0.4em;box-sizing: border-box;padding-bottom: 0.4em;background-color: white;}#sk-container-id-8 div.sk-label label {font-family: monospace;font-weight: bold;display: inline-block;line-height: 1.2em;}#sk-container-id-8 div.sk-label-container {text-align: center;}#sk-container-id-8 div.sk-container {/* jupyter's `normalize.less` sets `[hidden] { display: none; }` but bootstrap.min.css set `[hidden] { display: none !important; }` so we also need the `!important` here to be able to override the default hidden behavior on the sphinx rendered scikit-learn.org. See: https://github.com/scikit-learn/scikit-learn/issues/21755 */display: inline-block !important;position: relative;}#sk-container-id-8 div.sk-text-repr-fallback {display: none;}</style><div id=\"sk-container-id-8\" class=\"sk-top-container\"><div class=\"sk-text-repr-fallback\"><pre>GridSearchCV(cv=5, estimator=DecisionTreeClassifier(),\n",
       "             param_grid={&#x27;max_depth&#x27;: [2, 5, 10, 20, 30, 50],\n",
       "                         &#x27;min_samples_leaf&#x27;: [1, 2, 4],\n",
       "                         &#x27;min_samples_split&#x27;: [2, 5, 10]},\n",
       "             scoring=&#x27;f1&#x27;, verbose=3)</pre><b>In a Jupyter environment, please rerun this cell to show the HTML representation or trust the notebook. <br />On GitHub, the HTML representation is unable to render, please try loading this page with nbviewer.org.</b></div><div class=\"sk-container\" hidden><div class=\"sk-item sk-dashed-wrapped\"><div class=\"sk-label-container\"><div class=\"sk-label sk-toggleable\"><input class=\"sk-toggleable__control sk-hidden--visually\" id=\"sk-estimator-id-22\" type=\"checkbox\" ><label for=\"sk-estimator-id-22\" class=\"sk-toggleable__label sk-toggleable__label-arrow\">GridSearchCV</label><div class=\"sk-toggleable__content\"><pre>GridSearchCV(cv=5, estimator=DecisionTreeClassifier(),\n",
       "             param_grid={&#x27;max_depth&#x27;: [2, 5, 10, 20, 30, 50],\n",
       "                         &#x27;min_samples_leaf&#x27;: [1, 2, 4],\n",
       "                         &#x27;min_samples_split&#x27;: [2, 5, 10]},\n",
       "             scoring=&#x27;f1&#x27;, verbose=3)</pre></div></div></div><div class=\"sk-parallel\"><div class=\"sk-parallel-item\"><div class=\"sk-item\"><div class=\"sk-label-container\"><div class=\"sk-label sk-toggleable\"><input class=\"sk-toggleable__control sk-hidden--visually\" id=\"sk-estimator-id-23\" type=\"checkbox\" ><label for=\"sk-estimator-id-23\" class=\"sk-toggleable__label sk-toggleable__label-arrow\">estimator: DecisionTreeClassifier</label><div class=\"sk-toggleable__content\"><pre>DecisionTreeClassifier()</pre></div></div></div><div class=\"sk-serial\"><div class=\"sk-item\"><div class=\"sk-estimator sk-toggleable\"><input class=\"sk-toggleable__control sk-hidden--visually\" id=\"sk-estimator-id-24\" type=\"checkbox\" ><label for=\"sk-estimator-id-24\" class=\"sk-toggleable__label sk-toggleable__label-arrow\">DecisionTreeClassifier</label><div class=\"sk-toggleable__content\"><pre>DecisionTreeClassifier()</pre></div></div></div></div></div></div></div></div></div></div>"
      ],
      "text/plain": [
       "GridSearchCV(cv=5, estimator=DecisionTreeClassifier(),\n",
       "             param_grid={'max_depth': [2, 5, 10, 20, 30, 50],\n",
       "                         'min_samples_leaf': [1, 2, 4],\n",
       "                         'min_samples_split': [2, 5, 10]},\n",
       "             scoring='f1', verbose=3)"
      ]
     },
     "execution_count": 63,
     "metadata": {},
     "output_type": "execute_result"
    }
   ],
   "source": [
    "dt=DecisionTreeClassifier()\n",
    "grid_search_dt = GridSearchCV(estimator=dt, param_grid=param_dt, scoring='f1', cv=5, verbose = 3)\n",
    "grid_search_dt.fit(X_train, y_train)"
   ]
  },
  {
   "cell_type": "code",
   "execution_count": 64,
   "id": "4d2cebd9",
   "metadata": {},
   "outputs": [
    {
     "name": "stdout",
     "output_type": "stream",
     "text": [
      "{'max_depth': 20, 'min_samples_leaf': 1, 'min_samples_split': 2}\n"
     ]
    }
   ],
   "source": [
    "print(grid_search_dt.best_params_)"
   ]
  },
  {
   "cell_type": "code",
   "execution_count": 65,
   "id": "48cc26f5",
   "metadata": {},
   "outputs": [],
   "source": [
    "# Predicting the target value\n",
    "y_pred_dt_grid= grid_search_dt.predict(X_test)"
   ]
  },
  {
   "cell_type": "code",
   "execution_count": 66,
   "id": "9dd39317",
   "metadata": {},
   "outputs": [
    {
     "name": "stdout",
     "output_type": "stream",
     "text": [
      "              precision    recall  f1-score   support\n",
      "\n",
      "           0       0.76      0.74      0.75      7013\n",
      "           1       0.74      0.76      0.75      7006\n",
      "\n",
      "    accuracy                           0.75     14019\n",
      "   macro avg       0.75      0.75      0.75     14019\n",
      "weighted avg       0.75      0.75      0.75     14019\n",
      "\n",
      "[[5177 1836]\n",
      " [1656 5350]]\n",
      "Accuracy: 0.7509094799914402\n",
      "F1 Score: 0.7539458850056369\n"
     ]
    }
   ],
   "source": [
    "## Printing classification report, confusion matrix, and accuracy of the best parameter.\n",
    "print(classification_report(y_test,y_pred_dt_grid))\n",
    "print(confusion_matrix(y_test,y_pred_dt_grid))\n",
    "print(\"Accuracy:\",(accuracy_score(y_test,y_pred_dt_grid)))\n",
    "print(\"F1 Score:\", (f1_score(y_test, y_pred_dt_grid)))"
   ]
  },
  {
   "cell_type": "markdown",
   "id": "7afa38b1",
   "metadata": {},
   "source": [
    "### Decision tree Random SearchCV"
   ]
  },
  {
   "cell_type": "code",
   "execution_count": 69,
   "id": "f5b985e9",
   "metadata": {},
   "outputs": [],
   "source": [
    "random_search_dt= RandomizedSearchCV(estimator=dt, param_distributions=param_dt, n_iter=10, scoring='f1', cv=5, verbose = 3)"
   ]
  },
  {
   "cell_type": "code",
   "execution_count": 70,
   "id": "10c00bed",
   "metadata": {},
   "outputs": [
    {
     "name": "stdout",
     "output_type": "stream",
     "text": [
      "Fitting 5 folds for each of 10 candidates, totalling 50 fits\n",
      "[CV 1/5] END max_depth=10, min_samples_leaf=4, min_samples_split=10;, score=0.744 total time=   0.7s\n",
      "[CV 2/5] END max_depth=10, min_samples_leaf=4, min_samples_split=10;, score=0.746 total time=   0.7s\n",
      "[CV 3/5] END max_depth=10, min_samples_leaf=4, min_samples_split=10;, score=0.739 total time=   0.7s\n",
      "[CV 4/5] END max_depth=10, min_samples_leaf=4, min_samples_split=10;, score=0.739 total time=   0.7s\n",
      "[CV 5/5] END max_depth=10, min_samples_leaf=4, min_samples_split=10;, score=0.740 total time=   0.7s\n",
      "[CV 1/5] END max_depth=50, min_samples_leaf=4, min_samples_split=2;, score=0.738 total time=   1.1s\n",
      "[CV 2/5] END max_depth=50, min_samples_leaf=4, min_samples_split=2;, score=0.725 total time=   1.1s\n",
      "[CV 3/5] END max_depth=50, min_samples_leaf=4, min_samples_split=2;, score=0.740 total time=   1.1s\n",
      "[CV 4/5] END max_depth=50, min_samples_leaf=4, min_samples_split=2;, score=0.736 total time=   1.1s\n",
      "[CV 5/5] END max_depth=50, min_samples_leaf=4, min_samples_split=2;, score=0.742 total time=   1.1s\n",
      "[CV 1/5] END max_depth=2, min_samples_leaf=4, min_samples_split=5;, score=0.568 total time=   0.1s\n",
      "[CV 2/5] END max_depth=2, min_samples_leaf=4, min_samples_split=5;, score=0.559 total time=   0.1s\n",
      "[CV 3/5] END max_depth=2, min_samples_leaf=4, min_samples_split=5;, score=0.552 total time=   0.1s\n",
      "[CV 4/5] END max_depth=2, min_samples_leaf=4, min_samples_split=5;, score=0.569 total time=   0.1s\n",
      "[CV 5/5] END max_depth=2, min_samples_leaf=4, min_samples_split=5;, score=0.557 total time=   0.1s\n",
      "[CV 1/5] END max_depth=20, min_samples_leaf=4, min_samples_split=5;, score=0.740 total time=   1.1s\n",
      "[CV 2/5] END max_depth=20, min_samples_leaf=4, min_samples_split=5;, score=0.731 total time=   1.1s\n",
      "[CV 3/5] END max_depth=20, min_samples_leaf=4, min_samples_split=5;, score=0.739 total time=   1.3s\n",
      "[CV 4/5] END max_depth=20, min_samples_leaf=4, min_samples_split=5;, score=0.736 total time=   1.2s\n",
      "[CV 5/5] END max_depth=20, min_samples_leaf=4, min_samples_split=5;, score=0.740 total time=   1.1s\n",
      "[CV 1/5] END max_depth=2, min_samples_leaf=4, min_samples_split=10;, score=0.568 total time=   0.1s\n",
      "[CV 2/5] END max_depth=2, min_samples_leaf=4, min_samples_split=10;, score=0.559 total time=   0.1s\n",
      "[CV 3/5] END max_depth=2, min_samples_leaf=4, min_samples_split=10;, score=0.552 total time=   0.1s\n",
      "[CV 4/5] END max_depth=2, min_samples_leaf=4, min_samples_split=10;, score=0.569 total time=   0.1s\n",
      "[CV 5/5] END max_depth=2, min_samples_leaf=4, min_samples_split=10;, score=0.557 total time=   0.1s\n",
      "[CV 1/5] END max_depth=30, min_samples_leaf=1, min_samples_split=2;, score=0.749 total time=   1.3s\n",
      "[CV 2/5] END max_depth=30, min_samples_leaf=1, min_samples_split=2;, score=0.740 total time=   1.3s\n",
      "[CV 3/5] END max_depth=30, min_samples_leaf=1, min_samples_split=2;, score=0.752 total time=   1.3s\n",
      "[CV 4/5] END max_depth=30, min_samples_leaf=1, min_samples_split=2;, score=0.744 total time=   1.3s\n",
      "[CV 5/5] END max_depth=30, min_samples_leaf=1, min_samples_split=2;, score=0.749 total time=   1.3s\n",
      "[CV 1/5] END max_depth=20, min_samples_leaf=2, min_samples_split=5;, score=0.748 total time=   1.2s\n",
      "[CV 2/5] END max_depth=20, min_samples_leaf=2, min_samples_split=5;, score=0.737 total time=   1.2s\n",
      "[CV 3/5] END max_depth=20, min_samples_leaf=2, min_samples_split=5;, score=0.735 total time=   1.2s\n",
      "[CV 4/5] END max_depth=20, min_samples_leaf=2, min_samples_split=5;, score=0.742 total time=   1.4s\n",
      "[CV 5/5] END max_depth=20, min_samples_leaf=2, min_samples_split=5;, score=0.740 total time=   1.2s\n",
      "[CV 1/5] END max_depth=50, min_samples_leaf=1, min_samples_split=5;, score=0.746 total time=   1.3s\n",
      "[CV 2/5] END max_depth=50, min_samples_leaf=1, min_samples_split=5;, score=0.735 total time=   1.3s\n",
      "[CV 3/5] END max_depth=50, min_samples_leaf=1, min_samples_split=5;, score=0.747 total time=   1.3s\n",
      "[CV 4/5] END max_depth=50, min_samples_leaf=1, min_samples_split=5;, score=0.741 total time=   1.3s\n",
      "[CV 5/5] END max_depth=50, min_samples_leaf=1, min_samples_split=5;, score=0.742 total time=   1.3s\n",
      "[CV 1/5] END max_depth=10, min_samples_leaf=1, min_samples_split=2;, score=0.747 total time=   0.7s\n",
      "[CV 2/5] END max_depth=10, min_samples_leaf=1, min_samples_split=2;, score=0.745 total time=   0.7s\n",
      "[CV 3/5] END max_depth=10, min_samples_leaf=1, min_samples_split=2;, score=0.741 total time=   0.8s\n",
      "[CV 4/5] END max_depth=10, min_samples_leaf=1, min_samples_split=2;, score=0.742 total time=   0.8s\n",
      "[CV 5/5] END max_depth=10, min_samples_leaf=1, min_samples_split=2;, score=0.740 total time=   0.7s\n",
      "[CV 1/5] END max_depth=2, min_samples_leaf=1, min_samples_split=5;, score=0.568 total time=   0.1s\n",
      "[CV 2/5] END max_depth=2, min_samples_leaf=1, min_samples_split=5;, score=0.559 total time=   0.1s\n",
      "[CV 3/5] END max_depth=2, min_samples_leaf=1, min_samples_split=5;, score=0.552 total time=   0.1s\n",
      "[CV 4/5] END max_depth=2, min_samples_leaf=1, min_samples_split=5;, score=0.569 total time=   0.1s\n",
      "[CV 5/5] END max_depth=2, min_samples_leaf=1, min_samples_split=5;, score=0.557 total time=   0.1s\n"
     ]
    },
    {
     "data": {
      "text/html": [
       "<style>#sk-container-id-9 {color: black;}#sk-container-id-9 pre{padding: 0;}#sk-container-id-9 div.sk-toggleable {background-color: white;}#sk-container-id-9 label.sk-toggleable__label {cursor: pointer;display: block;width: 100%;margin-bottom: 0;padding: 0.3em;box-sizing: border-box;text-align: center;}#sk-container-id-9 label.sk-toggleable__label-arrow:before {content: \"▸\";float: left;margin-right: 0.25em;color: #696969;}#sk-container-id-9 label.sk-toggleable__label-arrow:hover:before {color: black;}#sk-container-id-9 div.sk-estimator:hover label.sk-toggleable__label-arrow:before {color: black;}#sk-container-id-9 div.sk-toggleable__content {max-height: 0;max-width: 0;overflow: hidden;text-align: left;background-color: #f0f8ff;}#sk-container-id-9 div.sk-toggleable__content pre {margin: 0.2em;color: black;border-radius: 0.25em;background-color: #f0f8ff;}#sk-container-id-9 input.sk-toggleable__control:checked~div.sk-toggleable__content {max-height: 200px;max-width: 100%;overflow: auto;}#sk-container-id-9 input.sk-toggleable__control:checked~label.sk-toggleable__label-arrow:before {content: \"▾\";}#sk-container-id-9 div.sk-estimator input.sk-toggleable__control:checked~label.sk-toggleable__label {background-color: #d4ebff;}#sk-container-id-9 div.sk-label input.sk-toggleable__control:checked~label.sk-toggleable__label {background-color: #d4ebff;}#sk-container-id-9 input.sk-hidden--visually {border: 0;clip: rect(1px 1px 1px 1px);clip: rect(1px, 1px, 1px, 1px);height: 1px;margin: -1px;overflow: hidden;padding: 0;position: absolute;width: 1px;}#sk-container-id-9 div.sk-estimator {font-family: monospace;background-color: #f0f8ff;border: 1px dotted black;border-radius: 0.25em;box-sizing: border-box;margin-bottom: 0.5em;}#sk-container-id-9 div.sk-estimator:hover {background-color: #d4ebff;}#sk-container-id-9 div.sk-parallel-item::after {content: \"\";width: 100%;border-bottom: 1px solid gray;flex-grow: 1;}#sk-container-id-9 div.sk-label:hover label.sk-toggleable__label {background-color: #d4ebff;}#sk-container-id-9 div.sk-serial::before {content: \"\";position: absolute;border-left: 1px solid gray;box-sizing: border-box;top: 0;bottom: 0;left: 50%;z-index: 0;}#sk-container-id-9 div.sk-serial {display: flex;flex-direction: column;align-items: center;background-color: white;padding-right: 0.2em;padding-left: 0.2em;position: relative;}#sk-container-id-9 div.sk-item {position: relative;z-index: 1;}#sk-container-id-9 div.sk-parallel {display: flex;align-items: stretch;justify-content: center;background-color: white;position: relative;}#sk-container-id-9 div.sk-item::before, #sk-container-id-9 div.sk-parallel-item::before {content: \"\";position: absolute;border-left: 1px solid gray;box-sizing: border-box;top: 0;bottom: 0;left: 50%;z-index: -1;}#sk-container-id-9 div.sk-parallel-item {display: flex;flex-direction: column;z-index: 1;position: relative;background-color: white;}#sk-container-id-9 div.sk-parallel-item:first-child::after {align-self: flex-end;width: 50%;}#sk-container-id-9 div.sk-parallel-item:last-child::after {align-self: flex-start;width: 50%;}#sk-container-id-9 div.sk-parallel-item:only-child::after {width: 0;}#sk-container-id-9 div.sk-dashed-wrapped {border: 1px dashed gray;margin: 0 0.4em 0.5em 0.4em;box-sizing: border-box;padding-bottom: 0.4em;background-color: white;}#sk-container-id-9 div.sk-label label {font-family: monospace;font-weight: bold;display: inline-block;line-height: 1.2em;}#sk-container-id-9 div.sk-label-container {text-align: center;}#sk-container-id-9 div.sk-container {/* jupyter's `normalize.less` sets `[hidden] { display: none; }` but bootstrap.min.css set `[hidden] { display: none !important; }` so we also need the `!important` here to be able to override the default hidden behavior on the sphinx rendered scikit-learn.org. See: https://github.com/scikit-learn/scikit-learn/issues/21755 */display: inline-block !important;position: relative;}#sk-container-id-9 div.sk-text-repr-fallback {display: none;}</style><div id=\"sk-container-id-9\" class=\"sk-top-container\"><div class=\"sk-text-repr-fallback\"><pre>RandomizedSearchCV(cv=5, estimator=DecisionTreeClassifier(),\n",
       "                   param_distributions={&#x27;max_depth&#x27;: [2, 5, 10, 20, 30, 50],\n",
       "                                        &#x27;min_samples_leaf&#x27;: [1, 2, 4],\n",
       "                                        &#x27;min_samples_split&#x27;: [2, 5, 10]},\n",
       "                   scoring=&#x27;f1&#x27;, verbose=3)</pre><b>In a Jupyter environment, please rerun this cell to show the HTML representation or trust the notebook. <br />On GitHub, the HTML representation is unable to render, please try loading this page with nbviewer.org.</b></div><div class=\"sk-container\" hidden><div class=\"sk-item sk-dashed-wrapped\"><div class=\"sk-label-container\"><div class=\"sk-label sk-toggleable\"><input class=\"sk-toggleable__control sk-hidden--visually\" id=\"sk-estimator-id-25\" type=\"checkbox\" ><label for=\"sk-estimator-id-25\" class=\"sk-toggleable__label sk-toggleable__label-arrow\">RandomizedSearchCV</label><div class=\"sk-toggleable__content\"><pre>RandomizedSearchCV(cv=5, estimator=DecisionTreeClassifier(),\n",
       "                   param_distributions={&#x27;max_depth&#x27;: [2, 5, 10, 20, 30, 50],\n",
       "                                        &#x27;min_samples_leaf&#x27;: [1, 2, 4],\n",
       "                                        &#x27;min_samples_split&#x27;: [2, 5, 10]},\n",
       "                   scoring=&#x27;f1&#x27;, verbose=3)</pre></div></div></div><div class=\"sk-parallel\"><div class=\"sk-parallel-item\"><div class=\"sk-item\"><div class=\"sk-label-container\"><div class=\"sk-label sk-toggleable\"><input class=\"sk-toggleable__control sk-hidden--visually\" id=\"sk-estimator-id-26\" type=\"checkbox\" ><label for=\"sk-estimator-id-26\" class=\"sk-toggleable__label sk-toggleable__label-arrow\">estimator: DecisionTreeClassifier</label><div class=\"sk-toggleable__content\"><pre>DecisionTreeClassifier()</pre></div></div></div><div class=\"sk-serial\"><div class=\"sk-item\"><div class=\"sk-estimator sk-toggleable\"><input class=\"sk-toggleable__control sk-hidden--visually\" id=\"sk-estimator-id-27\" type=\"checkbox\" ><label for=\"sk-estimator-id-27\" class=\"sk-toggleable__label sk-toggleable__label-arrow\">DecisionTreeClassifier</label><div class=\"sk-toggleable__content\"><pre>DecisionTreeClassifier()</pre></div></div></div></div></div></div></div></div></div></div>"
      ],
      "text/plain": [
       "RandomizedSearchCV(cv=5, estimator=DecisionTreeClassifier(),\n",
       "                   param_distributions={'max_depth': [2, 5, 10, 20, 30, 50],\n",
       "                                        'min_samples_leaf': [1, 2, 4],\n",
       "                                        'min_samples_split': [2, 5, 10]},\n",
       "                   scoring='f1', verbose=3)"
      ]
     },
     "execution_count": 70,
     "metadata": {},
     "output_type": "execute_result"
    }
   ],
   "source": [
    "random_search_dt.fit(X_train,y_train)"
   ]
  },
  {
   "cell_type": "code",
   "execution_count": 71,
   "id": "ed51a358",
   "metadata": {},
   "outputs": [
    {
     "name": "stdout",
     "output_type": "stream",
     "text": [
      "Best parameters: {'min_samples_split': 2, 'min_samples_leaf': 1, 'max_depth': 30}\n"
     ]
    }
   ],
   "source": [
    "## Getting the best parameters\n",
    "print(\"Best parameters:\", random_search_dt.best_params_)"
   ]
  },
  {
   "cell_type": "code",
   "execution_count": 72,
   "id": "c67d70f7",
   "metadata": {},
   "outputs": [],
   "source": [
    "### Predicting the target value\n",
    "y_pred_dt_rand= random_search_dt.predict(X_test)"
   ]
  },
  {
   "cell_type": "code",
   "execution_count": 73,
   "id": "f51d2f13",
   "metadata": {
    "scrolled": true
   },
   "outputs": [
    {
     "name": "stdout",
     "output_type": "stream",
     "text": [
      "              precision    recall  f1-score   support\n",
      "\n",
      "           0       0.76      0.72      0.74      7013\n",
      "           1       0.74      0.78      0.76      7006\n",
      "\n",
      "    accuracy                           0.75     14019\n",
      "   macro avg       0.75      0.75      0.75     14019\n",
      "weighted avg       0.75      0.75      0.75     14019\n",
      "\n",
      "[[5076 1937]\n",
      " [1567 5439]]\n",
      "Accuracy: 0.7500534988230259\n",
      "F1 Score: 0.7563621193158114\n"
     ]
    }
   ],
   "source": [
    "## Printing classification report, confusion matrix, and accuracy of the best parameter.\n",
    "print(classification_report(y_test,y_pred_dt_rand))\n",
    "print(confusion_matrix(y_test,y_pred_dt_rand))\n",
    "print(\"Accuracy:\",(accuracy_score(y_test,y_pred_dt_rand)))\n",
    "print(\"F1 Score:\", (f1_score(y_test, y_pred_dt_rand)))"
   ]
  },
  {
   "cell_type": "markdown",
   "id": "87f59525",
   "metadata": {},
   "source": [
    "## Comparing the results for Decision Tree obtained from Grid Search and Random Search:\n",
    "\n",
    "| Metric                    | Precision (Class 0) | Precision (Class 1) | Recall (Class 0) | Recall (Class 1) | F1-score (Class 0) | F1-score (Class 1) | Accuracy |\n",
    "|---------------------------|---------------------|---------------------|-----------------|-----------------|--------------------|--------------------|----------|\n",
    "| Random Search Decision Tree | 0.76                | 0.74                | 0.72            | 0.78            | 0.74               | 0.76               | 0.7501   |\n",
    "| Grid Search Decision Tree   | 0.76                | 0.74                | 0.74            | 0.76            | 0.75               | 0.75               | 0.7509   |\n",
    "\n",
    "\n",
    "The Random Search and Grid Search for the Decision Tree model produced very similar results in terms of precision, recall, F1-score, accuracy, and the confusion matrix. Both approaches achieved an F1-score of around 0.75, indicating a good balance between precision and recall. These results suggest that the Decision Tree model, with its hyperparameters optimized through either Random Search or Grid Search, performs consistently well on the dataset. The choice between the two search methods may depend on other factors, such as computational resources and time constraints, as the performance remains quite similar."
   ]
  },
  {
   "cell_type": "markdown",
   "id": "42233e56",
   "metadata": {},
   "source": [
    "# Random Forest with hyperparameter tuning"
   ]
  },
  {
   "cell_type": "markdown",
   "id": "1f91e772",
   "metadata": {},
   "source": [
    "###  Random forest for Grid Search "
   ]
  },
  {
   "cell_type": "code",
   "execution_count": 74,
   "id": "967f756c",
   "metadata": {},
   "outputs": [],
   "source": [
    "param_grid = {\n",
    "    'n_estimators': [100, 200, 300],\n",
    "    'max_depth': [None, 10, 20, 30],\n",
    "    'min_samples_split': [2, 5, 10],\n",
    "}"
   ]
  },
  {
   "cell_type": "code",
   "execution_count": 75,
   "id": "f73550fa",
   "metadata": {},
   "outputs": [
    {
     "name": "stdout",
     "output_type": "stream",
     "text": [
      "Fitting 5 folds for each of 36 candidates, totalling 180 fits\n",
      "[CV 1/5] END max_depth=None, min_samples_split=2, n_estimators=100;, score=0.834 total time=  18.1s\n",
      "[CV 2/5] END max_depth=None, min_samples_split=2, n_estimators=100;, score=0.824 total time=  17.8s\n",
      "[CV 3/5] END max_depth=None, min_samples_split=2, n_estimators=100;, score=0.826 total time=  18.0s\n",
      "[CV 4/5] END max_depth=None, min_samples_split=2, n_estimators=100;, score=0.824 total time=  17.8s\n",
      "[CV 5/5] END max_depth=None, min_samples_split=2, n_estimators=100;, score=0.838 total time=  17.8s\n",
      "[CV 1/5] END max_depth=None, min_samples_split=2, n_estimators=200;, score=0.836 total time=  36.1s\n",
      "[CV 2/5] END max_depth=None, min_samples_split=2, n_estimators=200;, score=0.828 total time=  35.6s\n",
      "[CV 3/5] END max_depth=None, min_samples_split=2, n_estimators=200;, score=0.829 total time=  36.3s\n",
      "[CV 4/5] END max_depth=None, min_samples_split=2, n_estimators=200;, score=0.828 total time=  35.9s\n",
      "[CV 5/5] END max_depth=None, min_samples_split=2, n_estimators=200;, score=0.841 total time=  37.4s\n",
      "[CV 1/5] END max_depth=None, min_samples_split=2, n_estimators=300;, score=0.837 total time=  57.8s\n",
      "[CV 2/5] END max_depth=None, min_samples_split=2, n_estimators=300;, score=0.827 total time=  56.2s\n",
      "[CV 3/5] END max_depth=None, min_samples_split=2, n_estimators=300;, score=0.828 total time=  57.0s\n",
      "[CV 4/5] END max_depth=None, min_samples_split=2, n_estimators=300;, score=0.828 total time=  54.5s\n",
      "[CV 5/5] END max_depth=None, min_samples_split=2, n_estimators=300;, score=0.843 total time=  53.9s\n",
      "[CV 1/5] END max_depth=None, min_samples_split=5, n_estimators=100;, score=0.831 total time=  17.8s\n",
      "[CV 2/5] END max_depth=None, min_samples_split=5, n_estimators=100;, score=0.817 total time=  17.7s\n",
      "[CV 3/5] END max_depth=None, min_samples_split=5, n_estimators=100;, score=0.824 total time=  17.6s\n",
      "[CV 4/5] END max_depth=None, min_samples_split=5, n_estimators=100;, score=0.819 total time=  17.6s\n",
      "[CV 5/5] END max_depth=None, min_samples_split=5, n_estimators=100;, score=0.831 total time=  17.4s\n",
      "[CV 1/5] END max_depth=None, min_samples_split=5, n_estimators=200;, score=0.833 total time=  35.0s\n",
      "[CV 2/5] END max_depth=None, min_samples_split=5, n_estimators=200;, score=0.817 total time=  35.0s\n",
      "[CV 3/5] END max_depth=None, min_samples_split=5, n_estimators=200;, score=0.823 total time=  37.3s\n",
      "[CV 4/5] END max_depth=None, min_samples_split=5, n_estimators=200;, score=0.822 total time=  36.8s\n",
      "[CV 5/5] END max_depth=None, min_samples_split=5, n_estimators=200;, score=0.834 total time=  36.2s\n",
      "[CV 1/5] END max_depth=None, min_samples_split=5, n_estimators=300;, score=0.832 total time=  55.2s\n",
      "[CV 2/5] END max_depth=None, min_samples_split=5, n_estimators=300;, score=0.820 total time=  55.7s\n",
      "[CV 3/5] END max_depth=None, min_samples_split=5, n_estimators=300;, score=0.825 total time=  54.5s\n",
      "[CV 4/5] END max_depth=None, min_samples_split=5, n_estimators=300;, score=0.823 total time=  53.9s\n",
      "[CV 5/5] END max_depth=None, min_samples_split=5, n_estimators=300;, score=0.836 total time=  54.0s\n",
      "[CV 1/5] END max_depth=None, min_samples_split=10, n_estimators=100;, score=0.823 total time=  17.6s\n",
      "[CV 2/5] END max_depth=None, min_samples_split=10, n_estimators=100;, score=0.810 total time=  17.4s\n",
      "[CV 3/5] END max_depth=None, min_samples_split=10, n_estimators=100;, score=0.814 total time=  17.3s\n",
      "[CV 4/5] END max_depth=None, min_samples_split=10, n_estimators=100;, score=0.816 total time=  17.3s\n",
      "[CV 5/5] END max_depth=None, min_samples_split=10, n_estimators=100;, score=0.828 total time=  17.9s\n",
      "[CV 1/5] END max_depth=None, min_samples_split=10, n_estimators=200;, score=0.824 total time=  35.8s\n",
      "[CV 2/5] END max_depth=None, min_samples_split=10, n_estimators=200;, score=0.813 total time=  34.9s\n",
      "[CV 3/5] END max_depth=None, min_samples_split=10, n_estimators=200;, score=0.814 total time=  35.5s\n",
      "[CV 4/5] END max_depth=None, min_samples_split=10, n_estimators=200;, score=0.813 total time=  35.8s\n",
      "[CV 5/5] END max_depth=None, min_samples_split=10, n_estimators=200;, score=0.828 total time=  35.3s\n",
      "[CV 1/5] END max_depth=None, min_samples_split=10, n_estimators=300;, score=0.822 total time=  53.0s\n",
      "[CV 2/5] END max_depth=None, min_samples_split=10, n_estimators=300;, score=0.812 total time=  52.0s\n",
      "[CV 3/5] END max_depth=None, min_samples_split=10, n_estimators=300;, score=0.815 total time=  50.2s\n",
      "[CV 4/5] END max_depth=None, min_samples_split=10, n_estimators=300;, score=0.815 total time=  50.2s\n",
      "[CV 5/5] END max_depth=None, min_samples_split=10, n_estimators=300;, score=0.830 total time=  50.1s\n",
      "[CV 1/5] END max_depth=10, min_samples_split=2, n_estimators=100;, score=0.776 total time=  10.5s\n",
      "[CV 2/5] END max_depth=10, min_samples_split=2, n_estimators=100;, score=0.768 total time=  10.5s\n",
      "[CV 3/5] END max_depth=10, min_samples_split=2, n_estimators=100;, score=0.776 total time=  11.0s\n",
      "[CV 4/5] END max_depth=10, min_samples_split=2, n_estimators=100;, score=0.773 total time=  10.7s\n",
      "[CV 5/5] END max_depth=10, min_samples_split=2, n_estimators=100;, score=0.786 total time=  10.6s\n",
      "[CV 1/5] END max_depth=10, min_samples_split=2, n_estimators=200;, score=0.775 total time=  21.0s\n",
      "[CV 2/5] END max_depth=10, min_samples_split=2, n_estimators=200;, score=0.770 total time=  20.7s\n",
      "[CV 3/5] END max_depth=10, min_samples_split=2, n_estimators=200;, score=0.778 total time=  21.0s\n",
      "[CV 4/5] END max_depth=10, min_samples_split=2, n_estimators=200;, score=0.771 total time=  21.1s\n",
      "[CV 5/5] END max_depth=10, min_samples_split=2, n_estimators=200;, score=0.786 total time=  20.9s\n",
      "[CV 1/5] END max_depth=10, min_samples_split=2, n_estimators=300;, score=0.777 total time=  31.4s\n",
      "[CV 2/5] END max_depth=10, min_samples_split=2, n_estimators=300;, score=0.768 total time=  31.3s\n",
      "[CV 3/5] END max_depth=10, min_samples_split=2, n_estimators=300;, score=0.776 total time=  31.2s\n",
      "[CV 4/5] END max_depth=10, min_samples_split=2, n_estimators=300;, score=0.772 total time=  31.5s\n",
      "[CV 5/5] END max_depth=10, min_samples_split=2, n_estimators=300;, score=0.788 total time=  37.0s\n",
      "[CV 1/5] END max_depth=10, min_samples_split=5, n_estimators=100;, score=0.778 total time=  11.0s\n",
      "[CV 2/5] END max_depth=10, min_samples_split=5, n_estimators=100;, score=0.766 total time=  11.5s\n",
      "[CV 3/5] END max_depth=10, min_samples_split=5, n_estimators=100;, score=0.773 total time=  11.7s\n",
      "[CV 4/5] END max_depth=10, min_samples_split=5, n_estimators=100;, score=0.773 total time=  11.3s\n",
      "[CV 5/5] END max_depth=10, min_samples_split=5, n_estimators=100;, score=0.786 total time=  11.0s\n",
      "[CV 1/5] END max_depth=10, min_samples_split=5, n_estimators=200;, score=0.778 total time=  22.2s\n",
      "[CV 2/5] END max_depth=10, min_samples_split=5, n_estimators=200;, score=0.768 total time=  21.5s\n",
      "[CV 3/5] END max_depth=10, min_samples_split=5, n_estimators=200;, score=0.777 total time=  20.8s\n",
      "[CV 4/5] END max_depth=10, min_samples_split=5, n_estimators=200;, score=0.773 total time=  20.9s\n",
      "[CV 5/5] END max_depth=10, min_samples_split=5, n_estimators=200;, score=0.784 total time=  21.1s\n",
      "[CV 1/5] END max_depth=10, min_samples_split=5, n_estimators=300;, score=0.778 total time=  31.6s\n",
      "[CV 2/5] END max_depth=10, min_samples_split=5, n_estimators=300;, score=0.766 total time=  31.4s\n",
      "[CV 3/5] END max_depth=10, min_samples_split=5, n_estimators=300;, score=0.775 total time=  31.6s\n",
      "[CV 4/5] END max_depth=10, min_samples_split=5, n_estimators=300;, score=0.771 total time=  31.2s\n",
      "[CV 5/5] END max_depth=10, min_samples_split=5, n_estimators=300;, score=0.787 total time=  31.3s\n",
      "[CV 1/5] END max_depth=10, min_samples_split=10, n_estimators=100;, score=0.778 total time=  10.8s\n",
      "[CV 2/5] END max_depth=10, min_samples_split=10, n_estimators=100;, score=0.767 total time=  10.4s\n",
      "[CV 3/5] END max_depth=10, min_samples_split=10, n_estimators=100;, score=0.772 total time=  10.3s\n",
      "[CV 4/5] END max_depth=10, min_samples_split=10, n_estimators=100;, score=0.770 total time=  10.4s\n",
      "[CV 5/5] END max_depth=10, min_samples_split=10, n_estimators=100;, score=0.784 total time=  10.8s\n",
      "[CV 1/5] END max_depth=10, min_samples_split=10, n_estimators=200;, score=0.780 total time=  21.8s\n",
      "[CV 2/5] END max_depth=10, min_samples_split=10, n_estimators=200;, score=0.767 total time=  20.8s\n",
      "[CV 3/5] END max_depth=10, min_samples_split=10, n_estimators=200;, score=0.776 total time=  21.0s\n",
      "[CV 4/5] END max_depth=10, min_samples_split=10, n_estimators=200;, score=0.771 total time=  21.5s\n",
      "[CV 5/5] END max_depth=10, min_samples_split=10, n_estimators=200;, score=0.783 total time=  21.7s\n",
      "[CV 1/5] END max_depth=10, min_samples_split=10, n_estimators=300;, score=0.777 total time=  31.1s\n",
      "[CV 2/5] END max_depth=10, min_samples_split=10, n_estimators=300;, score=0.768 total time=  31.1s\n",
      "[CV 3/5] END max_depth=10, min_samples_split=10, n_estimators=300;, score=0.775 total time=  31.0s\n",
      "[CV 4/5] END max_depth=10, min_samples_split=10, n_estimators=300;, score=0.771 total time=  31.0s\n",
      "[CV 5/5] END max_depth=10, min_samples_split=10, n_estimators=300;, score=0.785 total time=  32.1s\n",
      "[CV 1/5] END max_depth=20, min_samples_split=2, n_estimators=100;, score=0.829 total time=  16.7s\n",
      "[CV 2/5] END max_depth=20, min_samples_split=2, n_estimators=100;, score=0.821 total time=  16.7s\n",
      "[CV 3/5] END max_depth=20, min_samples_split=2, n_estimators=100;, score=0.816 total time=  16.6s\n",
      "[CV 4/5] END max_depth=20, min_samples_split=2, n_estimators=100;, score=0.819 total time=  16.7s\n",
      "[CV 5/5] END max_depth=20, min_samples_split=2, n_estimators=100;, score=0.830 total time=  16.7s\n",
      "[CV 1/5] END max_depth=20, min_samples_split=2, n_estimators=200;, score=0.831 total time=  34.7s\n",
      "[CV 2/5] END max_depth=20, min_samples_split=2, n_estimators=200;, score=0.824 total time=  33.7s\n",
      "[CV 3/5] END max_depth=20, min_samples_split=2, n_estimators=200;, score=0.823 total time=  33.5s\n",
      "[CV 4/5] END max_depth=20, min_samples_split=2, n_estimators=200;, score=0.820 total time=  33.3s\n",
      "[CV 5/5] END max_depth=20, min_samples_split=2, n_estimators=200;, score=0.833 total time=  33.4s\n",
      "[CV 1/5] END max_depth=20, min_samples_split=2, n_estimators=300;, score=0.831 total time=  50.6s\n",
      "[CV 2/5] END max_depth=20, min_samples_split=2, n_estimators=300;, score=0.820 total time=  52.4s\n",
      "[CV 3/5] END max_depth=20, min_samples_split=2, n_estimators=300;, score=0.823 total time=  51.6s\n",
      "[CV 4/5] END max_depth=20, min_samples_split=2, n_estimators=300;, score=0.819 total time=  51.9s\n",
      "[CV 5/5] END max_depth=20, min_samples_split=2, n_estimators=300;, score=0.832 total time=  51.8s\n",
      "[CV 1/5] END max_depth=20, min_samples_split=5, n_estimators=100;, score=0.824 total time=  16.9s\n",
      "[CV 2/5] END max_depth=20, min_samples_split=5, n_estimators=100;, score=0.813 total time=  16.5s\n",
      "[CV 3/5] END max_depth=20, min_samples_split=5, n_estimators=100;, score=0.817 total time=  16.5s\n",
      "[CV 4/5] END max_depth=20, min_samples_split=5, n_estimators=100;, score=0.817 total time=  17.2s\n",
      "[CV 5/5] END max_depth=20, min_samples_split=5, n_estimators=100;, score=0.830 total time=  17.1s\n",
      "[CV 1/5] END max_depth=20, min_samples_split=5, n_estimators=200;, score=0.826 total time=  33.9s\n",
      "[CV 2/5] END max_depth=20, min_samples_split=5, n_estimators=200;, score=0.815 total time=  35.7s\n",
      "[CV 3/5] END max_depth=20, min_samples_split=5, n_estimators=200;, score=0.818 total time=  33.5s\n",
      "[CV 4/5] END max_depth=20, min_samples_split=5, n_estimators=200;, score=0.814 total time=  34.3s\n",
      "[CV 5/5] END max_depth=20, min_samples_split=5, n_estimators=200;, score=0.832 total time=  34.7s\n",
      "[CV 1/5] END max_depth=20, min_samples_split=5, n_estimators=300;, score=0.826 total time=  51.9s\n",
      "[CV 2/5] END max_depth=20, min_samples_split=5, n_estimators=300;, score=0.815 total time=  51.3s\n",
      "[CV 3/5] END max_depth=20, min_samples_split=5, n_estimators=300;, score=0.817 total time=  52.1s\n",
      "[CV 4/5] END max_depth=20, min_samples_split=5, n_estimators=300;, score=0.814 total time=  52.0s\n",
      "[CV 5/5] END max_depth=20, min_samples_split=5, n_estimators=300;, score=0.829 total time=  50.3s\n",
      "[CV 1/5] END max_depth=20, min_samples_split=10, n_estimators=100;, score=0.818 total time=  16.2s\n",
      "[CV 2/5] END max_depth=20, min_samples_split=10, n_estimators=100;, score=0.808 total time=  16.1s\n",
      "[CV 3/5] END max_depth=20, min_samples_split=10, n_estimators=100;, score=0.805 total time=  15.9s\n",
      "[CV 4/5] END max_depth=20, min_samples_split=10, n_estimators=100;, score=0.808 total time=  15.9s\n",
      "[CV 5/5] END max_depth=20, min_samples_split=10, n_estimators=100;, score=0.823 total time=  16.0s\n",
      "[CV 1/5] END max_depth=20, min_samples_split=10, n_estimators=200;, score=0.818 total time=  32.7s\n",
      "[CV 2/5] END max_depth=20, min_samples_split=10, n_estimators=200;, score=0.809 total time=  33.2s\n",
      "[CV 3/5] END max_depth=20, min_samples_split=10, n_estimators=200;, score=0.810 total time=  32.2s\n",
      "[CV 4/5] END max_depth=20, min_samples_split=10, n_estimators=200;, score=0.810 total time=  42.8s\n",
      "[CV 5/5] END max_depth=20, min_samples_split=10, n_estimators=200;, score=0.824 total time=  37.4s\n",
      "[CV 1/5] END max_depth=20, min_samples_split=10, n_estimators=300;, score=0.820 total time=  47.0s\n",
      "[CV 2/5] END max_depth=20, min_samples_split=10, n_estimators=300;, score=0.808 total time=  47.3s\n",
      "[CV 3/5] END max_depth=20, min_samples_split=10, n_estimators=300;, score=0.809 total time=  47.2s\n",
      "[CV 4/5] END max_depth=20, min_samples_split=10, n_estimators=300;, score=0.809 total time=  47.2s\n",
      "[CV 5/5] END max_depth=20, min_samples_split=10, n_estimators=300;, score=0.825 total time=  47.4s\n",
      "[CV 1/5] END max_depth=30, min_samples_split=2, n_estimators=100;, score=0.836 total time=  17.4s\n",
      "[CV 2/5] END max_depth=30, min_samples_split=2, n_estimators=100;, score=0.823 total time=  17.0s\n",
      "[CV 3/5] END max_depth=30, min_samples_split=2, n_estimators=100;, score=0.829 total time=  17.3s\n",
      "[CV 4/5] END max_depth=30, min_samples_split=2, n_estimators=100;, score=0.826 total time=  17.2s\n",
      "[CV 5/5] END max_depth=30, min_samples_split=2, n_estimators=100;, score=0.838 total time=  17.0s\n",
      "[CV 1/5] END max_depth=30, min_samples_split=2, n_estimators=200;, score=0.836 total time=  34.9s\n",
      "[CV 2/5] END max_depth=30, min_samples_split=2, n_estimators=200;, score=0.827 total time=  35.0s\n",
      "[CV 3/5] END max_depth=30, min_samples_split=2, n_estimators=200;, score=0.828 total time=  35.7s\n",
      "[CV 4/5] END max_depth=30, min_samples_split=2, n_estimators=200;, score=0.828 total time=  34.8s\n",
      "[CV 5/5] END max_depth=30, min_samples_split=2, n_estimators=200;, score=0.841 total time=  34.8s\n",
      "[CV 1/5] END max_depth=30, min_samples_split=2, n_estimators=300;, score=0.837 total time=  52.4s\n",
      "[CV 2/5] END max_depth=30, min_samples_split=2, n_estimators=300;, score=0.828 total time=  52.3s\n",
      "[CV 3/5] END max_depth=30, min_samples_split=2, n_estimators=300;, score=0.829 total time=  52.4s\n",
      "[CV 4/5] END max_depth=30, min_samples_split=2, n_estimators=300;, score=0.828 total time=  51.9s\n",
      "[CV 5/5] END max_depth=30, min_samples_split=2, n_estimators=300;, score=0.842 total time=  52.2s\n",
      "[CV 1/5] END max_depth=30, min_samples_split=5, n_estimators=100;, score=0.829 total time=  17.0s\n",
      "[CV 2/5] END max_depth=30, min_samples_split=5, n_estimators=100;, score=0.818 total time=  17.1s\n",
      "[CV 3/5] END max_depth=30, min_samples_split=5, n_estimators=100;, score=0.822 total time=  17.0s\n",
      "[CV 4/5] END max_depth=30, min_samples_split=5, n_estimators=100;, score=0.819 total time=  17.0s\n",
      "[CV 5/5] END max_depth=30, min_samples_split=5, n_estimators=100;, score=0.833 total time=  16.9s\n",
      "[CV 1/5] END max_depth=30, min_samples_split=5, n_estimators=200;, score=0.832 total time=  34.1s\n",
      "[CV 2/5] END max_depth=30, min_samples_split=5, n_estimators=200;, score=0.819 total time=  35.1s\n",
      "[CV 3/5] END max_depth=30, min_samples_split=5, n_estimators=200;, score=0.824 total time=  34.5s\n",
      "[CV 4/5] END max_depth=30, min_samples_split=5, n_estimators=200;, score=0.823 total time=  34.1s\n",
      "[CV 5/5] END max_depth=30, min_samples_split=5, n_estimators=200;, score=0.836 total time=  34.1s\n",
      "[CV 1/5] END max_depth=30, min_samples_split=5, n_estimators=300;, score=0.830 total time=  51.1s\n",
      "[CV 2/5] END max_depth=30, min_samples_split=5, n_estimators=300;, score=0.821 total time=  52.6s\n",
      "[CV 3/5] END max_depth=30, min_samples_split=5, n_estimators=300;, score=0.823 total time=  50.9s\n",
      "[CV 4/5] END max_depth=30, min_samples_split=5, n_estimators=300;, score=0.823 total time=  50.8s\n",
      "[CV 5/5] END max_depth=30, min_samples_split=5, n_estimators=300;, score=0.837 total time=  51.2s\n",
      "[CV 1/5] END max_depth=30, min_samples_split=10, n_estimators=100;, score=0.824 total time=  16.4s\n",
      "[CV 2/5] END max_depth=30, min_samples_split=10, n_estimators=100;, score=0.808 total time=  16.5s\n",
      "[CV 3/5] END max_depth=30, min_samples_split=10, n_estimators=100;, score=0.813 total time=  16.4s\n",
      "[CV 4/5] END max_depth=30, min_samples_split=10, n_estimators=100;, score=0.815 total time=  16.7s\n",
      "[CV 5/5] END max_depth=30, min_samples_split=10, n_estimators=100;, score=0.826 total time=  16.4s\n",
      "[CV 1/5] END max_depth=30, min_samples_split=10, n_estimators=200;, score=0.824 total time=  32.9s\n",
      "[CV 2/5] END max_depth=30, min_samples_split=10, n_estimators=200;, score=0.813 total time=  33.0s\n",
      "[CV 3/5] END max_depth=30, min_samples_split=10, n_estimators=200;, score=0.817 total time=  32.8s\n",
      "[CV 4/5] END max_depth=30, min_samples_split=10, n_estimators=200;, score=0.816 total time=  32.9s\n",
      "[CV 5/5] END max_depth=30, min_samples_split=10, n_estimators=200;, score=0.829 total time=  33.1s\n",
      "[CV 1/5] END max_depth=30, min_samples_split=10, n_estimators=300;, score=0.823 total time=  49.6s\n",
      "[CV 2/5] END max_depth=30, min_samples_split=10, n_estimators=300;, score=0.812 total time=  49.4s\n",
      "[CV 3/5] END max_depth=30, min_samples_split=10, n_estimators=300;, score=0.814 total time=  50.7s\n",
      "[CV 4/5] END max_depth=30, min_samples_split=10, n_estimators=300;, score=0.816 total time=  50.1s\n",
      "[CV 5/5] END max_depth=30, min_samples_split=10, n_estimators=300;, score=0.830 total time=  49.8s\n"
     ]
    },
    {
     "data": {
      "text/html": [
       "<style>#sk-container-id-10 {color: black;}#sk-container-id-10 pre{padding: 0;}#sk-container-id-10 div.sk-toggleable {background-color: white;}#sk-container-id-10 label.sk-toggleable__label {cursor: pointer;display: block;width: 100%;margin-bottom: 0;padding: 0.3em;box-sizing: border-box;text-align: center;}#sk-container-id-10 label.sk-toggleable__label-arrow:before {content: \"▸\";float: left;margin-right: 0.25em;color: #696969;}#sk-container-id-10 label.sk-toggleable__label-arrow:hover:before {color: black;}#sk-container-id-10 div.sk-estimator:hover label.sk-toggleable__label-arrow:before {color: black;}#sk-container-id-10 div.sk-toggleable__content {max-height: 0;max-width: 0;overflow: hidden;text-align: left;background-color: #f0f8ff;}#sk-container-id-10 div.sk-toggleable__content pre {margin: 0.2em;color: black;border-radius: 0.25em;background-color: #f0f8ff;}#sk-container-id-10 input.sk-toggleable__control:checked~div.sk-toggleable__content {max-height: 200px;max-width: 100%;overflow: auto;}#sk-container-id-10 input.sk-toggleable__control:checked~label.sk-toggleable__label-arrow:before {content: \"▾\";}#sk-container-id-10 div.sk-estimator input.sk-toggleable__control:checked~label.sk-toggleable__label {background-color: #d4ebff;}#sk-container-id-10 div.sk-label input.sk-toggleable__control:checked~label.sk-toggleable__label {background-color: #d4ebff;}#sk-container-id-10 input.sk-hidden--visually {border: 0;clip: rect(1px 1px 1px 1px);clip: rect(1px, 1px, 1px, 1px);height: 1px;margin: -1px;overflow: hidden;padding: 0;position: absolute;width: 1px;}#sk-container-id-10 div.sk-estimator {font-family: monospace;background-color: #f0f8ff;border: 1px dotted black;border-radius: 0.25em;box-sizing: border-box;margin-bottom: 0.5em;}#sk-container-id-10 div.sk-estimator:hover {background-color: #d4ebff;}#sk-container-id-10 div.sk-parallel-item::after {content: \"\";width: 100%;border-bottom: 1px solid gray;flex-grow: 1;}#sk-container-id-10 div.sk-label:hover label.sk-toggleable__label {background-color: #d4ebff;}#sk-container-id-10 div.sk-serial::before {content: \"\";position: absolute;border-left: 1px solid gray;box-sizing: border-box;top: 0;bottom: 0;left: 50%;z-index: 0;}#sk-container-id-10 div.sk-serial {display: flex;flex-direction: column;align-items: center;background-color: white;padding-right: 0.2em;padding-left: 0.2em;position: relative;}#sk-container-id-10 div.sk-item {position: relative;z-index: 1;}#sk-container-id-10 div.sk-parallel {display: flex;align-items: stretch;justify-content: center;background-color: white;position: relative;}#sk-container-id-10 div.sk-item::before, #sk-container-id-10 div.sk-parallel-item::before {content: \"\";position: absolute;border-left: 1px solid gray;box-sizing: border-box;top: 0;bottom: 0;left: 50%;z-index: -1;}#sk-container-id-10 div.sk-parallel-item {display: flex;flex-direction: column;z-index: 1;position: relative;background-color: white;}#sk-container-id-10 div.sk-parallel-item:first-child::after {align-self: flex-end;width: 50%;}#sk-container-id-10 div.sk-parallel-item:last-child::after {align-self: flex-start;width: 50%;}#sk-container-id-10 div.sk-parallel-item:only-child::after {width: 0;}#sk-container-id-10 div.sk-dashed-wrapped {border: 1px dashed gray;margin: 0 0.4em 0.5em 0.4em;box-sizing: border-box;padding-bottom: 0.4em;background-color: white;}#sk-container-id-10 div.sk-label label {font-family: monospace;font-weight: bold;display: inline-block;line-height: 1.2em;}#sk-container-id-10 div.sk-label-container {text-align: center;}#sk-container-id-10 div.sk-container {/* jupyter's `normalize.less` sets `[hidden] { display: none; }` but bootstrap.min.css set `[hidden] { display: none !important; }` so we also need the `!important` here to be able to override the default hidden behavior on the sphinx rendered scikit-learn.org. See: https://github.com/scikit-learn/scikit-learn/issues/21755 */display: inline-block !important;position: relative;}#sk-container-id-10 div.sk-text-repr-fallback {display: none;}</style><div id=\"sk-container-id-10\" class=\"sk-top-container\"><div class=\"sk-text-repr-fallback\"><pre>GridSearchCV(cv=5, estimator=RandomForestClassifier(random_state=42),\n",
       "             param_grid={&#x27;max_depth&#x27;: [None, 10, 20, 30],\n",
       "                         &#x27;min_samples_split&#x27;: [2, 5, 10],\n",
       "                         &#x27;n_estimators&#x27;: [100, 200, 300]},\n",
       "             scoring=&#x27;f1&#x27;, verbose=3)</pre><b>In a Jupyter environment, please rerun this cell to show the HTML representation or trust the notebook. <br />On GitHub, the HTML representation is unable to render, please try loading this page with nbviewer.org.</b></div><div class=\"sk-container\" hidden><div class=\"sk-item sk-dashed-wrapped\"><div class=\"sk-label-container\"><div class=\"sk-label sk-toggleable\"><input class=\"sk-toggleable__control sk-hidden--visually\" id=\"sk-estimator-id-28\" type=\"checkbox\" ><label for=\"sk-estimator-id-28\" class=\"sk-toggleable__label sk-toggleable__label-arrow\">GridSearchCV</label><div class=\"sk-toggleable__content\"><pre>GridSearchCV(cv=5, estimator=RandomForestClassifier(random_state=42),\n",
       "             param_grid={&#x27;max_depth&#x27;: [None, 10, 20, 30],\n",
       "                         &#x27;min_samples_split&#x27;: [2, 5, 10],\n",
       "                         &#x27;n_estimators&#x27;: [100, 200, 300]},\n",
       "             scoring=&#x27;f1&#x27;, verbose=3)</pre></div></div></div><div class=\"sk-parallel\"><div class=\"sk-parallel-item\"><div class=\"sk-item\"><div class=\"sk-label-container\"><div class=\"sk-label sk-toggleable\"><input class=\"sk-toggleable__control sk-hidden--visually\" id=\"sk-estimator-id-29\" type=\"checkbox\" ><label for=\"sk-estimator-id-29\" class=\"sk-toggleable__label sk-toggleable__label-arrow\">estimator: RandomForestClassifier</label><div class=\"sk-toggleable__content\"><pre>RandomForestClassifier(random_state=42)</pre></div></div></div><div class=\"sk-serial\"><div class=\"sk-item\"><div class=\"sk-estimator sk-toggleable\"><input class=\"sk-toggleable__control sk-hidden--visually\" id=\"sk-estimator-id-30\" type=\"checkbox\" ><label for=\"sk-estimator-id-30\" class=\"sk-toggleable__label sk-toggleable__label-arrow\">RandomForestClassifier</label><div class=\"sk-toggleable__content\"><pre>RandomForestClassifier(random_state=42)</pre></div></div></div></div></div></div></div></div></div></div>"
      ],
      "text/plain": [
       "GridSearchCV(cv=5, estimator=RandomForestClassifier(random_state=42),\n",
       "             param_grid={'max_depth': [None, 10, 20, 30],\n",
       "                         'min_samples_split': [2, 5, 10],\n",
       "                         'n_estimators': [100, 200, 300]},\n",
       "             scoring='f1', verbose=3)"
      ]
     },
     "execution_count": 75,
     "metadata": {},
     "output_type": "execute_result"
    }
   ],
   "source": [
    "rf = RandomForestClassifier(random_state=42)\n",
    "grid_search_rf= GridSearchCV(estimator=rf, param_grid=param_grid, cv=5, scoring='f1', verbose = 3)\n",
    "grid_search_rf.fit(X_train_scaled, y_train)"
   ]
  },
  {
   "cell_type": "code",
   "execution_count": 76,
   "id": "bfccf396",
   "metadata": {},
   "outputs": [
    {
     "name": "stdout",
     "output_type": "stream",
     "text": [
      "{'max_depth': 30, 'min_samples_split': 2, 'n_estimators': 300}\n"
     ]
    }
   ],
   "source": [
    "print(grid_search_rf.best_params_)"
   ]
  },
  {
   "cell_type": "code",
   "execution_count": 77,
   "id": "311bf1fb",
   "metadata": {},
   "outputs": [],
   "source": [
    "### predicting the target variable\n",
    "y_pred_rf_grid= grid_search_rf.predict(X_test_scaled)"
   ]
  },
  {
   "cell_type": "code",
   "execution_count": 78,
   "id": "c6740129",
   "metadata": {},
   "outputs": [
    {
     "name": "stdout",
     "output_type": "stream",
     "text": [
      "              precision    recall  f1-score   support\n",
      "\n",
      "           0       0.83      0.86      0.85      7013\n",
      "           1       0.85      0.83      0.84      7006\n",
      "\n",
      "    accuracy                           0.84     14019\n",
      "   macro avg       0.84      0.84      0.84     14019\n",
      "weighted avg       0.84      0.84      0.84     14019\n",
      "\n",
      "[[6019  994]\n",
      " [1195 5811]]\n",
      "Accuracy: 0.8438547685284257\n",
      "F1 Score: 0.841503149663312\n"
     ]
    }
   ],
   "source": [
    "## Printing classification report, confusion matrix, and accuracy of the best parameter.\n",
    "print(classification_report(y_test,y_pred_rf_grid))\n",
    "print(confusion_matrix(y_test,y_pred_rf_grid))\n",
    "print(\"Accuracy:\",(accuracy_score(y_test,y_pred_rf_grid)))\n",
    "print(\"F1 Score:\", (f1_score(y_test, y_pred_rf_grid)))"
   ]
  },
  {
   "cell_type": "markdown",
   "id": "72e718d5",
   "metadata": {},
   "source": [
    "### Random Forest Random SearchCV"
   ]
  },
  {
   "cell_type": "code",
   "execution_count": 80,
   "id": "77ab5414",
   "metadata": {},
   "outputs": [],
   "source": [
    "random_search_rf= RandomizedSearchCV(estimator=rf, param_distributions=param_grid, n_iter=10, scoring='f1', cv=5, verbose = 3)"
   ]
  },
  {
   "cell_type": "code",
   "execution_count": 81,
   "id": "6fe76e57",
   "metadata": {},
   "outputs": [
    {
     "name": "stdout",
     "output_type": "stream",
     "text": [
      "Fitting 5 folds for each of 10 candidates, totalling 50 fits\n",
      "[CV 1/5] END max_depth=30, min_samples_split=2, n_estimators=300;, score=0.837 total time=  53.6s\n",
      "[CV 2/5] END max_depth=30, min_samples_split=2, n_estimators=300;, score=0.828 total time=  51.9s\n",
      "[CV 3/5] END max_depth=30, min_samples_split=2, n_estimators=300;, score=0.829 total time=  51.8s\n",
      "[CV 4/5] END max_depth=30, min_samples_split=2, n_estimators=300;, score=0.828 total time=  51.9s\n",
      "[CV 5/5] END max_depth=30, min_samples_split=2, n_estimators=300;, score=0.842 total time=  51.7s\n",
      "[CV 1/5] END max_depth=None, min_samples_split=5, n_estimators=300;, score=0.832 total time=  51.1s\n",
      "[CV 2/5] END max_depth=None, min_samples_split=5, n_estimators=300;, score=0.820 total time=  50.8s\n",
      "[CV 3/5] END max_depth=None, min_samples_split=5, n_estimators=300;, score=0.825 total time=  51.0s\n",
      "[CV 4/5] END max_depth=None, min_samples_split=5, n_estimators=300;, score=0.823 total time=  50.8s\n",
      "[CV 5/5] END max_depth=None, min_samples_split=5, n_estimators=300;, score=0.836 total time=  51.3s\n",
      "[CV 1/5] END max_depth=30, min_samples_split=2, n_estimators=200;, score=0.836 total time=  34.7s\n",
      "[CV 2/5] END max_depth=30, min_samples_split=2, n_estimators=200;, score=0.827 total time=  35.3s\n",
      "[CV 3/5] END max_depth=30, min_samples_split=2, n_estimators=200;, score=0.828 total time=  35.4s\n",
      "[CV 4/5] END max_depth=30, min_samples_split=2, n_estimators=200;, score=0.828 total time=  35.2s\n",
      "[CV 5/5] END max_depth=30, min_samples_split=2, n_estimators=200;, score=0.841 total time=  35.4s\n",
      "[CV 1/5] END max_depth=30, min_samples_split=10, n_estimators=300;, score=0.823 total time=  50.2s\n",
      "[CV 2/5] END max_depth=30, min_samples_split=10, n_estimators=300;, score=0.812 total time=  50.0s\n",
      "[CV 3/5] END max_depth=30, min_samples_split=10, n_estimators=300;, score=0.814 total time=  50.1s\n",
      "[CV 4/5] END max_depth=30, min_samples_split=10, n_estimators=300;, score=0.816 total time=  50.0s\n",
      "[CV 5/5] END max_depth=30, min_samples_split=10, n_estimators=300;, score=0.830 total time=  50.5s\n",
      "[CV 1/5] END max_depth=20, min_samples_split=5, n_estimators=200;, score=0.826 total time=  33.3s\n",
      "[CV 2/5] END max_depth=20, min_samples_split=5, n_estimators=200;, score=0.815 total time=  33.2s\n",
      "[CV 3/5] END max_depth=20, min_samples_split=5, n_estimators=200;, score=0.818 total time=  33.2s\n",
      "[CV 4/5] END max_depth=20, min_samples_split=5, n_estimators=200;, score=0.814 total time=  33.1s\n",
      "[CV 5/5] END max_depth=20, min_samples_split=5, n_estimators=200;, score=0.832 total time=  34.3s\n",
      "[CV 1/5] END max_depth=20, min_samples_split=10, n_estimators=200;, score=0.818 total time=  33.9s\n",
      "[CV 2/5] END max_depth=20, min_samples_split=10, n_estimators=200;, score=0.809 total time=  33.8s\n",
      "[CV 3/5] END max_depth=20, min_samples_split=10, n_estimators=200;, score=0.810 total time=  34.9s\n",
      "[CV 4/5] END max_depth=20, min_samples_split=10, n_estimators=200;, score=0.810 total time=  34.8s\n",
      "[CV 5/5] END max_depth=20, min_samples_split=10, n_estimators=200;, score=0.824 total time=  32.7s\n",
      "[CV 1/5] END max_depth=10, min_samples_split=5, n_estimators=100;, score=0.778 total time=  10.6s\n",
      "[CV 2/5] END max_depth=10, min_samples_split=5, n_estimators=100;, score=0.766 total time=  10.4s\n",
      "[CV 3/5] END max_depth=10, min_samples_split=5, n_estimators=100;, score=0.773 total time=  10.4s\n",
      "[CV 4/5] END max_depth=10, min_samples_split=5, n_estimators=100;, score=0.773 total time=  10.5s\n",
      "[CV 5/5] END max_depth=10, min_samples_split=5, n_estimators=100;, score=0.786 total time=  10.4s\n",
      "[CV 1/5] END max_depth=10, min_samples_split=5, n_estimators=200;, score=0.778 total time=  21.0s\n",
      "[CV 2/5] END max_depth=10, min_samples_split=5, n_estimators=200;, score=0.768 total time=  20.9s\n",
      "[CV 3/5] END max_depth=10, min_samples_split=5, n_estimators=200;, score=0.777 total time=  20.9s\n",
      "[CV 4/5] END max_depth=10, min_samples_split=5, n_estimators=200;, score=0.773 total time=  20.8s\n",
      "[CV 5/5] END max_depth=10, min_samples_split=5, n_estimators=200;, score=0.784 total time=  20.9s\n",
      "[CV 1/5] END max_depth=30, min_samples_split=10, n_estimators=200;, score=0.824 total time=  34.1s\n",
      "[CV 2/5] END max_depth=30, min_samples_split=10, n_estimators=200;, score=0.813 total time=  33.7s\n",
      "[CV 3/5] END max_depth=30, min_samples_split=10, n_estimators=200;, score=0.817 total time=  33.5s\n",
      "[CV 4/5] END max_depth=30, min_samples_split=10, n_estimators=200;, score=0.816 total time=  33.2s\n",
      "[CV 5/5] END max_depth=30, min_samples_split=10, n_estimators=200;, score=0.829 total time=  33.4s\n",
      "[CV 1/5] END max_depth=10, min_samples_split=10, n_estimators=100;, score=0.778 total time=  10.7s\n",
      "[CV 2/5] END max_depth=10, min_samples_split=10, n_estimators=100;, score=0.767 total time=  10.3s\n",
      "[CV 3/5] END max_depth=10, min_samples_split=10, n_estimators=100;, score=0.772 total time=  10.4s\n",
      "[CV 4/5] END max_depth=10, min_samples_split=10, n_estimators=100;, score=0.770 total time=  10.4s\n",
      "[CV 5/5] END max_depth=10, min_samples_split=10, n_estimators=100;, score=0.784 total time=  10.3s\n"
     ]
    },
    {
     "data": {
      "text/html": [
       "<style>#sk-container-id-11 {color: black;}#sk-container-id-11 pre{padding: 0;}#sk-container-id-11 div.sk-toggleable {background-color: white;}#sk-container-id-11 label.sk-toggleable__label {cursor: pointer;display: block;width: 100%;margin-bottom: 0;padding: 0.3em;box-sizing: border-box;text-align: center;}#sk-container-id-11 label.sk-toggleable__label-arrow:before {content: \"▸\";float: left;margin-right: 0.25em;color: #696969;}#sk-container-id-11 label.sk-toggleable__label-arrow:hover:before {color: black;}#sk-container-id-11 div.sk-estimator:hover label.sk-toggleable__label-arrow:before {color: black;}#sk-container-id-11 div.sk-toggleable__content {max-height: 0;max-width: 0;overflow: hidden;text-align: left;background-color: #f0f8ff;}#sk-container-id-11 div.sk-toggleable__content pre {margin: 0.2em;color: black;border-radius: 0.25em;background-color: #f0f8ff;}#sk-container-id-11 input.sk-toggleable__control:checked~div.sk-toggleable__content {max-height: 200px;max-width: 100%;overflow: auto;}#sk-container-id-11 input.sk-toggleable__control:checked~label.sk-toggleable__label-arrow:before {content: \"▾\";}#sk-container-id-11 div.sk-estimator input.sk-toggleable__control:checked~label.sk-toggleable__label {background-color: #d4ebff;}#sk-container-id-11 div.sk-label input.sk-toggleable__control:checked~label.sk-toggleable__label {background-color: #d4ebff;}#sk-container-id-11 input.sk-hidden--visually {border: 0;clip: rect(1px 1px 1px 1px);clip: rect(1px, 1px, 1px, 1px);height: 1px;margin: -1px;overflow: hidden;padding: 0;position: absolute;width: 1px;}#sk-container-id-11 div.sk-estimator {font-family: monospace;background-color: #f0f8ff;border: 1px dotted black;border-radius: 0.25em;box-sizing: border-box;margin-bottom: 0.5em;}#sk-container-id-11 div.sk-estimator:hover {background-color: #d4ebff;}#sk-container-id-11 div.sk-parallel-item::after {content: \"\";width: 100%;border-bottom: 1px solid gray;flex-grow: 1;}#sk-container-id-11 div.sk-label:hover label.sk-toggleable__label {background-color: #d4ebff;}#sk-container-id-11 div.sk-serial::before {content: \"\";position: absolute;border-left: 1px solid gray;box-sizing: border-box;top: 0;bottom: 0;left: 50%;z-index: 0;}#sk-container-id-11 div.sk-serial {display: flex;flex-direction: column;align-items: center;background-color: white;padding-right: 0.2em;padding-left: 0.2em;position: relative;}#sk-container-id-11 div.sk-item {position: relative;z-index: 1;}#sk-container-id-11 div.sk-parallel {display: flex;align-items: stretch;justify-content: center;background-color: white;position: relative;}#sk-container-id-11 div.sk-item::before, #sk-container-id-11 div.sk-parallel-item::before {content: \"\";position: absolute;border-left: 1px solid gray;box-sizing: border-box;top: 0;bottom: 0;left: 50%;z-index: -1;}#sk-container-id-11 div.sk-parallel-item {display: flex;flex-direction: column;z-index: 1;position: relative;background-color: white;}#sk-container-id-11 div.sk-parallel-item:first-child::after {align-self: flex-end;width: 50%;}#sk-container-id-11 div.sk-parallel-item:last-child::after {align-self: flex-start;width: 50%;}#sk-container-id-11 div.sk-parallel-item:only-child::after {width: 0;}#sk-container-id-11 div.sk-dashed-wrapped {border: 1px dashed gray;margin: 0 0.4em 0.5em 0.4em;box-sizing: border-box;padding-bottom: 0.4em;background-color: white;}#sk-container-id-11 div.sk-label label {font-family: monospace;font-weight: bold;display: inline-block;line-height: 1.2em;}#sk-container-id-11 div.sk-label-container {text-align: center;}#sk-container-id-11 div.sk-container {/* jupyter's `normalize.less` sets `[hidden] { display: none; }` but bootstrap.min.css set `[hidden] { display: none !important; }` so we also need the `!important` here to be able to override the default hidden behavior on the sphinx rendered scikit-learn.org. See: https://github.com/scikit-learn/scikit-learn/issues/21755 */display: inline-block !important;position: relative;}#sk-container-id-11 div.sk-text-repr-fallback {display: none;}</style><div id=\"sk-container-id-11\" class=\"sk-top-container\"><div class=\"sk-text-repr-fallback\"><pre>RandomizedSearchCV(cv=5, estimator=RandomForestClassifier(random_state=42),\n",
       "                   param_distributions={&#x27;max_depth&#x27;: [None, 10, 20, 30],\n",
       "                                        &#x27;min_samples_split&#x27;: [2, 5, 10],\n",
       "                                        &#x27;n_estimators&#x27;: [100, 200, 300]},\n",
       "                   scoring=&#x27;f1&#x27;, verbose=3)</pre><b>In a Jupyter environment, please rerun this cell to show the HTML representation or trust the notebook. <br />On GitHub, the HTML representation is unable to render, please try loading this page with nbviewer.org.</b></div><div class=\"sk-container\" hidden><div class=\"sk-item sk-dashed-wrapped\"><div class=\"sk-label-container\"><div class=\"sk-label sk-toggleable\"><input class=\"sk-toggleable__control sk-hidden--visually\" id=\"sk-estimator-id-31\" type=\"checkbox\" ><label for=\"sk-estimator-id-31\" class=\"sk-toggleable__label sk-toggleable__label-arrow\">RandomizedSearchCV</label><div class=\"sk-toggleable__content\"><pre>RandomizedSearchCV(cv=5, estimator=RandomForestClassifier(random_state=42),\n",
       "                   param_distributions={&#x27;max_depth&#x27;: [None, 10, 20, 30],\n",
       "                                        &#x27;min_samples_split&#x27;: [2, 5, 10],\n",
       "                                        &#x27;n_estimators&#x27;: [100, 200, 300]},\n",
       "                   scoring=&#x27;f1&#x27;, verbose=3)</pre></div></div></div><div class=\"sk-parallel\"><div class=\"sk-parallel-item\"><div class=\"sk-item\"><div class=\"sk-label-container\"><div class=\"sk-label sk-toggleable\"><input class=\"sk-toggleable__control sk-hidden--visually\" id=\"sk-estimator-id-32\" type=\"checkbox\" ><label for=\"sk-estimator-id-32\" class=\"sk-toggleable__label sk-toggleable__label-arrow\">estimator: RandomForestClassifier</label><div class=\"sk-toggleable__content\"><pre>RandomForestClassifier(random_state=42)</pre></div></div></div><div class=\"sk-serial\"><div class=\"sk-item\"><div class=\"sk-estimator sk-toggleable\"><input class=\"sk-toggleable__control sk-hidden--visually\" id=\"sk-estimator-id-33\" type=\"checkbox\" ><label for=\"sk-estimator-id-33\" class=\"sk-toggleable__label sk-toggleable__label-arrow\">RandomForestClassifier</label><div class=\"sk-toggleable__content\"><pre>RandomForestClassifier(random_state=42)</pre></div></div></div></div></div></div></div></div></div></div>"
      ],
      "text/plain": [
       "RandomizedSearchCV(cv=5, estimator=RandomForestClassifier(random_state=42),\n",
       "                   param_distributions={'max_depth': [None, 10, 20, 30],\n",
       "                                        'min_samples_split': [2, 5, 10],\n",
       "                                        'n_estimators': [100, 200, 300]},\n",
       "                   scoring='f1', verbose=3)"
      ]
     },
     "execution_count": 81,
     "metadata": {},
     "output_type": "execute_result"
    }
   ],
   "source": [
    "random_search_rf.fit(X_train_scaled,y_train)"
   ]
  },
  {
   "cell_type": "code",
   "execution_count": 82,
   "id": "f75a7c22",
   "metadata": {},
   "outputs": [
    {
     "name": "stdout",
     "output_type": "stream",
     "text": [
      "Best parameters: {'n_estimators': 300, 'min_samples_split': 2, 'max_depth': 30}\n"
     ]
    }
   ],
   "source": [
    "## Getting the best parameters\n",
    "print(\"Best parameters:\", random_search_rf.best_params_)"
   ]
  },
  {
   "cell_type": "code",
   "execution_count": 83,
   "id": "3947c1f3",
   "metadata": {},
   "outputs": [],
   "source": [
    "### Predicting the target value\n",
    "y_pred_rf_rand= random_search_knn.predict(X_test_scaled)"
   ]
  },
  {
   "cell_type": "code",
   "execution_count": 84,
   "id": "8577875a",
   "metadata": {},
   "outputs": [
    {
     "name": "stdout",
     "output_type": "stream",
     "text": [
      "              precision    recall  f1-score   support\n",
      "\n",
      "           0       0.64      0.85      0.73      7013\n",
      "           1       0.78      0.52      0.63      7006\n",
      "\n",
      "    accuracy                           0.69     14019\n",
      "   macro avg       0.71      0.69      0.68     14019\n",
      "weighted avg       0.71      0.69      0.68     14019\n",
      "\n",
      "[[5984 1029]\n",
      " [3345 3661]]\n",
      "Accuracy: 0.6879948641129895\n",
      "F1 Score: 0.6260259917920656\n"
     ]
    }
   ],
   "source": [
    "## Printing classification report, confusion matrix, and accuracy of the best parameter.\n",
    "print(classification_report(y_test,y_pred_rf_rand))\n",
    "print(confusion_matrix(y_test,y_pred_rf_rand))\n",
    "print(\"Accuracy:\",(accuracy_score(y_test,y_pred_rf_rand)))\n",
    "print(\"F1 Score:\", (f1_score(y_test, y_pred_rf_rand)))"
   ]
  },
  {
   "cell_type": "markdown",
   "id": "317b949c",
   "metadata": {},
   "source": [
    "## Comparing the results for Random Forest obtained from Grid Search and Random Search:\n",
    "\n",
    "| Metric                    | Accuracy  | F1 Score | Precision (Class 0) | Recall (Class 0) | F1-score (Class 0) | Precision (Class 1) | Recall (Class 1) | F1-score (Class 1) |\n",
    "|---------------------------|-----------|----------|-----------------------|-------------------|--------------------|-----------------------|-------------------|--------------------|\n",
    "| Random Search RF          | 0.68799   | 0.62603  | 0.64                  | 0.85              | 0.73               | 0.78                  | 0.52              | 0.63               |\n",
    "| Grid Search RF            | 0.84385   | 0.84150  | 0.83                  | 0.86              | 0.85               | 0.85                  | 0.83              | 0.84               |\n",
    "\n",
    "\n",
    "The Grid Search for the Random Forest model outperforms the Random Search in terms of both accuracy and F1 score. It achieves a higher overall accuracy and a better F1 score, indicating a better trade-off between precision and recall for both classes. The Grid Search model is the preferred choice for this particular classification task. It provides a more balanced and accurate classification, making it a suitable model for the dataset."
   ]
  },
  {
   "cell_type": "markdown",
   "id": "ea4198d3",
   "metadata": {},
   "source": [
    "# XGBoosting with hyperparameter tuning"
   ]
  },
  {
   "cell_type": "markdown",
   "id": "16143010",
   "metadata": {},
   "source": [
    "### XGBoosting Grid Search"
   ]
  },
  {
   "cell_type": "code",
   "execution_count": 85,
   "id": "3faa0569",
   "metadata": {},
   "outputs": [],
   "source": [
    "# Define the parameter grid to search\n",
    "param_grid = {\n",
    "    'max_depth': [3, 4, 5],\n",
    "    'learning_rate': [0.01, 0.001],\n",
    "    'n_estimators': [50, 100, 200],\n",
    "    'subsample': [0.8, 0.9, 1.0],\n",
    "    'colsample_bytree': [0.8, 0.9, 1.0],\n",
    "}"
   ]
  },
  {
   "cell_type": "code",
   "execution_count": 86,
   "id": "20638c17",
   "metadata": {},
   "outputs": [],
   "source": [
    "# Create an XGBoost classifier\n",
    "xgb_model = XGBClassifier(objective='binary:logistic', eval_metric='logloss')"
   ]
  },
  {
   "cell_type": "code",
   "execution_count": 87,
   "id": "f061dfbb",
   "metadata": {},
   "outputs": [],
   "source": [
    "# Create GridSearchCV object\n",
    "grid_search_xg = GridSearchCV(estimator=xgb_model, param_grid=param_grid, cv=3, scoring='f1', verbose = 3)"
   ]
  },
  {
   "cell_type": "code",
   "execution_count": 88,
   "id": "5bc1f60a",
   "metadata": {},
   "outputs": [
    {
     "name": "stdout",
     "output_type": "stream",
     "text": [
      "Fitting 3 folds for each of 162 candidates, totalling 486 fits\n",
      "[CV 1/3] END colsample_bytree=0.8, learning_rate=0.01, max_depth=3, n_estimators=50, subsample=0.8;, score=0.702 total time=   0.1s\n",
      "[CV 2/3] END colsample_bytree=0.8, learning_rate=0.01, max_depth=3, n_estimators=50, subsample=0.8;, score=0.710 total time=   0.1s\n",
      "[CV 3/3] END colsample_bytree=0.8, learning_rate=0.01, max_depth=3, n_estimators=50, subsample=0.8;, score=0.714 total time=   0.1s\n",
      "[CV 1/3] END colsample_bytree=0.8, learning_rate=0.01, max_depth=3, n_estimators=50, subsample=0.9;, score=0.696 total time=   0.1s\n",
      "[CV 2/3] END colsample_bytree=0.8, learning_rate=0.01, max_depth=3, n_estimators=50, subsample=0.9;, score=0.708 total time=   0.1s\n",
      "[CV 3/3] END colsample_bytree=0.8, learning_rate=0.01, max_depth=3, n_estimators=50, subsample=0.9;, score=0.713 total time=   0.1s\n",
      "[CV 1/3] END colsample_bytree=0.8, learning_rate=0.01, max_depth=3, n_estimators=50, subsample=1.0;, score=0.693 total time=   0.1s\n",
      "[CV 2/3] END colsample_bytree=0.8, learning_rate=0.01, max_depth=3, n_estimators=50, subsample=1.0;, score=0.709 total time=   0.1s\n",
      "[CV 3/3] END colsample_bytree=0.8, learning_rate=0.01, max_depth=3, n_estimators=50, subsample=1.0;, score=0.715 total time=   0.1s\n",
      "[CV 1/3] END colsample_bytree=0.8, learning_rate=0.01, max_depth=3, n_estimators=100, subsample=0.8;, score=0.700 total time=   0.2s\n",
      "[CV 2/3] END colsample_bytree=0.8, learning_rate=0.01, max_depth=3, n_estimators=100, subsample=0.8;, score=0.706 total time=   0.2s\n",
      "[CV 3/3] END colsample_bytree=0.8, learning_rate=0.01, max_depth=3, n_estimators=100, subsample=0.8;, score=0.712 total time=   0.2s\n",
      "[CV 1/3] END colsample_bytree=0.8, learning_rate=0.01, max_depth=3, n_estimators=100, subsample=0.9;, score=0.698 total time=   0.2s\n",
      "[CV 2/3] END colsample_bytree=0.8, learning_rate=0.01, max_depth=3, n_estimators=100, subsample=0.9;, score=0.706 total time=   0.2s\n",
      "[CV 3/3] END colsample_bytree=0.8, learning_rate=0.01, max_depth=3, n_estimators=100, subsample=0.9;, score=0.712 total time=   0.2s\n",
      "[CV 1/3] END colsample_bytree=0.8, learning_rate=0.01, max_depth=3, n_estimators=100, subsample=1.0;, score=0.698 total time=   0.1s\n",
      "[CV 2/3] END colsample_bytree=0.8, learning_rate=0.01, max_depth=3, n_estimators=100, subsample=1.0;, score=0.707 total time=   0.1s\n",
      "[CV 3/3] END colsample_bytree=0.8, learning_rate=0.01, max_depth=3, n_estimators=100, subsample=1.0;, score=0.709 total time=   0.1s\n",
      "[CV 1/3] END colsample_bytree=0.8, learning_rate=0.01, max_depth=3, n_estimators=200, subsample=0.8;, score=0.726 total time=   0.4s\n",
      "[CV 2/3] END colsample_bytree=0.8, learning_rate=0.01, max_depth=3, n_estimators=200, subsample=0.8;, score=0.731 total time=   0.4s\n",
      "[CV 3/3] END colsample_bytree=0.8, learning_rate=0.01, max_depth=3, n_estimators=200, subsample=0.8;, score=0.736 total time=   0.4s\n",
      "[CV 1/3] END colsample_bytree=0.8, learning_rate=0.01, max_depth=3, n_estimators=200, subsample=0.9;, score=0.727 total time=   0.4s\n",
      "[CV 2/3] END colsample_bytree=0.8, learning_rate=0.01, max_depth=3, n_estimators=200, subsample=0.9;, score=0.727 total time=   0.4s\n",
      "[CV 3/3] END colsample_bytree=0.8, learning_rate=0.01, max_depth=3, n_estimators=200, subsample=0.9;, score=0.734 total time=   0.4s\n",
      "[CV 1/3] END colsample_bytree=0.8, learning_rate=0.01, max_depth=3, n_estimators=200, subsample=1.0;, score=0.727 total time=   0.3s\n",
      "[CV 2/3] END colsample_bytree=0.8, learning_rate=0.01, max_depth=3, n_estimators=200, subsample=1.0;, score=0.733 total time=   0.3s\n",
      "[CV 3/3] END colsample_bytree=0.8, learning_rate=0.01, max_depth=3, n_estimators=200, subsample=1.0;, score=0.735 total time=   0.3s\n",
      "[CV 1/3] END colsample_bytree=0.8, learning_rate=0.01, max_depth=4, n_estimators=50, subsample=0.8;, score=0.716 total time=   0.1s\n",
      "[CV 2/3] END colsample_bytree=0.8, learning_rate=0.01, max_depth=4, n_estimators=50, subsample=0.8;, score=0.726 total time=   0.1s\n",
      "[CV 3/3] END colsample_bytree=0.8, learning_rate=0.01, max_depth=4, n_estimators=50, subsample=0.8;, score=0.731 total time=   0.1s\n",
      "[CV 1/3] END colsample_bytree=0.8, learning_rate=0.01, max_depth=4, n_estimators=50, subsample=0.9;, score=0.712 total time=   0.1s\n",
      "[CV 2/3] END colsample_bytree=0.8, learning_rate=0.01, max_depth=4, n_estimators=50, subsample=0.9;, score=0.726 total time=   0.1s\n",
      "[CV 3/3] END colsample_bytree=0.8, learning_rate=0.01, max_depth=4, n_estimators=50, subsample=0.9;, score=0.731 total time=   0.1s\n",
      "[CV 1/3] END colsample_bytree=0.8, learning_rate=0.01, max_depth=4, n_estimators=50, subsample=1.0;, score=0.714 total time=   0.1s\n",
      "[CV 2/3] END colsample_bytree=0.8, learning_rate=0.01, max_depth=4, n_estimators=50, subsample=1.0;, score=0.722 total time=   0.1s\n",
      "[CV 3/3] END colsample_bytree=0.8, learning_rate=0.01, max_depth=4, n_estimators=50, subsample=1.0;, score=0.732 total time=   0.1s\n",
      "[CV 1/3] END colsample_bytree=0.8, learning_rate=0.01, max_depth=4, n_estimators=100, subsample=0.8;, score=0.723 total time=   0.2s\n",
      "[CV 2/3] END colsample_bytree=0.8, learning_rate=0.01, max_depth=4, n_estimators=100, subsample=0.8;, score=0.727 total time=   0.2s\n",
      "[CV 3/3] END colsample_bytree=0.8, learning_rate=0.01, max_depth=4, n_estimators=100, subsample=0.8;, score=0.740 total time=   0.2s\n",
      "[CV 1/3] END colsample_bytree=0.8, learning_rate=0.01, max_depth=4, n_estimators=100, subsample=0.9;, score=0.725 total time=   0.2s\n",
      "[CV 2/3] END colsample_bytree=0.8, learning_rate=0.01, max_depth=4, n_estimators=100, subsample=0.9;, score=0.728 total time=   0.2s\n",
      "[CV 3/3] END colsample_bytree=0.8, learning_rate=0.01, max_depth=4, n_estimators=100, subsample=0.9;, score=0.742 total time=   0.2s\n",
      "[CV 1/3] END colsample_bytree=0.8, learning_rate=0.01, max_depth=4, n_estimators=100, subsample=1.0;, score=0.725 total time=   0.2s\n",
      "[CV 2/3] END colsample_bytree=0.8, learning_rate=0.01, max_depth=4, n_estimators=100, subsample=1.0;, score=0.729 total time=   0.2s\n",
      "[CV 3/3] END colsample_bytree=0.8, learning_rate=0.01, max_depth=4, n_estimators=100, subsample=1.0;, score=0.741 total time=   0.2s\n",
      "[CV 1/3] END colsample_bytree=0.8, learning_rate=0.01, max_depth=4, n_estimators=200, subsample=0.8;, score=0.745 total time=   0.5s\n",
      "[CV 2/3] END colsample_bytree=0.8, learning_rate=0.01, max_depth=4, n_estimators=200, subsample=0.8;, score=0.746 total time=   0.5s\n",
      "[CV 3/3] END colsample_bytree=0.8, learning_rate=0.01, max_depth=4, n_estimators=200, subsample=0.8;, score=0.757 total time=   0.5s\n",
      "[CV 1/3] END colsample_bytree=0.8, learning_rate=0.01, max_depth=4, n_estimators=200, subsample=0.9;, score=0.744 total time=   0.5s\n",
      "[CV 2/3] END colsample_bytree=0.8, learning_rate=0.01, max_depth=4, n_estimators=200, subsample=0.9;, score=0.746 total time=   0.5s\n",
      "[CV 3/3] END colsample_bytree=0.8, learning_rate=0.01, max_depth=4, n_estimators=200, subsample=0.9;, score=0.756 total time=   0.5s\n",
      "[CV 1/3] END colsample_bytree=0.8, learning_rate=0.01, max_depth=4, n_estimators=200, subsample=1.0;, score=0.744 total time=   0.4s\n",
      "[CV 2/3] END colsample_bytree=0.8, learning_rate=0.01, max_depth=4, n_estimators=200, subsample=1.0;, score=0.745 total time=   0.4s\n",
      "[CV 3/3] END colsample_bytree=0.8, learning_rate=0.01, max_depth=4, n_estimators=200, subsample=1.0;, score=0.755 total time=   0.4s\n",
      "[CV 1/3] END colsample_bytree=0.8, learning_rate=0.01, max_depth=5, n_estimators=50, subsample=0.8;, score=0.737 total time=   0.1s\n",
      "[CV 2/3] END colsample_bytree=0.8, learning_rate=0.01, max_depth=5, n_estimators=50, subsample=0.8;, score=0.737 total time=   0.1s\n",
      "[CV 3/3] END colsample_bytree=0.8, learning_rate=0.01, max_depth=5, n_estimators=50, subsample=0.8;, score=0.748 total time=   0.2s\n",
      "[CV 1/3] END colsample_bytree=0.8, learning_rate=0.01, max_depth=5, n_estimators=50, subsample=0.9;, score=0.736 total time=   0.1s\n",
      "[CV 2/3] END colsample_bytree=0.8, learning_rate=0.01, max_depth=5, n_estimators=50, subsample=0.9;, score=0.735 total time=   0.1s\n",
      "[CV 3/3] END colsample_bytree=0.8, learning_rate=0.01, max_depth=5, n_estimators=50, subsample=0.9;, score=0.745 total time=   0.1s\n",
      "[CV 1/3] END colsample_bytree=0.8, learning_rate=0.01, max_depth=5, n_estimators=50, subsample=1.0;, score=0.734 total time=   0.1s\n",
      "[CV 2/3] END colsample_bytree=0.8, learning_rate=0.01, max_depth=5, n_estimators=50, subsample=1.0;, score=0.734 total time=   0.1s\n",
      "[CV 3/3] END colsample_bytree=0.8, learning_rate=0.01, max_depth=5, n_estimators=50, subsample=1.0;, score=0.747 total time=   0.1s\n",
      "[CV 1/3] END colsample_bytree=0.8, learning_rate=0.01, max_depth=5, n_estimators=100, subsample=0.8;, score=0.744 total time=   0.3s\n",
      "[CV 2/3] END colsample_bytree=0.8, learning_rate=0.01, max_depth=5, n_estimators=100, subsample=0.8;, score=0.743 total time=   0.3s\n",
      "[CV 3/3] END colsample_bytree=0.8, learning_rate=0.01, max_depth=5, n_estimators=100, subsample=0.8;, score=0.754 total time=   0.3s\n",
      "[CV 1/3] END colsample_bytree=0.8, learning_rate=0.01, max_depth=5, n_estimators=100, subsample=0.9;, score=0.743 total time=   0.3s\n",
      "[CV 2/3] END colsample_bytree=0.8, learning_rate=0.01, max_depth=5, n_estimators=100, subsample=0.9;, score=0.743 total time=   0.3s\n",
      "[CV 3/3] END colsample_bytree=0.8, learning_rate=0.01, max_depth=5, n_estimators=100, subsample=0.9;, score=0.752 total time=   0.3s\n",
      "[CV 1/3] END colsample_bytree=0.8, learning_rate=0.01, max_depth=5, n_estimators=100, subsample=1.0;, score=0.741 total time=   0.3s\n",
      "[CV 2/3] END colsample_bytree=0.8, learning_rate=0.01, max_depth=5, n_estimators=100, subsample=1.0;, score=0.738 total time=   0.3s\n",
      "[CV 3/3] END colsample_bytree=0.8, learning_rate=0.01, max_depth=5, n_estimators=100, subsample=1.0;, score=0.749 total time=   0.3s\n",
      "[CV 1/3] END colsample_bytree=0.8, learning_rate=0.01, max_depth=5, n_estimators=200, subsample=0.8;, score=0.756 total time=   0.6s\n",
      "[CV 2/3] END colsample_bytree=0.8, learning_rate=0.01, max_depth=5, n_estimators=200, subsample=0.8;, score=0.756 total time=   0.6s\n",
      "[CV 3/3] END colsample_bytree=0.8, learning_rate=0.01, max_depth=5, n_estimators=200, subsample=0.8;, score=0.767 total time=   0.6s\n",
      "[CV 1/3] END colsample_bytree=0.8, learning_rate=0.01, max_depth=5, n_estimators=200, subsample=0.9;, score=0.756 total time=   0.6s\n",
      "[CV 2/3] END colsample_bytree=0.8, learning_rate=0.01, max_depth=5, n_estimators=200, subsample=0.9;, score=0.756 total time=   0.6s\n",
      "[CV 3/3] END colsample_bytree=0.8, learning_rate=0.01, max_depth=5, n_estimators=200, subsample=0.9;, score=0.766 total time=   0.6s\n",
      "[CV 1/3] END colsample_bytree=0.8, learning_rate=0.01, max_depth=5, n_estimators=200, subsample=1.0;, score=0.757 total time=   0.5s\n",
      "[CV 2/3] END colsample_bytree=0.8, learning_rate=0.01, max_depth=5, n_estimators=200, subsample=1.0;, score=0.755 total time=   0.6s\n",
      "[CV 3/3] END colsample_bytree=0.8, learning_rate=0.01, max_depth=5, n_estimators=200, subsample=1.0;, score=0.766 total time=   0.5s\n",
      "[CV 1/3] END colsample_bytree=0.8, learning_rate=0.001, max_depth=3, n_estimators=50, subsample=0.8;, score=0.702 total time=   0.1s\n",
      "[CV 2/3] END colsample_bytree=0.8, learning_rate=0.001, max_depth=3, n_estimators=50, subsample=0.8;, score=0.698 total time=   0.1s\n",
      "[CV 3/3] END colsample_bytree=0.8, learning_rate=0.001, max_depth=3, n_estimators=50, subsample=0.8;, score=0.705 total time=   0.1s\n",
      "[CV 1/3] END colsample_bytree=0.8, learning_rate=0.001, max_depth=3, n_estimators=50, subsample=0.9;, score=0.701 total time=   0.1s\n",
      "[CV 2/3] END colsample_bytree=0.8, learning_rate=0.001, max_depth=3, n_estimators=50, subsample=0.9;, score=0.695 total time=   0.1s\n",
      "[CV 3/3] END colsample_bytree=0.8, learning_rate=0.001, max_depth=3, n_estimators=50, subsample=0.9;, score=0.703 total time=   0.1s\n",
      "[CV 1/3] END colsample_bytree=0.8, learning_rate=0.001, max_depth=3, n_estimators=50, subsample=1.0;, score=0.703 total time=   0.0s\n",
      "[CV 2/3] END colsample_bytree=0.8, learning_rate=0.001, max_depth=3, n_estimators=50, subsample=1.0;, score=0.694 total time=   0.1s\n",
      "[CV 3/3] END colsample_bytree=0.8, learning_rate=0.001, max_depth=3, n_estimators=50, subsample=1.0;, score=0.705 total time=   0.0s\n",
      "[CV 1/3] END colsample_bytree=0.8, learning_rate=0.001, max_depth=3, n_estimators=100, subsample=0.8;, score=0.704 total time=   0.2s\n",
      "[CV 2/3] END colsample_bytree=0.8, learning_rate=0.001, max_depth=3, n_estimators=100, subsample=0.8;, score=0.698 total time=   0.2s\n",
      "[CV 3/3] END colsample_bytree=0.8, learning_rate=0.001, max_depth=3, n_estimators=100, subsample=0.8;, score=0.707 total time=   0.2s\n",
      "[CV 1/3] END colsample_bytree=0.8, learning_rate=0.001, max_depth=3, n_estimators=100, subsample=0.9;, score=0.702 total time=   0.2s\n",
      "[CV 2/3] END colsample_bytree=0.8, learning_rate=0.001, max_depth=3, n_estimators=100, subsample=0.9;, score=0.695 total time=   0.2s\n",
      "[CV 3/3] END colsample_bytree=0.8, learning_rate=0.001, max_depth=3, n_estimators=100, subsample=0.9;, score=0.703 total time=   0.2s\n",
      "[CV 1/3] END colsample_bytree=0.8, learning_rate=0.001, max_depth=3, n_estimators=100, subsample=1.0;, score=0.703 total time=   0.1s\n",
      "[CV 2/3] END colsample_bytree=0.8, learning_rate=0.001, max_depth=3, n_estimators=100, subsample=1.0;, score=0.694 total time=   0.1s\n",
      "[CV 3/3] END colsample_bytree=0.8, learning_rate=0.001, max_depth=3, n_estimators=100, subsample=1.0;, score=0.704 total time=   0.1s\n",
      "[CV 1/3] END colsample_bytree=0.8, learning_rate=0.001, max_depth=3, n_estimators=200, subsample=0.8;, score=0.708 total time=   0.4s\n",
      "[CV 2/3] END colsample_bytree=0.8, learning_rate=0.001, max_depth=3, n_estimators=200, subsample=0.8;, score=0.705 total time=   0.4s\n",
      "[CV 3/3] END colsample_bytree=0.8, learning_rate=0.001, max_depth=3, n_estimators=200, subsample=0.8;, score=0.712 total time=   0.4s\n",
      "[CV 1/3] END colsample_bytree=0.8, learning_rate=0.001, max_depth=3, n_estimators=200, subsample=0.9;, score=0.707 total time=   0.4s\n",
      "[CV 2/3] END colsample_bytree=0.8, learning_rate=0.001, max_depth=3, n_estimators=200, subsample=0.9;, score=0.704 total time=   0.4s\n",
      "[CV 3/3] END colsample_bytree=0.8, learning_rate=0.001, max_depth=3, n_estimators=200, subsample=0.9;, score=0.712 total time=   0.4s\n",
      "[CV 1/3] END colsample_bytree=0.8, learning_rate=0.001, max_depth=3, n_estimators=200, subsample=1.0;, score=0.706 total time=   0.3s\n",
      "[CV 2/3] END colsample_bytree=0.8, learning_rate=0.001, max_depth=3, n_estimators=200, subsample=1.0;, score=0.696 total time=   0.3s\n",
      "[CV 3/3] END colsample_bytree=0.8, learning_rate=0.001, max_depth=3, n_estimators=200, subsample=1.0;, score=0.711 total time=   0.3s\n",
      "[CV 1/3] END colsample_bytree=0.8, learning_rate=0.001, max_depth=4, n_estimators=50, subsample=0.8;, score=0.699 total time=   0.1s\n",
      "[CV 2/3] END colsample_bytree=0.8, learning_rate=0.001, max_depth=4, n_estimators=50, subsample=0.8;, score=0.717 total time=   0.1s\n",
      "[CV 3/3] END colsample_bytree=0.8, learning_rate=0.001, max_depth=4, n_estimators=50, subsample=0.8;, score=0.716 total time=   0.1s\n",
      "[CV 1/3] END colsample_bytree=0.8, learning_rate=0.001, max_depth=4, n_estimators=50, subsample=0.9;, score=0.701 total time=   0.1s\n",
      "[CV 2/3] END colsample_bytree=0.8, learning_rate=0.001, max_depth=4, n_estimators=50, subsample=0.9;, score=0.719 total time=   0.1s\n",
      "[CV 3/3] END colsample_bytree=0.8, learning_rate=0.001, max_depth=4, n_estimators=50, subsample=0.9;, score=0.721 total time=   0.1s\n",
      "[CV 1/3] END colsample_bytree=0.8, learning_rate=0.001, max_depth=4, n_estimators=50, subsample=1.0;, score=0.700 total time=   0.1s\n",
      "[CV 2/3] END colsample_bytree=0.8, learning_rate=0.001, max_depth=4, n_estimators=50, subsample=1.0;, score=0.717 total time=   0.1s\n",
      "[CV 3/3] END colsample_bytree=0.8, learning_rate=0.001, max_depth=4, n_estimators=50, subsample=1.0;, score=0.716 total time=   0.1s\n",
      "[CV 1/3] END colsample_bytree=0.8, learning_rate=0.001, max_depth=4, n_estimators=100, subsample=0.8;, score=0.709 total time=   0.2s\n",
      "[CV 2/3] END colsample_bytree=0.8, learning_rate=0.001, max_depth=4, n_estimators=100, subsample=0.8;, score=0.718 total time=   0.2s\n",
      "[CV 3/3] END colsample_bytree=0.8, learning_rate=0.001, max_depth=4, n_estimators=100, subsample=0.8;, score=0.724 total time=   0.2s\n",
      "[CV 1/3] END colsample_bytree=0.8, learning_rate=0.001, max_depth=4, n_estimators=100, subsample=0.9;, score=0.701 total time=   0.2s\n",
      "[CV 2/3] END colsample_bytree=0.8, learning_rate=0.001, max_depth=4, n_estimators=100, subsample=0.9;, score=0.718 total time=   0.2s\n",
      "[CV 3/3] END colsample_bytree=0.8, learning_rate=0.001, max_depth=4, n_estimators=100, subsample=0.9;, score=0.725 total time=   0.2s\n",
      "[CV 1/3] END colsample_bytree=0.8, learning_rate=0.001, max_depth=4, n_estimators=100, subsample=1.0;, score=0.702 total time=   0.2s\n",
      "[CV 2/3] END colsample_bytree=0.8, learning_rate=0.001, max_depth=4, n_estimators=100, subsample=1.0;, score=0.717 total time=   0.2s\n",
      "[CV 3/3] END colsample_bytree=0.8, learning_rate=0.001, max_depth=4, n_estimators=100, subsample=1.0;, score=0.717 total time=   0.2s\n",
      "[CV 1/3] END colsample_bytree=0.8, learning_rate=0.001, max_depth=4, n_estimators=200, subsample=0.8;, score=0.711 total time=   0.5s\n",
      "[CV 2/3] END colsample_bytree=0.8, learning_rate=0.001, max_depth=4, n_estimators=200, subsample=0.8;, score=0.721 total time=   0.5s\n",
      "[CV 3/3] END colsample_bytree=0.8, learning_rate=0.001, max_depth=4, n_estimators=200, subsample=0.8;, score=0.728 total time=   0.5s\n",
      "[CV 1/3] END colsample_bytree=0.8, learning_rate=0.001, max_depth=4, n_estimators=200, subsample=0.9;, score=0.709 total time=   0.5s\n",
      "[CV 2/3] END colsample_bytree=0.8, learning_rate=0.001, max_depth=4, n_estimators=200, subsample=0.9;, score=0.721 total time=   0.5s\n",
      "[CV 3/3] END colsample_bytree=0.8, learning_rate=0.001, max_depth=4, n_estimators=200, subsample=0.9;, score=0.726 total time=   0.5s\n",
      "[CV 1/3] END colsample_bytree=0.8, learning_rate=0.001, max_depth=4, n_estimators=200, subsample=1.0;, score=0.708 total time=   0.4s\n",
      "[CV 2/3] END colsample_bytree=0.8, learning_rate=0.001, max_depth=4, n_estimators=200, subsample=1.0;, score=0.722 total time=   0.4s\n",
      "[CV 3/3] END colsample_bytree=0.8, learning_rate=0.001, max_depth=4, n_estimators=200, subsample=1.0;, score=0.727 total time=   0.4s\n",
      "[CV 1/3] END colsample_bytree=0.8, learning_rate=0.001, max_depth=5, n_estimators=50, subsample=0.8;, score=0.728 total time=   0.1s\n",
      "[CV 2/3] END colsample_bytree=0.8, learning_rate=0.001, max_depth=5, n_estimators=50, subsample=0.8;, score=0.732 total time=   0.1s\n",
      "[CV 3/3] END colsample_bytree=0.8, learning_rate=0.001, max_depth=5, n_estimators=50, subsample=0.8;, score=0.737 total time=   0.1s\n",
      "[CV 1/3] END colsample_bytree=0.8, learning_rate=0.001, max_depth=5, n_estimators=50, subsample=0.9;, score=0.724 total time=   0.1s\n",
      "[CV 2/3] END colsample_bytree=0.8, learning_rate=0.001, max_depth=5, n_estimators=50, subsample=0.9;, score=0.731 total time=   0.1s\n",
      "[CV 3/3] END colsample_bytree=0.8, learning_rate=0.001, max_depth=5, n_estimators=50, subsample=0.9;, score=0.737 total time=   0.1s\n",
      "[CV 1/3] END colsample_bytree=0.8, learning_rate=0.001, max_depth=5, n_estimators=50, subsample=1.0;, score=0.729 total time=   0.1s\n",
      "[CV 2/3] END colsample_bytree=0.8, learning_rate=0.001, max_depth=5, n_estimators=50, subsample=1.0;, score=0.730 total time=   0.1s\n",
      "[CV 3/3] END colsample_bytree=0.8, learning_rate=0.001, max_depth=5, n_estimators=50, subsample=1.0;, score=0.738 total time=   0.1s\n",
      "[CV 1/3] END colsample_bytree=0.8, learning_rate=0.001, max_depth=5, n_estimators=100, subsample=0.8;, score=0.728 total time=   0.3s\n",
      "[CV 2/3] END colsample_bytree=0.8, learning_rate=0.001, max_depth=5, n_estimators=100, subsample=0.8;, score=0.731 total time=   0.3s\n",
      "[CV 3/3] END colsample_bytree=0.8, learning_rate=0.001, max_depth=5, n_estimators=100, subsample=0.8;, score=0.738 total time=   0.3s\n",
      "[CV 1/3] END colsample_bytree=0.8, learning_rate=0.001, max_depth=5, n_estimators=100, subsample=0.9;, score=0.728 total time=   0.3s\n",
      "[CV 2/3] END colsample_bytree=0.8, learning_rate=0.001, max_depth=5, n_estimators=100, subsample=0.9;, score=0.730 total time=   0.3s\n",
      "[CV 3/3] END colsample_bytree=0.8, learning_rate=0.001, max_depth=5, n_estimators=100, subsample=0.9;, score=0.737 total time=   0.3s\n",
      "[CV 1/3] END colsample_bytree=0.8, learning_rate=0.001, max_depth=5, n_estimators=100, subsample=1.0;, score=0.728 total time=   0.3s\n",
      "[CV 2/3] END colsample_bytree=0.8, learning_rate=0.001, max_depth=5, n_estimators=100, subsample=1.0;, score=0.730 total time=   0.3s\n",
      "[CV 3/3] END colsample_bytree=0.8, learning_rate=0.001, max_depth=5, n_estimators=100, subsample=1.0;, score=0.737 total time=   0.3s\n",
      "[CV 1/3] END colsample_bytree=0.8, learning_rate=0.001, max_depth=5, n_estimators=200, subsample=0.8;, score=0.727 total time=   0.6s\n",
      "[CV 2/3] END colsample_bytree=0.8, learning_rate=0.001, max_depth=5, n_estimators=200, subsample=0.8;, score=0.731 total time=   0.7s\n",
      "[CV 3/3] END colsample_bytree=0.8, learning_rate=0.001, max_depth=5, n_estimators=200, subsample=0.8;, score=0.743 total time=   0.6s\n",
      "[CV 1/3] END colsample_bytree=0.8, learning_rate=0.001, max_depth=5, n_estimators=200, subsample=0.9;, score=0.726 total time=   0.6s\n",
      "[CV 2/3] END colsample_bytree=0.8, learning_rate=0.001, max_depth=5, n_estimators=200, subsample=0.9;, score=0.732 total time=   0.7s\n",
      "[CV 3/3] END colsample_bytree=0.8, learning_rate=0.001, max_depth=5, n_estimators=200, subsample=0.9;, score=0.739 total time=   0.6s\n",
      "[CV 1/3] END colsample_bytree=0.8, learning_rate=0.001, max_depth=5, n_estimators=200, subsample=1.0;, score=0.727 total time=   0.6s\n",
      "[CV 2/3] END colsample_bytree=0.8, learning_rate=0.001, max_depth=5, n_estimators=200, subsample=1.0;, score=0.732 total time=   0.6s\n",
      "[CV 3/3] END colsample_bytree=0.8, learning_rate=0.001, max_depth=5, n_estimators=200, subsample=1.0;, score=0.740 total time=   0.6s\n",
      "[CV 1/3] END colsample_bytree=0.9, learning_rate=0.01, max_depth=3, n_estimators=50, subsample=0.8;, score=0.700 total time=   0.1s\n",
      "[CV 2/3] END colsample_bytree=0.9, learning_rate=0.01, max_depth=3, n_estimators=50, subsample=0.8;, score=0.709 total time=   0.1s\n",
      "[CV 3/3] END colsample_bytree=0.9, learning_rate=0.01, max_depth=3, n_estimators=50, subsample=0.8;, score=0.715 total time=   0.1s\n",
      "[CV 1/3] END colsample_bytree=0.9, learning_rate=0.01, max_depth=3, n_estimators=50, subsample=0.9;, score=0.696 total time=   0.1s\n",
      "[CV 2/3] END colsample_bytree=0.9, learning_rate=0.01, max_depth=3, n_estimators=50, subsample=0.9;, score=0.707 total time=   0.1s\n",
      "[CV 3/3] END colsample_bytree=0.9, learning_rate=0.01, max_depth=3, n_estimators=50, subsample=0.9;, score=0.714 total time=   0.1s\n",
      "[CV 1/3] END colsample_bytree=0.9, learning_rate=0.01, max_depth=3, n_estimators=50, subsample=1.0;, score=0.697 total time=   0.0s\n",
      "[CV 2/3] END colsample_bytree=0.9, learning_rate=0.01, max_depth=3, n_estimators=50, subsample=1.0;, score=0.708 total time=   0.1s\n",
      "[CV 3/3] END colsample_bytree=0.9, learning_rate=0.01, max_depth=3, n_estimators=50, subsample=1.0;, score=0.712 total time=   0.0s\n",
      "[CV 1/3] END colsample_bytree=0.9, learning_rate=0.01, max_depth=3, n_estimators=100, subsample=0.8;, score=0.699 total time=   0.2s\n",
      "[CV 2/3] END colsample_bytree=0.9, learning_rate=0.01, max_depth=3, n_estimators=100, subsample=0.8;, score=0.707 total time=   0.2s\n",
      "[CV 3/3] END colsample_bytree=0.9, learning_rate=0.01, max_depth=3, n_estimators=100, subsample=0.8;, score=0.709 total time=   0.2s\n",
      "[CV 1/3] END colsample_bytree=0.9, learning_rate=0.01, max_depth=3, n_estimators=100, subsample=0.9;, score=0.697 total time=   0.2s\n",
      "[CV 2/3] END colsample_bytree=0.9, learning_rate=0.01, max_depth=3, n_estimators=100, subsample=0.9;, score=0.706 total time=   0.2s\n",
      "[CV 3/3] END colsample_bytree=0.9, learning_rate=0.01, max_depth=3, n_estimators=100, subsample=0.9;, score=0.711 total time=   0.2s\n",
      "[CV 1/3] END colsample_bytree=0.9, learning_rate=0.01, max_depth=3, n_estimators=100, subsample=1.0;, score=0.698 total time=   0.1s\n",
      "[CV 2/3] END colsample_bytree=0.9, learning_rate=0.01, max_depth=3, n_estimators=100, subsample=1.0;, score=0.705 total time=   0.2s\n",
      "[CV 3/3] END colsample_bytree=0.9, learning_rate=0.01, max_depth=3, n_estimators=100, subsample=1.0;, score=0.708 total time=   0.1s\n",
      "[CV 1/3] END colsample_bytree=0.9, learning_rate=0.01, max_depth=3, n_estimators=200, subsample=0.8;, score=0.726 total time=   0.4s\n",
      "[CV 2/3] END colsample_bytree=0.9, learning_rate=0.01, max_depth=3, n_estimators=200, subsample=0.8;, score=0.730 total time=   0.4s\n",
      "[CV 3/3] END colsample_bytree=0.9, learning_rate=0.01, max_depth=3, n_estimators=200, subsample=0.8;, score=0.734 total time=   0.4s\n",
      "[CV 1/3] END colsample_bytree=0.9, learning_rate=0.01, max_depth=3, n_estimators=200, subsample=0.9;, score=0.726 total time=   0.4s\n",
      "[CV 2/3] END colsample_bytree=0.9, learning_rate=0.01, max_depth=3, n_estimators=200, subsample=0.9;, score=0.731 total time=   0.4s\n",
      "[CV 3/3] END colsample_bytree=0.9, learning_rate=0.01, max_depth=3, n_estimators=200, subsample=0.9;, score=0.735 total time=   0.4s\n",
      "[CV 1/3] END colsample_bytree=0.9, learning_rate=0.01, max_depth=3, n_estimators=200, subsample=1.0;, score=0.727 total time=   0.3s\n",
      "[CV 2/3] END colsample_bytree=0.9, learning_rate=0.01, max_depth=3, n_estimators=200, subsample=1.0;, score=0.731 total time=   0.3s\n",
      "[CV 3/3] END colsample_bytree=0.9, learning_rate=0.01, max_depth=3, n_estimators=200, subsample=1.0;, score=0.734 total time=   0.3s\n",
      "[CV 1/3] END colsample_bytree=0.9, learning_rate=0.01, max_depth=4, n_estimators=50, subsample=0.8;, score=0.720 total time=   0.1s\n",
      "[CV 2/3] END colsample_bytree=0.9, learning_rate=0.01, max_depth=4, n_estimators=50, subsample=0.8;, score=0.725 total time=   0.1s\n",
      "[CV 3/3] END colsample_bytree=0.9, learning_rate=0.01, max_depth=4, n_estimators=50, subsample=0.8;, score=0.726 total time=   0.1s\n",
      "[CV 1/3] END colsample_bytree=0.9, learning_rate=0.01, max_depth=4, n_estimators=50, subsample=0.9;, score=0.711 total time=   0.1s\n",
      "[CV 2/3] END colsample_bytree=0.9, learning_rate=0.01, max_depth=4, n_estimators=50, subsample=0.9;, score=0.723 total time=   0.1s\n",
      "[CV 3/3] END colsample_bytree=0.9, learning_rate=0.01, max_depth=4, n_estimators=50, subsample=0.9;, score=0.717 total time=   0.1s\n",
      "[CV 1/3] END colsample_bytree=0.9, learning_rate=0.01, max_depth=4, n_estimators=50, subsample=1.0;, score=0.710 total time=   0.1s\n",
      "[CV 2/3] END colsample_bytree=0.9, learning_rate=0.01, max_depth=4, n_estimators=50, subsample=1.0;, score=0.723 total time=   0.1s\n",
      "[CV 3/3] END colsample_bytree=0.9, learning_rate=0.01, max_depth=4, n_estimators=50, subsample=1.0;, score=0.718 total time=   0.1s\n",
      "[CV 1/3] END colsample_bytree=0.9, learning_rate=0.01, max_depth=4, n_estimators=100, subsample=0.8;, score=0.720 total time=   0.2s\n",
      "[CV 2/3] END colsample_bytree=0.9, learning_rate=0.01, max_depth=4, n_estimators=100, subsample=0.8;, score=0.727 total time=   0.2s\n",
      "[CV 3/3] END colsample_bytree=0.9, learning_rate=0.01, max_depth=4, n_estimators=100, subsample=0.8;, score=0.737 total time=   0.2s\n",
      "[CV 1/3] END colsample_bytree=0.9, learning_rate=0.01, max_depth=4, n_estimators=100, subsample=0.9;, score=0.719 total time=   0.2s\n",
      "[CV 2/3] END colsample_bytree=0.9, learning_rate=0.01, max_depth=4, n_estimators=100, subsample=0.9;, score=0.728 total time=   0.2s\n",
      "[CV 3/3] END colsample_bytree=0.9, learning_rate=0.01, max_depth=4, n_estimators=100, subsample=0.9;, score=0.736 total time=   0.2s\n",
      "[CV 1/3] END colsample_bytree=0.9, learning_rate=0.01, max_depth=4, n_estimators=100, subsample=1.0;, score=0.721 total time=   0.2s\n",
      "[CV 2/3] END colsample_bytree=0.9, learning_rate=0.01, max_depth=4, n_estimators=100, subsample=1.0;, score=0.728 total time=   0.2s\n",
      "[CV 3/3] END colsample_bytree=0.9, learning_rate=0.01, max_depth=4, n_estimators=100, subsample=1.0;, score=0.738 total time=   0.2s\n",
      "[CV 1/3] END colsample_bytree=0.9, learning_rate=0.01, max_depth=4, n_estimators=200, subsample=0.8;, score=0.746 total time=   0.5s\n",
      "[CV 2/3] END colsample_bytree=0.9, learning_rate=0.01, max_depth=4, n_estimators=200, subsample=0.8;, score=0.746 total time=   0.7s\n",
      "[CV 3/3] END colsample_bytree=0.9, learning_rate=0.01, max_depth=4, n_estimators=200, subsample=0.8;, score=0.757 total time=   0.5s\n",
      "[CV 1/3] END colsample_bytree=0.9, learning_rate=0.01, max_depth=4, n_estimators=200, subsample=0.9;, score=0.743 total time=   0.5s\n",
      "[CV 2/3] END colsample_bytree=0.9, learning_rate=0.01, max_depth=4, n_estimators=200, subsample=0.9;, score=0.746 total time=   0.6s\n",
      "[CV 3/3] END colsample_bytree=0.9, learning_rate=0.01, max_depth=4, n_estimators=200, subsample=0.9;, score=0.755 total time=   0.5s\n",
      "[CV 1/3] END colsample_bytree=0.9, learning_rate=0.01, max_depth=4, n_estimators=200, subsample=1.0;, score=0.745 total time=   0.4s\n",
      "[CV 2/3] END colsample_bytree=0.9, learning_rate=0.01, max_depth=4, n_estimators=200, subsample=1.0;, score=0.746 total time=   0.4s\n",
      "[CV 3/3] END colsample_bytree=0.9, learning_rate=0.01, max_depth=4, n_estimators=200, subsample=1.0;, score=0.757 total time=   0.4s\n",
      "[CV 1/3] END colsample_bytree=0.9, learning_rate=0.01, max_depth=5, n_estimators=50, subsample=0.8;, score=0.735 total time=   0.2s\n",
      "[CV 2/3] END colsample_bytree=0.9, learning_rate=0.01, max_depth=5, n_estimators=50, subsample=0.8;, score=0.730 total time=   0.2s\n",
      "[CV 3/3] END colsample_bytree=0.9, learning_rate=0.01, max_depth=5, n_estimators=50, subsample=0.8;, score=0.742 total time=   0.2s\n",
      "[CV 1/3] END colsample_bytree=0.9, learning_rate=0.01, max_depth=5, n_estimators=50, subsample=0.9;, score=0.729 total time=   0.3s\n",
      "[CV 2/3] END colsample_bytree=0.9, learning_rate=0.01, max_depth=5, n_estimators=50, subsample=0.9;, score=0.731 total time=   0.3s\n",
      "[CV 3/3] END colsample_bytree=0.9, learning_rate=0.01, max_depth=5, n_estimators=50, subsample=0.9;, score=0.738 total time=   0.2s\n",
      "[CV 1/3] END colsample_bytree=0.9, learning_rate=0.01, max_depth=5, n_estimators=50, subsample=1.0;, score=0.729 total time=   0.2s\n",
      "[CV 2/3] END colsample_bytree=0.9, learning_rate=0.01, max_depth=5, n_estimators=50, subsample=1.0;, score=0.727 total time=   0.2s\n",
      "[CV 3/3] END colsample_bytree=0.9, learning_rate=0.01, max_depth=5, n_estimators=50, subsample=1.0;, score=0.737 total time=   0.1s\n",
      "[CV 1/3] END colsample_bytree=0.9, learning_rate=0.01, max_depth=5, n_estimators=100, subsample=0.8;, score=0.741 total time=   0.4s\n",
      "[CV 2/3] END colsample_bytree=0.9, learning_rate=0.01, max_depth=5, n_estimators=100, subsample=0.8;, score=0.741 total time=   0.4s\n",
      "[CV 3/3] END colsample_bytree=0.9, learning_rate=0.01, max_depth=5, n_estimators=100, subsample=0.8;, score=0.751 total time=   0.4s\n",
      "[CV 1/3] END colsample_bytree=0.9, learning_rate=0.01, max_depth=5, n_estimators=100, subsample=0.9;, score=0.741 total time=   0.4s\n",
      "[CV 2/3] END colsample_bytree=0.9, learning_rate=0.01, max_depth=5, n_estimators=100, subsample=0.9;, score=0.741 total time=   0.3s\n",
      "[CV 3/3] END colsample_bytree=0.9, learning_rate=0.01, max_depth=5, n_estimators=100, subsample=0.9;, score=0.750 total time=   0.3s\n",
      "[CV 1/3] END colsample_bytree=0.9, learning_rate=0.01, max_depth=5, n_estimators=100, subsample=1.0;, score=0.741 total time=   0.3s\n",
      "[CV 2/3] END colsample_bytree=0.9, learning_rate=0.01, max_depth=5, n_estimators=100, subsample=1.0;, score=0.740 total time=   0.3s\n",
      "[CV 3/3] END colsample_bytree=0.9, learning_rate=0.01, max_depth=5, n_estimators=100, subsample=1.0;, score=0.747 total time=   0.3s\n",
      "[CV 1/3] END colsample_bytree=0.9, learning_rate=0.01, max_depth=5, n_estimators=200, subsample=0.8;, score=0.755 total time=   0.6s\n",
      "[CV 2/3] END colsample_bytree=0.9, learning_rate=0.01, max_depth=5, n_estimators=200, subsample=0.8;, score=0.755 total time=   0.6s\n",
      "[CV 3/3] END colsample_bytree=0.9, learning_rate=0.01, max_depth=5, n_estimators=200, subsample=0.8;, score=0.767 total time=   0.6s\n",
      "[CV 1/3] END colsample_bytree=0.9, learning_rate=0.01, max_depth=5, n_estimators=200, subsample=0.9;, score=0.756 total time=   0.6s\n",
      "[CV 2/3] END colsample_bytree=0.9, learning_rate=0.01, max_depth=5, n_estimators=200, subsample=0.9;, score=0.755 total time=   0.7s\n",
      "[CV 3/3] END colsample_bytree=0.9, learning_rate=0.01, max_depth=5, n_estimators=200, subsample=0.9;, score=0.766 total time=   0.6s\n",
      "[CV 1/3] END colsample_bytree=0.9, learning_rate=0.01, max_depth=5, n_estimators=200, subsample=1.0;, score=0.756 total time=   0.6s\n",
      "[CV 2/3] END colsample_bytree=0.9, learning_rate=0.01, max_depth=5, n_estimators=200, subsample=1.0;, score=0.755 total time=   0.6s\n",
      "[CV 3/3] END colsample_bytree=0.9, learning_rate=0.01, max_depth=5, n_estimators=200, subsample=1.0;, score=0.762 total time=   0.6s\n",
      "[CV 1/3] END colsample_bytree=0.9, learning_rate=0.001, max_depth=3, n_estimators=50, subsample=0.8;, score=0.696 total time=   0.1s\n",
      "[CV 2/3] END colsample_bytree=0.9, learning_rate=0.001, max_depth=3, n_estimators=50, subsample=0.8;, score=0.692 total time=   0.1s\n",
      "[CV 3/3] END colsample_bytree=0.9, learning_rate=0.001, max_depth=3, n_estimators=50, subsample=0.8;, score=0.700 total time=   0.1s\n",
      "[CV 1/3] END colsample_bytree=0.9, learning_rate=0.001, max_depth=3, n_estimators=50, subsample=0.9;, score=0.696 total time=   0.1s\n",
      "[CV 2/3] END colsample_bytree=0.9, learning_rate=0.001, max_depth=3, n_estimators=50, subsample=0.9;, score=0.692 total time=   0.1s\n",
      "[CV 3/3] END colsample_bytree=0.9, learning_rate=0.001, max_depth=3, n_estimators=50, subsample=0.9;, score=0.700 total time=   0.1s\n",
      "[CV 1/3] END colsample_bytree=0.9, learning_rate=0.001, max_depth=3, n_estimators=50, subsample=1.0;, score=0.696 total time=   0.0s\n",
      "[CV 2/3] END colsample_bytree=0.9, learning_rate=0.001, max_depth=3, n_estimators=50, subsample=1.0;, score=0.692 total time=   0.1s\n",
      "[CV 3/3] END colsample_bytree=0.9, learning_rate=0.001, max_depth=3, n_estimators=50, subsample=1.0;, score=0.701 total time=   0.0s\n",
      "[CV 1/3] END colsample_bytree=0.9, learning_rate=0.001, max_depth=3, n_estimators=100, subsample=0.8;, score=0.697 total time=   0.2s\n",
      "[CV 2/3] END colsample_bytree=0.9, learning_rate=0.001, max_depth=3, n_estimators=100, subsample=0.8;, score=0.696 total time=   0.2s\n",
      "[CV 3/3] END colsample_bytree=0.9, learning_rate=0.001, max_depth=3, n_estimators=100, subsample=0.8;, score=0.701 total time=   0.2s\n",
      "[CV 1/3] END colsample_bytree=0.9, learning_rate=0.001, max_depth=3, n_estimators=100, subsample=0.9;, score=0.697 total time=   0.2s\n",
      "[CV 2/3] END colsample_bytree=0.9, learning_rate=0.001, max_depth=3, n_estimators=100, subsample=0.9;, score=0.692 total time=   0.2s\n",
      "[CV 3/3] END colsample_bytree=0.9, learning_rate=0.001, max_depth=3, n_estimators=100, subsample=0.9;, score=0.700 total time=   0.2s\n",
      "[CV 1/3] END colsample_bytree=0.9, learning_rate=0.001, max_depth=3, n_estimators=100, subsample=1.0;, score=0.696 total time=   0.1s\n",
      "[CV 2/3] END colsample_bytree=0.9, learning_rate=0.001, max_depth=3, n_estimators=100, subsample=1.0;, score=0.692 total time=   0.1s\n",
      "[CV 3/3] END colsample_bytree=0.9, learning_rate=0.001, max_depth=3, n_estimators=100, subsample=1.0;, score=0.701 total time=   0.1s\n",
      "[CV 1/3] END colsample_bytree=0.9, learning_rate=0.001, max_depth=3, n_estimators=200, subsample=0.8;, score=0.702 total time=   0.4s\n",
      "[CV 2/3] END colsample_bytree=0.9, learning_rate=0.001, max_depth=3, n_estimators=200, subsample=0.8;, score=0.704 total time=   0.4s\n",
      "[CV 3/3] END colsample_bytree=0.9, learning_rate=0.001, max_depth=3, n_estimators=200, subsample=0.8;, score=0.710 total time=   0.4s\n",
      "[CV 1/3] END colsample_bytree=0.9, learning_rate=0.001, max_depth=3, n_estimators=200, subsample=0.9;, score=0.700 total time=   0.4s\n",
      "[CV 2/3] END colsample_bytree=0.9, learning_rate=0.001, max_depth=3, n_estimators=200, subsample=0.9;, score=0.701 total time=   0.4s\n",
      "[CV 3/3] END colsample_bytree=0.9, learning_rate=0.001, max_depth=3, n_estimators=200, subsample=0.9;, score=0.708 total time=   0.4s\n",
      "[CV 1/3] END colsample_bytree=0.9, learning_rate=0.001, max_depth=3, n_estimators=200, subsample=1.0;, score=0.696 total time=   0.3s\n",
      "[CV 2/3] END colsample_bytree=0.9, learning_rate=0.001, max_depth=3, n_estimators=200, subsample=1.0;, score=0.699 total time=   0.3s\n",
      "[CV 3/3] END colsample_bytree=0.9, learning_rate=0.001, max_depth=3, n_estimators=200, subsample=1.0;, score=0.708 total time=   0.3s\n",
      "[CV 1/3] END colsample_bytree=0.9, learning_rate=0.001, max_depth=4, n_estimators=50, subsample=0.8;, score=0.698 total time=   0.1s\n",
      "[CV 2/3] END colsample_bytree=0.9, learning_rate=0.001, max_depth=4, n_estimators=50, subsample=0.8;, score=0.715 total time=   0.1s\n",
      "[CV 3/3] END colsample_bytree=0.9, learning_rate=0.001, max_depth=4, n_estimators=50, subsample=0.8;, score=0.712 total time=   0.1s\n",
      "[CV 1/3] END colsample_bytree=0.9, learning_rate=0.001, max_depth=4, n_estimators=50, subsample=0.9;, score=0.696 total time=   0.1s\n",
      "[CV 2/3] END colsample_bytree=0.9, learning_rate=0.001, max_depth=4, n_estimators=50, subsample=0.9;, score=0.714 total time=   0.1s\n",
      "[CV 3/3] END colsample_bytree=0.9, learning_rate=0.001, max_depth=4, n_estimators=50, subsample=0.9;, score=0.712 total time=   0.1s\n",
      "[CV 1/3] END colsample_bytree=0.9, learning_rate=0.001, max_depth=4, n_estimators=50, subsample=1.0;, score=0.693 total time=   0.1s\n",
      "[CV 2/3] END colsample_bytree=0.9, learning_rate=0.001, max_depth=4, n_estimators=50, subsample=1.0;, score=0.710 total time=   0.1s\n",
      "[CV 3/3] END colsample_bytree=0.9, learning_rate=0.001, max_depth=4, n_estimators=50, subsample=1.0;, score=0.710 total time=   0.1s\n",
      "[CV 1/3] END colsample_bytree=0.9, learning_rate=0.001, max_depth=4, n_estimators=100, subsample=0.8;, score=0.700 total time=   0.2s\n",
      "[CV 2/3] END colsample_bytree=0.9, learning_rate=0.001, max_depth=4, n_estimators=100, subsample=0.8;, score=0.716 total time=   0.2s\n",
      "[CV 3/3] END colsample_bytree=0.9, learning_rate=0.001, max_depth=4, n_estimators=100, subsample=0.8;, score=0.720 total time=   0.3s\n",
      "[CV 1/3] END colsample_bytree=0.9, learning_rate=0.001, max_depth=4, n_estimators=100, subsample=0.9;, score=0.696 total time=   0.2s\n",
      "[CV 2/3] END colsample_bytree=0.9, learning_rate=0.001, max_depth=4, n_estimators=100, subsample=0.9;, score=0.714 total time=   0.2s\n",
      "[CV 3/3] END colsample_bytree=0.9, learning_rate=0.001, max_depth=4, n_estimators=100, subsample=0.9;, score=0.719 total time=   0.2s\n",
      "[CV 1/3] END colsample_bytree=0.9, learning_rate=0.001, max_depth=4, n_estimators=100, subsample=1.0;, score=0.695 total time=   0.2s\n",
      "[CV 2/3] END colsample_bytree=0.9, learning_rate=0.001, max_depth=4, n_estimators=100, subsample=1.0;, score=0.710 total time=   0.2s\n",
      "[CV 3/3] END colsample_bytree=0.9, learning_rate=0.001, max_depth=4, n_estimators=100, subsample=1.0;, score=0.713 total time=   0.2s\n",
      "[CV 1/3] END colsample_bytree=0.9, learning_rate=0.001, max_depth=4, n_estimators=200, subsample=0.8;, score=0.707 total time=   0.5s\n",
      "[CV 2/3] END colsample_bytree=0.9, learning_rate=0.001, max_depth=4, n_estimators=200, subsample=0.8;, score=0.721 total time=   0.5s\n",
      "[CV 3/3] END colsample_bytree=0.9, learning_rate=0.001, max_depth=4, n_estimators=200, subsample=0.8;, score=0.715 total time=   0.5s\n",
      "[CV 1/3] END colsample_bytree=0.9, learning_rate=0.001, max_depth=4, n_estimators=200, subsample=0.9;, score=0.701 total time=   0.5s\n",
      "[CV 2/3] END colsample_bytree=0.9, learning_rate=0.001, max_depth=4, n_estimators=200, subsample=0.9;, score=0.719 total time=   0.5s\n",
      "[CV 3/3] END colsample_bytree=0.9, learning_rate=0.001, max_depth=4, n_estimators=200, subsample=0.9;, score=0.715 total time=   0.5s\n",
      "[CV 1/3] END colsample_bytree=0.9, learning_rate=0.001, max_depth=4, n_estimators=200, subsample=1.0;, score=0.696 total time=   0.5s\n",
      "[CV 2/3] END colsample_bytree=0.9, learning_rate=0.001, max_depth=4, n_estimators=200, subsample=1.0;, score=0.716 total time=   0.4s\n",
      "[CV 3/3] END colsample_bytree=0.9, learning_rate=0.001, max_depth=4, n_estimators=200, subsample=1.0;, score=0.714 total time=   0.5s\n",
      "[CV 1/3] END colsample_bytree=0.9, learning_rate=0.001, max_depth=5, n_estimators=50, subsample=0.8;, score=0.726 total time=   0.2s\n",
      "[CV 2/3] END colsample_bytree=0.9, learning_rate=0.001, max_depth=5, n_estimators=50, subsample=0.8;, score=0.724 total time=   0.1s\n",
      "[CV 3/3] END colsample_bytree=0.9, learning_rate=0.001, max_depth=5, n_estimators=50, subsample=0.8;, score=0.732 total time=   0.2s\n",
      "[CV 1/3] END colsample_bytree=0.9, learning_rate=0.001, max_depth=5, n_estimators=50, subsample=0.9;, score=0.722 total time=   0.1s\n",
      "[CV 2/3] END colsample_bytree=0.9, learning_rate=0.001, max_depth=5, n_estimators=50, subsample=0.9;, score=0.725 total time=   0.1s\n",
      "[CV 3/3] END colsample_bytree=0.9, learning_rate=0.001, max_depth=5, n_estimators=50, subsample=0.9;, score=0.732 total time=   0.1s\n",
      "[CV 1/3] END colsample_bytree=0.9, learning_rate=0.001, max_depth=5, n_estimators=50, subsample=1.0;, score=0.721 total time=   0.1s\n",
      "[CV 2/3] END colsample_bytree=0.9, learning_rate=0.001, max_depth=5, n_estimators=50, subsample=1.0;, score=0.721 total time=   0.1s\n",
      "[CV 3/3] END colsample_bytree=0.9, learning_rate=0.001, max_depth=5, n_estimators=50, subsample=1.0;, score=0.728 total time=   0.1s\n",
      "[CV 1/3] END colsample_bytree=0.9, learning_rate=0.001, max_depth=5, n_estimators=100, subsample=0.8;, score=0.726 total time=   0.3s\n",
      "[CV 2/3] END colsample_bytree=0.9, learning_rate=0.001, max_depth=5, n_estimators=100, subsample=0.8;, score=0.725 total time=   0.3s\n",
      "[CV 3/3] END colsample_bytree=0.9, learning_rate=0.001, max_depth=5, n_estimators=100, subsample=0.8;, score=0.734 total time=   0.3s\n",
      "[CV 1/3] END colsample_bytree=0.9, learning_rate=0.001, max_depth=5, n_estimators=100, subsample=0.9;, score=0.725 total time=   0.3s\n",
      "[CV 2/3] END colsample_bytree=0.9, learning_rate=0.001, max_depth=5, n_estimators=100, subsample=0.9;, score=0.724 total time=   0.3s\n",
      "[CV 3/3] END colsample_bytree=0.9, learning_rate=0.001, max_depth=5, n_estimators=100, subsample=0.9;, score=0.733 total time=   0.4s\n",
      "[CV 1/3] END colsample_bytree=0.9, learning_rate=0.001, max_depth=5, n_estimators=100, subsample=1.0;, score=0.724 total time=   0.3s\n",
      "[CV 2/3] END colsample_bytree=0.9, learning_rate=0.001, max_depth=5, n_estimators=100, subsample=1.0;, score=0.724 total time=   0.3s\n",
      "[CV 3/3] END colsample_bytree=0.9, learning_rate=0.001, max_depth=5, n_estimators=100, subsample=1.0;, score=0.734 total time=   0.3s\n",
      "[CV 1/3] END colsample_bytree=0.9, learning_rate=0.001, max_depth=5, n_estimators=200, subsample=0.8;, score=0.727 total time=   0.7s\n",
      "[CV 2/3] END colsample_bytree=0.9, learning_rate=0.001, max_depth=5, n_estimators=200, subsample=0.8;, score=0.728 total time=   0.7s\n",
      "[CV 3/3] END colsample_bytree=0.9, learning_rate=0.001, max_depth=5, n_estimators=200, subsample=0.8;, score=0.736 total time=   0.7s\n",
      "[CV 1/3] END colsample_bytree=0.9, learning_rate=0.001, max_depth=5, n_estimators=200, subsample=0.9;, score=0.726 total time=   0.7s\n",
      "[CV 2/3] END colsample_bytree=0.9, learning_rate=0.001, max_depth=5, n_estimators=200, subsample=0.9;, score=0.728 total time=   0.6s\n",
      "[CV 3/3] END colsample_bytree=0.9, learning_rate=0.001, max_depth=5, n_estimators=200, subsample=0.9;, score=0.735 total time=   0.6s\n",
      "[CV 1/3] END colsample_bytree=0.9, learning_rate=0.001, max_depth=5, n_estimators=200, subsample=1.0;, score=0.726 total time=   0.6s\n",
      "[CV 2/3] END colsample_bytree=0.9, learning_rate=0.001, max_depth=5, n_estimators=200, subsample=1.0;, score=0.724 total time=   0.6s\n",
      "[CV 3/3] END colsample_bytree=0.9, learning_rate=0.001, max_depth=5, n_estimators=200, subsample=1.0;, score=0.736 total time=   0.6s\n",
      "[CV 1/3] END colsample_bytree=1.0, learning_rate=0.01, max_depth=3, n_estimators=50, subsample=0.8;, score=0.699 total time=   0.1s\n",
      "[CV 2/3] END colsample_bytree=1.0, learning_rate=0.01, max_depth=3, n_estimators=50, subsample=0.8;, score=0.707 total time=   0.1s\n",
      "[CV 3/3] END colsample_bytree=1.0, learning_rate=0.01, max_depth=3, n_estimators=50, subsample=0.8;, score=0.714 total time=   0.1s\n",
      "[CV 1/3] END colsample_bytree=1.0, learning_rate=0.01, max_depth=3, n_estimators=50, subsample=0.9;, score=0.694 total time=   0.1s\n",
      "[CV 2/3] END colsample_bytree=1.0, learning_rate=0.01, max_depth=3, n_estimators=50, subsample=0.9;, score=0.706 total time=   0.1s\n",
      "[CV 3/3] END colsample_bytree=1.0, learning_rate=0.01, max_depth=3, n_estimators=50, subsample=0.9;, score=0.714 total time=   0.1s\n",
      "[CV 1/3] END colsample_bytree=1.0, learning_rate=0.01, max_depth=3, n_estimators=50, subsample=1.0;, score=0.695 total time=   0.0s\n",
      "[CV 2/3] END colsample_bytree=1.0, learning_rate=0.01, max_depth=3, n_estimators=50, subsample=1.0;, score=0.706 total time=   0.0s\n",
      "[CV 3/3] END colsample_bytree=1.0, learning_rate=0.01, max_depth=3, n_estimators=50, subsample=1.0;, score=0.714 total time=   0.0s\n",
      "[CV 1/3] END colsample_bytree=1.0, learning_rate=0.01, max_depth=3, n_estimators=100, subsample=0.8;, score=0.697 total time=   0.2s\n",
      "[CV 2/3] END colsample_bytree=1.0, learning_rate=0.01, max_depth=3, n_estimators=100, subsample=0.8;, score=0.707 total time=   0.2s\n",
      "[CV 3/3] END colsample_bytree=1.0, learning_rate=0.01, max_depth=3, n_estimators=100, subsample=0.8;, score=0.711 total time=   0.2s\n",
      "[CV 1/3] END colsample_bytree=1.0, learning_rate=0.01, max_depth=3, n_estimators=100, subsample=0.9;, score=0.697 total time=   0.2s\n",
      "[CV 2/3] END colsample_bytree=1.0, learning_rate=0.01, max_depth=3, n_estimators=100, subsample=0.9;, score=0.703 total time=   0.2s\n",
      "[CV 3/3] END colsample_bytree=1.0, learning_rate=0.01, max_depth=3, n_estimators=100, subsample=0.9;, score=0.713 total time=   0.2s\n",
      "[CV 1/3] END colsample_bytree=1.0, learning_rate=0.01, max_depth=3, n_estimators=100, subsample=1.0;, score=0.698 total time=   0.1s\n",
      "[CV 2/3] END colsample_bytree=1.0, learning_rate=0.01, max_depth=3, n_estimators=100, subsample=1.0;, score=0.706 total time=   0.1s\n",
      "[CV 3/3] END colsample_bytree=1.0, learning_rate=0.01, max_depth=3, n_estimators=100, subsample=1.0;, score=0.708 total time=   0.2s\n",
      "[CV 1/3] END colsample_bytree=1.0, learning_rate=0.01, max_depth=3, n_estimators=200, subsample=0.8;, score=0.726 total time=   0.5s\n",
      "[CV 2/3] END colsample_bytree=1.0, learning_rate=0.01, max_depth=3, n_estimators=200, subsample=0.8;, score=0.731 total time=   0.5s\n",
      "[CV 3/3] END colsample_bytree=1.0, learning_rate=0.01, max_depth=3, n_estimators=200, subsample=0.8;, score=0.737 total time=   0.5s\n",
      "[CV 1/3] END colsample_bytree=1.0, learning_rate=0.01, max_depth=3, n_estimators=200, subsample=0.9;, score=0.724 total time=   0.4s\n",
      "[CV 2/3] END colsample_bytree=1.0, learning_rate=0.01, max_depth=3, n_estimators=200, subsample=0.9;, score=0.731 total time=   0.4s\n",
      "[CV 3/3] END colsample_bytree=1.0, learning_rate=0.01, max_depth=3, n_estimators=200, subsample=0.9;, score=0.734 total time=   0.4s\n",
      "[CV 1/3] END colsample_bytree=1.0, learning_rate=0.01, max_depth=3, n_estimators=200, subsample=1.0;, score=0.727 total time=   0.3s\n",
      "[CV 2/3] END colsample_bytree=1.0, learning_rate=0.01, max_depth=3, n_estimators=200, subsample=1.0;, score=0.731 total time=   0.3s\n",
      "[CV 3/3] END colsample_bytree=1.0, learning_rate=0.01, max_depth=3, n_estimators=200, subsample=1.0;, score=0.734 total time=   0.3s\n",
      "[CV 1/3] END colsample_bytree=1.0, learning_rate=0.01, max_depth=4, n_estimators=50, subsample=0.8;, score=0.718 total time=   0.1s\n",
      "[CV 2/3] END colsample_bytree=1.0, learning_rate=0.01, max_depth=4, n_estimators=50, subsample=0.8;, score=0.723 total time=   0.1s\n",
      "[CV 3/3] END colsample_bytree=1.0, learning_rate=0.01, max_depth=4, n_estimators=50, subsample=0.8;, score=0.716 total time=   0.1s\n",
      "[CV 1/3] END colsample_bytree=1.0, learning_rate=0.01, max_depth=4, n_estimators=50, subsample=0.9;, score=0.718 total time=   0.1s\n",
      "[CV 2/3] END colsample_bytree=1.0, learning_rate=0.01, max_depth=4, n_estimators=50, subsample=0.9;, score=0.722 total time=   0.1s\n",
      "[CV 3/3] END colsample_bytree=1.0, learning_rate=0.01, max_depth=4, n_estimators=50, subsample=0.9;, score=0.716 total time=   0.1s\n",
      "[CV 1/3] END colsample_bytree=1.0, learning_rate=0.01, max_depth=4, n_estimators=50, subsample=1.0;, score=0.722 total time=   0.1s\n",
      "[CV 2/3] END colsample_bytree=1.0, learning_rate=0.01, max_depth=4, n_estimators=50, subsample=1.0;, score=0.723 total time=   0.1s\n",
      "[CV 3/3] END colsample_bytree=1.0, learning_rate=0.01, max_depth=4, n_estimators=50, subsample=1.0;, score=0.714 total time=   0.1s\n",
      "[CV 1/3] END colsample_bytree=1.0, learning_rate=0.01, max_depth=4, n_estimators=100, subsample=0.8;, score=0.722 total time=   0.2s\n",
      "[CV 2/3] END colsample_bytree=1.0, learning_rate=0.01, max_depth=4, n_estimators=100, subsample=0.8;, score=0.728 total time=   0.2s\n",
      "[CV 3/3] END colsample_bytree=1.0, learning_rate=0.01, max_depth=4, n_estimators=100, subsample=0.8;, score=0.737 total time=   0.2s\n",
      "[CV 1/3] END colsample_bytree=1.0, learning_rate=0.01, max_depth=4, n_estimators=100, subsample=0.9;, score=0.721 total time=   0.2s\n",
      "[CV 2/3] END colsample_bytree=1.0, learning_rate=0.01, max_depth=4, n_estimators=100, subsample=0.9;, score=0.727 total time=   0.2s\n",
      "[CV 3/3] END colsample_bytree=1.0, learning_rate=0.01, max_depth=4, n_estimators=100, subsample=0.9;, score=0.733 total time=   0.2s\n",
      "[CV 1/3] END colsample_bytree=1.0, learning_rate=0.01, max_depth=4, n_estimators=100, subsample=1.0;, score=0.722 total time=   0.2s\n",
      "[CV 2/3] END colsample_bytree=1.0, learning_rate=0.01, max_depth=4, n_estimators=100, subsample=1.0;, score=0.729 total time=   0.2s\n",
      "[CV 3/3] END colsample_bytree=1.0, learning_rate=0.01, max_depth=4, n_estimators=100, subsample=1.0;, score=0.738 total time=   0.2s\n",
      "[CV 1/3] END colsample_bytree=1.0, learning_rate=0.01, max_depth=4, n_estimators=200, subsample=0.8;, score=0.746 total time=   0.5s\n",
      "[CV 2/3] END colsample_bytree=1.0, learning_rate=0.01, max_depth=4, n_estimators=200, subsample=0.8;, score=0.744 total time=   0.5s\n",
      "[CV 3/3] END colsample_bytree=1.0, learning_rate=0.01, max_depth=4, n_estimators=200, subsample=0.8;, score=0.755 total time=   0.5s\n",
      "[CV 1/3] END colsample_bytree=1.0, learning_rate=0.01, max_depth=4, n_estimators=200, subsample=0.9;, score=0.744 total time=   0.5s\n",
      "[CV 2/3] END colsample_bytree=1.0, learning_rate=0.01, max_depth=4, n_estimators=200, subsample=0.9;, score=0.746 total time=   0.5s\n",
      "[CV 3/3] END colsample_bytree=1.0, learning_rate=0.01, max_depth=4, n_estimators=200, subsample=0.9;, score=0.755 total time=   0.5s\n",
      "[CV 1/3] END colsample_bytree=1.0, learning_rate=0.01, max_depth=4, n_estimators=200, subsample=1.0;, score=0.745 total time=   0.4s\n",
      "[CV 2/3] END colsample_bytree=1.0, learning_rate=0.01, max_depth=4, n_estimators=200, subsample=1.0;, score=0.744 total time=   0.4s\n",
      "[CV 3/3] END colsample_bytree=1.0, learning_rate=0.01, max_depth=4, n_estimators=200, subsample=1.0;, score=0.755 total time=   0.4s\n",
      "[CV 1/3] END colsample_bytree=1.0, learning_rate=0.01, max_depth=5, n_estimators=50, subsample=0.8;, score=0.732 total time=   0.1s\n",
      "[CV 2/3] END colsample_bytree=1.0, learning_rate=0.01, max_depth=5, n_estimators=50, subsample=0.8;, score=0.728 total time=   0.1s\n",
      "[CV 3/3] END colsample_bytree=1.0, learning_rate=0.01, max_depth=5, n_estimators=50, subsample=0.8;, score=0.734 total time=   0.1s\n",
      "[CV 1/3] END colsample_bytree=1.0, learning_rate=0.01, max_depth=5, n_estimators=50, subsample=0.9;, score=0.728 total time=   0.1s\n",
      "[CV 2/3] END colsample_bytree=1.0, learning_rate=0.01, max_depth=5, n_estimators=50, subsample=0.9;, score=0.730 total time=   0.1s\n",
      "[CV 3/3] END colsample_bytree=1.0, learning_rate=0.01, max_depth=5, n_estimators=50, subsample=0.9;, score=0.733 total time=   0.1s\n",
      "[CV 1/3] END colsample_bytree=1.0, learning_rate=0.01, max_depth=5, n_estimators=50, subsample=1.0;, score=0.722 total time=   0.1s\n",
      "[CV 2/3] END colsample_bytree=1.0, learning_rate=0.01, max_depth=5, n_estimators=50, subsample=1.0;, score=0.729 total time=   0.1s\n",
      "[CV 3/3] END colsample_bytree=1.0, learning_rate=0.01, max_depth=5, n_estimators=50, subsample=1.0;, score=0.730 total time=   0.1s\n",
      "[CV 1/3] END colsample_bytree=1.0, learning_rate=0.01, max_depth=5, n_estimators=100, subsample=0.8;, score=0.741 total time=   0.3s\n",
      "[CV 2/3] END colsample_bytree=1.0, learning_rate=0.01, max_depth=5, n_estimators=100, subsample=0.8;, score=0.739 total time=   0.3s\n",
      "[CV 3/3] END colsample_bytree=1.0, learning_rate=0.01, max_depth=5, n_estimators=100, subsample=0.8;, score=0.750 total time=   0.3s\n",
      "[CV 1/3] END colsample_bytree=1.0, learning_rate=0.01, max_depth=5, n_estimators=100, subsample=0.9;, score=0.740 total time=   0.3s\n",
      "[CV 2/3] END colsample_bytree=1.0, learning_rate=0.01, max_depth=5, n_estimators=100, subsample=0.9;, score=0.741 total time=   0.4s\n",
      "[CV 3/3] END colsample_bytree=1.0, learning_rate=0.01, max_depth=5, n_estimators=100, subsample=0.9;, score=0.745 total time=   0.3s\n",
      "[CV 1/3] END colsample_bytree=1.0, learning_rate=0.01, max_depth=5, n_estimators=100, subsample=1.0;, score=0.738 total time=   0.3s\n",
      "[CV 2/3] END colsample_bytree=1.0, learning_rate=0.01, max_depth=5, n_estimators=100, subsample=1.0;, score=0.741 total time=   0.3s\n",
      "[CV 3/3] END colsample_bytree=1.0, learning_rate=0.01, max_depth=5, n_estimators=100, subsample=1.0;, score=0.747 total time=   0.3s\n",
      "[CV 1/3] END colsample_bytree=1.0, learning_rate=0.01, max_depth=5, n_estimators=200, subsample=0.8;, score=0.756 total time=   0.6s\n",
      "[CV 2/3] END colsample_bytree=1.0, learning_rate=0.01, max_depth=5, n_estimators=200, subsample=0.8;, score=0.755 total time=   0.7s\n",
      "[CV 3/3] END colsample_bytree=1.0, learning_rate=0.01, max_depth=5, n_estimators=200, subsample=0.8;, score=0.766 total time=   0.6s\n",
      "[CV 1/3] END colsample_bytree=1.0, learning_rate=0.01, max_depth=5, n_estimators=200, subsample=0.9;, score=0.755 total time=   0.7s\n",
      "[CV 2/3] END colsample_bytree=1.0, learning_rate=0.01, max_depth=5, n_estimators=200, subsample=0.9;, score=0.754 total time=   0.7s\n",
      "[CV 3/3] END colsample_bytree=1.0, learning_rate=0.01, max_depth=5, n_estimators=200, subsample=0.9;, score=0.764 total time=   0.6s\n",
      "[CV 1/3] END colsample_bytree=1.0, learning_rate=0.01, max_depth=5, n_estimators=200, subsample=1.0;, score=0.756 total time=   0.6s\n",
      "[CV 2/3] END colsample_bytree=1.0, learning_rate=0.01, max_depth=5, n_estimators=200, subsample=1.0;, score=0.754 total time=   0.6s\n",
      "[CV 3/3] END colsample_bytree=1.0, learning_rate=0.01, max_depth=5, n_estimators=200, subsample=1.0;, score=0.762 total time=   0.6s\n",
      "[CV 1/3] END colsample_bytree=1.0, learning_rate=0.001, max_depth=3, n_estimators=50, subsample=0.8;, score=0.696 total time=   0.1s\n",
      "[CV 2/3] END colsample_bytree=1.0, learning_rate=0.001, max_depth=3, n_estimators=50, subsample=0.8;, score=0.692 total time=   0.1s\n",
      "[CV 3/3] END colsample_bytree=1.0, learning_rate=0.001, max_depth=3, n_estimators=50, subsample=0.8;, score=0.700 total time=   0.1s\n",
      "[CV 1/3] END colsample_bytree=1.0, learning_rate=0.001, max_depth=3, n_estimators=50, subsample=0.9;, score=0.696 total time=   0.1s\n",
      "[CV 2/3] END colsample_bytree=1.0, learning_rate=0.001, max_depth=3, n_estimators=50, subsample=0.9;, score=0.692 total time=   0.1s\n",
      "[CV 3/3] END colsample_bytree=1.0, learning_rate=0.001, max_depth=3, n_estimators=50, subsample=0.9;, score=0.700 total time=   0.1s\n",
      "[CV 1/3] END colsample_bytree=1.0, learning_rate=0.001, max_depth=3, n_estimators=50, subsample=1.0;, score=0.696 total time=   0.0s\n",
      "[CV 2/3] END colsample_bytree=1.0, learning_rate=0.001, max_depth=3, n_estimators=50, subsample=1.0;, score=0.692 total time=   0.1s\n",
      "[CV 3/3] END colsample_bytree=1.0, learning_rate=0.001, max_depth=3, n_estimators=50, subsample=1.0;, score=0.701 total time=   0.0s\n",
      "[CV 1/3] END colsample_bytree=1.0, learning_rate=0.001, max_depth=3, n_estimators=100, subsample=0.8;, score=0.696 total time=   0.2s\n",
      "[CV 2/3] END colsample_bytree=1.0, learning_rate=0.001, max_depth=3, n_estimators=100, subsample=0.8;, score=0.692 total time=   0.2s\n",
      "[CV 3/3] END colsample_bytree=1.0, learning_rate=0.001, max_depth=3, n_estimators=100, subsample=0.8;, score=0.700 total time=   0.2s\n",
      "[CV 1/3] END colsample_bytree=1.0, learning_rate=0.001, max_depth=3, n_estimators=100, subsample=0.9;, score=0.696 total time=   0.2s\n",
      "[CV 2/3] END colsample_bytree=1.0, learning_rate=0.001, max_depth=3, n_estimators=100, subsample=0.9;, score=0.692 total time=   0.2s\n",
      "[CV 3/3] END colsample_bytree=1.0, learning_rate=0.001, max_depth=3, n_estimators=100, subsample=0.9;, score=0.700 total time=   0.2s\n",
      "[CV 1/3] END colsample_bytree=1.0, learning_rate=0.001, max_depth=3, n_estimators=100, subsample=1.0;, score=0.696 total time=   0.1s\n",
      "[CV 2/3] END colsample_bytree=1.0, learning_rate=0.001, max_depth=3, n_estimators=100, subsample=1.0;, score=0.692 total time=   0.2s\n",
      "[CV 3/3] END colsample_bytree=1.0, learning_rate=0.001, max_depth=3, n_estimators=100, subsample=1.0;, score=0.701 total time=   0.1s\n",
      "[CV 1/3] END colsample_bytree=1.0, learning_rate=0.001, max_depth=3, n_estimators=200, subsample=0.8;, score=0.698 total time=   0.4s\n",
      "[CV 2/3] END colsample_bytree=1.0, learning_rate=0.001, max_depth=3, n_estimators=200, subsample=0.8;, score=0.701 total time=   0.4s\n",
      "[CV 3/3] END colsample_bytree=1.0, learning_rate=0.001, max_depth=3, n_estimators=200, subsample=0.8;, score=0.709 total time=   0.4s\n",
      "[CV 1/3] END colsample_bytree=1.0, learning_rate=0.001, max_depth=3, n_estimators=200, subsample=0.9;, score=0.696 total time=   0.4s\n",
      "[CV 2/3] END colsample_bytree=1.0, learning_rate=0.001, max_depth=3, n_estimators=200, subsample=0.9;, score=0.701 total time=   0.4s\n",
      "[CV 3/3] END colsample_bytree=1.0, learning_rate=0.001, max_depth=3, n_estimators=200, subsample=0.9;, score=0.709 total time=   0.4s\n",
      "[CV 1/3] END colsample_bytree=1.0, learning_rate=0.001, max_depth=3, n_estimators=200, subsample=1.0;, score=0.698 total time=   0.3s\n",
      "[CV 2/3] END colsample_bytree=1.0, learning_rate=0.001, max_depth=3, n_estimators=200, subsample=1.0;, score=0.700 total time=   0.3s\n",
      "[CV 3/3] END colsample_bytree=1.0, learning_rate=0.001, max_depth=3, n_estimators=200, subsample=1.0;, score=0.708 total time=   0.3s\n",
      "[CV 1/3] END colsample_bytree=1.0, learning_rate=0.001, max_depth=4, n_estimators=50, subsample=0.8;, score=0.691 total time=   0.1s\n",
      "[CV 2/3] END colsample_bytree=1.0, learning_rate=0.001, max_depth=4, n_estimators=50, subsample=0.8;, score=0.706 total time=   0.1s\n",
      "[CV 3/3] END colsample_bytree=1.0, learning_rate=0.001, max_depth=4, n_estimators=50, subsample=0.8;, score=0.706 total time=   0.1s\n",
      "[CV 1/3] END colsample_bytree=1.0, learning_rate=0.001, max_depth=4, n_estimators=50, subsample=0.9;, score=0.691 total time=   0.1s\n",
      "[CV 2/3] END colsample_bytree=1.0, learning_rate=0.001, max_depth=4, n_estimators=50, subsample=0.9;, score=0.693 total time=   0.1s\n",
      "[CV 3/3] END colsample_bytree=1.0, learning_rate=0.001, max_depth=4, n_estimators=50, subsample=0.9;, score=0.702 total time=   0.1s\n",
      "[CV 1/3] END colsample_bytree=1.0, learning_rate=0.001, max_depth=4, n_estimators=50, subsample=1.0;, score=0.688 total time=   0.1s\n",
      "[CV 2/3] END colsample_bytree=1.0, learning_rate=0.001, max_depth=4, n_estimators=50, subsample=1.0;, score=0.688 total time=   0.1s\n",
      "[CV 3/3] END colsample_bytree=1.0, learning_rate=0.001, max_depth=4, n_estimators=50, subsample=1.0;, score=0.700 total time=   0.1s\n",
      "[CV 1/3] END colsample_bytree=1.0, learning_rate=0.001, max_depth=4, n_estimators=100, subsample=0.8;, score=0.691 total time=   0.2s\n",
      "[CV 2/3] END colsample_bytree=1.0, learning_rate=0.001, max_depth=4, n_estimators=100, subsample=0.8;, score=0.713 total time=   0.2s\n",
      "[CV 3/3] END colsample_bytree=1.0, learning_rate=0.001, max_depth=4, n_estimators=100, subsample=0.8;, score=0.708 total time=   0.2s\n",
      "[CV 1/3] END colsample_bytree=1.0, learning_rate=0.001, max_depth=4, n_estimators=100, subsample=0.9;, score=0.690 total time=   0.2s\n",
      "[CV 2/3] END colsample_bytree=1.0, learning_rate=0.001, max_depth=4, n_estimators=100, subsample=0.9;, score=0.706 total time=   0.2s\n",
      "[CV 3/3] END colsample_bytree=1.0, learning_rate=0.001, max_depth=4, n_estimators=100, subsample=0.9;, score=0.707 total time=   0.2s\n",
      "[CV 1/3] END colsample_bytree=1.0, learning_rate=0.001, max_depth=4, n_estimators=100, subsample=1.0;, score=0.691 total time=   0.2s\n",
      "[CV 2/3] END colsample_bytree=1.0, learning_rate=0.001, max_depth=4, n_estimators=100, subsample=1.0;, score=0.691 total time=   0.2s\n",
      "[CV 3/3] END colsample_bytree=1.0, learning_rate=0.001, max_depth=4, n_estimators=100, subsample=1.0;, score=0.700 total time=   0.2s\n",
      "[CV 1/3] END colsample_bytree=1.0, learning_rate=0.001, max_depth=4, n_estimators=200, subsample=0.8;, score=0.696 total time=   0.5s\n",
      "[CV 2/3] END colsample_bytree=1.0, learning_rate=0.001, max_depth=4, n_estimators=200, subsample=0.8;, score=0.717 total time=   0.5s\n",
      "[CV 3/3] END colsample_bytree=1.0, learning_rate=0.001, max_depth=4, n_estimators=200, subsample=0.8;, score=0.713 total time=   0.5s\n",
      "[CV 1/3] END colsample_bytree=1.0, learning_rate=0.001, max_depth=4, n_estimators=200, subsample=0.9;, score=0.695 total time=   0.5s\n",
      "[CV 2/3] END colsample_bytree=1.0, learning_rate=0.001, max_depth=4, n_estimators=200, subsample=0.9;, score=0.718 total time=   0.5s\n",
      "[CV 3/3] END colsample_bytree=1.0, learning_rate=0.001, max_depth=4, n_estimators=200, subsample=0.9;, score=0.711 total time=   0.5s\n",
      "[CV 1/3] END colsample_bytree=1.0, learning_rate=0.001, max_depth=4, n_estimators=200, subsample=1.0;, score=0.691 total time=   0.4s\n",
      "[CV 2/3] END colsample_bytree=1.0, learning_rate=0.001, max_depth=4, n_estimators=200, subsample=1.0;, score=0.716 total time=   0.4s\n",
      "[CV 3/3] END colsample_bytree=1.0, learning_rate=0.001, max_depth=4, n_estimators=200, subsample=1.0;, score=0.712 total time=   0.4s\n",
      "[CV 1/3] END colsample_bytree=1.0, learning_rate=0.001, max_depth=5, n_estimators=50, subsample=0.8;, score=0.722 total time=   0.1s\n",
      "[CV 2/3] END colsample_bytree=1.0, learning_rate=0.001, max_depth=5, n_estimators=50, subsample=0.8;, score=0.720 total time=   0.1s\n",
      "[CV 3/3] END colsample_bytree=1.0, learning_rate=0.001, max_depth=5, n_estimators=50, subsample=0.8;, score=0.727 total time=   0.1s\n",
      "[CV 1/3] END colsample_bytree=1.0, learning_rate=0.001, max_depth=5, n_estimators=50, subsample=0.9;, score=0.723 total time=   0.1s\n",
      "[CV 2/3] END colsample_bytree=1.0, learning_rate=0.001, max_depth=5, n_estimators=50, subsample=0.9;, score=0.719 total time=   0.1s\n",
      "[CV 3/3] END colsample_bytree=1.0, learning_rate=0.001, max_depth=5, n_estimators=50, subsample=0.9;, score=0.725 total time=   0.1s\n",
      "[CV 1/3] END colsample_bytree=1.0, learning_rate=0.001, max_depth=5, n_estimators=50, subsample=1.0;, score=0.726 total time=   0.1s\n",
      "[CV 2/3] END colsample_bytree=1.0, learning_rate=0.001, max_depth=5, n_estimators=50, subsample=1.0;, score=0.718 total time=   0.1s\n",
      "[CV 3/3] END colsample_bytree=1.0, learning_rate=0.001, max_depth=5, n_estimators=50, subsample=1.0;, score=0.726 total time=   0.2s\n",
      "[CV 1/3] END colsample_bytree=1.0, learning_rate=0.001, max_depth=5, n_estimators=100, subsample=0.8;, score=0.724 total time=   0.3s\n",
      "[CV 2/3] END colsample_bytree=1.0, learning_rate=0.001, max_depth=5, n_estimators=100, subsample=0.8;, score=0.721 total time=   0.3s\n",
      "[CV 3/3] END colsample_bytree=1.0, learning_rate=0.001, max_depth=5, n_estimators=100, subsample=0.8;, score=0.729 total time=   0.3s\n",
      "[CV 1/3] END colsample_bytree=1.0, learning_rate=0.001, max_depth=5, n_estimators=100, subsample=0.9;, score=0.724 total time=   0.3s\n",
      "[CV 2/3] END colsample_bytree=1.0, learning_rate=0.001, max_depth=5, n_estimators=100, subsample=0.9;, score=0.720 total time=   0.3s\n",
      "[CV 3/3] END colsample_bytree=1.0, learning_rate=0.001, max_depth=5, n_estimators=100, subsample=0.9;, score=0.729 total time=   0.3s\n",
      "[CV 1/3] END colsample_bytree=1.0, learning_rate=0.001, max_depth=5, n_estimators=100, subsample=1.0;, score=0.719 total time=   0.3s\n",
      "[CV 2/3] END colsample_bytree=1.0, learning_rate=0.001, max_depth=5, n_estimators=100, subsample=1.0;, score=0.715 total time=   0.3s\n",
      "[CV 3/3] END colsample_bytree=1.0, learning_rate=0.001, max_depth=5, n_estimators=100, subsample=1.0;, score=0.727 total time=   0.3s\n",
      "[CV 1/3] END colsample_bytree=1.0, learning_rate=0.001, max_depth=5, n_estimators=200, subsample=0.8;, score=0.723 total time=   0.7s\n",
      "[CV 2/3] END colsample_bytree=1.0, learning_rate=0.001, max_depth=5, n_estimators=200, subsample=0.8;, score=0.726 total time=   0.7s\n",
      "[CV 3/3] END colsample_bytree=1.0, learning_rate=0.001, max_depth=5, n_estimators=200, subsample=0.8;, score=0.732 total time=   0.7s\n",
      "[CV 1/3] END colsample_bytree=1.0, learning_rate=0.001, max_depth=5, n_estimators=200, subsample=0.9;, score=0.722 total time=   0.7s\n",
      "[CV 2/3] END colsample_bytree=1.0, learning_rate=0.001, max_depth=5, n_estimators=200, subsample=0.9;, score=0.725 total time=   0.7s\n",
      "[CV 3/3] END colsample_bytree=1.0, learning_rate=0.001, max_depth=5, n_estimators=200, subsample=0.9;, score=0.731 total time=   0.7s\n",
      "[CV 1/3] END colsample_bytree=1.0, learning_rate=0.001, max_depth=5, n_estimators=200, subsample=1.0;, score=0.718 total time=   0.6s\n",
      "[CV 2/3] END colsample_bytree=1.0, learning_rate=0.001, max_depth=5, n_estimators=200, subsample=1.0;, score=0.723 total time=   0.6s\n",
      "[CV 3/3] END colsample_bytree=1.0, learning_rate=0.001, max_depth=5, n_estimators=200, subsample=1.0;, score=0.729 total time=   0.6s\n"
     ]
    },
    {
     "data": {
      "text/html": [
       "<style>#sk-container-id-12 {color: black;}#sk-container-id-12 pre{padding: 0;}#sk-container-id-12 div.sk-toggleable {background-color: white;}#sk-container-id-12 label.sk-toggleable__label {cursor: pointer;display: block;width: 100%;margin-bottom: 0;padding: 0.3em;box-sizing: border-box;text-align: center;}#sk-container-id-12 label.sk-toggleable__label-arrow:before {content: \"▸\";float: left;margin-right: 0.25em;color: #696969;}#sk-container-id-12 label.sk-toggleable__label-arrow:hover:before {color: black;}#sk-container-id-12 div.sk-estimator:hover label.sk-toggleable__label-arrow:before {color: black;}#sk-container-id-12 div.sk-toggleable__content {max-height: 0;max-width: 0;overflow: hidden;text-align: left;background-color: #f0f8ff;}#sk-container-id-12 div.sk-toggleable__content pre {margin: 0.2em;color: black;border-radius: 0.25em;background-color: #f0f8ff;}#sk-container-id-12 input.sk-toggleable__control:checked~div.sk-toggleable__content {max-height: 200px;max-width: 100%;overflow: auto;}#sk-container-id-12 input.sk-toggleable__control:checked~label.sk-toggleable__label-arrow:before {content: \"▾\";}#sk-container-id-12 div.sk-estimator input.sk-toggleable__control:checked~label.sk-toggleable__label {background-color: #d4ebff;}#sk-container-id-12 div.sk-label input.sk-toggleable__control:checked~label.sk-toggleable__label {background-color: #d4ebff;}#sk-container-id-12 input.sk-hidden--visually {border: 0;clip: rect(1px 1px 1px 1px);clip: rect(1px, 1px, 1px, 1px);height: 1px;margin: -1px;overflow: hidden;padding: 0;position: absolute;width: 1px;}#sk-container-id-12 div.sk-estimator {font-family: monospace;background-color: #f0f8ff;border: 1px dotted black;border-radius: 0.25em;box-sizing: border-box;margin-bottom: 0.5em;}#sk-container-id-12 div.sk-estimator:hover {background-color: #d4ebff;}#sk-container-id-12 div.sk-parallel-item::after {content: \"\";width: 100%;border-bottom: 1px solid gray;flex-grow: 1;}#sk-container-id-12 div.sk-label:hover label.sk-toggleable__label {background-color: #d4ebff;}#sk-container-id-12 div.sk-serial::before {content: \"\";position: absolute;border-left: 1px solid gray;box-sizing: border-box;top: 0;bottom: 0;left: 50%;z-index: 0;}#sk-container-id-12 div.sk-serial {display: flex;flex-direction: column;align-items: center;background-color: white;padding-right: 0.2em;padding-left: 0.2em;position: relative;}#sk-container-id-12 div.sk-item {position: relative;z-index: 1;}#sk-container-id-12 div.sk-parallel {display: flex;align-items: stretch;justify-content: center;background-color: white;position: relative;}#sk-container-id-12 div.sk-item::before, #sk-container-id-12 div.sk-parallel-item::before {content: \"\";position: absolute;border-left: 1px solid gray;box-sizing: border-box;top: 0;bottom: 0;left: 50%;z-index: -1;}#sk-container-id-12 div.sk-parallel-item {display: flex;flex-direction: column;z-index: 1;position: relative;background-color: white;}#sk-container-id-12 div.sk-parallel-item:first-child::after {align-self: flex-end;width: 50%;}#sk-container-id-12 div.sk-parallel-item:last-child::after {align-self: flex-start;width: 50%;}#sk-container-id-12 div.sk-parallel-item:only-child::after {width: 0;}#sk-container-id-12 div.sk-dashed-wrapped {border: 1px dashed gray;margin: 0 0.4em 0.5em 0.4em;box-sizing: border-box;padding-bottom: 0.4em;background-color: white;}#sk-container-id-12 div.sk-label label {font-family: monospace;font-weight: bold;display: inline-block;line-height: 1.2em;}#sk-container-id-12 div.sk-label-container {text-align: center;}#sk-container-id-12 div.sk-container {/* jupyter's `normalize.less` sets `[hidden] { display: none; }` but bootstrap.min.css set `[hidden] { display: none !important; }` so we also need the `!important` here to be able to override the default hidden behavior on the sphinx rendered scikit-learn.org. See: https://github.com/scikit-learn/scikit-learn/issues/21755 */display: inline-block !important;position: relative;}#sk-container-id-12 div.sk-text-repr-fallback {display: none;}</style><div id=\"sk-container-id-12\" class=\"sk-top-container\"><div class=\"sk-text-repr-fallback\"><pre>GridSearchCV(cv=3,\n",
       "             estimator=XGBClassifier(base_score=None, booster=None,\n",
       "                                     callbacks=None, colsample_bylevel=None,\n",
       "                                     colsample_bynode=None,\n",
       "                                     colsample_bytree=None, device=None,\n",
       "                                     early_stopping_rounds=None,\n",
       "                                     enable_categorical=False,\n",
       "                                     eval_metric=&#x27;logloss&#x27;, feature_types=None,\n",
       "                                     gamma=None, grow_policy=None,\n",
       "                                     importance_type=None,\n",
       "                                     interaction_constraints=None,\n",
       "                                     learning_rate=...\n",
       "                                     max_delta_step=None, max_depth=None,\n",
       "                                     max_leaves=None, min_child_weight=None,\n",
       "                                     missing=nan, monotone_constraints=None,\n",
       "                                     multi_strategy=None, n_estimators=None,\n",
       "                                     n_jobs=None, num_parallel_tree=None,\n",
       "                                     random_state=None, ...),\n",
       "             param_grid={&#x27;colsample_bytree&#x27;: [0.8, 0.9, 1.0],\n",
       "                         &#x27;learning_rate&#x27;: [0.01, 0.001], &#x27;max_depth&#x27;: [3, 4, 5],\n",
       "                         &#x27;n_estimators&#x27;: [50, 100, 200],\n",
       "                         &#x27;subsample&#x27;: [0.8, 0.9, 1.0]},\n",
       "             scoring=&#x27;f1&#x27;, verbose=3)</pre><b>In a Jupyter environment, please rerun this cell to show the HTML representation or trust the notebook. <br />On GitHub, the HTML representation is unable to render, please try loading this page with nbviewer.org.</b></div><div class=\"sk-container\" hidden><div class=\"sk-item sk-dashed-wrapped\"><div class=\"sk-label-container\"><div class=\"sk-label sk-toggleable\"><input class=\"sk-toggleable__control sk-hidden--visually\" id=\"sk-estimator-id-34\" type=\"checkbox\" ><label for=\"sk-estimator-id-34\" class=\"sk-toggleable__label sk-toggleable__label-arrow\">GridSearchCV</label><div class=\"sk-toggleable__content\"><pre>GridSearchCV(cv=3,\n",
       "             estimator=XGBClassifier(base_score=None, booster=None,\n",
       "                                     callbacks=None, colsample_bylevel=None,\n",
       "                                     colsample_bynode=None,\n",
       "                                     colsample_bytree=None, device=None,\n",
       "                                     early_stopping_rounds=None,\n",
       "                                     enable_categorical=False,\n",
       "                                     eval_metric=&#x27;logloss&#x27;, feature_types=None,\n",
       "                                     gamma=None, grow_policy=None,\n",
       "                                     importance_type=None,\n",
       "                                     interaction_constraints=None,\n",
       "                                     learning_rate=...\n",
       "                                     max_delta_step=None, max_depth=None,\n",
       "                                     max_leaves=None, min_child_weight=None,\n",
       "                                     missing=nan, monotone_constraints=None,\n",
       "                                     multi_strategy=None, n_estimators=None,\n",
       "                                     n_jobs=None, num_parallel_tree=None,\n",
       "                                     random_state=None, ...),\n",
       "             param_grid={&#x27;colsample_bytree&#x27;: [0.8, 0.9, 1.0],\n",
       "                         &#x27;learning_rate&#x27;: [0.01, 0.001], &#x27;max_depth&#x27;: [3, 4, 5],\n",
       "                         &#x27;n_estimators&#x27;: [50, 100, 200],\n",
       "                         &#x27;subsample&#x27;: [0.8, 0.9, 1.0]},\n",
       "             scoring=&#x27;f1&#x27;, verbose=3)</pre></div></div></div><div class=\"sk-parallel\"><div class=\"sk-parallel-item\"><div class=\"sk-item\"><div class=\"sk-label-container\"><div class=\"sk-label sk-toggleable\"><input class=\"sk-toggleable__control sk-hidden--visually\" id=\"sk-estimator-id-35\" type=\"checkbox\" ><label for=\"sk-estimator-id-35\" class=\"sk-toggleable__label sk-toggleable__label-arrow\">estimator: XGBClassifier</label><div class=\"sk-toggleable__content\"><pre>XGBClassifier(base_score=None, booster=None, callbacks=None,\n",
       "              colsample_bylevel=None, colsample_bynode=None,\n",
       "              colsample_bytree=None, device=None, early_stopping_rounds=None,\n",
       "              enable_categorical=False, eval_metric=&#x27;logloss&#x27;,\n",
       "              feature_types=None, gamma=None, grow_policy=None,\n",
       "              importance_type=None, interaction_constraints=None,\n",
       "              learning_rate=None, max_bin=None, max_cat_threshold=None,\n",
       "              max_cat_to_onehot=None, max_delta_step=None, max_depth=None,\n",
       "              max_leaves=None, min_child_weight=None, missing=nan,\n",
       "              monotone_constraints=None, multi_strategy=None, n_estimators=None,\n",
       "              n_jobs=None, num_parallel_tree=None, random_state=None, ...)</pre></div></div></div><div class=\"sk-serial\"><div class=\"sk-item\"><div class=\"sk-estimator sk-toggleable\"><input class=\"sk-toggleable__control sk-hidden--visually\" id=\"sk-estimator-id-36\" type=\"checkbox\" ><label for=\"sk-estimator-id-36\" class=\"sk-toggleable__label sk-toggleable__label-arrow\">XGBClassifier</label><div class=\"sk-toggleable__content\"><pre>XGBClassifier(base_score=None, booster=None, callbacks=None,\n",
       "              colsample_bylevel=None, colsample_bynode=None,\n",
       "              colsample_bytree=None, device=None, early_stopping_rounds=None,\n",
       "              enable_categorical=False, eval_metric=&#x27;logloss&#x27;,\n",
       "              feature_types=None, gamma=None, grow_policy=None,\n",
       "              importance_type=None, interaction_constraints=None,\n",
       "              learning_rate=None, max_bin=None, max_cat_threshold=None,\n",
       "              max_cat_to_onehot=None, max_delta_step=None, max_depth=None,\n",
       "              max_leaves=None, min_child_weight=None, missing=nan,\n",
       "              monotone_constraints=None, multi_strategy=None, n_estimators=None,\n",
       "              n_jobs=None, num_parallel_tree=None, random_state=None, ...)</pre></div></div></div></div></div></div></div></div></div></div>"
      ],
      "text/plain": [
       "GridSearchCV(cv=3,\n",
       "             estimator=XGBClassifier(base_score=None, booster=None,\n",
       "                                     callbacks=None, colsample_bylevel=None,\n",
       "                                     colsample_bynode=None,\n",
       "                                     colsample_bytree=None, device=None,\n",
       "                                     early_stopping_rounds=None,\n",
       "                                     enable_categorical=False,\n",
       "                                     eval_metric='logloss', feature_types=None,\n",
       "                                     gamma=None, grow_policy=None,\n",
       "                                     importance_type=None,\n",
       "                                     interaction_constraints=None,\n",
       "                                     learning_rate=...\n",
       "                                     max_delta_step=None, max_depth=None,\n",
       "                                     max_leaves=None, min_child_weight=None,\n",
       "                                     missing=nan, monotone_constraints=None,\n",
       "                                     multi_strategy=None, n_estimators=None,\n",
       "                                     n_jobs=None, num_parallel_tree=None,\n",
       "                                     random_state=None, ...),\n",
       "             param_grid={'colsample_bytree': [0.8, 0.9, 1.0],\n",
       "                         'learning_rate': [0.01, 0.001], 'max_depth': [3, 4, 5],\n",
       "                         'n_estimators': [50, 100, 200],\n",
       "                         'subsample': [0.8, 0.9, 1.0]},\n",
       "             scoring='f1', verbose=3)"
      ]
     },
     "execution_count": 88,
     "metadata": {},
     "output_type": "execute_result"
    }
   ],
   "source": [
    "# Fit the model to the data (perform grid search)\n",
    "grid_search_xg.fit(X_train_mm_scaled, y_train)"
   ]
  },
  {
   "cell_type": "code",
   "execution_count": 89,
   "id": "a90d3188",
   "metadata": {},
   "outputs": [
    {
     "name": "stdout",
     "output_type": "stream",
     "text": [
      "{'colsample_bytree': 0.8, 'learning_rate': 0.01, 'max_depth': 5, 'n_estimators': 200, 'subsample': 0.8}\n"
     ]
    }
   ],
   "source": [
    "# Get the best parameters and best score\n",
    "best_params = grid_search_xg.best_params_\n",
    "print(best_params)"
   ]
  },
  {
   "cell_type": "code",
   "execution_count": 90,
   "id": "a617caf3",
   "metadata": {},
   "outputs": [],
   "source": [
    "y_pred_xg_grid=grid_search_xg.predict(X_test_mm_scaled)"
   ]
  },
  {
   "cell_type": "code",
   "execution_count": 91,
   "id": "6ed63d47",
   "metadata": {},
   "outputs": [
    {
     "name": "stdout",
     "output_type": "stream",
     "text": [
      "              precision    recall  f1-score   support\n",
      "\n",
      "           0       0.75      0.83      0.79      7013\n",
      "           1       0.81      0.72      0.76      7006\n",
      "\n",
      "    accuracy                           0.78     14019\n",
      "   macro avg       0.78      0.78      0.78     14019\n",
      "weighted avg       0.78      0.78      0.78     14019\n",
      "\n",
      "[[5850 1163]\n",
      " [1973 5033]]\n",
      "Accuracy: 0.7763035879877309\n",
      "F1 Score: 0.7624602332979852\n"
     ]
    }
   ],
   "source": [
    "## Printing classification report, confusion matrix, and accuracy of the best parameter.\n",
    "print(classification_report(y_test,y_pred_xg_grid))\n",
    "print(confusion_matrix(y_test,y_pred_xg_grid))\n",
    "print(\"Accuracy:\",(accuracy_score(y_test,y_pred_xg_grid)))\n",
    "print(\"F1 Score:\", (f1_score(y_test, y_pred_xg_grid)))"
   ]
  },
  {
   "cell_type": "markdown",
   "id": "09adb371",
   "metadata": {},
   "source": [
    "###  XGBoosting Random SearchCV"
   ]
  },
  {
   "cell_type": "code",
   "execution_count": 92,
   "id": "424f054c",
   "metadata": {},
   "outputs": [],
   "source": [
    "random_search_xg= RandomizedSearchCV(estimator=xgb_model, param_distributions=param_grid, n_iter=10, scoring='f1', cv=5, verbose = 3)"
   ]
  },
  {
   "cell_type": "code",
   "execution_count": 93,
   "id": "ad9359e4",
   "metadata": {},
   "outputs": [
    {
     "name": "stdout",
     "output_type": "stream",
     "text": [
      "Fitting 5 folds for each of 10 candidates, totalling 50 fits\n",
      "[CV 1/5] END colsample_bytree=1.0, learning_rate=0.01, max_depth=4, n_estimators=50, subsample=1.0;, score=0.725 total time=   0.2s\n",
      "[CV 2/5] END colsample_bytree=1.0, learning_rate=0.01, max_depth=4, n_estimators=50, subsample=1.0;, score=0.707 total time=   0.1s\n",
      "[CV 3/5] END colsample_bytree=1.0, learning_rate=0.01, max_depth=4, n_estimators=50, subsample=1.0;, score=0.719 total time=   0.1s\n",
      "[CV 4/5] END colsample_bytree=1.0, learning_rate=0.01, max_depth=4, n_estimators=50, subsample=1.0;, score=0.730 total time=   0.1s\n",
      "[CV 5/5] END colsample_bytree=1.0, learning_rate=0.01, max_depth=4, n_estimators=50, subsample=1.0;, score=0.716 total time=   0.1s\n",
      "[CV 1/5] END colsample_bytree=0.8, learning_rate=0.01, max_depth=4, n_estimators=50, subsample=0.8;, score=0.727 total time=   0.1s\n",
      "[CV 2/5] END colsample_bytree=0.8, learning_rate=0.01, max_depth=4, n_estimators=50, subsample=0.8;, score=0.710 total time=   0.1s\n",
      "[CV 3/5] END colsample_bytree=0.8, learning_rate=0.01, max_depth=4, n_estimators=50, subsample=0.8;, score=0.724 total time=   0.1s\n",
      "[CV 4/5] END colsample_bytree=0.8, learning_rate=0.01, max_depth=4, n_estimators=50, subsample=0.8;, score=0.729 total time=   0.1s\n",
      "[CV 5/5] END colsample_bytree=0.8, learning_rate=0.01, max_depth=4, n_estimators=50, subsample=0.8;, score=0.731 total time=   0.1s\n",
      "[CV 1/5] END colsample_bytree=0.9, learning_rate=0.01, max_depth=3, n_estimators=50, subsample=0.9;, score=0.718 total time=   0.1s\n",
      "[CV 2/5] END colsample_bytree=0.9, learning_rate=0.01, max_depth=3, n_estimators=50, subsample=0.9;, score=0.703 total time=   0.1s\n",
      "[CV 3/5] END colsample_bytree=0.9, learning_rate=0.01, max_depth=3, n_estimators=50, subsample=0.9;, score=0.707 total time=   0.1s\n",
      "[CV 4/5] END colsample_bytree=0.9, learning_rate=0.01, max_depth=3, n_estimators=50, subsample=0.9;, score=0.716 total time=   0.1s\n",
      "[CV 5/5] END colsample_bytree=0.9, learning_rate=0.01, max_depth=3, n_estimators=50, subsample=0.9;, score=0.715 total time=   0.1s\n",
      "[CV 1/5] END colsample_bytree=0.8, learning_rate=0.001, max_depth=5, n_estimators=200, subsample=1.0;, score=0.728 total time=   0.6s\n",
      "[CV 2/5] END colsample_bytree=0.8, learning_rate=0.001, max_depth=5, n_estimators=200, subsample=1.0;, score=0.725 total time=   0.6s\n",
      "[CV 3/5] END colsample_bytree=0.8, learning_rate=0.001, max_depth=5, n_estimators=200, subsample=1.0;, score=0.729 total time=   0.6s\n",
      "[CV 4/5] END colsample_bytree=0.8, learning_rate=0.001, max_depth=5, n_estimators=200, subsample=1.0;, score=0.734 total time=   0.6s\n",
      "[CV 5/5] END colsample_bytree=0.8, learning_rate=0.001, max_depth=5, n_estimators=200, subsample=1.0;, score=0.744 total time=   0.6s\n",
      "[CV 1/5] END colsample_bytree=1.0, learning_rate=0.001, max_depth=3, n_estimators=50, subsample=0.9;, score=0.701 total time=   0.1s\n",
      "[CV 2/5] END colsample_bytree=1.0, learning_rate=0.001, max_depth=3, n_estimators=50, subsample=0.9;, score=0.686 total time=   0.1s\n",
      "[CV 3/5] END colsample_bytree=1.0, learning_rate=0.001, max_depth=3, n_estimators=50, subsample=0.9;, score=0.690 total time=   0.1s\n",
      "[CV 4/5] END colsample_bytree=1.0, learning_rate=0.001, max_depth=3, n_estimators=50, subsample=0.9;, score=0.700 total time=   0.1s\n",
      "[CV 5/5] END colsample_bytree=1.0, learning_rate=0.001, max_depth=3, n_estimators=50, subsample=0.9;, score=0.702 total time=   0.1s\n",
      "[CV 1/5] END colsample_bytree=0.9, learning_rate=0.001, max_depth=5, n_estimators=100, subsample=0.8;, score=0.728 total time=   0.4s\n",
      "[CV 2/5] END colsample_bytree=0.9, learning_rate=0.001, max_depth=5, n_estimators=100, subsample=0.8;, score=0.723 total time=   0.3s\n",
      "[CV 3/5] END colsample_bytree=0.9, learning_rate=0.001, max_depth=5, n_estimators=100, subsample=0.8;, score=0.720 total time=   0.4s\n",
      "[CV 4/5] END colsample_bytree=0.9, learning_rate=0.001, max_depth=5, n_estimators=100, subsample=0.8;, score=0.730 total time=   0.4s\n",
      "[CV 5/5] END colsample_bytree=0.9, learning_rate=0.001, max_depth=5, n_estimators=100, subsample=0.8;, score=0.738 total time=   0.4s\n",
      "[CV 1/5] END colsample_bytree=1.0, learning_rate=0.001, max_depth=4, n_estimators=100, subsample=0.8;, score=0.721 total time=   0.3s\n",
      "[CV 2/5] END colsample_bytree=1.0, learning_rate=0.001, max_depth=4, n_estimators=100, subsample=0.8;, score=0.685 total time=   0.3s\n",
      "[CV 3/5] END colsample_bytree=1.0, learning_rate=0.001, max_depth=4, n_estimators=100, subsample=0.8;, score=0.708 total time=   0.3s\n",
      "[CV 4/5] END colsample_bytree=1.0, learning_rate=0.001, max_depth=4, n_estimators=100, subsample=0.8;, score=0.706 total time=   0.3s\n",
      "[CV 5/5] END colsample_bytree=1.0, learning_rate=0.001, max_depth=4, n_estimators=100, subsample=0.8;, score=0.712 total time=   0.3s\n",
      "[CV 1/5] END colsample_bytree=0.8, learning_rate=0.001, max_depth=5, n_estimators=100, subsample=0.8;, score=0.732 total time=   0.3s\n",
      "[CV 2/5] END colsample_bytree=0.8, learning_rate=0.001, max_depth=5, n_estimators=100, subsample=0.8;, score=0.725 total time=   0.3s\n",
      "[CV 3/5] END colsample_bytree=0.8, learning_rate=0.001, max_depth=5, n_estimators=100, subsample=0.8;, score=0.725 total time=   0.3s\n",
      "[CV 4/5] END colsample_bytree=0.8, learning_rate=0.001, max_depth=5, n_estimators=100, subsample=0.8;, score=0.737 total time=   0.4s\n",
      "[CV 5/5] END colsample_bytree=0.8, learning_rate=0.001, max_depth=5, n_estimators=100, subsample=0.8;, score=0.742 total time=   0.3s\n",
      "[CV 1/5] END colsample_bytree=1.0, learning_rate=0.01, max_depth=4, n_estimators=100, subsample=0.9;, score=0.724 total time=   0.3s\n",
      "[CV 2/5] END colsample_bytree=1.0, learning_rate=0.01, max_depth=4, n_estimators=100, subsample=0.9;, score=0.723 total time=   0.3s\n",
      "[CV 3/5] END colsample_bytree=1.0, learning_rate=0.01, max_depth=4, n_estimators=100, subsample=0.9;, score=0.728 total time=   0.3s\n",
      "[CV 4/5] END colsample_bytree=1.0, learning_rate=0.01, max_depth=4, n_estimators=100, subsample=0.9;, score=0.738 total time=   0.3s\n",
      "[CV 5/5] END colsample_bytree=1.0, learning_rate=0.01, max_depth=4, n_estimators=100, subsample=0.9;, score=0.741 total time=   0.3s\n",
      "[CV 1/5] END colsample_bytree=0.9, learning_rate=0.001, max_depth=3, n_estimators=200, subsample=0.8;, score=0.711 total time=   0.4s\n",
      "[CV 2/5] END colsample_bytree=0.9, learning_rate=0.001, max_depth=3, n_estimators=200, subsample=0.8;, score=0.694 total time=   0.4s\n",
      "[CV 3/5] END colsample_bytree=0.9, learning_rate=0.001, max_depth=3, n_estimators=200, subsample=0.8;, score=0.698 total time=   0.4s\n",
      "[CV 4/5] END colsample_bytree=0.9, learning_rate=0.001, max_depth=3, n_estimators=200, subsample=0.8;, score=0.710 total time=   0.4s\n",
      "[CV 5/5] END colsample_bytree=0.9, learning_rate=0.001, max_depth=3, n_estimators=200, subsample=0.8;, score=0.707 total time=   0.4s\n"
     ]
    },
    {
     "data": {
      "text/html": [
       "<style>#sk-container-id-13 {color: black;}#sk-container-id-13 pre{padding: 0;}#sk-container-id-13 div.sk-toggleable {background-color: white;}#sk-container-id-13 label.sk-toggleable__label {cursor: pointer;display: block;width: 100%;margin-bottom: 0;padding: 0.3em;box-sizing: border-box;text-align: center;}#sk-container-id-13 label.sk-toggleable__label-arrow:before {content: \"▸\";float: left;margin-right: 0.25em;color: #696969;}#sk-container-id-13 label.sk-toggleable__label-arrow:hover:before {color: black;}#sk-container-id-13 div.sk-estimator:hover label.sk-toggleable__label-arrow:before {color: black;}#sk-container-id-13 div.sk-toggleable__content {max-height: 0;max-width: 0;overflow: hidden;text-align: left;background-color: #f0f8ff;}#sk-container-id-13 div.sk-toggleable__content pre {margin: 0.2em;color: black;border-radius: 0.25em;background-color: #f0f8ff;}#sk-container-id-13 input.sk-toggleable__control:checked~div.sk-toggleable__content {max-height: 200px;max-width: 100%;overflow: auto;}#sk-container-id-13 input.sk-toggleable__control:checked~label.sk-toggleable__label-arrow:before {content: \"▾\";}#sk-container-id-13 div.sk-estimator input.sk-toggleable__control:checked~label.sk-toggleable__label {background-color: #d4ebff;}#sk-container-id-13 div.sk-label input.sk-toggleable__control:checked~label.sk-toggleable__label {background-color: #d4ebff;}#sk-container-id-13 input.sk-hidden--visually {border: 0;clip: rect(1px 1px 1px 1px);clip: rect(1px, 1px, 1px, 1px);height: 1px;margin: -1px;overflow: hidden;padding: 0;position: absolute;width: 1px;}#sk-container-id-13 div.sk-estimator {font-family: monospace;background-color: #f0f8ff;border: 1px dotted black;border-radius: 0.25em;box-sizing: border-box;margin-bottom: 0.5em;}#sk-container-id-13 div.sk-estimator:hover {background-color: #d4ebff;}#sk-container-id-13 div.sk-parallel-item::after {content: \"\";width: 100%;border-bottom: 1px solid gray;flex-grow: 1;}#sk-container-id-13 div.sk-label:hover label.sk-toggleable__label {background-color: #d4ebff;}#sk-container-id-13 div.sk-serial::before {content: \"\";position: absolute;border-left: 1px solid gray;box-sizing: border-box;top: 0;bottom: 0;left: 50%;z-index: 0;}#sk-container-id-13 div.sk-serial {display: flex;flex-direction: column;align-items: center;background-color: white;padding-right: 0.2em;padding-left: 0.2em;position: relative;}#sk-container-id-13 div.sk-item {position: relative;z-index: 1;}#sk-container-id-13 div.sk-parallel {display: flex;align-items: stretch;justify-content: center;background-color: white;position: relative;}#sk-container-id-13 div.sk-item::before, #sk-container-id-13 div.sk-parallel-item::before {content: \"\";position: absolute;border-left: 1px solid gray;box-sizing: border-box;top: 0;bottom: 0;left: 50%;z-index: -1;}#sk-container-id-13 div.sk-parallel-item {display: flex;flex-direction: column;z-index: 1;position: relative;background-color: white;}#sk-container-id-13 div.sk-parallel-item:first-child::after {align-self: flex-end;width: 50%;}#sk-container-id-13 div.sk-parallel-item:last-child::after {align-self: flex-start;width: 50%;}#sk-container-id-13 div.sk-parallel-item:only-child::after {width: 0;}#sk-container-id-13 div.sk-dashed-wrapped {border: 1px dashed gray;margin: 0 0.4em 0.5em 0.4em;box-sizing: border-box;padding-bottom: 0.4em;background-color: white;}#sk-container-id-13 div.sk-label label {font-family: monospace;font-weight: bold;display: inline-block;line-height: 1.2em;}#sk-container-id-13 div.sk-label-container {text-align: center;}#sk-container-id-13 div.sk-container {/* jupyter's `normalize.less` sets `[hidden] { display: none; }` but bootstrap.min.css set `[hidden] { display: none !important; }` so we also need the `!important` here to be able to override the default hidden behavior on the sphinx rendered scikit-learn.org. See: https://github.com/scikit-learn/scikit-learn/issues/21755 */display: inline-block !important;position: relative;}#sk-container-id-13 div.sk-text-repr-fallback {display: none;}</style><div id=\"sk-container-id-13\" class=\"sk-top-container\"><div class=\"sk-text-repr-fallback\"><pre>RandomizedSearchCV(cv=5,\n",
       "                   estimator=XGBClassifier(base_score=None, booster=None,\n",
       "                                           callbacks=None,\n",
       "                                           colsample_bylevel=None,\n",
       "                                           colsample_bynode=None,\n",
       "                                           colsample_bytree=None, device=None,\n",
       "                                           early_stopping_rounds=None,\n",
       "                                           enable_categorical=False,\n",
       "                                           eval_metric=&#x27;logloss&#x27;,\n",
       "                                           feature_types=None, gamma=None,\n",
       "                                           grow_policy=None,\n",
       "                                           importance_type=None,\n",
       "                                           interaction_constraints=None,\n",
       "                                           learning...\n",
       "                                           max_leaves=None,\n",
       "                                           min_child_weight=None, missing=nan,\n",
       "                                           monotone_constraints=None,\n",
       "                                           multi_strategy=None,\n",
       "                                           n_estimators=None, n_jobs=None,\n",
       "                                           num_parallel_tree=None,\n",
       "                                           random_state=None, ...),\n",
       "                   param_distributions={&#x27;colsample_bytree&#x27;: [0.8, 0.9, 1.0],\n",
       "                                        &#x27;learning_rate&#x27;: [0.01, 0.001],\n",
       "                                        &#x27;max_depth&#x27;: [3, 4, 5],\n",
       "                                        &#x27;n_estimators&#x27;: [50, 100, 200],\n",
       "                                        &#x27;subsample&#x27;: [0.8, 0.9, 1.0]},\n",
       "                   scoring=&#x27;f1&#x27;, verbose=3)</pre><b>In a Jupyter environment, please rerun this cell to show the HTML representation or trust the notebook. <br />On GitHub, the HTML representation is unable to render, please try loading this page with nbviewer.org.</b></div><div class=\"sk-container\" hidden><div class=\"sk-item sk-dashed-wrapped\"><div class=\"sk-label-container\"><div class=\"sk-label sk-toggleable\"><input class=\"sk-toggleable__control sk-hidden--visually\" id=\"sk-estimator-id-37\" type=\"checkbox\" ><label for=\"sk-estimator-id-37\" class=\"sk-toggleable__label sk-toggleable__label-arrow\">RandomizedSearchCV</label><div class=\"sk-toggleable__content\"><pre>RandomizedSearchCV(cv=5,\n",
       "                   estimator=XGBClassifier(base_score=None, booster=None,\n",
       "                                           callbacks=None,\n",
       "                                           colsample_bylevel=None,\n",
       "                                           colsample_bynode=None,\n",
       "                                           colsample_bytree=None, device=None,\n",
       "                                           early_stopping_rounds=None,\n",
       "                                           enable_categorical=False,\n",
       "                                           eval_metric=&#x27;logloss&#x27;,\n",
       "                                           feature_types=None, gamma=None,\n",
       "                                           grow_policy=None,\n",
       "                                           importance_type=None,\n",
       "                                           interaction_constraints=None,\n",
       "                                           learning...\n",
       "                                           max_leaves=None,\n",
       "                                           min_child_weight=None, missing=nan,\n",
       "                                           monotone_constraints=None,\n",
       "                                           multi_strategy=None,\n",
       "                                           n_estimators=None, n_jobs=None,\n",
       "                                           num_parallel_tree=None,\n",
       "                                           random_state=None, ...),\n",
       "                   param_distributions={&#x27;colsample_bytree&#x27;: [0.8, 0.9, 1.0],\n",
       "                                        &#x27;learning_rate&#x27;: [0.01, 0.001],\n",
       "                                        &#x27;max_depth&#x27;: [3, 4, 5],\n",
       "                                        &#x27;n_estimators&#x27;: [50, 100, 200],\n",
       "                                        &#x27;subsample&#x27;: [0.8, 0.9, 1.0]},\n",
       "                   scoring=&#x27;f1&#x27;, verbose=3)</pre></div></div></div><div class=\"sk-parallel\"><div class=\"sk-parallel-item\"><div class=\"sk-item\"><div class=\"sk-label-container\"><div class=\"sk-label sk-toggleable\"><input class=\"sk-toggleable__control sk-hidden--visually\" id=\"sk-estimator-id-38\" type=\"checkbox\" ><label for=\"sk-estimator-id-38\" class=\"sk-toggleable__label sk-toggleable__label-arrow\">estimator: XGBClassifier</label><div class=\"sk-toggleable__content\"><pre>XGBClassifier(base_score=None, booster=None, callbacks=None,\n",
       "              colsample_bylevel=None, colsample_bynode=None,\n",
       "              colsample_bytree=None, device=None, early_stopping_rounds=None,\n",
       "              enable_categorical=False, eval_metric=&#x27;logloss&#x27;,\n",
       "              feature_types=None, gamma=None, grow_policy=None,\n",
       "              importance_type=None, interaction_constraints=None,\n",
       "              learning_rate=None, max_bin=None, max_cat_threshold=None,\n",
       "              max_cat_to_onehot=None, max_delta_step=None, max_depth=None,\n",
       "              max_leaves=None, min_child_weight=None, missing=nan,\n",
       "              monotone_constraints=None, multi_strategy=None, n_estimators=None,\n",
       "              n_jobs=None, num_parallel_tree=None, random_state=None, ...)</pre></div></div></div><div class=\"sk-serial\"><div class=\"sk-item\"><div class=\"sk-estimator sk-toggleable\"><input class=\"sk-toggleable__control sk-hidden--visually\" id=\"sk-estimator-id-39\" type=\"checkbox\" ><label for=\"sk-estimator-id-39\" class=\"sk-toggleable__label sk-toggleable__label-arrow\">XGBClassifier</label><div class=\"sk-toggleable__content\"><pre>XGBClassifier(base_score=None, booster=None, callbacks=None,\n",
       "              colsample_bylevel=None, colsample_bynode=None,\n",
       "              colsample_bytree=None, device=None, early_stopping_rounds=None,\n",
       "              enable_categorical=False, eval_metric=&#x27;logloss&#x27;,\n",
       "              feature_types=None, gamma=None, grow_policy=None,\n",
       "              importance_type=None, interaction_constraints=None,\n",
       "              learning_rate=None, max_bin=None, max_cat_threshold=None,\n",
       "              max_cat_to_onehot=None, max_delta_step=None, max_depth=None,\n",
       "              max_leaves=None, min_child_weight=None, missing=nan,\n",
       "              monotone_constraints=None, multi_strategy=None, n_estimators=None,\n",
       "              n_jobs=None, num_parallel_tree=None, random_state=None, ...)</pre></div></div></div></div></div></div></div></div></div></div>"
      ],
      "text/plain": [
       "RandomizedSearchCV(cv=5,\n",
       "                   estimator=XGBClassifier(base_score=None, booster=None,\n",
       "                                           callbacks=None,\n",
       "                                           colsample_bylevel=None,\n",
       "                                           colsample_bynode=None,\n",
       "                                           colsample_bytree=None, device=None,\n",
       "                                           early_stopping_rounds=None,\n",
       "                                           enable_categorical=False,\n",
       "                                           eval_metric='logloss',\n",
       "                                           feature_types=None, gamma=None,\n",
       "                                           grow_policy=None,\n",
       "                                           importance_type=None,\n",
       "                                           interaction_constraints=None,\n",
       "                                           learning...\n",
       "                                           max_leaves=None,\n",
       "                                           min_child_weight=None, missing=nan,\n",
       "                                           monotone_constraints=None,\n",
       "                                           multi_strategy=None,\n",
       "                                           n_estimators=None, n_jobs=None,\n",
       "                                           num_parallel_tree=None,\n",
       "                                           random_state=None, ...),\n",
       "                   param_distributions={'colsample_bytree': [0.8, 0.9, 1.0],\n",
       "                                        'learning_rate': [0.01, 0.001],\n",
       "                                        'max_depth': [3, 4, 5],\n",
       "                                        'n_estimators': [50, 100, 200],\n",
       "                                        'subsample': [0.8, 0.9, 1.0]},\n",
       "                   scoring='f1', verbose=3)"
      ]
     },
     "execution_count": 93,
     "metadata": {},
     "output_type": "execute_result"
    }
   ],
   "source": [
    "random_search_xg.fit(X_train_mm_scaled,y_train)"
   ]
  },
  {
   "cell_type": "code",
   "execution_count": 94,
   "id": "ff44f3b4",
   "metadata": {},
   "outputs": [
    {
     "name": "stdout",
     "output_type": "stream",
     "text": [
      "Best parameters: {'subsample': 0.8, 'n_estimators': 100, 'max_depth': 5, 'learning_rate': 0.001, 'colsample_bytree': 0.8}\n"
     ]
    }
   ],
   "source": [
    "## Getting the best parameters\n",
    "print(\"Best parameters:\", random_search_xg.best_params_)"
   ]
  },
  {
   "cell_type": "code",
   "execution_count": 95,
   "id": "9207e706",
   "metadata": {},
   "outputs": [],
   "source": [
    "### Predicting the target value\n",
    "y_pred_xg_rand= random_search_xg.predict(X_test_mm_scaled)"
   ]
  },
  {
   "cell_type": "code",
   "execution_count": 96,
   "id": "6b9b5cd9",
   "metadata": {},
   "outputs": [
    {
     "name": "stdout",
     "output_type": "stream",
     "text": [
      "              precision    recall  f1-score   support\n",
      "\n",
      "           0       0.72      0.83      0.77      7013\n",
      "           1       0.80      0.68      0.73      7006\n",
      "\n",
      "    accuracy                           0.75     14019\n",
      "   macro avg       0.76      0.75      0.75     14019\n",
      "weighted avg       0.76      0.75      0.75     14019\n",
      "\n",
      "[[5796 1217]\n",
      " [2230 4776]]\n",
      "Accuracy: 0.7541194093729938\n",
      "F1 Score: 0.7348257558273713\n"
     ]
    }
   ],
   "source": [
    "## Printing classification report, confusion matrix, and accuracy of the best parameter.\n",
    "print(classification_report(y_test,y_pred_xg_rand))\n",
    "print(confusion_matrix(y_test,y_pred_xg_rand))\n",
    "print(\"Accuracy:\",(accuracy_score(y_test,y_pred_xg_rand)))\n",
    "print(\"F1 Score:\", (f1_score(y_test, y_pred_xg_rand)))"
   ]
  },
  {
   "cell_type": "markdown",
   "id": "b0100683",
   "metadata": {},
   "source": [
    "## Comparing the results for XG Boost obtained from Grid Search and Random Search:\n",
    "\n",
    "| Metric                     | Accuracy | F1 Score | Precision (Class 0) | Precision (Class 1) | Recall (Class 0) | Recall (Class 1) | True Positives (Class 0) | True Positives (Class 1) | False Positives (Class 0) | False Positives (Class 1) |\n",
    "|-----------------------------|----------|----------|----------------------|----------------------|------------------|------------------|--------------------------|--------------------------|---------------------------|---------------------------|\n",
    "| Random Search XGBoosting   | 0.754    | 0.735    | 0.72                 | 0.80                 | 0.83             | 0.68             | 5796                     | 4776                     | 1217                      | 2230                      |\n",
    "| Grid Search XGBoosting     | 0.776    | 0.762    | 0.75                 | 0.81                 | 0.83             | 0.72             | 5850                     | 5033                     | 1163                      | 1973                      |\n",
    "\n",
    "\n",
    "Grid Search for XGBoosting outperforms Random Search in terms of accuracy and F1 score. It achieves higher precision and recall for both classes, indicating better overall classification performance.\n",
    "Grid Search shows a more balanced trade-off between precision and recall for class 0 and class 1, resulting in a higher F1 score.\n",
    "The confusion matrix of Grid Search indicates a more favorable distribution of true positives and true negatives, particularly for class 1.\n",
    "Both Random Search and Grid Search models demonstrate a relatively high accuracy, but Grid Search is more effective in correctly identifying instances of both class 0 and class 1, leading to an improved F1 score.\n",
    "In summary, the Grid Search for XGBoosting presents a more robust and balanced model for this classification task compared to the Random Search, offering improved accuracy and F1 score along with better precision and recall."
   ]
  },
  {
   "cell_type": "markdown",
   "id": "adc120fc",
   "metadata": {},
   "source": [
    "# Ada boosting with hyperparameter tuning"
   ]
  },
  {
   "cell_type": "markdown",
   "id": "e36136b5",
   "metadata": {},
   "source": [
    "#### Ada boosting Grid Search"
   ]
  },
  {
   "cell_type": "code",
   "execution_count": 97,
   "id": "fdf377ac",
   "metadata": {},
   "outputs": [],
   "source": [
    "# Hyperparameters for AdaBoost\n",
    "param_grid = {\n",
    "    'n_estimators': [50, 100, 200],\n",
    "    'learning_rate': [0.01, 0.1, 1.0],\n",
    "}"
   ]
  },
  {
   "cell_type": "code",
   "execution_count": 98,
   "id": "2b426444",
   "metadata": {},
   "outputs": [],
   "source": [
    "ada_classifier = AdaBoostClassifier()"
   ]
  },
  {
   "cell_type": "code",
   "execution_count": 99,
   "id": "7f1f161f",
   "metadata": {},
   "outputs": [],
   "source": [
    "grid_search_ada = GridSearchCV(ada_classifier, param_grid, cv=5,scoring='f1', verbose = 3)"
   ]
  },
  {
   "cell_type": "code",
   "execution_count": 100,
   "id": "2f040d74",
   "metadata": {},
   "outputs": [
    {
     "name": "stdout",
     "output_type": "stream",
     "text": [
      "Fitting 5 folds for each of 9 candidates, totalling 45 fits\n",
      "[CV 1/5] END learning_rate=0.01, n_estimators=50;, score=0.616 total time=   5.0s\n",
      "[CV 2/5] END learning_rate=0.01, n_estimators=50;, score=0.613 total time=   5.0s\n",
      "[CV 3/5] END learning_rate=0.01, n_estimators=50;, score=0.621 total time=   5.0s\n",
      "[CV 4/5] END learning_rate=0.01, n_estimators=50;, score=0.627 total time=   5.0s\n",
      "[CV 5/5] END learning_rate=0.01, n_estimators=50;, score=0.614 total time=   5.1s\n",
      "[CV 1/5] END learning_rate=0.01, n_estimators=100;, score=0.616 total time=  10.0s\n",
      "[CV 2/5] END learning_rate=0.01, n_estimators=100;, score=0.613 total time=  10.0s\n",
      "[CV 3/5] END learning_rate=0.01, n_estimators=100;, score=0.621 total time=   9.9s\n",
      "[CV 4/5] END learning_rate=0.01, n_estimators=100;, score=0.629 total time=  10.0s\n",
      "[CV 5/5] END learning_rate=0.01, n_estimators=100;, score=0.614 total time=  10.0s\n",
      "[CV 1/5] END learning_rate=0.01, n_estimators=200;, score=0.640 total time=  19.8s\n",
      "[CV 2/5] END learning_rate=0.01, n_estimators=200;, score=0.632 total time=  19.9s\n",
      "[CV 3/5] END learning_rate=0.01, n_estimators=200;, score=0.643 total time=  21.4s\n",
      "[CV 4/5] END learning_rate=0.01, n_estimators=200;, score=0.644 total time=  19.9s\n",
      "[CV 5/5] END learning_rate=0.01, n_estimators=200;, score=0.631 total time=  19.9s\n",
      "[CV 1/5] END learning_rate=0.1, n_estimators=50;, score=0.707 total time=   4.9s\n",
      "[CV 2/5] END learning_rate=0.1, n_estimators=50;, score=0.697 total time=   4.9s\n",
      "[CV 3/5] END learning_rate=0.1, n_estimators=50;, score=0.711 total time=   4.9s\n",
      "[CV 4/5] END learning_rate=0.1, n_estimators=50;, score=0.711 total time=   4.9s\n",
      "[CV 5/5] END learning_rate=0.1, n_estimators=50;, score=0.713 total time=   4.9s\n",
      "[CV 1/5] END learning_rate=0.1, n_estimators=100;, score=0.720 total time=   9.9s\n",
      "[CV 2/5] END learning_rate=0.1, n_estimators=100;, score=0.710 total time=   9.9s\n",
      "[CV 3/5] END learning_rate=0.1, n_estimators=100;, score=0.728 total time=  10.0s\n",
      "[CV 4/5] END learning_rate=0.1, n_estimators=100;, score=0.720 total time=   9.9s\n",
      "[CV 5/5] END learning_rate=0.1, n_estimators=100;, score=0.726 total time=   9.9s\n",
      "[CV 1/5] END learning_rate=0.1, n_estimators=200;, score=0.739 total time=  20.0s\n",
      "[CV 2/5] END learning_rate=0.1, n_estimators=200;, score=0.728 total time=  19.9s\n",
      "[CV 3/5] END learning_rate=0.1, n_estimators=200;, score=0.743 total time=  19.8s\n",
      "[CV 4/5] END learning_rate=0.1, n_estimators=200;, score=0.738 total time=  20.0s\n",
      "[CV 5/5] END learning_rate=0.1, n_estimators=200;, score=0.746 total time=  19.8s\n",
      "[CV 1/5] END learning_rate=1.0, n_estimators=50;, score=0.757 total time=   4.8s\n",
      "[CV 2/5] END learning_rate=1.0, n_estimators=50;, score=0.748 total time=   5.3s\n",
      "[CV 3/5] END learning_rate=1.0, n_estimators=50;, score=0.752 total time=   5.6s\n",
      "[CV 4/5] END learning_rate=1.0, n_estimators=50;, score=0.754 total time=   5.4s\n",
      "[CV 5/5] END learning_rate=1.0, n_estimators=50;, score=0.759 total time=   5.0s\n",
      "[CV 1/5] END learning_rate=1.0, n_estimators=100;, score=0.765 total time=  10.8s\n",
      "[CV 2/5] END learning_rate=1.0, n_estimators=100;, score=0.757 total time=  10.8s\n",
      "[CV 3/5] END learning_rate=1.0, n_estimators=100;, score=0.765 total time=   9.9s\n",
      "[CV 4/5] END learning_rate=1.0, n_estimators=100;, score=0.756 total time=   9.9s\n",
      "[CV 5/5] END learning_rate=1.0, n_estimators=100;, score=0.765 total time=   9.9s\n",
      "[CV 1/5] END learning_rate=1.0, n_estimators=200;, score=0.770 total time=  20.1s\n",
      "[CV 2/5] END learning_rate=1.0, n_estimators=200;, score=0.763 total time=  19.9s\n",
      "[CV 3/5] END learning_rate=1.0, n_estimators=200;, score=0.770 total time=  20.0s\n",
      "[CV 4/5] END learning_rate=1.0, n_estimators=200;, score=0.763 total time=  20.2s\n",
      "[CV 5/5] END learning_rate=1.0, n_estimators=200;, score=0.774 total time=  20.2s\n"
     ]
    },
    {
     "data": {
      "text/html": [
       "<style>#sk-container-id-14 {color: black;}#sk-container-id-14 pre{padding: 0;}#sk-container-id-14 div.sk-toggleable {background-color: white;}#sk-container-id-14 label.sk-toggleable__label {cursor: pointer;display: block;width: 100%;margin-bottom: 0;padding: 0.3em;box-sizing: border-box;text-align: center;}#sk-container-id-14 label.sk-toggleable__label-arrow:before {content: \"▸\";float: left;margin-right: 0.25em;color: #696969;}#sk-container-id-14 label.sk-toggleable__label-arrow:hover:before {color: black;}#sk-container-id-14 div.sk-estimator:hover label.sk-toggleable__label-arrow:before {color: black;}#sk-container-id-14 div.sk-toggleable__content {max-height: 0;max-width: 0;overflow: hidden;text-align: left;background-color: #f0f8ff;}#sk-container-id-14 div.sk-toggleable__content pre {margin: 0.2em;color: black;border-radius: 0.25em;background-color: #f0f8ff;}#sk-container-id-14 input.sk-toggleable__control:checked~div.sk-toggleable__content {max-height: 200px;max-width: 100%;overflow: auto;}#sk-container-id-14 input.sk-toggleable__control:checked~label.sk-toggleable__label-arrow:before {content: \"▾\";}#sk-container-id-14 div.sk-estimator input.sk-toggleable__control:checked~label.sk-toggleable__label {background-color: #d4ebff;}#sk-container-id-14 div.sk-label input.sk-toggleable__control:checked~label.sk-toggleable__label {background-color: #d4ebff;}#sk-container-id-14 input.sk-hidden--visually {border: 0;clip: rect(1px 1px 1px 1px);clip: rect(1px, 1px, 1px, 1px);height: 1px;margin: -1px;overflow: hidden;padding: 0;position: absolute;width: 1px;}#sk-container-id-14 div.sk-estimator {font-family: monospace;background-color: #f0f8ff;border: 1px dotted black;border-radius: 0.25em;box-sizing: border-box;margin-bottom: 0.5em;}#sk-container-id-14 div.sk-estimator:hover {background-color: #d4ebff;}#sk-container-id-14 div.sk-parallel-item::after {content: \"\";width: 100%;border-bottom: 1px solid gray;flex-grow: 1;}#sk-container-id-14 div.sk-label:hover label.sk-toggleable__label {background-color: #d4ebff;}#sk-container-id-14 div.sk-serial::before {content: \"\";position: absolute;border-left: 1px solid gray;box-sizing: border-box;top: 0;bottom: 0;left: 50%;z-index: 0;}#sk-container-id-14 div.sk-serial {display: flex;flex-direction: column;align-items: center;background-color: white;padding-right: 0.2em;padding-left: 0.2em;position: relative;}#sk-container-id-14 div.sk-item {position: relative;z-index: 1;}#sk-container-id-14 div.sk-parallel {display: flex;align-items: stretch;justify-content: center;background-color: white;position: relative;}#sk-container-id-14 div.sk-item::before, #sk-container-id-14 div.sk-parallel-item::before {content: \"\";position: absolute;border-left: 1px solid gray;box-sizing: border-box;top: 0;bottom: 0;left: 50%;z-index: -1;}#sk-container-id-14 div.sk-parallel-item {display: flex;flex-direction: column;z-index: 1;position: relative;background-color: white;}#sk-container-id-14 div.sk-parallel-item:first-child::after {align-self: flex-end;width: 50%;}#sk-container-id-14 div.sk-parallel-item:last-child::after {align-self: flex-start;width: 50%;}#sk-container-id-14 div.sk-parallel-item:only-child::after {width: 0;}#sk-container-id-14 div.sk-dashed-wrapped {border: 1px dashed gray;margin: 0 0.4em 0.5em 0.4em;box-sizing: border-box;padding-bottom: 0.4em;background-color: white;}#sk-container-id-14 div.sk-label label {font-family: monospace;font-weight: bold;display: inline-block;line-height: 1.2em;}#sk-container-id-14 div.sk-label-container {text-align: center;}#sk-container-id-14 div.sk-container {/* jupyter's `normalize.less` sets `[hidden] { display: none; }` but bootstrap.min.css set `[hidden] { display: none !important; }` so we also need the `!important` here to be able to override the default hidden behavior on the sphinx rendered scikit-learn.org. See: https://github.com/scikit-learn/scikit-learn/issues/21755 */display: inline-block !important;position: relative;}#sk-container-id-14 div.sk-text-repr-fallback {display: none;}</style><div id=\"sk-container-id-14\" class=\"sk-top-container\"><div class=\"sk-text-repr-fallback\"><pre>GridSearchCV(cv=5, estimator=AdaBoostClassifier(),\n",
       "             param_grid={&#x27;learning_rate&#x27;: [0.01, 0.1, 1.0],\n",
       "                         &#x27;n_estimators&#x27;: [50, 100, 200]},\n",
       "             scoring=&#x27;f1&#x27;, verbose=3)</pre><b>In a Jupyter environment, please rerun this cell to show the HTML representation or trust the notebook. <br />On GitHub, the HTML representation is unable to render, please try loading this page with nbviewer.org.</b></div><div class=\"sk-container\" hidden><div class=\"sk-item sk-dashed-wrapped\"><div class=\"sk-label-container\"><div class=\"sk-label sk-toggleable\"><input class=\"sk-toggleable__control sk-hidden--visually\" id=\"sk-estimator-id-40\" type=\"checkbox\" ><label for=\"sk-estimator-id-40\" class=\"sk-toggleable__label sk-toggleable__label-arrow\">GridSearchCV</label><div class=\"sk-toggleable__content\"><pre>GridSearchCV(cv=5, estimator=AdaBoostClassifier(),\n",
       "             param_grid={&#x27;learning_rate&#x27;: [0.01, 0.1, 1.0],\n",
       "                         &#x27;n_estimators&#x27;: [50, 100, 200]},\n",
       "             scoring=&#x27;f1&#x27;, verbose=3)</pre></div></div></div><div class=\"sk-parallel\"><div class=\"sk-parallel-item\"><div class=\"sk-item\"><div class=\"sk-label-container\"><div class=\"sk-label sk-toggleable\"><input class=\"sk-toggleable__control sk-hidden--visually\" id=\"sk-estimator-id-41\" type=\"checkbox\" ><label for=\"sk-estimator-id-41\" class=\"sk-toggleable__label sk-toggleable__label-arrow\">estimator: AdaBoostClassifier</label><div class=\"sk-toggleable__content\"><pre>AdaBoostClassifier()</pre></div></div></div><div class=\"sk-serial\"><div class=\"sk-item\"><div class=\"sk-estimator sk-toggleable\"><input class=\"sk-toggleable__control sk-hidden--visually\" id=\"sk-estimator-id-42\" type=\"checkbox\" ><label for=\"sk-estimator-id-42\" class=\"sk-toggleable__label sk-toggleable__label-arrow\">AdaBoostClassifier</label><div class=\"sk-toggleable__content\"><pre>AdaBoostClassifier()</pre></div></div></div></div></div></div></div></div></div></div>"
      ],
      "text/plain": [
       "GridSearchCV(cv=5, estimator=AdaBoostClassifier(),\n",
       "             param_grid={'learning_rate': [0.01, 0.1, 1.0],\n",
       "                         'n_estimators': [50, 100, 200]},\n",
       "             scoring='f1', verbose=3)"
      ]
     },
     "execution_count": 100,
     "metadata": {},
     "output_type": "execute_result"
    }
   ],
   "source": [
    "grid_search_ada.fit(X_train_mm_scaled, y_train)"
   ]
  },
  {
   "cell_type": "code",
   "execution_count": 101,
   "id": "69663b53",
   "metadata": {},
   "outputs": [
    {
     "name": "stdout",
     "output_type": "stream",
     "text": [
      "{'learning_rate': 1.0, 'n_estimators': 200}\n"
     ]
    }
   ],
   "source": [
    "print(grid_search_ada.best_params_)"
   ]
  },
  {
   "cell_type": "code",
   "execution_count": 102,
   "id": "6d69e66f",
   "metadata": {},
   "outputs": [],
   "source": [
    "y_pred_ada_grid = grid_search_ada.predict(X_test_mm_scaled)"
   ]
  },
  {
   "cell_type": "code",
   "execution_count": 103,
   "id": "c99b9bc1",
   "metadata": {},
   "outputs": [
    {
     "name": "stdout",
     "output_type": "stream",
     "text": [
      "              precision    recall  f1-score   support\n",
      "\n",
      "           0       0.76      0.81      0.78      7013\n",
      "           1       0.79      0.75      0.77      7006\n",
      "\n",
      "    accuracy                           0.78     14019\n",
      "   macro avg       0.78      0.78      0.78     14019\n",
      "weighted avg       0.78      0.78      0.78     14019\n",
      "\n",
      "[[5649 1364]\n",
      " [1778 5228]]\n",
      "Accuracy: 0.7758755974035237\n",
      "F1 Score: 0.7689366083247536\n"
     ]
    }
   ],
   "source": [
    "## Printing classification report, confusion matrix, and accuracy of the best parameter.\n",
    "print(classification_report(y_test,y_pred_ada_grid))\n",
    "print(confusion_matrix(y_test,y_pred_ada_grid))\n",
    "print(\"Accuracy:\",(accuracy_score(y_test,y_pred_ada_grid)))\n",
    "print(\"F1 Score:\", (f1_score(y_test, y_pred_ada_grid)))"
   ]
  },
  {
   "cell_type": "markdown",
   "id": "76649b3a",
   "metadata": {},
   "source": [
    "## Random Search CV"
   ]
  },
  {
   "cell_type": "code",
   "execution_count": 104,
   "id": "375e4b76",
   "metadata": {},
   "outputs": [],
   "source": [
    "random_search_ada= RandomizedSearchCV(estimator=ada_classifier, param_distributions=param_grid, n_iter=10, scoring='f1', cv=5, verbose = 3)"
   ]
  },
  {
   "cell_type": "code",
   "execution_count": 105,
   "id": "bc9c9c6c",
   "metadata": {},
   "outputs": [
    {
     "name": "stdout",
     "output_type": "stream",
     "text": [
      "Fitting 5 folds for each of 9 candidates, totalling 45 fits\n",
      "[CV 1/5] END learning_rate=0.01, n_estimators=50;, score=0.616 total time=   5.0s\n",
      "[CV 2/5] END learning_rate=0.01, n_estimators=50;, score=0.613 total time=   5.0s\n",
      "[CV 3/5] END learning_rate=0.01, n_estimators=50;, score=0.621 total time=   5.0s\n",
      "[CV 4/5] END learning_rate=0.01, n_estimators=50;, score=0.627 total time=   5.0s\n",
      "[CV 5/5] END learning_rate=0.01, n_estimators=50;, score=0.614 total time=   5.0s\n",
      "[CV 1/5] END learning_rate=0.01, n_estimators=100;, score=0.616 total time=  10.0s\n",
      "[CV 2/5] END learning_rate=0.01, n_estimators=100;, score=0.613 total time=  10.0s\n",
      "[CV 3/5] END learning_rate=0.01, n_estimators=100;, score=0.621 total time=  10.0s\n",
      "[CV 4/5] END learning_rate=0.01, n_estimators=100;, score=0.629 total time=   9.9s\n",
      "[CV 5/5] END learning_rate=0.01, n_estimators=100;, score=0.614 total time=  10.1s\n",
      "[CV 1/5] END learning_rate=0.01, n_estimators=200;, score=0.640 total time=  20.1s\n",
      "[CV 2/5] END learning_rate=0.01, n_estimators=200;, score=0.632 total time=  20.0s\n",
      "[CV 3/5] END learning_rate=0.01, n_estimators=200;, score=0.643 total time=  20.0s\n",
      "[CV 4/5] END learning_rate=0.01, n_estimators=200;, score=0.644 total time=  20.1s\n",
      "[CV 5/5] END learning_rate=0.01, n_estimators=200;, score=0.631 total time=  20.0s\n",
      "[CV 1/5] END learning_rate=0.1, n_estimators=50;, score=0.707 total time=   4.9s\n",
      "[CV 2/5] END learning_rate=0.1, n_estimators=50;, score=0.697 total time=   4.9s\n",
      "[CV 3/5] END learning_rate=0.1, n_estimators=50;, score=0.711 total time=   5.1s\n",
      "[CV 4/5] END learning_rate=0.1, n_estimators=50;, score=0.711 total time=   5.0s\n",
      "[CV 5/5] END learning_rate=0.1, n_estimators=50;, score=0.713 total time=   4.9s\n",
      "[CV 1/5] END learning_rate=0.1, n_estimators=100;, score=0.720 total time=  10.0s\n",
      "[CV 2/5] END learning_rate=0.1, n_estimators=100;, score=0.710 total time=  10.2s\n",
      "[CV 3/5] END learning_rate=0.1, n_estimators=100;, score=0.728 total time=  10.6s\n",
      "[CV 4/5] END learning_rate=0.1, n_estimators=100;, score=0.720 total time=  10.2s\n",
      "[CV 5/5] END learning_rate=0.1, n_estimators=100;, score=0.726 total time=  10.2s\n",
      "[CV 1/5] END learning_rate=0.1, n_estimators=200;, score=0.739 total time=  20.5s\n",
      "[CV 2/5] END learning_rate=0.1, n_estimators=200;, score=0.728 total time=  20.0s\n",
      "[CV 3/5] END learning_rate=0.1, n_estimators=200;, score=0.743 total time=  20.3s\n",
      "[CV 4/5] END learning_rate=0.1, n_estimators=200;, score=0.738 total time=  20.1s\n",
      "[CV 5/5] END learning_rate=0.1, n_estimators=200;, score=0.746 total time=  19.9s\n",
      "[CV 1/5] END learning_rate=1.0, n_estimators=50;, score=0.757 total time=   5.0s\n",
      "[CV 2/5] END learning_rate=1.0, n_estimators=50;, score=0.748 total time=   4.9s\n",
      "[CV 3/5] END learning_rate=1.0, n_estimators=50;, score=0.752 total time=   5.0s\n",
      "[CV 4/5] END learning_rate=1.0, n_estimators=50;, score=0.754 total time=   5.0s\n",
      "[CV 5/5] END learning_rate=1.0, n_estimators=50;, score=0.759 total time=   4.9s\n",
      "[CV 1/5] END learning_rate=1.0, n_estimators=100;, score=0.765 total time=  10.0s\n",
      "[CV 2/5] END learning_rate=1.0, n_estimators=100;, score=0.757 total time=  10.0s\n",
      "[CV 3/5] END learning_rate=1.0, n_estimators=100;, score=0.765 total time=  10.0s\n",
      "[CV 4/5] END learning_rate=1.0, n_estimators=100;, score=0.756 total time=  10.0s\n",
      "[CV 5/5] END learning_rate=1.0, n_estimators=100;, score=0.765 total time=  10.1s\n",
      "[CV 1/5] END learning_rate=1.0, n_estimators=200;, score=0.770 total time=  20.2s\n",
      "[CV 2/5] END learning_rate=1.0, n_estimators=200;, score=0.763 total time=  22.0s\n",
      "[CV 3/5] END learning_rate=1.0, n_estimators=200;, score=0.770 total time=  20.0s\n",
      "[CV 4/5] END learning_rate=1.0, n_estimators=200;, score=0.763 total time=  20.1s\n",
      "[CV 5/5] END learning_rate=1.0, n_estimators=200;, score=0.774 total time=  20.2s\n"
     ]
    },
    {
     "data": {
      "text/html": [
       "<style>#sk-container-id-15 {color: black;}#sk-container-id-15 pre{padding: 0;}#sk-container-id-15 div.sk-toggleable {background-color: white;}#sk-container-id-15 label.sk-toggleable__label {cursor: pointer;display: block;width: 100%;margin-bottom: 0;padding: 0.3em;box-sizing: border-box;text-align: center;}#sk-container-id-15 label.sk-toggleable__label-arrow:before {content: \"▸\";float: left;margin-right: 0.25em;color: #696969;}#sk-container-id-15 label.sk-toggleable__label-arrow:hover:before {color: black;}#sk-container-id-15 div.sk-estimator:hover label.sk-toggleable__label-arrow:before {color: black;}#sk-container-id-15 div.sk-toggleable__content {max-height: 0;max-width: 0;overflow: hidden;text-align: left;background-color: #f0f8ff;}#sk-container-id-15 div.sk-toggleable__content pre {margin: 0.2em;color: black;border-radius: 0.25em;background-color: #f0f8ff;}#sk-container-id-15 input.sk-toggleable__control:checked~div.sk-toggleable__content {max-height: 200px;max-width: 100%;overflow: auto;}#sk-container-id-15 input.sk-toggleable__control:checked~label.sk-toggleable__label-arrow:before {content: \"▾\";}#sk-container-id-15 div.sk-estimator input.sk-toggleable__control:checked~label.sk-toggleable__label {background-color: #d4ebff;}#sk-container-id-15 div.sk-label input.sk-toggleable__control:checked~label.sk-toggleable__label {background-color: #d4ebff;}#sk-container-id-15 input.sk-hidden--visually {border: 0;clip: rect(1px 1px 1px 1px);clip: rect(1px, 1px, 1px, 1px);height: 1px;margin: -1px;overflow: hidden;padding: 0;position: absolute;width: 1px;}#sk-container-id-15 div.sk-estimator {font-family: monospace;background-color: #f0f8ff;border: 1px dotted black;border-radius: 0.25em;box-sizing: border-box;margin-bottom: 0.5em;}#sk-container-id-15 div.sk-estimator:hover {background-color: #d4ebff;}#sk-container-id-15 div.sk-parallel-item::after {content: \"\";width: 100%;border-bottom: 1px solid gray;flex-grow: 1;}#sk-container-id-15 div.sk-label:hover label.sk-toggleable__label {background-color: #d4ebff;}#sk-container-id-15 div.sk-serial::before {content: \"\";position: absolute;border-left: 1px solid gray;box-sizing: border-box;top: 0;bottom: 0;left: 50%;z-index: 0;}#sk-container-id-15 div.sk-serial {display: flex;flex-direction: column;align-items: center;background-color: white;padding-right: 0.2em;padding-left: 0.2em;position: relative;}#sk-container-id-15 div.sk-item {position: relative;z-index: 1;}#sk-container-id-15 div.sk-parallel {display: flex;align-items: stretch;justify-content: center;background-color: white;position: relative;}#sk-container-id-15 div.sk-item::before, #sk-container-id-15 div.sk-parallel-item::before {content: \"\";position: absolute;border-left: 1px solid gray;box-sizing: border-box;top: 0;bottom: 0;left: 50%;z-index: -1;}#sk-container-id-15 div.sk-parallel-item {display: flex;flex-direction: column;z-index: 1;position: relative;background-color: white;}#sk-container-id-15 div.sk-parallel-item:first-child::after {align-self: flex-end;width: 50%;}#sk-container-id-15 div.sk-parallel-item:last-child::after {align-self: flex-start;width: 50%;}#sk-container-id-15 div.sk-parallel-item:only-child::after {width: 0;}#sk-container-id-15 div.sk-dashed-wrapped {border: 1px dashed gray;margin: 0 0.4em 0.5em 0.4em;box-sizing: border-box;padding-bottom: 0.4em;background-color: white;}#sk-container-id-15 div.sk-label label {font-family: monospace;font-weight: bold;display: inline-block;line-height: 1.2em;}#sk-container-id-15 div.sk-label-container {text-align: center;}#sk-container-id-15 div.sk-container {/* jupyter's `normalize.less` sets `[hidden] { display: none; }` but bootstrap.min.css set `[hidden] { display: none !important; }` so we also need the `!important` here to be able to override the default hidden behavior on the sphinx rendered scikit-learn.org. See: https://github.com/scikit-learn/scikit-learn/issues/21755 */display: inline-block !important;position: relative;}#sk-container-id-15 div.sk-text-repr-fallback {display: none;}</style><div id=\"sk-container-id-15\" class=\"sk-top-container\"><div class=\"sk-text-repr-fallback\"><pre>RandomizedSearchCV(cv=5, estimator=AdaBoostClassifier(),\n",
       "                   param_distributions={&#x27;learning_rate&#x27;: [0.01, 0.1, 1.0],\n",
       "                                        &#x27;n_estimators&#x27;: [50, 100, 200]},\n",
       "                   scoring=&#x27;f1&#x27;, verbose=3)</pre><b>In a Jupyter environment, please rerun this cell to show the HTML representation or trust the notebook. <br />On GitHub, the HTML representation is unable to render, please try loading this page with nbviewer.org.</b></div><div class=\"sk-container\" hidden><div class=\"sk-item sk-dashed-wrapped\"><div class=\"sk-label-container\"><div class=\"sk-label sk-toggleable\"><input class=\"sk-toggleable__control sk-hidden--visually\" id=\"sk-estimator-id-43\" type=\"checkbox\" ><label for=\"sk-estimator-id-43\" class=\"sk-toggleable__label sk-toggleable__label-arrow\">RandomizedSearchCV</label><div class=\"sk-toggleable__content\"><pre>RandomizedSearchCV(cv=5, estimator=AdaBoostClassifier(),\n",
       "                   param_distributions={&#x27;learning_rate&#x27;: [0.01, 0.1, 1.0],\n",
       "                                        &#x27;n_estimators&#x27;: [50, 100, 200]},\n",
       "                   scoring=&#x27;f1&#x27;, verbose=3)</pre></div></div></div><div class=\"sk-parallel\"><div class=\"sk-parallel-item\"><div class=\"sk-item\"><div class=\"sk-label-container\"><div class=\"sk-label sk-toggleable\"><input class=\"sk-toggleable__control sk-hidden--visually\" id=\"sk-estimator-id-44\" type=\"checkbox\" ><label for=\"sk-estimator-id-44\" class=\"sk-toggleable__label sk-toggleable__label-arrow\">estimator: AdaBoostClassifier</label><div class=\"sk-toggleable__content\"><pre>AdaBoostClassifier()</pre></div></div></div><div class=\"sk-serial\"><div class=\"sk-item\"><div class=\"sk-estimator sk-toggleable\"><input class=\"sk-toggleable__control sk-hidden--visually\" id=\"sk-estimator-id-45\" type=\"checkbox\" ><label for=\"sk-estimator-id-45\" class=\"sk-toggleable__label sk-toggleable__label-arrow\">AdaBoostClassifier</label><div class=\"sk-toggleable__content\"><pre>AdaBoostClassifier()</pre></div></div></div></div></div></div></div></div></div></div>"
      ],
      "text/plain": [
       "RandomizedSearchCV(cv=5, estimator=AdaBoostClassifier(),\n",
       "                   param_distributions={'learning_rate': [0.01, 0.1, 1.0],\n",
       "                                        'n_estimators': [50, 100, 200]},\n",
       "                   scoring='f1', verbose=3)"
      ]
     },
     "execution_count": 105,
     "metadata": {},
     "output_type": "execute_result"
    }
   ],
   "source": [
    "random_search_ada.fit(X_train_mm_scaled,y_train)"
   ]
  },
  {
   "cell_type": "code",
   "execution_count": 106,
   "id": "bd7f8ad6",
   "metadata": {},
   "outputs": [
    {
     "name": "stdout",
     "output_type": "stream",
     "text": [
      "Best parameters: {'n_estimators': 200, 'learning_rate': 1.0}\n"
     ]
    }
   ],
   "source": [
    "## Getting the best parameters\n",
    "print(\"Best parameters:\", random_search_ada.best_params_)"
   ]
  },
  {
   "cell_type": "code",
   "execution_count": 107,
   "id": "8a8e3035",
   "metadata": {},
   "outputs": [],
   "source": [
    "### Predicting the target value\n",
    "y_pred_ada_rand= random_search_ada.predict(X_test_mm_scaled)"
   ]
  },
  {
   "cell_type": "code",
   "execution_count": 108,
   "id": "7cb8061a",
   "metadata": {},
   "outputs": [
    {
     "name": "stdout",
     "output_type": "stream",
     "text": [
      "              precision    recall  f1-score   support\n",
      "\n",
      "           0       0.76      0.81      0.78      7013\n",
      "           1       0.79      0.75      0.77      7006\n",
      "\n",
      "    accuracy                           0.78     14019\n",
      "   macro avg       0.78      0.78      0.78     14019\n",
      "weighted avg       0.78      0.78      0.78     14019\n",
      "\n",
      "[[5649 1364]\n",
      " [1778 5228]]\n",
      "Accuracy: 0.7758755974035237\n",
      "F1 Score: 0.7689366083247536\n"
     ]
    }
   ],
   "source": [
    "## Printing classification report, confusion matrix, and accuracy of the best parameter.\n",
    "print(classification_report(y_test,y_pred_ada_rand))\n",
    "print(confusion_matrix(y_test,y_pred_ada_rand))\n",
    "print(\"Accuracy:\",(accuracy_score(y_test,y_pred_ada_rand)))\n",
    "print(\"F1 Score:\", (f1_score(y_test, y_pred_ada_rand)))"
   ]
  },
  {
   "cell_type": "markdown",
   "id": "9367bd62",
   "metadata": {},
   "source": [
    "## Comparing the results for Ada Boost obtained from Grid Search and Random Search:\n",
    "\n",
    "| Metric                | Precision (Class 0) | Precision (Class 1) | Recall (Class 0) | Recall (Class 1) | F1 Score (Class 0) | F1 Score (Class 1) | Accuracy |\n",
    "|-----------------------|----------------------|----------------------|------------------|------------------|--------------------|--------------------|----------|\n",
    "| Random Search AdaBoost | 0.76                 | 0.79                 | 0.81             | 0.75             | 0.78               | 0.77               | 0.78     |\n",
    "| Grid Search AdaBoost   | 0.76                 | 0.79                 | 0.81             | 0.75             | 0.78               | 0.77               | 0.78     |\n",
    "\n",
    "\n",
    "\n",
    "In summary, both Random Search and Grid Search for AdaBoost produce highly similar results with an F1 score of around 0.78, indicating balanced precision and recall for both classes. The model exhibits balanced classification performance without a significant difference between the two hyperparameter tuning methods. Therefore, the choice between Random Search and Grid Search for AdaBoost might come down to other factors such as computational efficiency or specific tuning objectives."
   ]
  },
  {
   "cell_type": "markdown",
   "id": "5162286e",
   "metadata": {},
   "source": [
    "# Gradient boosting with hyperparameter tuning"
   ]
  },
  {
   "cell_type": "markdown",
   "id": "bc58de34",
   "metadata": {},
   "source": [
    "#### Gradient boosting Grid Search"
   ]
  },
  {
   "cell_type": "code",
   "execution_count": 109,
   "id": "3e51b2f0",
   "metadata": {},
   "outputs": [],
   "source": [
    "# Hyperparameters for Gradient Boosting\n",
    "param_grid = {\n",
    "    'n_estimators': [50, 100, 200],\n",
    "    'learning_rate': [0.01, 0.1, 1.0],\n",
    "    'max_depth': [3, 4, 5],\n",
    "}"
   ]
  },
  {
   "cell_type": "code",
   "execution_count": 110,
   "id": "b52f42a6",
   "metadata": {},
   "outputs": [],
   "source": [
    "gb_classifier = GradientBoostingClassifier()"
   ]
  },
  {
   "cell_type": "code",
   "execution_count": 111,
   "id": "1d245f11",
   "metadata": {},
   "outputs": [],
   "source": [
    "grid_search_gb = GridSearchCV(gb_classifier, param_grid, cv=5,scoring='f1', verbose = 3)"
   ]
  },
  {
   "cell_type": "code",
   "execution_count": 112,
   "id": "17229dc1",
   "metadata": {},
   "outputs": [
    {
     "name": "stdout",
     "output_type": "stream",
     "text": [
      "Fitting 5 folds for each of 27 candidates, totalling 135 fits\n",
      "[CV 1/5] END learning_rate=0.01, max_depth=3, n_estimators=50;, score=0.698 total time=  13.3s\n",
      "[CV 2/5] END learning_rate=0.01, max_depth=3, n_estimators=50;, score=0.703 total time=  14.0s\n",
      "[CV 3/5] END learning_rate=0.01, max_depth=3, n_estimators=50;, score=0.702 total time=  14.1s\n",
      "[CV 4/5] END learning_rate=0.01, max_depth=3, n_estimators=50;, score=0.716 total time=  13.4s\n",
      "[CV 5/5] END learning_rate=0.01, max_depth=3, n_estimators=50;, score=0.712 total time=  13.3s\n",
      "[CV 1/5] END learning_rate=0.01, max_depth=3, n_estimators=100;, score=0.699 total time=  28.7s\n",
      "[CV 2/5] END learning_rate=0.01, max_depth=3, n_estimators=100;, score=0.696 total time=  27.4s\n",
      "[CV 3/5] END learning_rate=0.01, max_depth=3, n_estimators=100;, score=0.707 total time=  26.5s\n",
      "[CV 4/5] END learning_rate=0.01, max_depth=3, n_estimators=100;, score=0.712 total time=  26.5s\n",
      "[CV 5/5] END learning_rate=0.01, max_depth=3, n_estimators=100;, score=0.706 total time=  26.4s\n",
      "[CV 1/5] END learning_rate=0.01, max_depth=3, n_estimators=200;, score=0.735 total time=  53.1s\n",
      "[CV 2/5] END learning_rate=0.01, max_depth=3, n_estimators=200;, score=0.724 total time=  53.9s\n",
      "[CV 3/5] END learning_rate=0.01, max_depth=3, n_estimators=200;, score=0.732 total time=  53.8s\n",
      "[CV 4/5] END learning_rate=0.01, max_depth=3, n_estimators=200;, score=0.734 total time=  53.4s\n",
      "[CV 5/5] END learning_rate=0.01, max_depth=3, n_estimators=200;, score=0.741 total time=  53.2s\n",
      "[CV 1/5] END learning_rate=0.01, max_depth=4, n_estimators=50;, score=0.725 total time=  17.8s\n",
      "[CV 2/5] END learning_rate=0.01, max_depth=4, n_estimators=50;, score=0.707 total time=  17.9s\n",
      "[CV 3/5] END learning_rate=0.01, max_depth=4, n_estimators=50;, score=0.719 total time=  17.9s\n",
      "[CV 4/5] END learning_rate=0.01, max_depth=4, n_estimators=50;, score=0.724 total time=  17.9s\n",
      "[CV 5/5] END learning_rate=0.01, max_depth=4, n_estimators=50;, score=0.716 total time=  18.0s\n",
      "[CV 1/5] END learning_rate=0.01, max_depth=4, n_estimators=100;, score=0.728 total time=  36.4s\n",
      "[CV 2/5] END learning_rate=0.01, max_depth=4, n_estimators=100;, score=0.722 total time=  36.0s\n",
      "[CV 3/5] END learning_rate=0.01, max_depth=4, n_estimators=100;, score=0.729 total time=  37.6s\n",
      "[CV 4/5] END learning_rate=0.01, max_depth=4, n_estimators=100;, score=0.737 total time=  35.8s\n",
      "[CV 5/5] END learning_rate=0.01, max_depth=4, n_estimators=100;, score=0.739 total time=  36.2s\n",
      "[CV 1/5] END learning_rate=0.01, max_depth=4, n_estimators=200;, score=0.748 total time= 1.2min\n",
      "[CV 2/5] END learning_rate=0.01, max_depth=4, n_estimators=200;, score=0.741 total time= 1.2min\n",
      "[CV 3/5] END learning_rate=0.01, max_depth=4, n_estimators=200;, score=0.746 total time= 1.2min\n",
      "[CV 4/5] END learning_rate=0.01, max_depth=4, n_estimators=200;, score=0.749 total time= 1.2min\n",
      "[CV 5/5] END learning_rate=0.01, max_depth=4, n_estimators=200;, score=0.761 total time= 1.2min\n",
      "[CV 1/5] END learning_rate=0.01, max_depth=5, n_estimators=50;, score=0.736 total time=  22.6s\n",
      "[CV 2/5] END learning_rate=0.01, max_depth=5, n_estimators=50;, score=0.722 total time=  22.7s\n",
      "[CV 3/5] END learning_rate=0.01, max_depth=5, n_estimators=50;, score=0.725 total time=  22.8s\n",
      "[CV 4/5] END learning_rate=0.01, max_depth=5, n_estimators=50;, score=0.730 total time=  22.7s\n",
      "[CV 5/5] END learning_rate=0.01, max_depth=5, n_estimators=50;, score=0.733 total time=  22.8s\n",
      "[CV 1/5] END learning_rate=0.01, max_depth=5, n_estimators=100;, score=0.740 total time=  45.4s\n",
      "[CV 2/5] END learning_rate=0.01, max_depth=5, n_estimators=100;, score=0.738 total time=  45.1s\n",
      "[CV 3/5] END learning_rate=0.01, max_depth=5, n_estimators=100;, score=0.739 total time=  45.1s\n",
      "[CV 4/5] END learning_rate=0.01, max_depth=5, n_estimators=100;, score=0.746 total time=  45.0s\n",
      "[CV 5/5] END learning_rate=0.01, max_depth=5, n_estimators=100;, score=0.752 total time=  45.1s\n",
      "[CV 1/5] END learning_rate=0.01, max_depth=5, n_estimators=200;, score=0.758 total time= 1.5min\n",
      "[CV 2/5] END learning_rate=0.01, max_depth=5, n_estimators=200;, score=0.750 total time= 1.5min\n",
      "[CV 3/5] END learning_rate=0.01, max_depth=5, n_estimators=200;, score=0.755 total time= 1.5min\n",
      "[CV 4/5] END learning_rate=0.01, max_depth=5, n_estimators=200;, score=0.757 total time= 1.5min\n",
      "[CV 5/5] END learning_rate=0.01, max_depth=5, n_estimators=200;, score=0.770 total time= 1.5min\n",
      "[CV 1/5] END learning_rate=0.1, max_depth=3, n_estimators=50;, score=0.769 total time=  13.0s\n",
      "[CV 2/5] END learning_rate=0.1, max_depth=3, n_estimators=50;, score=0.754 total time=  13.2s\n",
      "[CV 3/5] END learning_rate=0.1, max_depth=3, n_estimators=50;, score=0.766 total time=  13.0s\n",
      "[CV 4/5] END learning_rate=0.1, max_depth=3, n_estimators=50;, score=0.755 total time=  13.0s\n",
      "[CV 5/5] END learning_rate=0.1, max_depth=3, n_estimators=50;, score=0.776 total time=  13.0s\n",
      "[CV 1/5] END learning_rate=0.1, max_depth=3, n_estimators=100;, score=0.784 total time=  26.0s\n",
      "[CV 2/5] END learning_rate=0.1, max_depth=3, n_estimators=100;, score=0.767 total time=  26.1s\n",
      "[CV 3/5] END learning_rate=0.1, max_depth=3, n_estimators=100;, score=0.779 total time=  26.2s\n",
      "[CV 4/5] END learning_rate=0.1, max_depth=3, n_estimators=100;, score=0.774 total time=  26.2s\n",
      "[CV 5/5] END learning_rate=0.1, max_depth=3, n_estimators=100;, score=0.785 total time=  26.0s\n",
      "[CV 1/5] END learning_rate=0.1, max_depth=3, n_estimators=200;, score=0.796 total time=  51.7s\n",
      "[CV 2/5] END learning_rate=0.1, max_depth=3, n_estimators=200;, score=0.781 total time=  52.0s\n",
      "[CV 3/5] END learning_rate=0.1, max_depth=3, n_estimators=200;, score=0.789 total time=  52.0s\n",
      "[CV 4/5] END learning_rate=0.1, max_depth=3, n_estimators=200;, score=0.787 total time=  52.1s\n",
      "[CV 5/5] END learning_rate=0.1, max_depth=3, n_estimators=200;, score=0.796 total time=  51.9s\n",
      "[CV 1/5] END learning_rate=0.1, max_depth=4, n_estimators=50;, score=0.776 total time=  17.7s\n",
      "[CV 2/5] END learning_rate=0.1, max_depth=4, n_estimators=50;, score=0.766 total time=  17.7s\n",
      "[CV 3/5] END learning_rate=0.1, max_depth=4, n_estimators=50;, score=0.775 total time=  17.9s\n",
      "[CV 4/5] END learning_rate=0.1, max_depth=4, n_estimators=50;, score=0.770 total time=  17.7s\n",
      "[CV 5/5] END learning_rate=0.1, max_depth=4, n_estimators=50;, score=0.783 total time=  17.4s\n",
      "[CV 1/5] END learning_rate=0.1, max_depth=4, n_estimators=100;, score=0.792 total time=  34.9s\n",
      "[CV 2/5] END learning_rate=0.1, max_depth=4, n_estimators=100;, score=0.777 total time=  35.4s\n",
      "[CV 3/5] END learning_rate=0.1, max_depth=4, n_estimators=100;, score=0.782 total time=  35.0s\n",
      "[CV 4/5] END learning_rate=0.1, max_depth=4, n_estimators=100;, score=0.781 total time=  34.9s\n",
      "[CV 5/5] END learning_rate=0.1, max_depth=4, n_estimators=100;, score=0.794 total time=  35.2s\n",
      "[CV 1/5] END learning_rate=0.1, max_depth=4, n_estimators=200;, score=0.805 total time= 1.2min\n",
      "[CV 2/5] END learning_rate=0.1, max_depth=4, n_estimators=200;, score=0.792 total time= 1.2min\n",
      "[CV 3/5] END learning_rate=0.1, max_depth=4, n_estimators=200;, score=0.795 total time= 1.2min\n",
      "[CV 4/5] END learning_rate=0.1, max_depth=4, n_estimators=200;, score=0.798 total time= 1.2min\n",
      "[CV 5/5] END learning_rate=0.1, max_depth=4, n_estimators=200;, score=0.809 total time= 1.2min\n",
      "[CV 1/5] END learning_rate=0.1, max_depth=5, n_estimators=50;, score=0.788 total time=  22.3s\n",
      "[CV 2/5] END learning_rate=0.1, max_depth=5, n_estimators=50;, score=0.771 total time=  22.5s\n",
      "[CV 3/5] END learning_rate=0.1, max_depth=5, n_estimators=50;, score=0.783 total time=  22.1s\n",
      "[CV 4/5] END learning_rate=0.1, max_depth=5, n_estimators=50;, score=0.781 total time=  22.6s\n",
      "[CV 5/5] END learning_rate=0.1, max_depth=5, n_estimators=50;, score=0.789 total time=  24.0s\n",
      "[CV 1/5] END learning_rate=0.1, max_depth=5, n_estimators=100;, score=0.799 total time=  44.3s\n",
      "[CV 2/5] END learning_rate=0.1, max_depth=5, n_estimators=100;, score=0.784 total time=  44.1s\n",
      "[CV 3/5] END learning_rate=0.1, max_depth=5, n_estimators=100;, score=0.793 total time=  44.4s\n",
      "[CV 4/5] END learning_rate=0.1, max_depth=5, n_estimators=100;, score=0.794 total time=  44.5s\n",
      "[CV 5/5] END learning_rate=0.1, max_depth=5, n_estimators=100;, score=0.802 total time=  44.3s\n",
      "[CV 1/5] END learning_rate=0.1, max_depth=5, n_estimators=200;, score=0.811 total time= 1.5min\n",
      "[CV 2/5] END learning_rate=0.1, max_depth=5, n_estimators=200;, score=0.796 total time= 1.5min\n",
      "[CV 3/5] END learning_rate=0.1, max_depth=5, n_estimators=200;, score=0.804 total time= 1.5min\n",
      "[CV 4/5] END learning_rate=0.1, max_depth=5, n_estimators=200;, score=0.805 total time= 1.5min\n",
      "[CV 5/5] END learning_rate=0.1, max_depth=5, n_estimators=200;, score=0.817 total time= 1.5min\n",
      "[CV 1/5] END learning_rate=1.0, max_depth=3, n_estimators=50;, score=0.790 total time=  13.0s\n",
      "[CV 2/5] END learning_rate=1.0, max_depth=3, n_estimators=50;, score=0.781 total time=  13.1s\n",
      "[CV 3/5] END learning_rate=1.0, max_depth=3, n_estimators=50;, score=0.784 total time=  13.1s\n",
      "[CV 4/5] END learning_rate=1.0, max_depth=3, n_estimators=50;, score=0.789 total time=  13.1s\n",
      "[CV 5/5] END learning_rate=1.0, max_depth=3, n_estimators=50;, score=0.798 total time=  12.9s\n",
      "[CV 1/5] END learning_rate=1.0, max_depth=3, n_estimators=100;, score=0.804 total time=  26.4s\n",
      "[CV 2/5] END learning_rate=1.0, max_depth=3, n_estimators=100;, score=0.786 total time=  26.4s\n",
      "[CV 3/5] END learning_rate=1.0, max_depth=3, n_estimators=100;, score=0.793 total time=  26.0s\n",
      "[CV 4/5] END learning_rate=1.0, max_depth=3, n_estimators=100;, score=0.795 total time=  26.0s\n",
      "[CV 5/5] END learning_rate=1.0, max_depth=3, n_estimators=100;, score=0.801 total time=  25.9s\n",
      "[CV 1/5] END learning_rate=1.0, max_depth=3, n_estimators=200;, score=0.804 total time=  52.1s\n",
      "[CV 2/5] END learning_rate=1.0, max_depth=3, n_estimators=200;, score=0.786 total time=  52.0s\n",
      "[CV 3/5] END learning_rate=1.0, max_depth=3, n_estimators=200;, score=0.790 total time=  52.0s\n",
      "[CV 4/5] END learning_rate=1.0, max_depth=3, n_estimators=200;, score=0.796 total time=  51.8s\n",
      "[CV 5/5] END learning_rate=1.0, max_depth=3, n_estimators=200;, score=0.806 total time=  52.5s\n",
      "[CV 1/5] END learning_rate=1.0, max_depth=4, n_estimators=50;, score=0.803 total time=  17.5s\n",
      "[CV 2/5] END learning_rate=1.0, max_depth=4, n_estimators=50;, score=0.784 total time=  17.3s\n",
      "[CV 3/5] END learning_rate=1.0, max_depth=4, n_estimators=50;, score=0.789 total time=  17.3s\n",
      "[CV 4/5] END learning_rate=1.0, max_depth=4, n_estimators=50;, score=0.782 total time=  17.2s\n",
      "[CV 5/5] END learning_rate=1.0, max_depth=4, n_estimators=50;, score=0.795 total time=  17.1s\n",
      "[CV 1/5] END learning_rate=1.0, max_depth=4, n_estimators=100;, score=0.806 total time=  34.5s\n",
      "[CV 2/5] END learning_rate=1.0, max_depth=4, n_estimators=100;, score=0.790 total time=  34.5s\n",
      "[CV 3/5] END learning_rate=1.0, max_depth=4, n_estimators=100;, score=0.790 total time=  34.5s\n",
      "[CV 4/5] END learning_rate=1.0, max_depth=4, n_estimators=100;, score=0.794 total time=  34.5s\n",
      "[CV 5/5] END learning_rate=1.0, max_depth=4, n_estimators=100;, score=0.800 total time=  34.6s\n",
      "[CV 1/5] END learning_rate=1.0, max_depth=4, n_estimators=200;, score=0.797 total time= 1.2min\n",
      "[CV 2/5] END learning_rate=1.0, max_depth=4, n_estimators=200;, score=0.794 total time= 1.2min\n",
      "[CV 3/5] END learning_rate=1.0, max_depth=4, n_estimators=200;, score=0.788 total time= 1.2min\n",
      "[CV 4/5] END learning_rate=1.0, max_depth=4, n_estimators=200;, score=0.789 total time= 1.2min\n",
      "[CV 5/5] END learning_rate=1.0, max_depth=4, n_estimators=200;, score=0.801 total time= 1.2min\n",
      "[CV 1/5] END learning_rate=1.0, max_depth=5, n_estimators=50;, score=0.800 total time=  23.3s\n",
      "[CV 2/5] END learning_rate=1.0, max_depth=5, n_estimators=50;, score=0.787 total time=  22.4s\n",
      "[CV 3/5] END learning_rate=1.0, max_depth=5, n_estimators=50;, score=0.792 total time=  22.0s\n",
      "[CV 4/5] END learning_rate=1.0, max_depth=5, n_estimators=50;, score=0.790 total time=  21.9s\n",
      "[CV 5/5] END learning_rate=1.0, max_depth=5, n_estimators=50;, score=0.799 total time=  21.9s\n",
      "[CV 1/5] END learning_rate=1.0, max_depth=5, n_estimators=100;, score=0.800 total time=  43.5s\n",
      "[CV 2/5] END learning_rate=1.0, max_depth=5, n_estimators=100;, score=0.790 total time=  43.7s\n",
      "[CV 3/5] END learning_rate=1.0, max_depth=5, n_estimators=100;, score=0.790 total time=  43.7s\n",
      "[CV 4/5] END learning_rate=1.0, max_depth=5, n_estimators=100;, score=0.790 total time=  44.1s\n",
      "[CV 5/5] END learning_rate=1.0, max_depth=5, n_estimators=100;, score=0.797 total time=  43.7s\n",
      "[CV 1/5] END learning_rate=1.0, max_depth=5, n_estimators=200;, score=0.806 total time= 1.5min\n",
      "[CV 2/5] END learning_rate=1.0, max_depth=5, n_estimators=200;, score=0.791 total time= 1.5min\n",
      "[CV 3/5] END learning_rate=1.0, max_depth=5, n_estimators=200;, score=0.794 total time= 1.5min\n",
      "[CV 4/5] END learning_rate=1.0, max_depth=5, n_estimators=200;, score=0.790 total time= 1.5min\n",
      "[CV 5/5] END learning_rate=1.0, max_depth=5, n_estimators=200;, score=0.797 total time= 1.4min\n"
     ]
    },
    {
     "data": {
      "text/html": [
       "<style>#sk-container-id-16 {color: black;}#sk-container-id-16 pre{padding: 0;}#sk-container-id-16 div.sk-toggleable {background-color: white;}#sk-container-id-16 label.sk-toggleable__label {cursor: pointer;display: block;width: 100%;margin-bottom: 0;padding: 0.3em;box-sizing: border-box;text-align: center;}#sk-container-id-16 label.sk-toggleable__label-arrow:before {content: \"▸\";float: left;margin-right: 0.25em;color: #696969;}#sk-container-id-16 label.sk-toggleable__label-arrow:hover:before {color: black;}#sk-container-id-16 div.sk-estimator:hover label.sk-toggleable__label-arrow:before {color: black;}#sk-container-id-16 div.sk-toggleable__content {max-height: 0;max-width: 0;overflow: hidden;text-align: left;background-color: #f0f8ff;}#sk-container-id-16 div.sk-toggleable__content pre {margin: 0.2em;color: black;border-radius: 0.25em;background-color: #f0f8ff;}#sk-container-id-16 input.sk-toggleable__control:checked~div.sk-toggleable__content {max-height: 200px;max-width: 100%;overflow: auto;}#sk-container-id-16 input.sk-toggleable__control:checked~label.sk-toggleable__label-arrow:before {content: \"▾\";}#sk-container-id-16 div.sk-estimator input.sk-toggleable__control:checked~label.sk-toggleable__label {background-color: #d4ebff;}#sk-container-id-16 div.sk-label input.sk-toggleable__control:checked~label.sk-toggleable__label {background-color: #d4ebff;}#sk-container-id-16 input.sk-hidden--visually {border: 0;clip: rect(1px 1px 1px 1px);clip: rect(1px, 1px, 1px, 1px);height: 1px;margin: -1px;overflow: hidden;padding: 0;position: absolute;width: 1px;}#sk-container-id-16 div.sk-estimator {font-family: monospace;background-color: #f0f8ff;border: 1px dotted black;border-radius: 0.25em;box-sizing: border-box;margin-bottom: 0.5em;}#sk-container-id-16 div.sk-estimator:hover {background-color: #d4ebff;}#sk-container-id-16 div.sk-parallel-item::after {content: \"\";width: 100%;border-bottom: 1px solid gray;flex-grow: 1;}#sk-container-id-16 div.sk-label:hover label.sk-toggleable__label {background-color: #d4ebff;}#sk-container-id-16 div.sk-serial::before {content: \"\";position: absolute;border-left: 1px solid gray;box-sizing: border-box;top: 0;bottom: 0;left: 50%;z-index: 0;}#sk-container-id-16 div.sk-serial {display: flex;flex-direction: column;align-items: center;background-color: white;padding-right: 0.2em;padding-left: 0.2em;position: relative;}#sk-container-id-16 div.sk-item {position: relative;z-index: 1;}#sk-container-id-16 div.sk-parallel {display: flex;align-items: stretch;justify-content: center;background-color: white;position: relative;}#sk-container-id-16 div.sk-item::before, #sk-container-id-16 div.sk-parallel-item::before {content: \"\";position: absolute;border-left: 1px solid gray;box-sizing: border-box;top: 0;bottom: 0;left: 50%;z-index: -1;}#sk-container-id-16 div.sk-parallel-item {display: flex;flex-direction: column;z-index: 1;position: relative;background-color: white;}#sk-container-id-16 div.sk-parallel-item:first-child::after {align-self: flex-end;width: 50%;}#sk-container-id-16 div.sk-parallel-item:last-child::after {align-self: flex-start;width: 50%;}#sk-container-id-16 div.sk-parallel-item:only-child::after {width: 0;}#sk-container-id-16 div.sk-dashed-wrapped {border: 1px dashed gray;margin: 0 0.4em 0.5em 0.4em;box-sizing: border-box;padding-bottom: 0.4em;background-color: white;}#sk-container-id-16 div.sk-label label {font-family: monospace;font-weight: bold;display: inline-block;line-height: 1.2em;}#sk-container-id-16 div.sk-label-container {text-align: center;}#sk-container-id-16 div.sk-container {/* jupyter's `normalize.less` sets `[hidden] { display: none; }` but bootstrap.min.css set `[hidden] { display: none !important; }` so we also need the `!important` here to be able to override the default hidden behavior on the sphinx rendered scikit-learn.org. See: https://github.com/scikit-learn/scikit-learn/issues/21755 */display: inline-block !important;position: relative;}#sk-container-id-16 div.sk-text-repr-fallback {display: none;}</style><div id=\"sk-container-id-16\" class=\"sk-top-container\"><div class=\"sk-text-repr-fallback\"><pre>GridSearchCV(cv=5, estimator=GradientBoostingClassifier(),\n",
       "             param_grid={&#x27;learning_rate&#x27;: [0.01, 0.1, 1.0],\n",
       "                         &#x27;max_depth&#x27;: [3, 4, 5],\n",
       "                         &#x27;n_estimators&#x27;: [50, 100, 200]},\n",
       "             scoring=&#x27;f1&#x27;, verbose=3)</pre><b>In a Jupyter environment, please rerun this cell to show the HTML representation or trust the notebook. <br />On GitHub, the HTML representation is unable to render, please try loading this page with nbviewer.org.</b></div><div class=\"sk-container\" hidden><div class=\"sk-item sk-dashed-wrapped\"><div class=\"sk-label-container\"><div class=\"sk-label sk-toggleable\"><input class=\"sk-toggleable__control sk-hidden--visually\" id=\"sk-estimator-id-46\" type=\"checkbox\" ><label for=\"sk-estimator-id-46\" class=\"sk-toggleable__label sk-toggleable__label-arrow\">GridSearchCV</label><div class=\"sk-toggleable__content\"><pre>GridSearchCV(cv=5, estimator=GradientBoostingClassifier(),\n",
       "             param_grid={&#x27;learning_rate&#x27;: [0.01, 0.1, 1.0],\n",
       "                         &#x27;max_depth&#x27;: [3, 4, 5],\n",
       "                         &#x27;n_estimators&#x27;: [50, 100, 200]},\n",
       "             scoring=&#x27;f1&#x27;, verbose=3)</pre></div></div></div><div class=\"sk-parallel\"><div class=\"sk-parallel-item\"><div class=\"sk-item\"><div class=\"sk-label-container\"><div class=\"sk-label sk-toggleable\"><input class=\"sk-toggleable__control sk-hidden--visually\" id=\"sk-estimator-id-47\" type=\"checkbox\" ><label for=\"sk-estimator-id-47\" class=\"sk-toggleable__label sk-toggleable__label-arrow\">estimator: GradientBoostingClassifier</label><div class=\"sk-toggleable__content\"><pre>GradientBoostingClassifier()</pre></div></div></div><div class=\"sk-serial\"><div class=\"sk-item\"><div class=\"sk-estimator sk-toggleable\"><input class=\"sk-toggleable__control sk-hidden--visually\" id=\"sk-estimator-id-48\" type=\"checkbox\" ><label for=\"sk-estimator-id-48\" class=\"sk-toggleable__label sk-toggleable__label-arrow\">GradientBoostingClassifier</label><div class=\"sk-toggleable__content\"><pre>GradientBoostingClassifier()</pre></div></div></div></div></div></div></div></div></div></div>"
      ],
      "text/plain": [
       "GridSearchCV(cv=5, estimator=GradientBoostingClassifier(),\n",
       "             param_grid={'learning_rate': [0.01, 0.1, 1.0],\n",
       "                         'max_depth': [3, 4, 5],\n",
       "                         'n_estimators': [50, 100, 200]},\n",
       "             scoring='f1', verbose=3)"
      ]
     },
     "execution_count": 112,
     "metadata": {},
     "output_type": "execute_result"
    }
   ],
   "source": [
    "grid_search_gb.fit(X_train_mm_scaled, y_train)"
   ]
  },
  {
   "cell_type": "code",
   "execution_count": 113,
   "id": "f9660ca3",
   "metadata": {},
   "outputs": [
    {
     "name": "stdout",
     "output_type": "stream",
     "text": [
      "{'learning_rate': 0.1, 'max_depth': 5, 'n_estimators': 200}\n"
     ]
    }
   ],
   "source": [
    "print(grid_search_gb.best_params_)"
   ]
  },
  {
   "cell_type": "code",
   "execution_count": 114,
   "id": "0014fed8",
   "metadata": {},
   "outputs": [],
   "source": [
    "y_pred_g_grid = grid_search_gb.predict(X_test_mm_scaled)"
   ]
  },
  {
   "cell_type": "code",
   "execution_count": 115,
   "id": "1cf26df8",
   "metadata": {},
   "outputs": [
    {
     "name": "stdout",
     "output_type": "stream",
     "text": [
      "              precision    recall  f1-score   support\n",
      "\n",
      "           0       0.80      0.85      0.83      7013\n",
      "           1       0.84      0.79      0.81      7006\n",
      "\n",
      "    accuracy                           0.82     14019\n",
      "   macro avg       0.82      0.82      0.82     14019\n",
      "weighted avg       0.82      0.82      0.82     14019\n",
      "\n",
      "[[5984 1029]\n",
      " [1483 5523]]\n",
      "Accuracy: 0.8208146087452742\n",
      "F1 Score: 0.8147219353887004\n"
     ]
    }
   ],
   "source": [
    "## Printing classification report, confusion matrix, and accuracy of the best parameter.\n",
    "print(classification_report(y_test,y_pred_g_grid))\n",
    "print(confusion_matrix(y_test,y_pred_g_grid))\n",
    "print(\"Accuracy:\",(accuracy_score(y_test,y_pred_g_grid)))\n",
    "print(\"F1 Score:\", (f1_score(y_test, y_pred_g_grid)))"
   ]
  },
  {
   "cell_type": "markdown",
   "id": "fa99f192",
   "metadata": {},
   "source": [
    "### Gradient boosting Random SearchCV"
   ]
  },
  {
   "cell_type": "code",
   "execution_count": 116,
   "id": "f8783ea7",
   "metadata": {},
   "outputs": [],
   "source": [
    "random_search_gd= RandomizedSearchCV(estimator=gb_classifier, param_distributions=param_grid, n_iter=10, scoring='f1', cv=5, verbose = 3)"
   ]
  },
  {
   "cell_type": "code",
   "execution_count": 117,
   "id": "8c5979df",
   "metadata": {},
   "outputs": [
    {
     "name": "stdout",
     "output_type": "stream",
     "text": [
      "Fitting 5 folds for each of 10 candidates, totalling 50 fits\n",
      "[CV 1/5] END learning_rate=0.01, max_depth=4, n_estimators=200;, score=0.748 total time= 1.2min\n",
      "[CV 2/5] END learning_rate=0.01, max_depth=4, n_estimators=200;, score=0.741 total time= 1.2min\n",
      "[CV 3/5] END learning_rate=0.01, max_depth=4, n_estimators=200;, score=0.745 total time= 1.2min\n",
      "[CV 4/5] END learning_rate=0.01, max_depth=4, n_estimators=200;, score=0.749 total time= 1.3min\n",
      "[CV 5/5] END learning_rate=0.01, max_depth=4, n_estimators=200;, score=0.761 total time= 1.2min\n",
      "[CV 1/5] END learning_rate=0.1, max_depth=4, n_estimators=50;, score=0.777 total time=  17.3s\n",
      "[CV 2/5] END learning_rate=0.1, max_depth=4, n_estimators=50;, score=0.766 total time=  17.3s\n",
      "[CV 3/5] END learning_rate=0.1, max_depth=4, n_estimators=50;, score=0.775 total time=  17.3s\n",
      "[CV 4/5] END learning_rate=0.1, max_depth=4, n_estimators=50;, score=0.770 total time=  17.4s\n",
      "[CV 5/5] END learning_rate=0.1, max_depth=4, n_estimators=50;, score=0.783 total time=  17.3s\n",
      "[CV 1/5] END learning_rate=0.01, max_depth=4, n_estimators=100;, score=0.728 total time=  34.9s\n",
      "[CV 2/5] END learning_rate=0.01, max_depth=4, n_estimators=100;, score=0.722 total time=  35.3s\n",
      "[CV 3/5] END learning_rate=0.01, max_depth=4, n_estimators=100;, score=0.729 total time=  35.2s\n",
      "[CV 4/5] END learning_rate=0.01, max_depth=4, n_estimators=100;, score=0.737 total time=  35.3s\n",
      "[CV 5/5] END learning_rate=0.01, max_depth=4, n_estimators=100;, score=0.739 total time=  35.5s\n",
      "[CV 1/5] END learning_rate=0.01, max_depth=4, n_estimators=50;, score=0.725 total time=  17.7s\n",
      "[CV 2/5] END learning_rate=0.01, max_depth=4, n_estimators=50;, score=0.707 total time=  17.7s\n",
      "[CV 3/5] END learning_rate=0.01, max_depth=4, n_estimators=50;, score=0.719 total time=  17.4s\n",
      "[CV 4/5] END learning_rate=0.01, max_depth=4, n_estimators=50;, score=0.724 total time=  17.6s\n",
      "[CV 5/5] END learning_rate=0.01, max_depth=4, n_estimators=50;, score=0.716 total time=  17.4s\n",
      "[CV 1/5] END learning_rate=0.1, max_depth=4, n_estimators=100;, score=0.792 total time=  34.5s\n",
      "[CV 2/5] END learning_rate=0.1, max_depth=4, n_estimators=100;, score=0.778 total time=  34.6s\n",
      "[CV 3/5] END learning_rate=0.1, max_depth=4, n_estimators=100;, score=0.782 total time=  34.4s\n",
      "[CV 4/5] END learning_rate=0.1, max_depth=4, n_estimators=100;, score=0.781 total time=  34.7s\n",
      "[CV 5/5] END learning_rate=0.1, max_depth=4, n_estimators=100;, score=0.794 total time=  34.4s\n",
      "[CV 1/5] END learning_rate=1.0, max_depth=4, n_estimators=200;, score=0.797 total time= 1.1min\n",
      "[CV 2/5] END learning_rate=1.0, max_depth=4, n_estimators=200;, score=0.794 total time= 1.1min\n",
      "[CV 3/5] END learning_rate=1.0, max_depth=4, n_estimators=200;, score=0.789 total time= 1.1min\n",
      "[CV 4/5] END learning_rate=1.0, max_depth=4, n_estimators=200;, score=0.789 total time= 1.1min\n",
      "[CV 5/5] END learning_rate=1.0, max_depth=4, n_estimators=200;, score=0.800 total time= 1.1min\n",
      "[CV 1/5] END learning_rate=0.01, max_depth=3, n_estimators=100;, score=0.699 total time=  25.8s\n",
      "[CV 2/5] END learning_rate=0.01, max_depth=3, n_estimators=100;, score=0.696 total time=  26.0s\n",
      "[CV 3/5] END learning_rate=0.01, max_depth=3, n_estimators=100;, score=0.707 total time=  25.7s\n",
      "[CV 4/5] END learning_rate=0.01, max_depth=3, n_estimators=100;, score=0.712 total time=  25.8s\n",
      "[CV 5/5] END learning_rate=0.01, max_depth=3, n_estimators=100;, score=0.706 total time=  25.9s\n",
      "[CV 1/5] END learning_rate=0.01, max_depth=5, n_estimators=50;, score=0.736 total time=  22.0s\n",
      "[CV 2/5] END learning_rate=0.01, max_depth=5, n_estimators=50;, score=0.722 total time=  22.1s\n",
      "[CV 3/5] END learning_rate=0.01, max_depth=5, n_estimators=50;, score=0.725 total time=  22.2s\n",
      "[CV 4/5] END learning_rate=0.01, max_depth=5, n_estimators=50;, score=0.730 total time=  22.0s\n",
      "[CV 5/5] END learning_rate=0.01, max_depth=5, n_estimators=50;, score=0.733 total time=  22.1s\n",
      "[CV 1/5] END learning_rate=0.01, max_depth=5, n_estimators=100;, score=0.740 total time=  44.3s\n",
      "[CV 2/5] END learning_rate=0.01, max_depth=5, n_estimators=100;, score=0.738 total time=  43.9s\n",
      "[CV 3/5] END learning_rate=0.01, max_depth=5, n_estimators=100;, score=0.739 total time=  44.0s\n",
      "[CV 4/5] END learning_rate=0.01, max_depth=5, n_estimators=100;, score=0.746 total time=  44.0s\n",
      "[CV 5/5] END learning_rate=0.01, max_depth=5, n_estimators=100;, score=0.752 total time=  43.7s\n",
      "[CV 1/5] END learning_rate=0.1, max_depth=3, n_estimators=50;, score=0.769 total time=  13.2s\n",
      "[CV 2/5] END learning_rate=0.1, max_depth=3, n_estimators=50;, score=0.754 total time=  13.1s\n",
      "[CV 3/5] END learning_rate=0.1, max_depth=3, n_estimators=50;, score=0.766 total time=  12.9s\n",
      "[CV 4/5] END learning_rate=0.1, max_depth=3, n_estimators=50;, score=0.755 total time=  13.1s\n",
      "[CV 5/5] END learning_rate=0.1, max_depth=3, n_estimators=50;, score=0.776 total time=  12.9s\n"
     ]
    },
    {
     "data": {
      "text/html": [
       "<style>#sk-container-id-17 {color: black;}#sk-container-id-17 pre{padding: 0;}#sk-container-id-17 div.sk-toggleable {background-color: white;}#sk-container-id-17 label.sk-toggleable__label {cursor: pointer;display: block;width: 100%;margin-bottom: 0;padding: 0.3em;box-sizing: border-box;text-align: center;}#sk-container-id-17 label.sk-toggleable__label-arrow:before {content: \"▸\";float: left;margin-right: 0.25em;color: #696969;}#sk-container-id-17 label.sk-toggleable__label-arrow:hover:before {color: black;}#sk-container-id-17 div.sk-estimator:hover label.sk-toggleable__label-arrow:before {color: black;}#sk-container-id-17 div.sk-toggleable__content {max-height: 0;max-width: 0;overflow: hidden;text-align: left;background-color: #f0f8ff;}#sk-container-id-17 div.sk-toggleable__content pre {margin: 0.2em;color: black;border-radius: 0.25em;background-color: #f0f8ff;}#sk-container-id-17 input.sk-toggleable__control:checked~div.sk-toggleable__content {max-height: 200px;max-width: 100%;overflow: auto;}#sk-container-id-17 input.sk-toggleable__control:checked~label.sk-toggleable__label-arrow:before {content: \"▾\";}#sk-container-id-17 div.sk-estimator input.sk-toggleable__control:checked~label.sk-toggleable__label {background-color: #d4ebff;}#sk-container-id-17 div.sk-label input.sk-toggleable__control:checked~label.sk-toggleable__label {background-color: #d4ebff;}#sk-container-id-17 input.sk-hidden--visually {border: 0;clip: rect(1px 1px 1px 1px);clip: rect(1px, 1px, 1px, 1px);height: 1px;margin: -1px;overflow: hidden;padding: 0;position: absolute;width: 1px;}#sk-container-id-17 div.sk-estimator {font-family: monospace;background-color: #f0f8ff;border: 1px dotted black;border-radius: 0.25em;box-sizing: border-box;margin-bottom: 0.5em;}#sk-container-id-17 div.sk-estimator:hover {background-color: #d4ebff;}#sk-container-id-17 div.sk-parallel-item::after {content: \"\";width: 100%;border-bottom: 1px solid gray;flex-grow: 1;}#sk-container-id-17 div.sk-label:hover label.sk-toggleable__label {background-color: #d4ebff;}#sk-container-id-17 div.sk-serial::before {content: \"\";position: absolute;border-left: 1px solid gray;box-sizing: border-box;top: 0;bottom: 0;left: 50%;z-index: 0;}#sk-container-id-17 div.sk-serial {display: flex;flex-direction: column;align-items: center;background-color: white;padding-right: 0.2em;padding-left: 0.2em;position: relative;}#sk-container-id-17 div.sk-item {position: relative;z-index: 1;}#sk-container-id-17 div.sk-parallel {display: flex;align-items: stretch;justify-content: center;background-color: white;position: relative;}#sk-container-id-17 div.sk-item::before, #sk-container-id-17 div.sk-parallel-item::before {content: \"\";position: absolute;border-left: 1px solid gray;box-sizing: border-box;top: 0;bottom: 0;left: 50%;z-index: -1;}#sk-container-id-17 div.sk-parallel-item {display: flex;flex-direction: column;z-index: 1;position: relative;background-color: white;}#sk-container-id-17 div.sk-parallel-item:first-child::after {align-self: flex-end;width: 50%;}#sk-container-id-17 div.sk-parallel-item:last-child::after {align-self: flex-start;width: 50%;}#sk-container-id-17 div.sk-parallel-item:only-child::after {width: 0;}#sk-container-id-17 div.sk-dashed-wrapped {border: 1px dashed gray;margin: 0 0.4em 0.5em 0.4em;box-sizing: border-box;padding-bottom: 0.4em;background-color: white;}#sk-container-id-17 div.sk-label label {font-family: monospace;font-weight: bold;display: inline-block;line-height: 1.2em;}#sk-container-id-17 div.sk-label-container {text-align: center;}#sk-container-id-17 div.sk-container {/* jupyter's `normalize.less` sets `[hidden] { display: none; }` but bootstrap.min.css set `[hidden] { display: none !important; }` so we also need the `!important` here to be able to override the default hidden behavior on the sphinx rendered scikit-learn.org. See: https://github.com/scikit-learn/scikit-learn/issues/21755 */display: inline-block !important;position: relative;}#sk-container-id-17 div.sk-text-repr-fallback {display: none;}</style><div id=\"sk-container-id-17\" class=\"sk-top-container\"><div class=\"sk-text-repr-fallback\"><pre>RandomizedSearchCV(cv=5, estimator=GradientBoostingClassifier(),\n",
       "                   param_distributions={&#x27;learning_rate&#x27;: [0.01, 0.1, 1.0],\n",
       "                                        &#x27;max_depth&#x27;: [3, 4, 5],\n",
       "                                        &#x27;n_estimators&#x27;: [50, 100, 200]},\n",
       "                   scoring=&#x27;f1&#x27;, verbose=3)</pre><b>In a Jupyter environment, please rerun this cell to show the HTML representation or trust the notebook. <br />On GitHub, the HTML representation is unable to render, please try loading this page with nbviewer.org.</b></div><div class=\"sk-container\" hidden><div class=\"sk-item sk-dashed-wrapped\"><div class=\"sk-label-container\"><div class=\"sk-label sk-toggleable\"><input class=\"sk-toggleable__control sk-hidden--visually\" id=\"sk-estimator-id-49\" type=\"checkbox\" ><label for=\"sk-estimator-id-49\" class=\"sk-toggleable__label sk-toggleable__label-arrow\">RandomizedSearchCV</label><div class=\"sk-toggleable__content\"><pre>RandomizedSearchCV(cv=5, estimator=GradientBoostingClassifier(),\n",
       "                   param_distributions={&#x27;learning_rate&#x27;: [0.01, 0.1, 1.0],\n",
       "                                        &#x27;max_depth&#x27;: [3, 4, 5],\n",
       "                                        &#x27;n_estimators&#x27;: [50, 100, 200]},\n",
       "                   scoring=&#x27;f1&#x27;, verbose=3)</pre></div></div></div><div class=\"sk-parallel\"><div class=\"sk-parallel-item\"><div class=\"sk-item\"><div class=\"sk-label-container\"><div class=\"sk-label sk-toggleable\"><input class=\"sk-toggleable__control sk-hidden--visually\" id=\"sk-estimator-id-50\" type=\"checkbox\" ><label for=\"sk-estimator-id-50\" class=\"sk-toggleable__label sk-toggleable__label-arrow\">estimator: GradientBoostingClassifier</label><div class=\"sk-toggleable__content\"><pre>GradientBoostingClassifier()</pre></div></div></div><div class=\"sk-serial\"><div class=\"sk-item\"><div class=\"sk-estimator sk-toggleable\"><input class=\"sk-toggleable__control sk-hidden--visually\" id=\"sk-estimator-id-51\" type=\"checkbox\" ><label for=\"sk-estimator-id-51\" class=\"sk-toggleable__label sk-toggleable__label-arrow\">GradientBoostingClassifier</label><div class=\"sk-toggleable__content\"><pre>GradientBoostingClassifier()</pre></div></div></div></div></div></div></div></div></div></div>"
      ],
      "text/plain": [
       "RandomizedSearchCV(cv=5, estimator=GradientBoostingClassifier(),\n",
       "                   param_distributions={'learning_rate': [0.01, 0.1, 1.0],\n",
       "                                        'max_depth': [3, 4, 5],\n",
       "                                        'n_estimators': [50, 100, 200]},\n",
       "                   scoring='f1', verbose=3)"
      ]
     },
     "execution_count": 117,
     "metadata": {},
     "output_type": "execute_result"
    }
   ],
   "source": [
    "random_search_gd.fit(X_train_mm_scaled,y_train)"
   ]
  },
  {
   "cell_type": "code",
   "execution_count": 118,
   "id": "1158a76e",
   "metadata": {},
   "outputs": [
    {
     "name": "stdout",
     "output_type": "stream",
     "text": [
      "Best parameters: {'n_estimators': 200, 'max_depth': 4, 'learning_rate': 1.0}\n"
     ]
    }
   ],
   "source": [
    "## Getting the best parameters\n",
    "print(\"Best parameters:\", random_search_gd.best_params_)"
   ]
  },
  {
   "cell_type": "code",
   "execution_count": 119,
   "id": "fe192628",
   "metadata": {},
   "outputs": [],
   "source": [
    "### Predicting the target value\n",
    "y_pred_gd_rand= random_search_gd.predict(X_test_mm_scaled)"
   ]
  },
  {
   "cell_type": "code",
   "execution_count": 120,
   "id": "0a17735e",
   "metadata": {},
   "outputs": [
    {
     "name": "stdout",
     "output_type": "stream",
     "text": [
      "              precision    recall  f1-score   support\n",
      "\n",
      "           0       0.80      0.81      0.81      7013\n",
      "           1       0.81      0.80      0.81      7006\n",
      "\n",
      "    accuracy                           0.81     14019\n",
      "   macro avg       0.81      0.81      0.81     14019\n",
      "weighted avg       0.81      0.81      0.81     14019\n",
      "\n",
      "[[5711 1302]\n",
      " [1404 5602]]\n",
      "Accuracy: 0.8069762465225765\n",
      "F1 Score: 0.8054636951833214\n"
     ]
    }
   ],
   "source": [
    "## Printing classification report, confusion matrix, and accuracy of the best parameter.\n",
    "print(classification_report(y_test,y_pred_gd_rand))\n",
    "print(confusion_matrix(y_test,y_pred_gd_rand))\n",
    "print(\"Accuracy:\",(accuracy_score(y_test,y_pred_gd_rand)))\n",
    "print(\"F1 Score:\", (f1_score(y_test, y_pred_gd_rand)))"
   ]
  },
  {
   "cell_type": "markdown",
   "id": "ea8db8c8",
   "metadata": {},
   "source": [
    "## Comparing the results for Gradient Boosting obtained from Grid Search and Random Search:\n",
    "\n",
    "| Metric                | Precision (Class 0) | Precision (Class 1) | Recall (Class 0) | Recall (Class 1) | F1-score (Class 0) | F1-score (Class 1) | Accuracy | Overall F1 Score |\n",
    "|-----------------------|---------------------|---------------------|-----------------|-----------------|--------------------|--------------------|----------|------------------|\n",
    "| Random Search         | 0.80                | 0.81                | 0.81            | 0.80            | 0.81               | 0.81               | 0.8069   | 0.8055           |\n",
    "| Grid Search           | 0.80                | 0.84                | 0.85            | 0.79            | 0.83               | 0.81               | 0.8208   | 0.8147           |\n",
    "\n",
    "\n",
    "\n",
    "In the comparison between Random Search and Grid Search for the Gradient Boosting model, Grid Search demonstrates superior performance. Grid Search achieves higher precision, recall, and F1-scores for both classes, resulting in an overall higher accuracy of 0.8208 and an F1 score of 0.8147. These results indicate that Grid Search yields better model performance, particularly in terms of balanced classification for both classes. Therefore, the Grid Search is the recommended choice for this classification task, offering improved accuracy and F1 scores compared to Random Search."
   ]
  },
  {
   "cell_type": "markdown",
   "id": "b994dd15",
   "metadata": {},
   "source": [
    "# Naive Bayes with hyperparameter tuning"
   ]
  },
  {
   "cell_type": "markdown",
   "id": "3f92f9c7",
   "metadata": {},
   "source": [
    "#### Naive Bayes Grid Search"
   ]
  },
  {
   "cell_type": "code",
   "execution_count": 121,
   "id": "5486140b",
   "metadata": {},
   "outputs": [],
   "source": [
    "param_grid = {\n",
    "    'priors': [None, [0.1, 0.9], [0.2, 0.8], [0.3, 0.7], [0.4, 0.6], [0.5, 0.5]]\n",
    "}"
   ]
  },
  {
   "cell_type": "code",
   "execution_count": 122,
   "id": "d7b80a78",
   "metadata": {},
   "outputs": [],
   "source": [
    "nb_classifier = GaussianNB()"
   ]
  },
  {
   "cell_type": "code",
   "execution_count": 123,
   "id": "1f4be61c",
   "metadata": {},
   "outputs": [],
   "source": [
    "grid_search_nb = GridSearchCV(nb_classifier, param_grid, cv=5, scoring='f1', verbose = 3)"
   ]
  },
  {
   "cell_type": "code",
   "execution_count": 124,
   "id": "18b2dd4f",
   "metadata": {
    "scrolled": true
   },
   "outputs": [
    {
     "name": "stdout",
     "output_type": "stream",
     "text": [
      "Fitting 5 folds for each of 6 candidates, totalling 30 fits\n",
      "[CV 1/5] END .......................priors=None;, score=0.696 total time=   0.0s\n",
      "[CV 2/5] END .......................priors=None;, score=0.683 total time=   0.0s\n",
      "[CV 3/5] END .......................priors=None;, score=0.696 total time=   0.0s\n",
      "[CV 4/5] END .......................priors=None;, score=0.690 total time=   0.0s\n",
      "[CV 5/5] END .......................priors=None;, score=0.682 total time=   0.0s\n",
      "[CV 1/5] END .................priors=[0.1, 0.9];, score=0.682 total time=   0.0s\n",
      "[CV 2/5] END .................priors=[0.1, 0.9];, score=0.677 total time=   0.0s\n",
      "[CV 3/5] END .................priors=[0.1, 0.9];, score=0.683 total time=   0.0s\n",
      "[CV 4/5] END .................priors=[0.1, 0.9];, score=0.682 total time=   0.0s\n",
      "[CV 5/5] END .................priors=[0.1, 0.9];, score=0.676 total time=   0.0s\n",
      "[CV 1/5] END .................priors=[0.2, 0.8];, score=0.685 total time=   0.0s\n",
      "[CV 2/5] END .................priors=[0.2, 0.8];, score=0.679 total time=   0.0s\n",
      "[CV 3/5] END .................priors=[0.2, 0.8];, score=0.685 total time=   0.0s\n",
      "[CV 4/5] END .................priors=[0.2, 0.8];, score=0.684 total time=   0.0s\n",
      "[CV 5/5] END .................priors=[0.2, 0.8];, score=0.678 total time=   0.0s\n",
      "[CV 1/5] END .................priors=[0.3, 0.7];, score=0.688 total time=   0.0s\n",
      "[CV 2/5] END .................priors=[0.3, 0.7];, score=0.679 total time=   0.0s\n",
      "[CV 3/5] END .................priors=[0.3, 0.7];, score=0.688 total time=   0.0s\n",
      "[CV 4/5] END .................priors=[0.3, 0.7];, score=0.685 total time=   0.0s\n",
      "[CV 5/5] END .................priors=[0.3, 0.7];, score=0.678 total time=   0.0s\n",
      "[CV 1/5] END .................priors=[0.4, 0.6];, score=0.691 total time=   0.0s\n",
      "[CV 2/5] END .................priors=[0.4, 0.6];, score=0.681 total time=   0.0s\n",
      "[CV 3/5] END .................priors=[0.4, 0.6];, score=0.692 total time=   0.0s\n",
      "[CV 4/5] END .................priors=[0.4, 0.6];, score=0.687 total time=   0.0s\n",
      "[CV 5/5] END .................priors=[0.4, 0.6];, score=0.680 total time=   0.0s\n",
      "[CV 1/5] END .................priors=[0.5, 0.5];, score=0.696 total time=   0.0s\n",
      "[CV 2/5] END .................priors=[0.5, 0.5];, score=0.683 total time=   0.0s\n",
      "[CV 3/5] END .................priors=[0.5, 0.5];, score=0.696 total time=   0.0s\n",
      "[CV 4/5] END .................priors=[0.5, 0.5];, score=0.690 total time=   0.0s\n",
      "[CV 5/5] END .................priors=[0.5, 0.5];, score=0.682 total time=   0.0s\n"
     ]
    },
    {
     "data": {
      "text/html": [
       "<style>#sk-container-id-18 {color: black;}#sk-container-id-18 pre{padding: 0;}#sk-container-id-18 div.sk-toggleable {background-color: white;}#sk-container-id-18 label.sk-toggleable__label {cursor: pointer;display: block;width: 100%;margin-bottom: 0;padding: 0.3em;box-sizing: border-box;text-align: center;}#sk-container-id-18 label.sk-toggleable__label-arrow:before {content: \"▸\";float: left;margin-right: 0.25em;color: #696969;}#sk-container-id-18 label.sk-toggleable__label-arrow:hover:before {color: black;}#sk-container-id-18 div.sk-estimator:hover label.sk-toggleable__label-arrow:before {color: black;}#sk-container-id-18 div.sk-toggleable__content {max-height: 0;max-width: 0;overflow: hidden;text-align: left;background-color: #f0f8ff;}#sk-container-id-18 div.sk-toggleable__content pre {margin: 0.2em;color: black;border-radius: 0.25em;background-color: #f0f8ff;}#sk-container-id-18 input.sk-toggleable__control:checked~div.sk-toggleable__content {max-height: 200px;max-width: 100%;overflow: auto;}#sk-container-id-18 input.sk-toggleable__control:checked~label.sk-toggleable__label-arrow:before {content: \"▾\";}#sk-container-id-18 div.sk-estimator input.sk-toggleable__control:checked~label.sk-toggleable__label {background-color: #d4ebff;}#sk-container-id-18 div.sk-label input.sk-toggleable__control:checked~label.sk-toggleable__label {background-color: #d4ebff;}#sk-container-id-18 input.sk-hidden--visually {border: 0;clip: rect(1px 1px 1px 1px);clip: rect(1px, 1px, 1px, 1px);height: 1px;margin: -1px;overflow: hidden;padding: 0;position: absolute;width: 1px;}#sk-container-id-18 div.sk-estimator {font-family: monospace;background-color: #f0f8ff;border: 1px dotted black;border-radius: 0.25em;box-sizing: border-box;margin-bottom: 0.5em;}#sk-container-id-18 div.sk-estimator:hover {background-color: #d4ebff;}#sk-container-id-18 div.sk-parallel-item::after {content: \"\";width: 100%;border-bottom: 1px solid gray;flex-grow: 1;}#sk-container-id-18 div.sk-label:hover label.sk-toggleable__label {background-color: #d4ebff;}#sk-container-id-18 div.sk-serial::before {content: \"\";position: absolute;border-left: 1px solid gray;box-sizing: border-box;top: 0;bottom: 0;left: 50%;z-index: 0;}#sk-container-id-18 div.sk-serial {display: flex;flex-direction: column;align-items: center;background-color: white;padding-right: 0.2em;padding-left: 0.2em;position: relative;}#sk-container-id-18 div.sk-item {position: relative;z-index: 1;}#sk-container-id-18 div.sk-parallel {display: flex;align-items: stretch;justify-content: center;background-color: white;position: relative;}#sk-container-id-18 div.sk-item::before, #sk-container-id-18 div.sk-parallel-item::before {content: \"\";position: absolute;border-left: 1px solid gray;box-sizing: border-box;top: 0;bottom: 0;left: 50%;z-index: -1;}#sk-container-id-18 div.sk-parallel-item {display: flex;flex-direction: column;z-index: 1;position: relative;background-color: white;}#sk-container-id-18 div.sk-parallel-item:first-child::after {align-self: flex-end;width: 50%;}#sk-container-id-18 div.sk-parallel-item:last-child::after {align-self: flex-start;width: 50%;}#sk-container-id-18 div.sk-parallel-item:only-child::after {width: 0;}#sk-container-id-18 div.sk-dashed-wrapped {border: 1px dashed gray;margin: 0 0.4em 0.5em 0.4em;box-sizing: border-box;padding-bottom: 0.4em;background-color: white;}#sk-container-id-18 div.sk-label label {font-family: monospace;font-weight: bold;display: inline-block;line-height: 1.2em;}#sk-container-id-18 div.sk-label-container {text-align: center;}#sk-container-id-18 div.sk-container {/* jupyter's `normalize.less` sets `[hidden] { display: none; }` but bootstrap.min.css set `[hidden] { display: none !important; }` so we also need the `!important` here to be able to override the default hidden behavior on the sphinx rendered scikit-learn.org. See: https://github.com/scikit-learn/scikit-learn/issues/21755 */display: inline-block !important;position: relative;}#sk-container-id-18 div.sk-text-repr-fallback {display: none;}</style><div id=\"sk-container-id-18\" class=\"sk-top-container\"><div class=\"sk-text-repr-fallback\"><pre>GridSearchCV(cv=5, estimator=GaussianNB(),\n",
       "             param_grid={&#x27;priors&#x27;: [None, [0.1, 0.9], [0.2, 0.8], [0.3, 0.7],\n",
       "                                    [0.4, 0.6], [0.5, 0.5]]},\n",
       "             scoring=&#x27;f1&#x27;, verbose=3)</pre><b>In a Jupyter environment, please rerun this cell to show the HTML representation or trust the notebook. <br />On GitHub, the HTML representation is unable to render, please try loading this page with nbviewer.org.</b></div><div class=\"sk-container\" hidden><div class=\"sk-item sk-dashed-wrapped\"><div class=\"sk-label-container\"><div class=\"sk-label sk-toggleable\"><input class=\"sk-toggleable__control sk-hidden--visually\" id=\"sk-estimator-id-52\" type=\"checkbox\" ><label for=\"sk-estimator-id-52\" class=\"sk-toggleable__label sk-toggleable__label-arrow\">GridSearchCV</label><div class=\"sk-toggleable__content\"><pre>GridSearchCV(cv=5, estimator=GaussianNB(),\n",
       "             param_grid={&#x27;priors&#x27;: [None, [0.1, 0.9], [0.2, 0.8], [0.3, 0.7],\n",
       "                                    [0.4, 0.6], [0.5, 0.5]]},\n",
       "             scoring=&#x27;f1&#x27;, verbose=3)</pre></div></div></div><div class=\"sk-parallel\"><div class=\"sk-parallel-item\"><div class=\"sk-item\"><div class=\"sk-label-container\"><div class=\"sk-label sk-toggleable\"><input class=\"sk-toggleable__control sk-hidden--visually\" id=\"sk-estimator-id-53\" type=\"checkbox\" ><label for=\"sk-estimator-id-53\" class=\"sk-toggleable__label sk-toggleable__label-arrow\">estimator: GaussianNB</label><div class=\"sk-toggleable__content\"><pre>GaussianNB()</pre></div></div></div><div class=\"sk-serial\"><div class=\"sk-item\"><div class=\"sk-estimator sk-toggleable\"><input class=\"sk-toggleable__control sk-hidden--visually\" id=\"sk-estimator-id-54\" type=\"checkbox\" ><label for=\"sk-estimator-id-54\" class=\"sk-toggleable__label sk-toggleable__label-arrow\">GaussianNB</label><div class=\"sk-toggleable__content\"><pre>GaussianNB()</pre></div></div></div></div></div></div></div></div></div></div>"
      ],
      "text/plain": [
       "GridSearchCV(cv=5, estimator=GaussianNB(),\n",
       "             param_grid={'priors': [None, [0.1, 0.9], [0.2, 0.8], [0.3, 0.7],\n",
       "                                    [0.4, 0.6], [0.5, 0.5]]},\n",
       "             scoring='f1', verbose=3)"
      ]
     },
     "execution_count": 124,
     "metadata": {},
     "output_type": "execute_result"
    }
   ],
   "source": [
    "grid_search_nb.fit(X_train_mm_scaled, y_train)"
   ]
  },
  {
   "cell_type": "code",
   "execution_count": 125,
   "id": "88bd08f6",
   "metadata": {},
   "outputs": [
    {
     "name": "stdout",
     "output_type": "stream",
     "text": [
      "{'priors': [0.5, 0.5]}\n"
     ]
    }
   ],
   "source": [
    "print(grid_search_nb.best_params_)"
   ]
  },
  {
   "cell_type": "code",
   "execution_count": 126,
   "id": "48859025",
   "metadata": {},
   "outputs": [],
   "source": [
    "y_pred_nb_grid = grid_search_nb.predict(X_test_mm_scaled)"
   ]
  },
  {
   "cell_type": "code",
   "execution_count": 127,
   "id": "65629e4c",
   "metadata": {},
   "outputs": [
    {
     "name": "stdout",
     "output_type": "stream",
     "text": [
      "              precision    recall  f1-score   support\n",
      "\n",
      "           0       0.76      0.26      0.39      7013\n",
      "           1       0.55      0.92      0.69      7006\n",
      "\n",
      "    accuracy                           0.59     14019\n",
      "   macro avg       0.66      0.59      0.54     14019\n",
      "weighted avg       0.66      0.59      0.54     14019\n",
      "\n",
      "[[1820 5193]\n",
      " [ 572 6434]]\n",
      "Accuracy: 0.5887723803409658\n",
      "F1 Score: 0.6906026941447969\n"
     ]
    }
   ],
   "source": [
    "## Printing classification report, confusion matrix, and accuracy of the best parameter.\n",
    "print(classification_report(y_test,y_pred_nb_grid))\n",
    "print(confusion_matrix(y_test,y_pred_nb_grid))\n",
    "print(\"Accuracy:\",(accuracy_score(y_test,y_pred_nb_grid)))\n",
    "print(\"F1 Score:\", (f1_score(y_test, y_pred_nb_grid)))"
   ]
  },
  {
   "cell_type": "markdown",
   "id": "77e96e1e",
   "metadata": {},
   "source": [
    "### Naive Bayes Random SearchCV"
   ]
  },
  {
   "cell_type": "code",
   "execution_count": 128,
   "id": "f34398b1",
   "metadata": {},
   "outputs": [],
   "source": [
    "random_search_nb= RandomizedSearchCV(estimator=nb_classifier, param_distributions=param_grid, n_iter=10, scoring='f1', cv=5, verbose = 3)"
   ]
  },
  {
   "cell_type": "code",
   "execution_count": 129,
   "id": "d879e05b",
   "metadata": {},
   "outputs": [
    {
     "name": "stdout",
     "output_type": "stream",
     "text": [
      "Fitting 5 folds for each of 6 candidates, totalling 30 fits\n",
      "[CV 1/5] END .......................priors=None;, score=0.696 total time=   0.0s\n",
      "[CV 2/5] END .......................priors=None;, score=0.683 total time=   0.0s\n",
      "[CV 3/5] END .......................priors=None;, score=0.696 total time=   0.0s\n",
      "[CV 4/5] END .......................priors=None;, score=0.690 total time=   0.0s\n",
      "[CV 5/5] END .......................priors=None;, score=0.682 total time=   0.0s\n",
      "[CV 1/5] END .................priors=[0.1, 0.9];, score=0.682 total time=   0.0s\n",
      "[CV 2/5] END .................priors=[0.1, 0.9];, score=0.677 total time=   0.0s\n",
      "[CV 3/5] END .................priors=[0.1, 0.9];, score=0.683 total time=   0.0s\n",
      "[CV 4/5] END .................priors=[0.1, 0.9];, score=0.682 total time=   0.0s\n",
      "[CV 5/5] END .................priors=[0.1, 0.9];, score=0.676 total time=   0.0s\n",
      "[CV 1/5] END .................priors=[0.2, 0.8];, score=0.685 total time=   0.0s\n",
      "[CV 2/5] END .................priors=[0.2, 0.8];, score=0.679 total time=   0.0s\n",
      "[CV 3/5] END .................priors=[0.2, 0.8];, score=0.685 total time=   0.0s\n",
      "[CV 4/5] END .................priors=[0.2, 0.8];, score=0.684 total time=   0.0s\n",
      "[CV 5/5] END .................priors=[0.2, 0.8];, score=0.678 total time=   0.0s\n",
      "[CV 1/5] END .................priors=[0.3, 0.7];, score=0.688 total time=   0.0s\n",
      "[CV 2/5] END .................priors=[0.3, 0.7];, score=0.679 total time=   0.0s\n",
      "[CV 3/5] END .................priors=[0.3, 0.7];, score=0.688 total time=   0.0s\n",
      "[CV 4/5] END .................priors=[0.3, 0.7];, score=0.685 total time=   0.0s\n",
      "[CV 5/5] END .................priors=[0.3, 0.7];, score=0.678 total time=   0.0s\n",
      "[CV 1/5] END .................priors=[0.4, 0.6];, score=0.691 total time=   0.0s\n",
      "[CV 2/5] END .................priors=[0.4, 0.6];, score=0.681 total time=   0.0s\n",
      "[CV 3/5] END .................priors=[0.4, 0.6];, score=0.692 total time=   0.0s\n",
      "[CV 4/5] END .................priors=[0.4, 0.6];, score=0.687 total time=   0.0s\n",
      "[CV 5/5] END .................priors=[0.4, 0.6];, score=0.680 total time=   0.0s\n",
      "[CV 1/5] END .................priors=[0.5, 0.5];, score=0.696 total time=   0.0s\n",
      "[CV 2/5] END .................priors=[0.5, 0.5];, score=0.683 total time=   0.0s\n",
      "[CV 3/5] END .................priors=[0.5, 0.5];, score=0.696 total time=   0.0s\n",
      "[CV 4/5] END .................priors=[0.5, 0.5];, score=0.690 total time=   0.0s\n",
      "[CV 5/5] END .................priors=[0.5, 0.5];, score=0.682 total time=   0.0s\n"
     ]
    },
    {
     "data": {
      "text/html": [
       "<style>#sk-container-id-19 {color: black;}#sk-container-id-19 pre{padding: 0;}#sk-container-id-19 div.sk-toggleable {background-color: white;}#sk-container-id-19 label.sk-toggleable__label {cursor: pointer;display: block;width: 100%;margin-bottom: 0;padding: 0.3em;box-sizing: border-box;text-align: center;}#sk-container-id-19 label.sk-toggleable__label-arrow:before {content: \"▸\";float: left;margin-right: 0.25em;color: #696969;}#sk-container-id-19 label.sk-toggleable__label-arrow:hover:before {color: black;}#sk-container-id-19 div.sk-estimator:hover label.sk-toggleable__label-arrow:before {color: black;}#sk-container-id-19 div.sk-toggleable__content {max-height: 0;max-width: 0;overflow: hidden;text-align: left;background-color: #f0f8ff;}#sk-container-id-19 div.sk-toggleable__content pre {margin: 0.2em;color: black;border-radius: 0.25em;background-color: #f0f8ff;}#sk-container-id-19 input.sk-toggleable__control:checked~div.sk-toggleable__content {max-height: 200px;max-width: 100%;overflow: auto;}#sk-container-id-19 input.sk-toggleable__control:checked~label.sk-toggleable__label-arrow:before {content: \"▾\";}#sk-container-id-19 div.sk-estimator input.sk-toggleable__control:checked~label.sk-toggleable__label {background-color: #d4ebff;}#sk-container-id-19 div.sk-label input.sk-toggleable__control:checked~label.sk-toggleable__label {background-color: #d4ebff;}#sk-container-id-19 input.sk-hidden--visually {border: 0;clip: rect(1px 1px 1px 1px);clip: rect(1px, 1px, 1px, 1px);height: 1px;margin: -1px;overflow: hidden;padding: 0;position: absolute;width: 1px;}#sk-container-id-19 div.sk-estimator {font-family: monospace;background-color: #f0f8ff;border: 1px dotted black;border-radius: 0.25em;box-sizing: border-box;margin-bottom: 0.5em;}#sk-container-id-19 div.sk-estimator:hover {background-color: #d4ebff;}#sk-container-id-19 div.sk-parallel-item::after {content: \"\";width: 100%;border-bottom: 1px solid gray;flex-grow: 1;}#sk-container-id-19 div.sk-label:hover label.sk-toggleable__label {background-color: #d4ebff;}#sk-container-id-19 div.sk-serial::before {content: \"\";position: absolute;border-left: 1px solid gray;box-sizing: border-box;top: 0;bottom: 0;left: 50%;z-index: 0;}#sk-container-id-19 div.sk-serial {display: flex;flex-direction: column;align-items: center;background-color: white;padding-right: 0.2em;padding-left: 0.2em;position: relative;}#sk-container-id-19 div.sk-item {position: relative;z-index: 1;}#sk-container-id-19 div.sk-parallel {display: flex;align-items: stretch;justify-content: center;background-color: white;position: relative;}#sk-container-id-19 div.sk-item::before, #sk-container-id-19 div.sk-parallel-item::before {content: \"\";position: absolute;border-left: 1px solid gray;box-sizing: border-box;top: 0;bottom: 0;left: 50%;z-index: -1;}#sk-container-id-19 div.sk-parallel-item {display: flex;flex-direction: column;z-index: 1;position: relative;background-color: white;}#sk-container-id-19 div.sk-parallel-item:first-child::after {align-self: flex-end;width: 50%;}#sk-container-id-19 div.sk-parallel-item:last-child::after {align-self: flex-start;width: 50%;}#sk-container-id-19 div.sk-parallel-item:only-child::after {width: 0;}#sk-container-id-19 div.sk-dashed-wrapped {border: 1px dashed gray;margin: 0 0.4em 0.5em 0.4em;box-sizing: border-box;padding-bottom: 0.4em;background-color: white;}#sk-container-id-19 div.sk-label label {font-family: monospace;font-weight: bold;display: inline-block;line-height: 1.2em;}#sk-container-id-19 div.sk-label-container {text-align: center;}#sk-container-id-19 div.sk-container {/* jupyter's `normalize.less` sets `[hidden] { display: none; }` but bootstrap.min.css set `[hidden] { display: none !important; }` so we also need the `!important` here to be able to override the default hidden behavior on the sphinx rendered scikit-learn.org. See: https://github.com/scikit-learn/scikit-learn/issues/21755 */display: inline-block !important;position: relative;}#sk-container-id-19 div.sk-text-repr-fallback {display: none;}</style><div id=\"sk-container-id-19\" class=\"sk-top-container\"><div class=\"sk-text-repr-fallback\"><pre>RandomizedSearchCV(cv=5, estimator=GaussianNB(),\n",
       "                   param_distributions={&#x27;priors&#x27;: [None, [0.1, 0.9], [0.2, 0.8],\n",
       "                                                   [0.3, 0.7], [0.4, 0.6],\n",
       "                                                   [0.5, 0.5]]},\n",
       "                   scoring=&#x27;f1&#x27;, verbose=3)</pre><b>In a Jupyter environment, please rerun this cell to show the HTML representation or trust the notebook. <br />On GitHub, the HTML representation is unable to render, please try loading this page with nbviewer.org.</b></div><div class=\"sk-container\" hidden><div class=\"sk-item sk-dashed-wrapped\"><div class=\"sk-label-container\"><div class=\"sk-label sk-toggleable\"><input class=\"sk-toggleable__control sk-hidden--visually\" id=\"sk-estimator-id-55\" type=\"checkbox\" ><label for=\"sk-estimator-id-55\" class=\"sk-toggleable__label sk-toggleable__label-arrow\">RandomizedSearchCV</label><div class=\"sk-toggleable__content\"><pre>RandomizedSearchCV(cv=5, estimator=GaussianNB(),\n",
       "                   param_distributions={&#x27;priors&#x27;: [None, [0.1, 0.9], [0.2, 0.8],\n",
       "                                                   [0.3, 0.7], [0.4, 0.6],\n",
       "                                                   [0.5, 0.5]]},\n",
       "                   scoring=&#x27;f1&#x27;, verbose=3)</pre></div></div></div><div class=\"sk-parallel\"><div class=\"sk-parallel-item\"><div class=\"sk-item\"><div class=\"sk-label-container\"><div class=\"sk-label sk-toggleable\"><input class=\"sk-toggleable__control sk-hidden--visually\" id=\"sk-estimator-id-56\" type=\"checkbox\" ><label for=\"sk-estimator-id-56\" class=\"sk-toggleable__label sk-toggleable__label-arrow\">estimator: GaussianNB</label><div class=\"sk-toggleable__content\"><pre>GaussianNB()</pre></div></div></div><div class=\"sk-serial\"><div class=\"sk-item\"><div class=\"sk-estimator sk-toggleable\"><input class=\"sk-toggleable__control sk-hidden--visually\" id=\"sk-estimator-id-57\" type=\"checkbox\" ><label for=\"sk-estimator-id-57\" class=\"sk-toggleable__label sk-toggleable__label-arrow\">GaussianNB</label><div class=\"sk-toggleable__content\"><pre>GaussianNB()</pre></div></div></div></div></div></div></div></div></div></div>"
      ],
      "text/plain": [
       "RandomizedSearchCV(cv=5, estimator=GaussianNB(),\n",
       "                   param_distributions={'priors': [None, [0.1, 0.9], [0.2, 0.8],\n",
       "                                                   [0.3, 0.7], [0.4, 0.6],\n",
       "                                                   [0.5, 0.5]]},\n",
       "                   scoring='f1', verbose=3)"
      ]
     },
     "execution_count": 129,
     "metadata": {},
     "output_type": "execute_result"
    }
   ],
   "source": [
    "random_search_nb.fit(X_train_mm_scaled,y_train)"
   ]
  },
  {
   "cell_type": "code",
   "execution_count": 130,
   "id": "9f692eb7",
   "metadata": {},
   "outputs": [
    {
     "name": "stdout",
     "output_type": "stream",
     "text": [
      "Best parameters: {'priors': [0.5, 0.5]}\n"
     ]
    }
   ],
   "source": [
    "## Getting the best parameters\n",
    "print(\"Best parameters:\", random_search_nb.best_params_)"
   ]
  },
  {
   "cell_type": "code",
   "execution_count": 131,
   "id": "e27e0807",
   "metadata": {},
   "outputs": [],
   "source": [
    "### Predicting the target value\n",
    "y_pred_nb_rand= random_search_nb.predict(X_test_mm_scaled)"
   ]
  },
  {
   "cell_type": "code",
   "execution_count": 132,
   "id": "92f5564c",
   "metadata": {},
   "outputs": [
    {
     "name": "stdout",
     "output_type": "stream",
     "text": [
      "              precision    recall  f1-score   support\n",
      "\n",
      "           0       0.76      0.26      0.39      7013\n",
      "           1       0.55      0.92      0.69      7006\n",
      "\n",
      "    accuracy                           0.59     14019\n",
      "   macro avg       0.66      0.59      0.54     14019\n",
      "weighted avg       0.66      0.59      0.54     14019\n",
      "\n",
      "[[1820 5193]\n",
      " [ 572 6434]]\n",
      "Accuracy: 0.5887723803409658\n",
      "F1 Score: 0.6906026941447969\n"
     ]
    }
   ],
   "source": [
    "## Printing classification report, confusion matrix, and accuracy of the best parameter.\n",
    "print(classification_report(y_test,y_pred_nb_rand))\n",
    "print(confusion_matrix(y_test,y_pred_nb_rand))\n",
    "print(\"Accuracy:\",(accuracy_score(y_test,y_pred_nb_rand)))\n",
    "print(\"F1 Score:\", (f1_score(y_test, y_pred_nb_rand)))"
   ]
  },
  {
   "cell_type": "markdown",
   "id": "07bb481d",
   "metadata": {},
   "source": [
    "## Comparing the results for Naive Bayes Model obtained from Grid Search and Random Search:\n",
    "\n",
    "| Metric                    | Precision (Class 0) | Precision (Class 1) | Recall (Class 0) | Recall (Class 1) | F1-score (Class 0) | F1-score (Class 1) | Accuracy | Macro Avg Precision | Macro Avg Recall | Macro Avg F1-score | Weighted Avg Precision | Weighted Avg Recall | Weighted Avg F1-score | Overall Accuracy | F1 Score |\n",
    "|---------------------------|---------------------|---------------------|-----------------|-----------------|--------------------|--------------------|----------|---------------------|-----------------|--------------------|-------------------------|---------------------|------------------------|------------------|----------|\n",
    "| Random Search Naive Bayes | 0.76                | 0.55                | 0.26            | 0.92            | 0.39               | 0.69               | 0.59     | 0.66                | 0.59            | 0.54               | 0.66                    | 0.59                | 0.54                   | 0.5888           | 0.6906   |\n",
    "| Grid Search Naive Bayes   | 0.76                | 0.55                | 0.26            | 0.92            | 0.39               | 0.69               | 0.59     | 0.66                | 0.59            | 0.54               | 0.66                    | 0.59                | 0.54                   | 0.5888           | 0.6906   |\n",
    "\n",
    "\n",
    "Both Random Search and Grid Search for the Naive Bayes model have produced very similar results. The model exhibits better recall for class 1, indicating its ability to correctly identify positive instances. However, the F1 score for class 0 is relatively low, suggesting that the model struggles with correctly identifying negative instances. The overall accuracy is also at 0.59, which indicates that the model's performance is limited."
   ]
  },
  {
   "cell_type": "markdown",
   "id": "e8895f95",
   "metadata": {},
   "source": [
    "# SVC with hyperparameter tuning"
   ]
  },
  {
   "cell_type": "markdown",
   "id": "db8b109d",
   "metadata": {},
   "source": [
    "####  SVC Random Search"
   ]
  },
  {
   "cell_type": "code",
   "execution_count": 24,
   "id": "3cf6fdb7",
   "metadata": {},
   "outputs": [],
   "source": [
    "### Parameters for SVM model \n",
    "param_svc = {'C': [0.1, 1, 10, 100],\n",
    "              'gamma': [1, 0.1, 0.001, 0.0001],\n",
    "              'kernel':['linear','rbf','sigmoid']\n",
    "              }"
   ]
  },
  {
   "cell_type": "code",
   "execution_count": 25,
   "id": "a780df73",
   "metadata": {},
   "outputs": [],
   "source": [
    "svm=SVC()"
   ]
  },
  {
   "cell_type": "code",
   "execution_count": 26,
   "id": "4863f8e8",
   "metadata": {},
   "outputs": [],
   "source": [
    "### Parameters for SVM model \n",
    "param_svc = {'C': [0.1, 1, 10, 100],\n",
    "              'gamma': [1, 0.1, 0.001, 0.0001],\n",
    "              'kernel':['linear','rbf','sigmoid']\n",
    "              }"
   ]
  },
  {
   "cell_type": "code",
   "execution_count": 27,
   "id": "3045258f",
   "metadata": {},
   "outputs": [],
   "source": [
    "random_search_svc= RandomizedSearchCV(estimator=svm, param_distributions=param_svc,scoring='f1', n_iter=5, cv=3, verbose = 3)"
   ]
  },
  {
   "cell_type": "code",
   "execution_count": 28,
   "id": "a2ccb65f",
   "metadata": {},
   "outputs": [
    {
     "name": "stdout",
     "output_type": "stream",
     "text": [
      "Fitting 3 folds for each of 5 candidates, totalling 15 fits\n",
      "[CV 1/3] END C=0.1, gamma=0.001, kernel=sigmoid;, score=0.714 total time= 1.2min\n",
      "[CV 2/3] END C=0.1, gamma=0.001, kernel=sigmoid;, score=0.706 total time= 1.2min\n",
      "[CV 3/3] END C=0.1, gamma=0.001, kernel=sigmoid;, score=0.713 total time= 1.1min\n",
      "[CV 1/3] END ....C=10, gamma=0.0001, kernel=rbf;, score=0.726 total time= 1.2min\n",
      "[CV 2/3] END ....C=10, gamma=0.0001, kernel=rbf;, score=0.725 total time= 1.1min\n",
      "[CV 3/3] END ....C=10, gamma=0.0001, kernel=rbf;, score=0.727 total time= 1.3min\n",
      "[CV 1/3] END ..C=1, gamma=0.0001, kernel=linear;, score=0.726 total time= 1.3min\n",
      "[CV 2/3] END ..C=1, gamma=0.0001, kernel=linear;, score=0.723 total time= 1.3min\n",
      "[CV 3/3] END ..C=1, gamma=0.0001, kernel=linear;, score=0.724 total time= 1.1min\n",
      "[CV 1/3] END .C=10, gamma=0.0001, kernel=linear;, score=0.726 total time= 4.7min\n",
      "[CV 2/3] END .C=10, gamma=0.0001, kernel=linear;, score=0.723 total time= 3.7min\n",
      "[CV 3/3] END .C=10, gamma=0.0001, kernel=linear;, score=0.724 total time= 3.0min\n",
      "[CV 1/3] END .C=100, gamma=0.001, kernel=linear;, score=0.726 total time=22.0min\n",
      "[CV 2/3] END .C=100, gamma=0.001, kernel=linear;, score=0.723 total time=20.5min\n",
      "[CV 3/3] END .C=100, gamma=0.001, kernel=linear;, score=0.724 total time=20.8min\n"
     ]
    },
    {
     "data": {
      "text/html": [
       "<style>#sk-container-id-1 {color: black;}#sk-container-id-1 pre{padding: 0;}#sk-container-id-1 div.sk-toggleable {background-color: white;}#sk-container-id-1 label.sk-toggleable__label {cursor: pointer;display: block;width: 100%;margin-bottom: 0;padding: 0.3em;box-sizing: border-box;text-align: center;}#sk-container-id-1 label.sk-toggleable__label-arrow:before {content: \"▸\";float: left;margin-right: 0.25em;color: #696969;}#sk-container-id-1 label.sk-toggleable__label-arrow:hover:before {color: black;}#sk-container-id-1 div.sk-estimator:hover label.sk-toggleable__label-arrow:before {color: black;}#sk-container-id-1 div.sk-toggleable__content {max-height: 0;max-width: 0;overflow: hidden;text-align: left;background-color: #f0f8ff;}#sk-container-id-1 div.sk-toggleable__content pre {margin: 0.2em;color: black;border-radius: 0.25em;background-color: #f0f8ff;}#sk-container-id-1 input.sk-toggleable__control:checked~div.sk-toggleable__content {max-height: 200px;max-width: 100%;overflow: auto;}#sk-container-id-1 input.sk-toggleable__control:checked~label.sk-toggleable__label-arrow:before {content: \"▾\";}#sk-container-id-1 div.sk-estimator input.sk-toggleable__control:checked~label.sk-toggleable__label {background-color: #d4ebff;}#sk-container-id-1 div.sk-label input.sk-toggleable__control:checked~label.sk-toggleable__label {background-color: #d4ebff;}#sk-container-id-1 input.sk-hidden--visually {border: 0;clip: rect(1px 1px 1px 1px);clip: rect(1px, 1px, 1px, 1px);height: 1px;margin: -1px;overflow: hidden;padding: 0;position: absolute;width: 1px;}#sk-container-id-1 div.sk-estimator {font-family: monospace;background-color: #f0f8ff;border: 1px dotted black;border-radius: 0.25em;box-sizing: border-box;margin-bottom: 0.5em;}#sk-container-id-1 div.sk-estimator:hover {background-color: #d4ebff;}#sk-container-id-1 div.sk-parallel-item::after {content: \"\";width: 100%;border-bottom: 1px solid gray;flex-grow: 1;}#sk-container-id-1 div.sk-label:hover label.sk-toggleable__label {background-color: #d4ebff;}#sk-container-id-1 div.sk-serial::before {content: \"\";position: absolute;border-left: 1px solid gray;box-sizing: border-box;top: 0;bottom: 0;left: 50%;z-index: 0;}#sk-container-id-1 div.sk-serial {display: flex;flex-direction: column;align-items: center;background-color: white;padding-right: 0.2em;padding-left: 0.2em;position: relative;}#sk-container-id-1 div.sk-item {position: relative;z-index: 1;}#sk-container-id-1 div.sk-parallel {display: flex;align-items: stretch;justify-content: center;background-color: white;position: relative;}#sk-container-id-1 div.sk-item::before, #sk-container-id-1 div.sk-parallel-item::before {content: \"\";position: absolute;border-left: 1px solid gray;box-sizing: border-box;top: 0;bottom: 0;left: 50%;z-index: -1;}#sk-container-id-1 div.sk-parallel-item {display: flex;flex-direction: column;z-index: 1;position: relative;background-color: white;}#sk-container-id-1 div.sk-parallel-item:first-child::after {align-self: flex-end;width: 50%;}#sk-container-id-1 div.sk-parallel-item:last-child::after {align-self: flex-start;width: 50%;}#sk-container-id-1 div.sk-parallel-item:only-child::after {width: 0;}#sk-container-id-1 div.sk-dashed-wrapped {border: 1px dashed gray;margin: 0 0.4em 0.5em 0.4em;box-sizing: border-box;padding-bottom: 0.4em;background-color: white;}#sk-container-id-1 div.sk-label label {font-family: monospace;font-weight: bold;display: inline-block;line-height: 1.2em;}#sk-container-id-1 div.sk-label-container {text-align: center;}#sk-container-id-1 div.sk-container {/* jupyter's `normalize.less` sets `[hidden] { display: none; }` but bootstrap.min.css set `[hidden] { display: none !important; }` so we also need the `!important` here to be able to override the default hidden behavior on the sphinx rendered scikit-learn.org. See: https://github.com/scikit-learn/scikit-learn/issues/21755 */display: inline-block !important;position: relative;}#sk-container-id-1 div.sk-text-repr-fallback {display: none;}</style><div id=\"sk-container-id-1\" class=\"sk-top-container\"><div class=\"sk-text-repr-fallback\"><pre>RandomizedSearchCV(cv=3, estimator=SVC(), n_iter=5,\n",
       "                   param_distributions={&#x27;C&#x27;: [0.1, 1, 10, 100],\n",
       "                                        &#x27;gamma&#x27;: [1, 0.1, 0.001, 0.0001],\n",
       "                                        &#x27;kernel&#x27;: [&#x27;linear&#x27;, &#x27;rbf&#x27;, &#x27;sigmoid&#x27;]},\n",
       "                   scoring=&#x27;f1&#x27;, verbose=3)</pre><b>In a Jupyter environment, please rerun this cell to show the HTML representation or trust the notebook. <br />On GitHub, the HTML representation is unable to render, please try loading this page with nbviewer.org.</b></div><div class=\"sk-container\" hidden><div class=\"sk-item sk-dashed-wrapped\"><div class=\"sk-label-container\"><div class=\"sk-label sk-toggleable\"><input class=\"sk-toggleable__control sk-hidden--visually\" id=\"sk-estimator-id-1\" type=\"checkbox\" ><label for=\"sk-estimator-id-1\" class=\"sk-toggleable__label sk-toggleable__label-arrow\">RandomizedSearchCV</label><div class=\"sk-toggleable__content\"><pre>RandomizedSearchCV(cv=3, estimator=SVC(), n_iter=5,\n",
       "                   param_distributions={&#x27;C&#x27;: [0.1, 1, 10, 100],\n",
       "                                        &#x27;gamma&#x27;: [1, 0.1, 0.001, 0.0001],\n",
       "                                        &#x27;kernel&#x27;: [&#x27;linear&#x27;, &#x27;rbf&#x27;, &#x27;sigmoid&#x27;]},\n",
       "                   scoring=&#x27;f1&#x27;, verbose=3)</pre></div></div></div><div class=\"sk-parallel\"><div class=\"sk-parallel-item\"><div class=\"sk-item\"><div class=\"sk-label-container\"><div class=\"sk-label sk-toggleable\"><input class=\"sk-toggleable__control sk-hidden--visually\" id=\"sk-estimator-id-2\" type=\"checkbox\" ><label for=\"sk-estimator-id-2\" class=\"sk-toggleable__label sk-toggleable__label-arrow\">estimator: SVC</label><div class=\"sk-toggleable__content\"><pre>SVC()</pre></div></div></div><div class=\"sk-serial\"><div class=\"sk-item\"><div class=\"sk-estimator sk-toggleable\"><input class=\"sk-toggleable__control sk-hidden--visually\" id=\"sk-estimator-id-3\" type=\"checkbox\" ><label for=\"sk-estimator-id-3\" class=\"sk-toggleable__label sk-toggleable__label-arrow\">SVC</label><div class=\"sk-toggleable__content\"><pre>SVC()</pre></div></div></div></div></div></div></div></div></div></div>"
      ],
      "text/plain": [
       "RandomizedSearchCV(cv=3, estimator=SVC(), n_iter=5,\n",
       "                   param_distributions={'C': [0.1, 1, 10, 100],\n",
       "                                        'gamma': [1, 0.1, 0.001, 0.0001],\n",
       "                                        'kernel': ['linear', 'rbf', 'sigmoid']},\n",
       "                   scoring='f1', verbose=3)"
      ]
     },
     "execution_count": 28,
     "metadata": {},
     "output_type": "execute_result"
    }
   ],
   "source": [
    "random_search_svc.fit(X_train_scaled,y_train)"
   ]
  },
  {
   "cell_type": "code",
   "execution_count": 38,
   "id": "09588b4a",
   "metadata": {},
   "outputs": [
    {
     "name": "stdout",
     "output_type": "stream",
     "text": [
      "Best parameters: {'kernel': 'rbf', 'gamma': 0.0001, 'C': 10}\n"
     ]
    }
   ],
   "source": [
    "## Getting the best parameters\n",
    "print(\"Best parameters:\", random_search_svc.best_params_)"
   ]
  },
  {
   "cell_type": "code",
   "execution_count": 30,
   "id": "d9e39836",
   "metadata": {},
   "outputs": [],
   "source": [
    "### Predicting the target value\n",
    "y_pred_sv_rand= random_search_svc.predict(X_test_scaled)"
   ]
  },
  {
   "cell_type": "code",
   "execution_count": 31,
   "id": "d3add2dc",
   "metadata": {},
   "outputs": [
    {
     "name": "stdout",
     "output_type": "stream",
     "text": [
      "              precision    recall  f1-score   support\n",
      "\n",
      "           0       0.72      0.74      0.73      7013\n",
      "           1       0.74      0.72      0.73      7006\n",
      "\n",
      "    accuracy                           0.73     14019\n",
      "   macro avg       0.73      0.73      0.73     14019\n",
      "weighted avg       0.73      0.73      0.73     14019\n",
      "\n",
      "[[5209 1804]\n",
      " [1988 5018]]\n",
      "Accuracy: 0.7295099507810828\n",
      "F1 Score: 0.7257737923054671\n"
     ]
    }
   ],
   "source": [
    "## Printing classification report, confusion matrix, and accuracy of the best parameter.\n",
    "print(classification_report(y_test,y_pred_sv_rand))\n",
    "print(confusion_matrix(y_test,y_pred_sv_rand))\n",
    "print(\"Accuracy:\",(accuracy_score(y_test,y_pred_sv_rand)))\n",
    "print(\"F1 Score:\", (f1_score(y_test, y_pred_sv_rand)))"
   ]
  },
  {
   "cell_type": "markdown",
   "id": "3f93b270",
   "metadata": {},
   "source": [
    "## Results for SVC Model obtained\n",
    "\n",
    "In summary, the SVC model achieved a balanced performance with similar precision, recall, and F1-scores for both classes. The overall accuracy and F1 score are both around 0.73, indicating that the model has a decent ability to classify both classes."
   ]
  },
  {
   "cell_type": "markdown",
   "id": "e610fdcc",
   "metadata": {},
   "source": [
    "# Neural Network (NN) with hyperparameter tuning"
   ]
  },
  {
   "cell_type": "markdown",
   "id": "43aef4f6",
   "metadata": {},
   "source": [
    "#### Hyperparameter NN"
   ]
  },
  {
   "cell_type": "code",
   "execution_count": 32,
   "id": "5b78d1e2",
   "metadata": {},
   "outputs": [],
   "source": [
    "param_grid_mlp = {\n",
    "    'hidden_layer_sizes': [(100,), (50, 50), (100, 50, 25)],\n",
    "    'activation': ['logistic', 'tanh', 'relu'],\n",
    "    'alpha': [0.0001, 0.001, 0.01],\n",
    "    'learning_rate': ['constant', 'invscaling', 'adaptive'],\n",
    "    'max_iter': [100, 200, 300],\n",
    "}"
   ]
  },
  {
   "cell_type": "code",
   "execution_count": 33,
   "id": "6daddc66",
   "metadata": {},
   "outputs": [],
   "source": [
    "mlp_classifier = MLPClassifier()"
   ]
  },
  {
   "cell_type": "code",
   "execution_count": 34,
   "id": "1652c42e",
   "metadata": {},
   "outputs": [
    {
     "name": "stdout",
     "output_type": "stream",
     "text": [
      "Fitting 5 folds for each of 4 candidates, totalling 20 fits\n",
      "[CV 1/5] END activation=tanh, alpha=0.0001, hidden_layer_sizes=(100, 50, 25), learning_rate=constant, max_iter=200;, score=0.760 total time= 1.2min\n",
      "[CV 2/5] END activation=tanh, alpha=0.0001, hidden_layer_sizes=(100, 50, 25), learning_rate=constant, max_iter=200;, score=0.753 total time= 1.2min\n",
      "[CV 3/5] END activation=tanh, alpha=0.0001, hidden_layer_sizes=(100, 50, 25), learning_rate=constant, max_iter=200;, score=0.764 total time= 1.2min\n",
      "[CV 4/5] END activation=tanh, alpha=0.0001, hidden_layer_sizes=(100, 50, 25), learning_rate=constant, max_iter=200;, score=0.756 total time= 1.2min\n",
      "[CV 5/5] END activation=tanh, alpha=0.0001, hidden_layer_sizes=(100, 50, 25), learning_rate=constant, max_iter=200;, score=0.769 total time= 1.3min\n",
      "[CV 1/5] END activation=relu, alpha=0.001, hidden_layer_sizes=(100,), learning_rate=invscaling, max_iter=200;, score=0.776 total time=  25.0s\n",
      "[CV 2/5] END activation=relu, alpha=0.001, hidden_layer_sizes=(100,), learning_rate=invscaling, max_iter=200;, score=0.768 total time=  26.0s\n",
      "[CV 3/5] END activation=relu, alpha=0.001, hidden_layer_sizes=(100,), learning_rate=invscaling, max_iter=200;, score=0.776 total time=  25.2s\n",
      "[CV 4/5] END activation=relu, alpha=0.001, hidden_layer_sizes=(100,), learning_rate=invscaling, max_iter=200;, score=0.770 total time=  25.6s\n",
      "[CV 5/5] END activation=relu, alpha=0.001, hidden_layer_sizes=(100,), learning_rate=invscaling, max_iter=200;, score=0.783 total time=  25.8s\n",
      "[CV 1/5] END activation=relu, alpha=0.0001, hidden_layer_sizes=(100,), learning_rate=invscaling, max_iter=200;, score=0.780 total time=  25.5s\n",
      "[CV 2/5] END activation=relu, alpha=0.0001, hidden_layer_sizes=(100,), learning_rate=invscaling, max_iter=200;, score=0.772 total time=  26.6s\n",
      "[CV 3/5] END activation=relu, alpha=0.0001, hidden_layer_sizes=(100,), learning_rate=invscaling, max_iter=200;, score=0.778 total time=  26.0s\n",
      "[CV 4/5] END activation=relu, alpha=0.0001, hidden_layer_sizes=(100,), learning_rate=invscaling, max_iter=200;, score=0.764 total time=  25.5s\n",
      "[CV 5/5] END activation=relu, alpha=0.0001, hidden_layer_sizes=(100,), learning_rate=invscaling, max_iter=200;, score=0.785 total time=  26.3s\n",
      "[CV 1/5] END activation=relu, alpha=0.0001, hidden_layer_sizes=(50, 50), learning_rate=invscaling, max_iter=100;, score=0.773 total time=  16.8s\n",
      "[CV 2/5] END activation=relu, alpha=0.0001, hidden_layer_sizes=(50, 50), learning_rate=invscaling, max_iter=100;, score=0.772 total time=  16.9s\n",
      "[CV 3/5] END activation=relu, alpha=0.0001, hidden_layer_sizes=(50, 50), learning_rate=invscaling, max_iter=100;, score=0.771 total time=  16.5s\n",
      "[CV 4/5] END activation=relu, alpha=0.0001, hidden_layer_sizes=(50, 50), learning_rate=invscaling, max_iter=100;, score=0.776 total time=  17.1s\n",
      "[CV 5/5] END activation=relu, alpha=0.0001, hidden_layer_sizes=(50, 50), learning_rate=invscaling, max_iter=100;, score=0.774 total time=  16.5s\n"
     ]
    },
    {
     "data": {
      "text/html": [
       "<style>#sk-container-id-2 {color: black;}#sk-container-id-2 pre{padding: 0;}#sk-container-id-2 div.sk-toggleable {background-color: white;}#sk-container-id-2 label.sk-toggleable__label {cursor: pointer;display: block;width: 100%;margin-bottom: 0;padding: 0.3em;box-sizing: border-box;text-align: center;}#sk-container-id-2 label.sk-toggleable__label-arrow:before {content: \"▸\";float: left;margin-right: 0.25em;color: #696969;}#sk-container-id-2 label.sk-toggleable__label-arrow:hover:before {color: black;}#sk-container-id-2 div.sk-estimator:hover label.sk-toggleable__label-arrow:before {color: black;}#sk-container-id-2 div.sk-toggleable__content {max-height: 0;max-width: 0;overflow: hidden;text-align: left;background-color: #f0f8ff;}#sk-container-id-2 div.sk-toggleable__content pre {margin: 0.2em;color: black;border-radius: 0.25em;background-color: #f0f8ff;}#sk-container-id-2 input.sk-toggleable__control:checked~div.sk-toggleable__content {max-height: 200px;max-width: 100%;overflow: auto;}#sk-container-id-2 input.sk-toggleable__control:checked~label.sk-toggleable__label-arrow:before {content: \"▾\";}#sk-container-id-2 div.sk-estimator input.sk-toggleable__control:checked~label.sk-toggleable__label {background-color: #d4ebff;}#sk-container-id-2 div.sk-label input.sk-toggleable__control:checked~label.sk-toggleable__label {background-color: #d4ebff;}#sk-container-id-2 input.sk-hidden--visually {border: 0;clip: rect(1px 1px 1px 1px);clip: rect(1px, 1px, 1px, 1px);height: 1px;margin: -1px;overflow: hidden;padding: 0;position: absolute;width: 1px;}#sk-container-id-2 div.sk-estimator {font-family: monospace;background-color: #f0f8ff;border: 1px dotted black;border-radius: 0.25em;box-sizing: border-box;margin-bottom: 0.5em;}#sk-container-id-2 div.sk-estimator:hover {background-color: #d4ebff;}#sk-container-id-2 div.sk-parallel-item::after {content: \"\";width: 100%;border-bottom: 1px solid gray;flex-grow: 1;}#sk-container-id-2 div.sk-label:hover label.sk-toggleable__label {background-color: #d4ebff;}#sk-container-id-2 div.sk-serial::before {content: \"\";position: absolute;border-left: 1px solid gray;box-sizing: border-box;top: 0;bottom: 0;left: 50%;z-index: 0;}#sk-container-id-2 div.sk-serial {display: flex;flex-direction: column;align-items: center;background-color: white;padding-right: 0.2em;padding-left: 0.2em;position: relative;}#sk-container-id-2 div.sk-item {position: relative;z-index: 1;}#sk-container-id-2 div.sk-parallel {display: flex;align-items: stretch;justify-content: center;background-color: white;position: relative;}#sk-container-id-2 div.sk-item::before, #sk-container-id-2 div.sk-parallel-item::before {content: \"\";position: absolute;border-left: 1px solid gray;box-sizing: border-box;top: 0;bottom: 0;left: 50%;z-index: -1;}#sk-container-id-2 div.sk-parallel-item {display: flex;flex-direction: column;z-index: 1;position: relative;background-color: white;}#sk-container-id-2 div.sk-parallel-item:first-child::after {align-self: flex-end;width: 50%;}#sk-container-id-2 div.sk-parallel-item:last-child::after {align-self: flex-start;width: 50%;}#sk-container-id-2 div.sk-parallel-item:only-child::after {width: 0;}#sk-container-id-2 div.sk-dashed-wrapped {border: 1px dashed gray;margin: 0 0.4em 0.5em 0.4em;box-sizing: border-box;padding-bottom: 0.4em;background-color: white;}#sk-container-id-2 div.sk-label label {font-family: monospace;font-weight: bold;display: inline-block;line-height: 1.2em;}#sk-container-id-2 div.sk-label-container {text-align: center;}#sk-container-id-2 div.sk-container {/* jupyter's `normalize.less` sets `[hidden] { display: none; }` but bootstrap.min.css set `[hidden] { display: none !important; }` so we also need the `!important` here to be able to override the default hidden behavior on the sphinx rendered scikit-learn.org. See: https://github.com/scikit-learn/scikit-learn/issues/21755 */display: inline-block !important;position: relative;}#sk-container-id-2 div.sk-text-repr-fallback {display: none;}</style><div id=\"sk-container-id-2\" class=\"sk-top-container\"><div class=\"sk-text-repr-fallback\"><pre>RandomizedSearchCV(cv=5, estimator=MLPClassifier(), n_iter=4,\n",
       "                   param_distributions={&#x27;activation&#x27;: [&#x27;logistic&#x27;, &#x27;tanh&#x27;,\n",
       "                                                       &#x27;relu&#x27;],\n",
       "                                        &#x27;alpha&#x27;: [0.0001, 0.001, 0.01],\n",
       "                                        &#x27;hidden_layer_sizes&#x27;: [(100,), (50, 50),\n",
       "                                                               (100, 50, 25)],\n",
       "                                        &#x27;learning_rate&#x27;: [&#x27;constant&#x27;,\n",
       "                                                          &#x27;invscaling&#x27;,\n",
       "                                                          &#x27;adaptive&#x27;],\n",
       "                                        &#x27;max_iter&#x27;: [100, 200, 300]},\n",
       "                   verbose=3)</pre><b>In a Jupyter environment, please rerun this cell to show the HTML representation or trust the notebook. <br />On GitHub, the HTML representation is unable to render, please try loading this page with nbviewer.org.</b></div><div class=\"sk-container\" hidden><div class=\"sk-item sk-dashed-wrapped\"><div class=\"sk-label-container\"><div class=\"sk-label sk-toggleable\"><input class=\"sk-toggleable__control sk-hidden--visually\" id=\"sk-estimator-id-4\" type=\"checkbox\" ><label for=\"sk-estimator-id-4\" class=\"sk-toggleable__label sk-toggleable__label-arrow\">RandomizedSearchCV</label><div class=\"sk-toggleable__content\"><pre>RandomizedSearchCV(cv=5, estimator=MLPClassifier(), n_iter=4,\n",
       "                   param_distributions={&#x27;activation&#x27;: [&#x27;logistic&#x27;, &#x27;tanh&#x27;,\n",
       "                                                       &#x27;relu&#x27;],\n",
       "                                        &#x27;alpha&#x27;: [0.0001, 0.001, 0.01],\n",
       "                                        &#x27;hidden_layer_sizes&#x27;: [(100,), (50, 50),\n",
       "                                                               (100, 50, 25)],\n",
       "                                        &#x27;learning_rate&#x27;: [&#x27;constant&#x27;,\n",
       "                                                          &#x27;invscaling&#x27;,\n",
       "                                                          &#x27;adaptive&#x27;],\n",
       "                                        &#x27;max_iter&#x27;: [100, 200, 300]},\n",
       "                   verbose=3)</pre></div></div></div><div class=\"sk-parallel\"><div class=\"sk-parallel-item\"><div class=\"sk-item\"><div class=\"sk-label-container\"><div class=\"sk-label sk-toggleable\"><input class=\"sk-toggleable__control sk-hidden--visually\" id=\"sk-estimator-id-5\" type=\"checkbox\" ><label for=\"sk-estimator-id-5\" class=\"sk-toggleable__label sk-toggleable__label-arrow\">estimator: MLPClassifier</label><div class=\"sk-toggleable__content\"><pre>MLPClassifier()</pre></div></div></div><div class=\"sk-serial\"><div class=\"sk-item\"><div class=\"sk-estimator sk-toggleable\"><input class=\"sk-toggleable__control sk-hidden--visually\" id=\"sk-estimator-id-6\" type=\"checkbox\" ><label for=\"sk-estimator-id-6\" class=\"sk-toggleable__label sk-toggleable__label-arrow\">MLPClassifier</label><div class=\"sk-toggleable__content\"><pre>MLPClassifier()</pre></div></div></div></div></div></div></div></div></div></div>"
      ],
      "text/plain": [
       "RandomizedSearchCV(cv=5, estimator=MLPClassifier(), n_iter=4,\n",
       "                   param_distributions={'activation': ['logistic', 'tanh',\n",
       "                                                       'relu'],\n",
       "                                        'alpha': [0.0001, 0.001, 0.01],\n",
       "                                        'hidden_layer_sizes': [(100,), (50, 50),\n",
       "                                                               (100, 50, 25)],\n",
       "                                        'learning_rate': ['constant',\n",
       "                                                          'invscaling',\n",
       "                                                          'adaptive'],\n",
       "                                        'max_iter': [100, 200, 300]},\n",
       "                   verbose=3)"
      ]
     },
     "execution_count": 34,
     "metadata": {},
     "output_type": "execute_result"
    }
   ],
   "source": [
    "# Create the RandomizedSearchCV object for MLPClassifier\n",
    "random_search_mlp = RandomizedSearchCV(mlp_classifier, param_distributions=param_grid_mlp, n_iter=4, cv=5, verbose = 3)\n",
    "\n",
    "# Fit the model and find the best parameters\n",
    "random_search_mlp.fit(X_train_scaled, y_train)"
   ]
  },
  {
   "cell_type": "code",
   "execution_count": 35,
   "id": "8e9d09e0",
   "metadata": {},
   "outputs": [
    {
     "name": "stdout",
     "output_type": "stream",
     "text": [
      "Best Parameters for MLPClassifier:  {'max_iter': 200, 'learning_rate': 'invscaling', 'hidden_layer_sizes': (100,), 'alpha': 0.0001, 'activation': 'relu'}\n"
     ]
    }
   ],
   "source": [
    "# Print the best parameters and the best score for the model\n",
    "print(\"Best Parameters for MLPClassifier: \", random_search_mlp.best_params_)"
   ]
  },
  {
   "cell_type": "code",
   "execution_count": 36,
   "id": "b4e9bff9",
   "metadata": {},
   "outputs": [],
   "source": [
    "### Predicting the target value\n",
    "y_pred_mlp_rand= random_search_mlp.predict(X_test_scaled)"
   ]
  },
  {
   "cell_type": "code",
   "execution_count": 37,
   "id": "300aba71",
   "metadata": {},
   "outputs": [
    {
     "name": "stdout",
     "output_type": "stream",
     "text": [
      "              precision    recall  f1-score   support\n",
      "\n",
      "           0       0.78      0.77      0.77      7013\n",
      "           1       0.77      0.78      0.77      7006\n",
      "\n",
      "    accuracy                           0.77     14019\n",
      "   macro avg       0.77      0.77      0.77     14019\n",
      "weighted avg       0.77      0.77      0.77     14019\n",
      "\n",
      "[[5406 1607]\n",
      " [1559 5447]]\n",
      "Accuracy: 0.7741636350666952\n",
      "F1 Score: 0.7748221906116644\n"
     ]
    }
   ],
   "source": [
    "## Printing classification report, confusion matrix, and accuracy of the best parameter.\n",
    "print(classification_report(y_test,y_pred_mlp_rand))\n",
    "print(confusion_matrix(y_test,y_pred_mlp_rand))\n",
    "print(\"Accuracy:\",(accuracy_score(y_test,y_pred_mlp_rand)))\n",
    "print(\"F1 Score:\", (f1_score(y_test, y_pred_mlp_rand)))"
   ]
  },
  {
   "cell_type": "markdown",
   "id": "cb53b4e4",
   "metadata": {},
   "source": [
    "## Results for Neural Network (NN) Model obtained\n",
    "\n",
    "\n",
    "The random search for the Neural Network (NN) model resulted in a balanced classification performance, with an F1 score of 0.7748 and an accuracy of approximately 77.42%. The model demonstrates relatively balanced precision and recall for both classes, indicating that it is not biased toward either class.\n",
    "\n",
    "In the confusion matrix, it's observed that there are some misclassifications, with 1607 instances of Class 0 being incorrectly classified as Class 1 and 1559 instances of Class 1 being incorrectly classified as Class 0. While there are some classification errors, the overall performance of the model appears to be reasonably good, considering that it achieves a balanced F1 score."
   ]
  },
  {
   "cell_type": "markdown",
   "id": "a4ee5573-40ac-4cbe-8b8c-1042741a9b57",
   "metadata": {},
   "source": [
    "# Business Impact Summary\n",
    "\n",
    "### By comparing all the models we have choosen F1 score as the preferred performance metric: \n",
    "\n",
    "\n",
    "The F1 score is chosen as the preferred performance metric for the following reasons:\n",
    "\n",
    "*Balancing Precision and Recall*: Credit card defaults are a critical issue, and it's essential to balance both precision (the ability to correctly identify true defaults) and recall (the ability to identify all potential defaults). The F1 score combines both metrics, ensuring a balance between minimizing false alarms (false positives) and identifying as many defaults as possible.\n",
    "\n",
    "*Cost Sensitivity*: Default prediction models have cost implications for lending institutions. False positives (incorrectly flagging non-defaulters as potential defaulters) can lead to unnecessary customer interventions, while false negatives (missing actual defaults) result in financial losses. The F1 score is sensitive to these cost considerations.\n",
    "\n",
    "*Threshold Adjustment*: The F1 score considers the trade-off between precision and recall, allowing for the adjustment of decision thresholds based on the specific risk tolerance and cost structure of the lending institution.\n",
    "\n",
    "*Business Impact*: Ultimately, the F1 score reflects the model's ability to make accurate predictions while considering the real-world business impact of credit card defaults. It aligns with the project's objectives of minimizing financial losses and protecting the interests of both lending institutions and credit card users.\n",
    "\n",
    "In summary, the F1 score is a suitable performance metric for this project as it aligns with the goals of balancing precision and recall, considering cost sensitivity, and reflecting the business impact of the model's predictions in the context of credit card default prediction."
   ]
  },
  {
   "cell_type": "markdown",
   "id": "d9c3b8c8-57de-4465-bb09-875ddaefb349",
   "metadata": {},
   "source": [
    "## Model Comparison with F1 Scores\n",
    "\n",
    "| Model                      | F1 Score |\n",
    "|----------------------------|---------------------------------|\n",
    "| Default Logistic Regression | 0.71608                         |\n",
    "| Decision Tree              | 0.75111                         |\n",
    "| SVM                        | 0.72784                         |\n",
    "| Random Forest              | 0.83419                         |\n",
    "| AdaBoost                   | 0.74982                         |\n",
    "| Gradient Boosting          | 0.77482                         |\n",
    "| XGBoost                    | 0.82649                         |\n",
    "| KNN                        | 0.73517                         |\n",
    "| Naive Bayes                | 0.68747                         |\n",
    "| MLP Classifier              | 0.76273                        |\n",
    "\n",
    "\n",
    "\n",
    "## Model Recommendation:\n",
    "\n",
    "### By checking all the algorithms, we figured out that the best value of F1 Score comes from the Random Forest Algorithm which was 83.41% using default parameters.\n",
    "\n",
    "Based on the F1 scores and classification reports for models using scaled data (with MinMax scaling), the following models appear to perform well:\n",
    "\n",
    "Given that Random Forest and XGBoost have F1-Scores of 0.8341 and 0.826, respectively, we can choose Random Forest for our credit card payment default prediction problem for the following reasons:\n",
    "\n",
    "#### Performance: \n",
    "Random Forest is already achieving a higher F1-Score in our case, indicating that it's performing slightly better for your specific dataset.\n",
    "\n",
    "#### Ease of Use:\n",
    "Random Forest is easier to use and can handle a variety of data types without extensive preprocessing, making it a good choice if you want a model that is easy to implement and interpret.\n",
    "\n",
    "#### Interpretability: \n",
    "If interpretability and understanding feature importance are essential for your problem (e.g., for regulatory compliance or explaining predictions to stakeholders), Random Forest may be a better choice.\n",
    "\n",
    "While XGBoost is also a strong contender with its high predictive performance and fine-tuning capabilities, in this specific scenario, Random Forest seems to offer slightly better results and aligns well with the ease of use and interpretability requirements. "
   ]
  },
  {
   "cell_type": "code",
   "execution_count": null,
   "id": "1ff73a40",
   "metadata": {},
   "outputs": [],
   "source": []
  }
 ],
 "metadata": {
  "kernelspec": {
   "display_name": "Python 3 (ipykernel)",
   "language": "python",
   "name": "python3"
  },
  "language_info": {
   "codemirror_mode": {
    "name": "ipython",
    "version": 3
   },
   "file_extension": ".py",
   "mimetype": "text/x-python",
   "name": "python",
   "nbconvert_exporter": "python",
   "pygments_lexer": "ipython3",
   "version": "3.11.4"
  }
 },
 "nbformat": 4,
 "nbformat_minor": 5
}
